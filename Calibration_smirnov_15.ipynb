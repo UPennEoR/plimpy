{
 "cells": [
  {
   "cell_type": "markdown",
   "metadata": {},
   "source": [
    "For $N_\\text{ant}$ antennas, we have $N_\\text{bl} = \\frac{N_\\text{ant}(N_\\text{ant}-1)}{2}$ cross pairs. Each antenna has two polarization feeds, so the whole cross pairs are $2\\times4\\times\\frac{N_\\text{ant}(N_\\text{ant}-1)}{2}$ (all are complex values). And the total to-be-determined gain terms are $2\\times4\\times N_\\text{ant}$."
   ]
  },
  {
   "cell_type": "markdown",
   "metadata": {},
   "source": [
    "\\begin{align}\n",
    "\\left[\\begin{array}{cc}\n",
    "     V^{xx,\\text{obs}} &  V^{xy,\\text{obs}}\\\\\n",
    "     V^{yx,\\text{obs}} &  V^{yy,\\text{obs}} \n",
    "\\end{array}\\right]_{ij} = \n",
    "\\left[\\begin{array}{cc}\n",
    "   g^x &  d^{xy}\\\\\n",
    "     d^{yx} &  g^y \n",
    "\\end{array}\\right]_{i}\n",
    "\\left[\\begin{array}{cc}\n",
    "   V^{xx} &  V^{xy}\\\\\n",
    "     V^{yx} &  V^{yy} \n",
    "\\end{array}\\right]_{ij}\n",
    "\\left[\\begin{array}{cc}\n",
    "   g^{x*} &  d^{yx*}\\\\\n",
    "     d^{xy*} &  g^{y*} \n",
    "\\end{array}\\right]\n",
    "\\end{align}"
   ]
  },
  {
   "cell_type": "markdown",
   "metadata": {},
   "source": [
    "\\begin{align}\n",
    "\\left[\\begin{array}{c}\n",
    "     V^{xx,\\text{obs}}_{ij} \\\\V^{xy,\\text{obs}}_{ij}\\\\\n",
    "     V^{yx,\\text{obs}}_{ij} \\\\ V^{yy,\\text{obs}}_{ij} \n",
    "\\end{array}\\right] = \n",
    "\\left[\\begin{array}{cccc}\n",
    "   g^x_i g_j^{x*} &  g_i^x d_j^{xy*} & d_i^{xy}g_j^{x*} & d_i^{xy} d_j^{xy*}\\\\\n",
    "     g_i^x d_j^{yx*} & g_i^x g_j^{y*} & d_i^{xy} d_j^{yx*} & d_i^{xy} g_j^{y*} \\\\ \n",
    "      d_i^{yx} g_j^{x*} & d_i^{yx} d_j^{xy*} & g_i^y g_j^{x*} & g_i^y d_j^{xy*}  \\\\ \n",
    "       d_i^{yx} d_j^{yx*} & d_i^{yx} g_j^{y*} &  \n",
    "       g_i^y d_j^{yx*} & g_i^y g_i^{y*} \n",
    "\\end{array}\\right]\n",
    "\\left[\\begin{array}{c}\n",
    "     V^{xx}_{ij} \\\\V^{xy}_{ij}\\\\\n",
    "     V^{yx}_{ij} \\\\ V^{yy}_{ij} \n",
    "\\end{array}\\right]\n",
    "\\end{align}"
   ]
  },
  {
   "cell_type": "markdown",
   "metadata": {},
   "source": [
    "real_data (Nbls, 4) np.complex\n",
    "obs_data (Nbls, 4) np.complex\n",
    "gain (Nants, 4) np.complex"
   ]
  },
  {
   "cell_type": "markdown",
   "metadata": {},
   "source": [
    "In pyuvdata, $N_{bl} = N_{ant}(N_{ant}-1)/2 + N_{ant}$. In calibration, we only consider the cross-antenna-baselines. Thus we have $N_{ant}(N_{ant}-1)$ cross pairs (include their conjugates)"
   ]
  },
  {
   "cell_type": "code",
   "execution_count": 1,
   "metadata": {},
   "outputs": [],
   "source": [
    "import numpy as np"
   ]
  },
  {
   "cell_type": "code",
   "execution_count": 2,
   "metadata": {},
   "outputs": [],
   "source": [
    "N_ant = 6"
   ]
  },
  {
   "cell_type": "code",
   "execution_count": 3,
   "metadata": {},
   "outputs": [],
   "source": [
    "ants = range(N_ant)"
   ]
  },
  {
   "cell_type": "code",
   "execution_count": 4,
   "metadata": {},
   "outputs": [],
   "source": [
    "bls = []\n",
    "for i in ants:\n",
    "    for j in ants:\n",
    "        if j!=i:\n",
    "            bls.append((i,j))"
   ]
  },
  {
   "cell_type": "code",
   "execution_count": 5,
   "metadata": {},
   "outputs": [
    {
     "name": "stdout",
     "output_type": "stream",
     "text": [
      "[(0, 1), (0, 2), (0, 3), (0, 4), (0, 5), (1, 0), (1, 2), (1, 3), (1, 4), (1, 5), (2, 0), (2, 1), (2, 3), (2, 4), (2, 5), (3, 0), (3, 1), (3, 2), (3, 4), (3, 5), (4, 0), (4, 1), (4, 2), (4, 3), (4, 5), (5, 0), (5, 1), (5, 2), (5, 3), (5, 4)]\n"
     ]
    }
   ],
   "source": [
    "print(bls)"
   ]
  },
  {
   "cell_type": "markdown",
   "metadata": {},
   "source": [
    "M is the sky coherency"
   ]
  },
  {
   "cell_type": "code",
   "execution_count": 6,
   "metadata": {},
   "outputs": [],
   "source": [
    "sky = {}\n",
    "for i in range(N_ant):\n",
    "    for j in range(i+1, N_ant):\n",
    "        M = np.zeros((2,2)).astype(np.complex128)\n",
    "        M[0,0] = (1.+np.random.normal(0,0.1))*np.exp(-1.j*2*np.pi*np.random.rand(1)[0])\n",
    "        M[1,1] = (1.+np.random.normal(0,0.1))*np.exp(-1.j*2*np.pi*np.random.rand(1)[0])\n",
    "        M[0,1] = (np.random.normal(0,0.1))*np.exp(-1.j*2*np.pi*np.random.rand(1)[0])\n",
    "        M[1,0] = (np.random.normal(0,0.1))*np.exp(-1.j*2*np.pi*np.random.rand(1)[0])\n",
    "        sky[(i,j)] = M\n",
    "        sky[(j,i)] = np.transpose(np.conj(M))"
   ]
  },
  {
   "cell_type": "markdown",
   "metadata": {},
   "source": [
    "G is the gain"
   ]
  },
  {
   "cell_type": "code",
   "execution_count": 7,
   "metadata": {},
   "outputs": [],
   "source": [
    "gain = {}\n",
    "for ant in range(N_ant):\n",
    "    G = np.zeros((2,2)).astype(np.complex128)\n",
    "    G[0,0] = (1.+np.random.normal(0,0.1))*np.exp(-1.j*2*np.pi*np.random.rand(1)[0])\n",
    "    G[1,1] = (1.+np.random.normal(0,0.1))*np.exp(-1.j*2*np.pi*np.random.rand(1)[0])\n",
    "    G[0,1] = (np.random.normal(0,0.1))*np.exp(-1.j*2*np.pi*np.random.rand(1)[0])\n",
    "    G[1,0] = (np.random.normal(0,0.1))*np.exp(-1.j*2*np.pi*np.random.rand(1)[0])\n",
    "    gain[ant] = G"
   ]
  },
  {
   "cell_type": "code",
   "execution_count": 8,
   "metadata": {},
   "outputs": [],
   "source": [
    "gain_H = {}\n",
    "for ant in range(N_ant):\n",
    "    gain_H[ant] = np.transpose(np.conj(gain[ant]))"
   ]
  },
  {
   "cell_type": "code",
   "execution_count": 9,
   "metadata": {},
   "outputs": [
    {
     "name": "stdout",
     "output_type": "stream",
     "text": [
      "[[-0.69333563-7.61735836e-01j -0.06034986-8.06408235e-03j]\n",
      " [-0.01738047+6.80015870e-04j -0.73396395+7.30577747e-01j]]\n",
      "[[ 0.73362676+0.83040841j  0.02919923-0.00931481j]\n",
      " [-0.00221967+0.02389666j  0.21684174-0.9785179j ]]\n",
      "[[-0.7057609 +0.53375694j -0.02090003+0.03033805j]\n",
      " [-0.02372769+0.08190564j  0.51679057-0.92564933j]]\n",
      "[[ 0.84466077+0.39151184j  0.01172398+0.00781216j]\n",
      " [ 0.08285521-0.04542325j -0.2499791 -0.8707743j ]]\n",
      "[[-0.98317439+0.54777211j  0.10343044+0.17810461j]\n",
      " [-0.06101006+0.02891698j -0.42436301+0.78461902j]]\n",
      "[[ 0.62463689+0.72552577j  0.00466361+0.01449237j]\n",
      " [-0.03016365-0.15570416j  0.47735297-0.80812695j]]\n"
     ]
    }
   ],
   "source": [
    "for ant in range(N_ant):\n",
    "    print(gain[ant])"
   ]
  },
  {
   "cell_type": "markdown",
   "metadata": {},
   "source": [
    "N is noise"
   ]
  },
  {
   "cell_type": "code",
   "execution_count": 10,
   "metadata": {},
   "outputs": [],
   "source": [
    "noise = {}\n",
    "for bl in bls:\n",
    "    noise[bl] = np.random.normal(0,0.01,(2,2)) + 1.j*np.random.normal(0,0.01,(2,2))"
   ]
  },
  {
   "cell_type": "markdown",
   "metadata": {},
   "source": [
    "D is data"
   ]
  },
  {
   "cell_type": "code",
   "execution_count": 11,
   "metadata": {},
   "outputs": [],
   "source": [
    "data = {}\n",
    "for bl in bls:\n",
    "    data[bl] = np.matmul(gain[bl[0]], np.matmul(sky[bl], np.transpose(np.conj(gain[bl[1]]))))"
   ]
  },
  {
   "cell_type": "code",
   "execution_count": 12,
   "metadata": {},
   "outputs": [],
   "source": [
    "def Wirtinger_lmfit(model, data, ants, diagonalize=False, Niteration=100):\n",
    "    \"\"\"\n",
    "    Using Newton-Gauss method to minimize \\sum{D_[ij]-G_i M_{ij} G_j^H} and obtain G, where D, G and M are all 2*2 matrix. \n",
    "    Algorithm: G_{k+1} = [J(G_k)^H J(G_k)]^{-1} * J(G_k)^H * D, where J is the Jacobian matrix. \n",
    "    \n",
    "    Parameters\n",
    "    ----------\n",
    "    \n",
    "    model : dict \n",
    "        model of sky coherency\n",
    "    \n",
    "    data : dict\n",
    "    \n",
    "    ants : dict\n",
    "        \n",
    "    Returns\n",
    "    -------\n",
    "    \n",
    "    gain : dict\n",
    "        calibration gains\n",
    "        \n",
    "    residual : \n",
    "    \n",
    "    \"\"\"\n",
    "    \n",
    "    gain_prev = {}\n",
    "    for ant in ants:\n",
    "        gain_prev[ant] = np.array([[1,0],[0,1]])\n",
    "    gain_H_prev = {}\n",
    "    for ant in ants:\n",
    "        gain_H_prev[ant] = np.transpose(np.conj(gain_prev[ant]))\n",
    "    residual = np.zeros(Niteration)\n",
    "\n",
    "    gain_next, gain_H_next = {},{}\n",
    "    for iteration in range(Niteration):\n",
    "        for ant in ants:\n",
    "            JH_J = np.zeros((2,2)).astype(np.complex128)\n",
    "            JH_D = np.zeros((2,2)).astype(np.complex128)\n",
    "            for q in ants:\n",
    "                if q != ant:\n",
    "                    JH_J += np.matmul(model[(ant,q)], np.matmul(gain_H_prev[q], np.matmul(gain_prev[q], model[(q,ant)])))\n",
    "                    JH_D += np.matmul(data[(ant,q)], np.matmul(gain_prev[q], model[(q, ant)]))\n",
    "            if diagonalize==True:\n",
    "                gain_next[ant] = np.diag(np.diag(np.matmul(JH_D, np.linalg.inv(JH_J))))\n",
    "            else:\n",
    "                gain_next[ant] = np.matmul(JH_D, np.linalg.inv(JH_J))\n",
    "            \n",
    "            JH_J = np.zeros((2,2)).astype(np.complex128)\n",
    "            JH_D = np.zeros((2,2)).astype(np.complex128)\n",
    "            for p in ants:\n",
    "                if p != ant:\n",
    "                    JH_J += np.matmul(model[(ant,p)], np.matmul(gain_H_prev[p], np.matmul(gain_prev[p], model[(p,ant)])))\n",
    "                    JH_D += np.matmul(model[(ant,p)], np.matmul(gain_H_prev[p], data[(p, ant)]))\n",
    "            if diagonalize==True:\n",
    "                gain_H_next[ant] = np.diag(np.diag(np.matmul(np.linalg.inv(JH_J), JH_D)))\n",
    "            else:\n",
    "                gain_H_next[ant] = np.matmul(np.linalg.inv(JH_J), JH_D)\n",
    "    \n",
    "        gain_prev = gain_next\n",
    "        gain_H_prev = gain_H_next\n",
    "        \n",
    "        for ant in ants:\n",
    "            for r in ants:\n",
    "                if r!= ant:\n",
    "                     residual[iteration] += np.linalg.norm(data[(ant,r)] - np.matmul(gain_prev[ant], np.matmul(model[(ant,r)], gain_H_prev[r])))\n",
    "    return gain_prev, residual                    "
   ]
  },
  {
   "cell_type": "code",
   "execution_count": 13,
   "metadata": {},
   "outputs": [],
   "source": [
    "gain_iteration, residual = Wirtinger_lmfit(sky, data, ants, diagonalize=False, Niteration=1000)"
   ]
  },
  {
   "cell_type": "code",
   "execution_count": 15,
   "metadata": {},
   "outputs": [
    {
     "name": "stdout",
     "output_type": "stream",
     "text": [
      "[3.69357149e+01 2.25046047e+01 1.43712747e+01 7.98267848e+00\n",
      " 6.19849891e+00 6.05414405e+00 6.02825705e+00 6.01540175e+00\n",
      " 6.00528427e+00 5.99554728e+00 5.98558957e+00 5.97526083e+00\n",
      " 5.96451290e+00 5.95331863e+00 5.94165621e+00 5.92950571e+00\n",
      " 5.91684808e+00 5.90366459e+00 5.88993663e+00 5.87564553e+00\n",
      " 5.86077253e+00 5.84529874e+00 5.82920513e+00 5.81247259e+00\n",
      " 5.79508190e+00 5.77701381e+00 5.75824910e+00 5.73876860e+00\n",
      " 5.71855327e+00 5.69758425e+00 5.67584294e+00 5.65331107e+00\n",
      " 5.62997078e+00 5.60580467e+00 5.58079595e+00 5.55492845e+00\n",
      " 5.52818676e+00 5.50055631e+00 5.47202346e+00 5.44257560e+00\n",
      " 5.41220125e+00 5.38089015e+00 5.34863338e+00 5.31542342e+00\n",
      " 5.28125427e+00 5.24612155e+00 5.21002255e+00 5.17295636e+00\n",
      " 5.13492392e+00 5.09592811e+00 5.05597378e+00 5.01506786e+00\n",
      " 4.97321935e+00 4.93043941e+00 4.88674136e+00 4.84214069e+00\n",
      " 4.79665508e+00 4.75030440e+00 4.70311065e+00 4.65509798e+00\n",
      " 4.60629260e+00 4.55672274e+00 4.50641858e+00 4.45541217e+00\n",
      " 4.40373730e+00 4.35142946e+00 4.29852566e+00 4.24506432e+00\n",
      " 4.19108515e+00 4.13662901e+00 4.08173775e+00 4.02645405e+00\n",
      " 3.97082126e+00 3.91488329e+00 3.85868438e+00 3.80226898e+00\n",
      " 3.74568160e+00 3.68896663e+00 3.63216820e+00 3.57533003e+00\n",
      " 3.51849528e+00 3.46170646e+00 3.40500524e+00 3.34843240e+00\n",
      " 3.29202765e+00 3.23582960e+00 3.17987562e+00 3.12420177e+00\n",
      " 3.06884277e+00 3.01383189e+00 2.95920091e+00 2.90498009e+00\n",
      " 2.85119817e+00 2.79788226e+00 2.74505792e+00 2.69274910e+00\n",
      " 2.64097815e+00 2.58976586e+00 2.53913142e+00 2.48909248e+00\n",
      " 2.43966518e+00 2.39086415e+00 2.34270260e+00 2.29519228e+00\n",
      " 2.24834360e+00 2.20216564e+00 2.15666620e+00 2.11185183e+00\n",
      " 2.06772793e+00 2.02429878e+00 1.98156755e+00 1.93953642e+00\n",
      " 1.89820659e+00 1.85757836e+00 1.81765115e+00 1.77842358e+00\n",
      " 1.73989350e+00 1.70205805e+00 1.66491371e+00 1.62845634e+00\n",
      " 1.59268122e+00 1.55758312e+00 1.52315630e+00 1.48939459e+00\n",
      " 1.45629139e+00 1.42383976e+00 1.39203239e+00 1.36086169e+00\n",
      " 1.33031979e+00 1.30039858e+00 1.27108974e+00 1.24238476e+00\n",
      " 1.21427496e+00 1.18675154e+00 1.15980558e+00 1.13342807e+00\n",
      " 1.10760991e+00 1.08234197e+00 1.05761505e+00 1.03341997e+00\n",
      " 1.00974749e+00 9.86588429e-01 9.63933584e-01 9.41773800e-01\n",
      " 9.20099961e-01 8.98902998e-01 8.78173905e-01 8.57903741e-01\n",
      " 8.38083643e-01 8.18704826e-01 7.99758596e-01 7.81236352e-01\n",
      " 7.63129590e-01 7.45429908e-01 7.28129014e-01 7.11218721e-01\n",
      " 6.94690959e-01 6.78537770e-01 6.62751315e-01 6.47323875e-01\n",
      " 6.32247851e-01 6.17515764e-01 6.03120260e-01 5.89054108e-01\n",
      " 5.75310200e-01 5.61881552e-01 5.48761304e-01 5.35942720e-01\n",
      " 5.23419187e-01 5.11184214e-01 4.99231433e-01 4.87554597e-01\n",
      " 4.76147578e-01 4.65004369e-01 4.54119081e-01 4.43485940e-01\n",
      " 4.33099289e-01 4.22953585e-01 4.13043399e-01 4.03363411e-01\n",
      " 3.93908413e-01 3.84673304e-01 3.75653090e-01 3.66842882e-01\n",
      " 3.58237896e-01 3.49833448e-01 3.41624954e-01 3.33607930e-01\n",
      " 3.25777989e-01 3.18130837e-01 3.10662274e-01 3.03368195e-01\n",
      " 2.96244580e-01 2.89287502e-01 2.82493118e-01 2.75857671e-01\n",
      " 2.69377487e-01 2.63048974e-01 2.56868622e-01 2.50832996e-01\n",
      " 2.44938742e-01 2.39182578e-01 2.33561299e-01 2.28071771e-01\n",
      " 2.22710931e-01 2.17475784e-01 2.12363407e-01 2.07370939e-01\n",
      " 2.02495588e-01 1.97734622e-01 1.93085376e-01 1.88545242e-01\n",
      " 1.84111674e-01 1.79782184e-01 1.75554340e-01 1.71425768e-01\n",
      " 1.67394147e-01 1.63457211e-01 1.59612744e-01 1.55858584e-01\n",
      " 1.52192617e-01 1.48612779e-01 1.45117052e-01 1.41703468e-01\n",
      " 1.38370102e-01 1.35115074e-01 1.31936549e-01 1.28832732e-01\n",
      " 1.25801874e-01 1.22842263e-01 1.19952227e-01 1.17130136e-01\n",
      " 1.14374395e-01 1.11683447e-01 1.09055772e-01 1.06489884e-01\n",
      " 1.03984333e-01 1.01537704e-01 9.91486114e-02 9.68157053e-02\n",
      " 9.45376661e-02 9.23132050e-02 9.01410635e-02 8.80200126e-02\n",
      " 8.59488521e-02 8.39264097e-02 8.19515407e-02 8.00231272e-02\n",
      " 7.81400774e-02 7.63013253e-02 7.45058296e-02 7.27525736e-02\n",
      " 7.10405644e-02 6.93688323e-02 6.77364306e-02 6.61424344e-02\n",
      " 6.45859408e-02 6.30660681e-02 6.15819551e-02 6.01327610e-02\n",
      " 5.87176646e-02 5.73358641e-02 5.59865763e-02 5.46690367e-02\n",
      " 5.33824987e-02 5.21262329e-02 5.08995274e-02 4.97016870e-02\n",
      " 4.85320326e-02 4.73899012e-02 4.62746455e-02 4.51856331e-02\n",
      " 4.41222468e-02 4.30838837e-02 4.20699552e-02 4.10798863e-02\n",
      " 4.01131157e-02 3.91690954e-02 3.82472901e-02 3.73471771e-02\n",
      " 3.64682460e-02 3.56099985e-02 3.47719480e-02 3.39536192e-02\n",
      " 3.31545481e-02 3.23742816e-02 3.16123771e-02 3.08684028e-02\n",
      " 3.01419366e-02 2.94325666e-02 2.87398905e-02 2.80635155e-02\n",
      " 2.74030580e-02 2.67581435e-02 2.61284061e-02 2.55134889e-02\n",
      " 2.49130430e-02 2.43267278e-02 2.37542110e-02 2.31951677e-02\n",
      " 2.26492809e-02 2.21162410e-02 2.15957457e-02 2.10874998e-02\n",
      " 2.05912149e-02 2.01066098e-02 1.96334094e-02 1.91713454e-02\n",
      " 1.87201557e-02 1.82795845e-02 1.78493817e-02 1.74293035e-02\n",
      " 1.70191116e-02 1.66185733e-02 1.62274613e-02 1.58455540e-02\n",
      " 1.54726346e-02 1.51084917e-02 1.47529187e-02 1.44057139e-02\n",
      " 1.40666803e-02 1.37356258e-02 1.34123624e-02 1.30967070e-02\n",
      " 1.27884803e-02 1.24875075e-02 1.21936181e-02 1.19066452e-02\n",
      " 1.16264261e-02 1.13528018e-02 1.10856172e-02 1.08247206e-02\n",
      " 1.05699641e-02 1.03212033e-02 1.00782969e-02 9.84110722e-03\n",
      " 9.60949973e-03 9.38334303e-03 9.16250885e-03 8.94687193e-03\n",
      " 8.73630994e-03 8.53070346e-03 8.32993586e-03 8.13389326e-03\n",
      " 7.94246445e-03 7.75554086e-03 7.57301645e-03 7.39478770e-03\n",
      " 7.22075351e-03 7.05081515e-03 6.88487624e-03 6.72284266e-03\n",
      " 6.56462248e-03 6.41012597e-03 6.25926548e-03 6.11195545e-03\n",
      " 5.96811232e-03 5.82765450e-03 5.69050231e-03 5.55657795e-03\n",
      " 5.42580546e-03 5.29811067e-03 5.17342114e-03 5.05166614e-03\n",
      " 4.93277660e-03 4.81668510e-03 4.70332578e-03 4.59263434e-03\n",
      " 4.48454799e-03 4.37900542e-03 4.27594677e-03 4.17531357e-03\n",
      " 4.07704874e-03 3.98109656e-03 3.88740257e-03 3.79591365e-03\n",
      " 3.70657790e-03 3.61934464e-03 3.53416439e-03 3.45098883e-03\n",
      " 3.36977078e-03 3.29046418e-03 3.21302404e-03 3.13740643e-03\n",
      " 3.06356846e-03 2.99146824e-03 2.92106489e-03 2.85231845e-03\n",
      " 2.78518995e-03 2.71964130e-03 2.65563531e-03 2.59313569e-03\n",
      " 2.53210698e-03 2.47251456e-03 2.41432463e-03 2.35750419e-03\n",
      " 2.30202100e-03 2.24784359e-03 2.19494124e-03 2.14328392e-03\n",
      " 2.09284234e-03 2.04358790e-03 1.99549264e-03 1.94852929e-03\n",
      " 1.90267121e-03 1.85789239e-03 1.81416742e-03 1.77147151e-03\n",
      " 1.72978044e-03 1.68907055e-03 1.64931876e-03 1.61050252e-03\n",
      " 1.57259980e-03 1.53558912e-03 1.49944947e-03 1.46416036e-03\n",
      " 1.42970176e-03 1.39605414e-03 1.36319841e-03 1.33111593e-03\n",
      " 1.29978850e-03 1.26919835e-03 1.23932813e-03 1.21016090e-03\n",
      " 1.18168011e-03 1.15386961e-03 1.12671362e-03 1.10019674e-03\n",
      " 1.07430393e-03 1.04902050e-03 1.02433210e-03 1.00022474e-03\n",
      " 9.76684744e-04 9.53698751e-04 9.31253727e-04 9.09336940e-04\n",
      " 8.87935958e-04 8.67038642e-04 8.46633139e-04 8.26707873e-04\n",
      " 8.07251543e-04 7.88253112e-04 7.69701803e-04 7.51587095e-04\n",
      " 7.33898710e-04 7.16626617e-04 6.99761018e-04 6.83292345e-04\n",
      " 6.67211258e-04 6.51508635e-04 6.36175569e-04 6.21203362e-04\n",
      " 6.06583521e-04 5.92307754e-04 5.78367963e-04 5.64756242e-04\n",
      " 5.51464868e-04 5.38486302e-04 5.25813184e-04 5.13438324e-04\n",
      " 5.01354702e-04 4.89555465e-04 4.78033920e-04 4.66783531e-04\n",
      " 4.55797916e-04 4.45070845e-04 4.34596233e-04 4.24368137e-04\n",
      " 4.14380757e-04 4.04628426e-04 3.95105614e-04 3.85806919e-04\n",
      " 3.76727066e-04 3.67860904e-04 3.59203405e-04 3.50749658e-04\n",
      " 3.42494867e-04 3.34434350e-04 3.26563535e-04 3.18877958e-04\n",
      " 3.11373258e-04 3.04045179e-04 2.96889565e-04 2.89902356e-04\n",
      " 2.83079588e-04 2.76417393e-04 2.69911990e-04 2.63559691e-04\n",
      " 2.57356890e-04 2.51300071e-04 2.45385797e-04 2.39610714e-04\n",
      " 2.33971546e-04 2.28465094e-04 2.23088235e-04 2.17837919e-04\n",
      " 2.12711167e-04 2.07705072e-04 2.02816794e-04 1.98043560e-04\n",
      " 1.93382663e-04 1.88831458e-04 1.84387365e-04 1.80047863e-04\n",
      " 1.75810489e-04 1.71672840e-04 1.67632570e-04 1.63687387e-04\n",
      " 1.59835052e-04 1.56073381e-04 1.52400240e-04 1.48813545e-04\n",
      " 1.45311261e-04 1.41891403e-04 1.38552031e-04 1.35291249e-04\n",
      " 1.32107209e-04 1.28998105e-04 1.25962172e-04 1.22997689e-04\n",
      " 1.20102975e-04 1.17276387e-04 1.14516321e-04 1.11821213e-04\n",
      " 1.09189534e-04 1.06619790e-04 1.04110524e-04 1.01660314e-04\n",
      " 9.92677680e-05 9.69315302e-05 9.46502750e-05 9.24227085e-05\n",
      " 9.02475672e-05 8.81236171e-05 8.60496536e-05 8.40245003e-05\n",
      " 8.20470083e-05 8.01160560e-05 7.82305481e-05 7.63894151e-05\n",
      " 7.45916126e-05 7.28361208e-05 7.11219441e-05 6.94481100e-05\n",
      " 6.78136691e-05 6.62176943e-05 6.46592802e-05 6.31375430e-05\n",
      " 6.16516195e-05 6.02006667e-05 5.87838617e-05 5.74004007e-05\n",
      " 5.60494991e-05 5.47303906e-05 5.34423269e-05 5.21845774e-05\n",
      " 5.09564287e-05 4.97571841e-05 4.85861633e-05 4.74427022e-05\n",
      " 4.63261522e-05 4.52358798e-05 4.41712666e-05 4.31317088e-05\n",
      " 4.21166167e-05 4.11254145e-05 4.01575399e-05 3.92124440e-05\n",
      " 3.82895906e-05 3.73884563e-05 3.65085300e-05 3.56493124e-05\n",
      " 3.48103163e-05 3.39910657e-05 3.31910960e-05 3.24099533e-05\n",
      " 3.16471945e-05 3.09023871e-05 3.01751085e-05 2.94649461e-05\n",
      " 2.87714973e-05 2.80943685e-05 2.74331758e-05 2.67875441e-05\n",
      " 2.61571071e-05 2.55415072e-05 2.49403954e-05 2.43534305e-05\n",
      " 2.37802796e-05 2.32206177e-05 2.26741273e-05 2.21404984e-05\n",
      " 2.16194282e-05 2.11106213e-05 2.06137891e-05 2.01286496e-05\n",
      " 1.96549277e-05 1.91923548e-05 1.87406683e-05 1.82996122e-05\n",
      " 1.78689362e-05 1.74483960e-05 1.70377531e-05 1.66367746e-05\n",
      " 1.62452330e-05 1.58629062e-05 1.54895774e-05 1.51250347e-05\n",
      " 1.47690715e-05 1.44214857e-05 1.40820803e-05 1.37506626e-05\n",
      " 1.34270448e-05 1.31110433e-05 1.28024787e-05 1.25011761e-05\n",
      " 1.22069646e-05 1.19196773e-05 1.16391512e-05 1.13652272e-05\n",
      " 1.10977499e-05 1.08365676e-05 1.05815322e-05 1.03324989e-05\n",
      " 1.00893266e-05 9.85187725e-06 9.62001621e-06 9.39361195e-06\n",
      " 9.17253605e-06 8.95666311e-06 8.74587067e-06 8.54003917e-06\n",
      " 8.33905185e-06 8.14279472e-06 7.95115643e-06 7.76402830e-06\n",
      " 7.58130417e-06 7.40288040e-06 7.22865579e-06 7.05853149e-06\n",
      " 6.89241103e-06 6.73020016e-06 6.57180687e-06 6.41714132e-06\n",
      " 6.26611579e-06 6.11864459e-06 5.97464409e-06 5.83403259e-06\n",
      " 5.69673035e-06 5.56265947e-06 5.43174391e-06 5.30390941e-06\n",
      " 5.17908346e-06 5.05719525e-06 4.93817565e-06 4.82195713e-06\n",
      " 4.70847379e-06 4.59766124e-06 4.48945663e-06 4.38379859e-06\n",
      " 4.28062717e-06 4.17988387e-06 4.08151153e-06 3.98545435e-06\n",
      " 3.89165785e-06 3.80006883e-06 3.71063532e-06 3.62330661e-06\n",
      " 3.53803315e-06 3.45476658e-06 3.37345966e-06 3.29406628e-06\n",
      " 3.21654140e-06 3.14084104e-06 3.06692227e-06 2.99474315e-06\n",
      " 2.92426275e-06 2.85544109e-06 2.78823912e-06 2.72261873e-06\n",
      " 2.65854270e-06 2.59597467e-06 2.53487917e-06 2.47522153e-06\n",
      " 2.41696792e-06 2.36008529e-06 2.30454138e-06 2.25030467e-06\n",
      " 2.19734441e-06 2.14563056e-06 2.09513377e-06 2.04582541e-06\n",
      " 1.99767751e-06 1.95066276e-06 1.90475448e-06 1.85992665e-06\n",
      " 1.81615382e-06 1.77341117e-06 1.73167446e-06 1.69092001e-06\n",
      " 1.65112470e-06 1.61226597e-06 1.57432176e-06 1.53727056e-06\n",
      " 1.50109135e-06 1.46576361e-06 1.43126729e-06 1.39758283e-06\n",
      " 1.36469113e-06 1.33257353e-06 1.30121180e-06 1.27058816e-06\n",
      " 1.24068524e-06 1.21148608e-06 1.18297411e-06 1.15513316e-06\n",
      " 1.12794744e-06 1.10140153e-06 1.07548037e-06 1.05016925e-06\n",
      " 1.02545383e-06 1.00132007e-06 9.77754299e-07 9.54743139e-07\n",
      " 9.32273539e-07 9.10332755e-07 8.88908341e-07 8.67988144e-07\n",
      " 8.47560298e-07 8.27613215e-07 8.08135581e-07 7.89116347e-07\n",
      " 7.70544726e-07 7.52410182e-07 7.34702429e-07 7.17411423e-07\n",
      " 7.00527356e-07 6.84040651e-07 6.67941954e-07 6.52222137e-07\n",
      " 6.36872280e-07 6.21883678e-07 6.07247829e-07 5.92956430e-07\n",
      " 5.79001374e-07 5.65374747e-07 5.52068818e-07 5.39076040e-07\n",
      " 5.26389044e-07 5.14000633e-07 5.01903778e-07 4.90091620e-07\n",
      " 4.78557457e-07 4.67294748e-07 4.56297103e-07 4.45558285e-07\n",
      " 4.35072201e-07 4.24832905e-07 4.14834587e-07 4.05071577e-07\n",
      " 3.95538336e-07 3.86229457e-07 3.77139661e-07 3.68263789e-07\n",
      " 3.59596809e-07 3.51133804e-07 3.42869973e-07 3.34800629e-07\n",
      " 3.26921195e-07 3.19227200e-07 3.11714282e-07 3.04378178e-07\n",
      " 2.97214727e-07 2.90219866e-07 2.83389626e-07 2.76720134e-07\n",
      " 2.70207607e-07 2.63848350e-07 2.57638757e-07 2.51575304e-07\n",
      " 2.45654553e-07 2.39873145e-07 2.34227801e-07 2.28715319e-07\n",
      " 2.23332571e-07 2.18076505e-07 2.12944138e-07 2.07932560e-07\n",
      " 2.03038928e-07 1.98260467e-07 1.93594465e-07 1.89038276e-07\n",
      " 1.84589316e-07 1.80245061e-07 1.76003046e-07 1.71860867e-07\n",
      " 1.67816172e-07 1.63866668e-07 1.60010114e-07 1.56244322e-07\n",
      " 1.52567158e-07 1.48976535e-07 1.45470416e-07 1.42046812e-07\n",
      " 1.38703782e-07 1.35439429e-07 1.32251902e-07 1.29139393e-07\n",
      " 1.26100135e-07 1.23132405e-07 1.20234520e-07 1.17404836e-07\n",
      " 1.14641748e-07 1.11943688e-07 1.09309126e-07 1.06736568e-07\n",
      " 1.04224554e-07 1.01771660e-07 9.93764935e-08 9.70376965e-08\n",
      " 9.47539431e-08 9.25239364e-08 9.03464130e-08 8.82201365e-08\n",
      " 8.61439016e-08 8.41165301e-08 8.21368727e-08 8.02038056e-08\n",
      " 7.83162321e-08 7.64730823e-08 7.46733107e-08 7.29158963e-08\n",
      " 7.11998421e-08 6.95241748e-08 6.78879434e-08 6.62902209e-08\n",
      " 6.47300996e-08 6.32066959e-08 6.17191448e-08 6.02666028e-08\n",
      " 5.88482461e-08 5.74632696e-08 5.61108887e-08 5.47903360e-08\n",
      " 5.35008612e-08 5.22417343e-08 5.10122402e-08 4.98116820e-08\n",
      " 4.86393789e-08 4.74946653e-08 4.63768921e-08 4.52854257e-08\n",
      " 4.42196466e-08 4.31789505e-08 4.21627466e-08 4.11704585e-08\n",
      " 4.02015236e-08 3.92553927e-08 3.83315286e-08 3.74294073e-08\n",
      " 3.65485172e-08 3.56883587e-08 3.48484436e-08 3.40282959e-08\n",
      " 3.32274501e-08 3.24454515e-08 3.16818574e-08 3.09362344e-08\n",
      " 3.02081591e-08 2.94972192e-08 2.88030105e-08 2.81251402e-08\n",
      " 2.74632233e-08 2.68168847e-08 2.61857571e-08 2.55694831e-08\n",
      " 2.49677127e-08 2.43801047e-08 2.38063257e-08 2.32460510e-08\n",
      " 2.26989623e-08 2.21647486e-08 2.16431078e-08 2.11337436e-08\n",
      " 2.06363673e-08 2.01506966e-08 1.96764556e-08 1.92133759e-08\n",
      " 1.87611945e-08 1.83196556e-08 1.78885081e-08 1.74675072e-08\n",
      " 1.70564148e-08 1.66549966e-08 1.62630262e-08 1.58802805e-08\n",
      " 1.55065427e-08 1.51416010e-08 1.47852480e-08 1.44372814e-08\n",
      " 1.40975038e-08 1.37657234e-08 1.34417510e-08 1.31254033e-08\n",
      " 1.28165011e-08 1.25148682e-08 1.22203344e-08 1.19327324e-08\n",
      " 1.16518990e-08 1.13776747e-08 1.11099045e-08 1.08484362e-08\n",
      " 1.05931217e-08 1.03438154e-08 1.01003769e-08 9.86266712e-09\n",
      " 9.63055209e-09 9.40390033e-09 9.18258196e-09 8.96647285e-09\n",
      " 8.75544978e-09 8.54939294e-09 8.34818548e-09 8.15171372e-09\n",
      " 7.95986578e-09 7.77253241e-09 7.58960812e-09 7.41098908e-09\n",
      " 7.23657405e-09 7.06626324e-09 6.89996107e-09 6.73757284e-09\n",
      " 6.57900611e-09 6.42417091e-09 6.27297996e-09 6.12534729e-09\n",
      " 5.98118902e-09 5.84042336e-09 5.70297052e-09 5.56875291e-09\n",
      " 5.43769434e-09 5.30971962e-09 5.18475725e-09 5.06273504e-09\n",
      " 4.94358506e-09 4.82723938e-09 4.71363171e-09 4.60269810e-09\n",
      " 4.49437494e-09 4.38860124e-09 4.28531645e-09 4.18446287e-09\n",
      " 4.08598274e-09 3.98982038e-09 3.89592100e-09 3.80423165e-09\n",
      " 3.71470022e-09 3.62727577e-09 3.54190903e-09 3.45855114e-09\n",
      " 3.37715480e-09 3.29767477e-09 3.22006474e-09 3.14428128e-09\n",
      " 3.07028135e-09 2.99802358e-09 2.92746566e-09 2.85856897e-09\n",
      " 2.79129343e-09 2.72560114e-09 2.66145494e-09 2.59881831e-09\n",
      " 2.53765609e-09 2.47793293e-09 2.41961561e-09 2.36267091e-09\n",
      " 2.30706607e-09 2.25277024e-09 2.19975204e-09 2.14798155e-09\n",
      " 2.09742948e-09 2.04806711e-09 1.99986617e-09 1.95280005e-09\n",
      " 1.90684094e-09 1.86196366e-09 1.81814301e-09 1.77535334e-09\n",
      " 1.73357091e-09 1.69277162e-09 1.65293289e-09 1.61403124e-09\n",
      " 1.57604541e-09 1.53895386e-09 1.50273491e-09 1.46736853e-09\n",
      " 1.43283417e-09 1.39911311e-09 1.36618531e-09 1.33403207e-09]\n"
     ]
    }
   ],
   "source": [
    "print(residual)"
   ]
  },
  {
   "cell_type": "code",
   "execution_count": 16,
   "metadata": {},
   "outputs": [
    {
     "name": "stdout",
     "output_type": "stream",
     "text": [
      "[[1.03002708 0.06088625]\n",
      " [0.01739376 1.03559013]]\n",
      "[[1.10805521 0.03064899]\n",
      " [0.02399952 1.00225627]]\n",
      "[[0.88487    0.03684031]\n",
      " [0.08527331 1.06014111]]\n",
      "[[0.93098514 0.01408834]\n",
      " [0.09448946 0.9059456 ]]\n",
      "[[1.12547153 0.205959  ]\n",
      " [0.06751607 0.89202633]]\n",
      "[[0.95737082 0.01522426]\n",
      " [0.15859897 0.93858139]]\n"
     ]
    }
   ],
   "source": [
    "for i in gain_iteration:\n",
    "    print(np.abs(gain_iteration[i]))"
   ]
  },
  {
   "cell_type": "code",
   "execution_count": 17,
   "metadata": {},
   "outputs": [
    {
     "name": "stdout",
     "output_type": "stream",
     "text": [
      "[[1.03002708 0.06088625]\n",
      " [0.01739376 1.03559013]]\n",
      "[[1.10805521 0.03064899]\n",
      " [0.02399952 1.00225627]]\n",
      "[[0.88487    0.03684031]\n",
      " [0.08527331 1.06014111]]\n",
      "[[0.93098514 0.01408834]\n",
      " [0.09448946 0.9059456 ]]\n",
      "[[1.12547153 0.205959  ]\n",
      " [0.06751607 0.89202633]]\n",
      "[[0.95737082 0.01522426]\n",
      " [0.15859897 0.93858139]]\n"
     ]
    }
   ],
   "source": [
    "for i in gain:\n",
    "    print(np.abs(gain[i]))"
   ]
  },
  {
   "cell_type": "markdown",
   "metadata": {},
   "source": [
    "NG method on least squares"
   ]
  },
  {
   "cell_type": "code",
   "execution_count": 19,
   "metadata": {},
   "outputs": [],
   "source": [
    "max_step = 1000\n",
    "residual_gain_amp, residual_gain_phs, residual_gain_H_amp, residual_gain_H_phs= np.zeros(max_step),np.zeros(max_step),np.zeros(max_step),np.zeros(max_step)\n",
    "gain_prev = {}\n",
    "for ant in range(N_ant):\n",
    "    gain_prev[ant] = np.array([[1,0],[0,1]])\n",
    "gain_H_prev = {}\n",
    "for ant in range(N_ant):\n",
    "    gain_H_prev[ant] = np.transpose(np.conj(gain_prev[ant]))\n",
    "\n",
    "gain_next, gain_H_next = {},{}\n",
    "for step in range(max_step):\n",
    "    for ant in range(N_ant):\n",
    "        JH_J = np.zeros((2,2)).astype(np.complex128)\n",
    "        JH_D = np.zeros((2,2)).astype(np.complex128)\n",
    "        for q in np.arange(N_ant):\n",
    "            if q != ant:\n",
    "                JH_J += np.matmul(sky[(ant,q)], np.matmul(gain_H_prev[q], np.matmul(gain_prev[q], sky[(q,ant)])))\n",
    "                JH_D += np.matmul(data[(ant,q)], np.matmul(gain_prev[q], sky[(q, ant)]))\n",
    "        gain_next[ant] = np.matmul(JH_D, np.linalg.inv(JH_J))\n",
    "        residual_gain_amp[step] += np.linalg.norm(np.abs(gain_next[ant])-np.abs(gain[ant]))\n",
    "        residual_gain_phs[step] += np.linalg.norm(np.angle(gain_next[ant])-np.angle(gain[ant]))\n",
    "        JH_J = np.zeros((2,2)).astype(np.complex128)\n",
    "        JH_D = np.zeros((2,2)).astype(np.complex128)\n",
    "        for p in np.arange(N_ant):\n",
    "            if p != ant:\n",
    "                JH_J += np.matmul(sky[(ant,p)], np.matmul(gain_H_prev[p], np.matmul(gain_prev[p], sky[(p,ant)])))\n",
    "                JH_D += np.matmul(sky[(ant,p)], np.matmul(gain_H_prev[p], data[(p, ant)]))\n",
    "        gain_H_next[ant] = np.matmul(np.linalg.inv(JH_J), JH_D)\n",
    "        residual_gain_H_amp[step] += np.linalg.norm(np.abs(gain_H_next[ant])-np.abs(gain_H[ant]))\n",
    "        residual_gain_H_phs[step] += np.linalg.norm(np.angle(gain_H_next[ant])-np.angle(gain_H[ant]))\n",
    "    gain_prev = gain_next\n",
    "    gain_H_prev = gain_H_next\n"
   ]
  },
  {
   "cell_type": "code",
   "execution_count": 20,
   "metadata": {},
   "outputs": [],
   "source": [
    "import matplotlib.pyplot as plt"
   ]
  },
  {
   "cell_type": "code",
   "execution_count": 21,
   "metadata": {},
   "outputs": [
    {
     "data": {
      "text/plain": [
       "Text(0, 0.5, 'residuals')"
      ]
     },
     "execution_count": 21,
     "metadata": {},
     "output_type": "execute_result"
    },
    {
     "data": {
      "image/png": "[encoded data removed]",
      "text/plain": [
       "<Figure size 720x360 with 2 Axes>"
      ]
     },
     "metadata": {
      "needs_background": "light"
     },
     "output_type": "display_data"
    }
   ],
   "source": [
    "fig, ax = plt.subplots(ncols=2, figsize=(10,5))\n",
    "ax[0].scatter(range(max_step), residual_gain_amp, label=\"residual of gain amplitude\")\n",
    "ax[0].scatter(range(max_step), residual_gain_H_amp, label=\"residual of gain H amplitude\")\n",
    "ax[0].legend(loc='best')\n",
    "ax[0].set_xlabel(\"iterations\")\n",
    "ax[0].set_ylabel(\"residuals\")\n",
    "\n",
    "ax[1].scatter(range(max_step), residual_gain_phs, label=\"residual of gain phase\")\n",
    "ax[1].scatter(range(max_step), residual_gain_H_phs, label=\"residual of gain H phase\")\n",
    "ax[1].legend(loc='best')\n",
    "ax[1].set_xlabel(\"iterations\")\n",
    "ax[1].set_ylabel(\"residuals\")"
   ]
  },
  {
   "cell_type": "code",
   "execution_count": 22,
   "metadata": {},
   "outputs": [
    {
     "name": "stdout",
     "output_type": "stream",
     "text": [
      "ant 0 absolute phase:\n",
      " origin [[-2.30922093 -3.0087573 ]\n",
      " [ 3.1024873   2.35850661]] \n",
      " iteration [[ 1.02222517  0.32268881]\n",
      " [ 0.1507481  -0.59323259]]\n",
      "\n",
      "ant 1 absolute phase:\n",
      " origin [[ 0.84719883 -0.30880346]\n",
      " [ 1.66341662 -1.35271828]] \n",
      " iteration [[-2.10454038  3.02264265]\n",
      " [-1.28832258  1.97872782]]\n",
      "\n",
      "ant 2 absolute phase:\n",
      " origin [[ 2.49408076  2.17403708]\n",
      " [ 1.8527728  -1.06160264]] \n",
      " iteration [[-0.45765844 -0.77770212]\n",
      " [-1.09896641  2.26984346]]\n",
      "\n",
      "ant 3 absolute phase:\n",
      " origin [[ 0.43403492  0.58777661]\n",
      " [-0.50147903 -1.85035522]] \n",
      " iteration [[-2.51770428 -2.36396259]\n",
      " [ 2.82996707  1.48109089]]\n",
      "\n",
      "ant 4 absolute phase:\n",
      " origin [[2.63327929 1.04466753]\n",
      " [2.69898452 2.06658924]] \n",
      " iteration [[-0.31845991 -1.90707168]\n",
      " [-0.25275468 -0.88514996]]\n",
      "\n",
      "ant 5 absolute phase:\n",
      " origin [[ 0.85998305  1.2594636 ]\n",
      " [-1.76215013 -1.03725011]] \n",
      " iteration [[-2.09175615 -1.6922756 ]\n",
      " [ 1.56929598  2.29419599]]\n",
      "\n"
     ]
    }
   ],
   "source": [
    "for ant in range(N_ant):\n",
    "    print('ant {} absolute phase:\\n origin {} \\n iteration {}\\n'.format(ant, np.angle(gain[ant]), np.angle(gain_next[ant])))"
   ]
  },
  {
   "cell_type": "code",
   "execution_count": 23,
   "metadata": {},
   "outputs": [
    {
     "name": "stdout",
     "output_type": "stream",
     "text": [
      "ant (0,1) relative phase:\n",
      " origin [[ 3.15641976  2.69995384]\n",
      " [-1.43907068 -3.71122489]] \n",
      " iteration [[-3.12676555  2.69995384]\n",
      " [-1.43907068  2.57196042]]\n",
      "\n",
      "ant (0,2) relative phase:\n",
      " origin [[ 4.80330169  5.18279438]\n",
      " [-1.24971451 -3.42010925]] \n",
      " iteration [[-1.47988362 -1.10039092]\n",
      " [-1.24971451  2.86307605]]\n",
      "\n",
      "ant (0,3) relative phase:\n",
      " origin [[ 2.74325586  3.5965339 ]\n",
      " [-3.60396633 -4.20886183]] \n",
      " iteration [[-3.53992945 -2.6866514 ]\n",
      " [ 2.67921898  2.07432348]]\n",
      "\n",
      "ant (0,4) relative phase:\n",
      " origin [[ 4.94250022  4.05342483]\n",
      " [-0.40350278 -0.29191737]] \n",
      " iteration [[-1.34068508 -2.22976048]\n",
      " [-0.40350278 -0.29191737]]\n",
      "\n",
      "ant (0,5) relative phase:\n",
      " origin [[ 3.16920398  4.2682209 ]\n",
      " [-4.86463743 -3.39575672]] \n",
      " iteration [[-3.11398132 -2.01496441]\n",
      " [ 1.41854788  2.88742858]]\n",
      "\n"
     ]
    }
   ],
   "source": [
    "for ant in range(1,N_ant):\n",
    "    print('ant (0,{}) relative phase:\\n origin {} \\n iteration {}\\n'.format(ant, np.angle(gain[ant]) - np.angle(gain[0]), np.angle(gain_next[ant]) - np.angle(gain_next[0])))"
   ]
  },
  {
   "cell_type": "code",
   "execution_count": 24,
   "metadata": {
    "scrolled": true
   },
   "outputs": [
    {
     "name": "stdout",
     "output_type": "stream",
     "text": [
      "ant 0 relative phase between origin and iteration [[ 3.3314461  3.3314461]\n",
      " [-2.9517392 -2.9517392]]\n",
      "\n",
      "ant 1 relative phase between origin and iteration [[-2.9517392  3.3314461]\n",
      " [-2.9517392  3.3314461]]\n",
      "\n",
      "ant 2 relative phase between origin and iteration [[-2.9517392 -2.9517392]\n",
      " [-2.9517392  3.3314461]]\n",
      "\n",
      "ant 3 relative phase between origin and iteration [[-2.9517392 -2.9517392]\n",
      " [ 3.3314461  3.3314461]]\n",
      "\n",
      "ant 4 relative phase between origin and iteration [[-2.9517392 -2.9517392]\n",
      " [-2.9517392 -2.9517392]]\n",
      "\n",
      "ant 5 relative phase between origin and iteration [[-2.9517392 -2.9517392]\n",
      " [ 3.3314461  3.3314461]]\n",
      "\n"
     ]
    }
   ],
   "source": [
    "for ant in range(N_ant):\n",
    "    print('ant {} relative phase between origin and iteration {}\\n'.format(ant, np.angle(gain_next[ant]) - np.angle(gain[ant])))"
   ]
  },
  {
   "cell_type": "code",
   "execution_count": null,
   "metadata": {},
   "outputs": [],
   "source": []
  }
 ],
 "metadata": {
  "kernelspec": {
   "display_name": "Python 3",
   "language": "python",
   "name": "python3"
  },
  "language_info": {
   "codemirror_mode": {
    "name": "ipython",
    "version": 3
   },
   "file_extension": ".py",
   "mimetype": "text/x-python",
   "name": "python",
   "nbconvert_exporter": "python",
   "pygments_lexer": "ipython3",
   "version": "3.6.10"
  }
 },
 "nbformat": 4,
 "nbformat_minor": 2
}
