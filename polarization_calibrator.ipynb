{
 "cells": [
  {
   "cell_type": "code",
   "execution_count": 1,
   "metadata": {},
   "outputs": [],
   "source": [
    "import numpy as np\n",
    "import matplotlib.pyplot as ply\n",
    "from pyuvdata import UVData"
   ]
  },
  {
   "cell_type": "code",
   "execution_count": 2,
   "metadata": {},
   "outputs": [],
   "source": [
    "import copy"
   ]
  },
  {
   "cell_type": "code",
   "execution_count": 3,
   "metadata": {},
   "outputs": [],
   "source": [
    "class uvdata_pol_calibrator():\n",
    "    \n",
    "    def __init__(self, model_data=None, real_data=None):\n",
    "        \"\"\"\n",
    "        \"\"\"\n",
    "        self.model_data, self.real_data = model_data, real_data\n",
    "        \n",
    "    def data_slice(self, use_all_times=False, md_time_range=[], rd_time_range=[], use_all_frequencies=False, md_freq_range=[], rd_freq_range=[], \n",
    "                   use_all_ants=False, md_ants=[], rd_ants=[]):\n",
    "        \"\"\"\n",
    "        Get a slice of the data.\n",
    "        \n",
    "        Parameters\n",
    "        ----------\n",
    "\n",
    "       \n",
    "\n",
    "\n",
    "        \"\"\"\n",
    "        if use_all_ants:\n",
    "            ants = np.unique(self.model_data.ant_1_array)\n",
    "        else:\n",
    "            assert isinstance(md_ants, list) and isinstance(rd_ants, list), \"ants must be a list.\" \n",
    "            md_ants, rd_ants= list(np.sort(md_ants)), list(np.sort(rd_ants))\n",
    "            assert md_ants == rd_ants\n",
    "            ants = md_ants\n",
    "        self.ants2cal = ants\n",
    "        \n",
    "        if use_all_times:\n",
    "            md_time_range = [np.unique(self.model_data.time_array)[0]-1e-2, np.unique(self.model_data.time_array)[-1]+1e-2]\n",
    "            rd_time_range = [np.unique(self.real_data.time_array)[0]-1e-2, np.unique(self.real_data.time_array)[-1]+1e-2]\n",
    "        else:\n",
    "            assert isinstance(md_time_range, list) and isinstance(rd_time_range, list), \"time_range must be a list\"\n",
    "            assert len(md_time_range) == len(rd_time_range), \"Length of time_ranges must be the same.\"\n",
    "            assert len(md_time_range) == 2, \"Length of time_range must be 2.\"\n",
    "        \n",
    "        if use_all_frequencies:\n",
    "            md_freqs = list(range(self.model_data.Nfreqs))\n",
    "            rd_freqs = list(range(self.real_data.Nfreqs))\n",
    "        else:\n",
    "            assert isinstance(md_freq_range, list) and isinstance(rd_freq_range, list), \"freq_range must be a list\"\n",
    "            assert md_freq_range == rd_freq_range, \"freq_ranges must be the same.\"\n",
    "            if len(md_freq_range) == 1:\n",
    "                md_freqs = md_freq_range\n",
    "                rd_freqs = rd_freq_range\n",
    "            elif len(md_freq_range) == 2:\n",
    "                md_freqs = list(range(md_freq_range[0],md_freq_range[1]+1))\n",
    "                rd_freqs = list(range(rd_freq_range[0],rd_freq_range[1]+1))\n",
    "            else:\n",
    "                raise ValueError(\"Length of freq_range must be 1 or 2.\")\n",
    "            \n",
    "        model_data_slice = self.model_data.select(antenna_nums=ants, freq_chans=md_freqs, time_range=md_time_range, inplace=False) \n",
    "        real_data_slice = self.real_data.select(antenna_nums=ants, freq_chans=rd_freqs, time_range=rd_time_range, inplace=False)             \n",
    "        model_data_dict = {}\n",
    "        real_data_dict = {}\n",
    "        \n",
    "        for ant1 in ants:\n",
    "            for ant2 in ants:\n",
    "                if ant1 <= ant2:\n",
    "                    baseline_number = 2048*(ant1+1)+(ant2+1)+2**16\n",
    "                    # baseline index = 2048 * (ant1+1) + (ant2+1) + 2**16\n",
    "                    model_data_dict[(ant1,ant2)] = np.copy(model_data_slice.get_data(baseline_number))\n",
    "                    data_shape = model_data_slice.get_data(baseline_number).shape\n",
    "                    model_data_dict[(ant1,ant2)][:,:,1],  model_data_dict[(ant1,ant2)][:,:,2],  model_data_dict[(ant1,ant2)][:,:,3] =  model_data_dict[(ant1,ant2)][:,:,2],  model_data_dict[(ant1,ant2)][:,:,3],  model_data_dict[(ant1,ant2)][:,:,1]\n",
    "                    model_data_dict[(ant1,ant2)] = model_data_dict[(ant1,ant2)].reshape((data_shape[0],data_shape[1],2,2))\n",
    "\n",
    "                    real_data_dict[(ant1,ant2)] = np.copy(real_data_slice.get_data(baseline_number))\n",
    "                    real_data_dict[(ant1,ant2)][:,:,1],  real_data_dict[(ant1,ant2)][:,:,2], real_data_dict[(ant1,ant2)][:,:,3] =  real_data_dict[(ant1,ant2)][:,:,2],  real_data_dict[(ant1,ant2)][:,:,3],  real_data_dict[(ant1,ant2)][:,:,1]\n",
    "                    real_data_dict[(ant1,ant2)] = real_data_dict[(ant1,ant2)].reshape((data_shape[0],data_shape[1],2,2))\n",
    "                    \"\"\"\n",
    "                    data_array orginally stores the polarization information as a 1d array [-5, -6, -7, -8], corresponding to [XX, YY, XY, YX]. \n",
    "                    Here we modify it into a 2d array[[-5,-7],[-8,-6]], or [[XX, XY], [YX, YY]].\n",
    "                    \"\"\"\n",
    "\n",
    "                if ant1 > ant2:\n",
    "                    model_data_dict[(ant1,ant2)] = np.transpose(np.conj(model_data_dict[(ant2,ant1)]), (0,1,3,2))\n",
    "                    real_data_dict[(ant1,ant2)] = np.transpose(np.conj(real_data_dict[(ant2,ant1)]), (0,1,3,2))\n",
    "            \n",
    "        self.model_data_dict,  self.real_data_dict = model_data_dict, real_data_dict\n",
    "        \n",
    "    def Wirtinger_lm_cal(self, diagonalize=False, Niteration=50, including_autobaseline=False):\n",
    "        \"\"\"\n",
    "        Using Newton-Gauss method to obtain calibration gains G which minimizing \\sum{D_[ij]-G_i M_{ij} G_j^H}, where D, G and M are all 2*2 matrices. \n",
    "        Update each step: G_{k+1} = [J(G_k)^H J(G_k)]^{-1} * J(G_k)^H * D, where J is the Jacobian matrix. \n",
    "\n",
    "        Parameters\n",
    "        ----------\n",
    "\n",
    "       \n",
    "\n",
    "        Returns\n",
    "        -------\n",
    "\n",
    "        gain : dict\n",
    "            calibration gains\n",
    "\n",
    "        residual : \n",
    "\n",
    "        \"\"\"\n",
    "        ants, data, model = self.ants2cal, self.real_data_dict, self.model_data_dict\n",
    "        gain_prev, gain_H_prev, gain_next, gain_H_next = {}, {}, {}, {}\n",
    "        for ant in ants:\n",
    "            gain_prev[ant] = np.array([[1,0],[0,1]])\n",
    "            gain_H_prev[ant] = np.transpose(np.conj(gain_prev[ant]))\n",
    "        residual = np.zeros(Niteration)\n",
    "\n",
    "        for iteration in range(Niteration):\n",
    "            for ant in ants:\n",
    "                JH_J = np.zeros((2,2)).astype(np.complex128)\n",
    "                JH_D = np.zeros((2,2)).astype(np.complex128)\n",
    "                for ant_q in ants:\n",
    "                    if including_autobaseline:\n",
    "                        # sum over baselines, frequencies and times\n",
    "                        JH_J += np.sum(np.sum(np.matmul(model[(ant,ant_q)], np.matmul(gain_H_prev[ant_q], np.matmul(gain_prev[ant_q], model[(ant_q,ant)]))), axis=0), axis=0)\n",
    "                        JH_D += np.sum(np.sum(np.matmul(data[(ant,ant_q)], np.matmul(gain_prev[q], model[(ant_q, ant)])), axis=0), axis=0)\n",
    "                    else:\n",
    "                        if ant_q != ant:\n",
    "                        # if not including auto-baseline\n",
    "                            JH_J += np.sum(np.sum(np.matmul(model[(ant,ant_q)], np.matmul(gain_H_prev[ant_q], np.matmul(gain_prev[ant_q], model[(ant_q,ant)]))), axis=0), axis=0)\n",
    "                            JH_D += np.sum(np.sum(np.matmul(data[(ant,ant_q)], np.matmul(gain_prev[ant_q], model[(ant_q, ant)])), axis=0), axis=0)\n",
    "\n",
    "                if diagonalize==True:\n",
    "                    gain_next[ant] = np.diag(np.diag(np.matmul(JH_D, np.linalg.inv(JH_J))))\n",
    "                else:\n",
    "                    gain_next[ant] = np.matmul(JH_D, np.linalg.inv(JH_J))\n",
    "\n",
    "                JH_J = np.zeros((2,2)).astype(np.complex128)\n",
    "                JH_D = np.zeros((2,2)).astype(np.complex128)\n",
    "                for ant_p in ants:\n",
    "                    if including_autobaseline:\n",
    "                        # sum over baselines, frequencies and times\n",
    "                        JH_J += np.sum(np.sum(np.matmul(model[(ant,ant_p)], np.matmul(gain_H_prev[ant_p], np.matmul(gain_prev[ant_p], model[(ant_p,ant)]))), axis=0), axis=0)\n",
    "                        JH_D += np.sum(np.sum(np.matmul(model[(ant,ant_p)], np.matmul(gain_H_prev[ant_p], data[(ant_p, ant)])), axis=0), axis=0)\n",
    "                    else:\n",
    "                        if ant_p != ant:\n",
    "                        # if not including auto-baseline\n",
    "                            JH_J += np.sum(np.sum(np.matmul(model[(ant,ant_p)], np.matmul(gain_H_prev[ant_p], np.matmul(gain_prev[ant_p], model[(ant_p,ant)]))), axis=0), axis=0)\n",
    "                            JH_D += np.sum(np.sum(np.matmul(model[(ant,ant_p)], np.matmul(gain_H_prev[ant_p], data[(ant_p, ant)])), axis=0), axis=0)\n",
    "                \n",
    "                if diagonalize==True:\n",
    "                    gain_H_next[ant] = np.diag(np.diag(np.matmul(np.linalg.inv(JH_J), JH_D)))\n",
    "                else:\n",
    "                    gain_H_next[ant] = np.matmul(np.linalg.inv(JH_J), JH_D)\n",
    "\n",
    "            gain_prev = gain_next\n",
    "            gain_H_prev = gain_H_next\n",
    "\n",
    "            for ant in ants:\n",
    "                for ant_r in ants:\n",
    "                    if including_autobaseline:\n",
    "                         residual[iteration] += np.linalg.norm(data[(ant,ant_r)] - np.matmul(gain_prev[ant], np.matmul(model[(ant,ant_r)], gain_H_prev[ant_r])))\n",
    "                    else:\n",
    "                        if ant_r != ant:\n",
    "                            residual[iteration] += np.linalg.norm(data[(ant,ant_r)] - np.matmul(gain_prev[ant], np.matmul(model[(ant,ant_r)], gain_H_prev[ant_r])))\n",
    "                    \n",
    "        self.gain, self.gain_H, self.cal_res = gain_prev, gain_H_prev, residual                    \n"
   ]
  },
  {
   "cell_type": "code",
   "execution_count": 4,
   "metadata": {},
   "outputs": [],
   "source": [
    "uvd_model, uvd_data = UVData(), UVData()"
   ]
  },
  {
   "cell_type": "code",
   "execution_count": 5,
   "metadata": {},
   "outputs": [],
   "source": [
    "uvd_data.read(\"/lustre/aoc/projects/hera/H1C_IDR2/2458106/zen.2458106.22245.HH.uvh5\")"
   ]
  },
  {
   "cell_type": "code",
   "execution_count": 6,
   "metadata": {},
   "outputs": [
    {
     "name": "stderr",
     "output_type": "stream",
     "text": [
      "Telescope mock-HERA is not in known_telescopes.\n"
     ]
    }
   ],
   "source": [
    "uvd_model.read(\"/lustre/aoc/projects/hera/zmartino/hera_calib_model/IDR2/abscal_files/zen.2458106.21913.uvh5\")"
   ]
  },
  {
   "cell_type": "code",
   "execution_count": 7,
   "metadata": {},
   "outputs": [
    {
     "name": "stdout",
     "output_type": "stream",
     "text": [
      "[2458106.22251081 2458106.22263509 2458106.22275937 2458106.22288364\n",
      " 2458106.22300792 2458106.22313219 2458106.22325647 2458106.22338074\n",
      " 2458106.22350502 2458106.2236293  2458106.22375357 2458106.22387785\n",
      " 2458106.22400212 2458106.2241264  2458106.22425067 2458106.22437495\n",
      " 2458106.22449923 2458106.2246235  2458106.22474778 2458106.22487205\n",
      " 2458106.22499633 2458106.2251206  2458106.22524488 2458106.22536916\n",
      " 2458106.22549343 2458106.22561771 2458106.22574198 2458106.22586626\n",
      " 2458106.22599053 2458106.22611481 2458106.22623909 2458106.22636336\n",
      " 2458106.22648764 2458106.22661191 2458106.22673619 2458106.22686046\n",
      " 2458106.22698474 2458106.22710901 2458106.22723329 2458106.22735757\n",
      " 2458106.22748184 2458106.22760612 2458106.22773039 2458106.22785467\n",
      " 2458106.22797894 2458106.22810322 2458106.2282275  2458106.22835177\n",
      " 2458106.22847605 2458106.22860032 2458106.2287246  2458106.22884887\n",
      " 2458106.22897315 2458106.22909743 2458106.2292217  2458106.22934598\n",
      " 2458106.22947025 2458106.22959453 2458106.2297188  2458106.22984308]\n"
     ]
    }
   ],
   "source": [
    "print(np.unique(uvd_data.time_array))"
   ]
  },
  {
   "cell_type": "code",
   "execution_count": 8,
   "metadata": {},
   "outputs": [
    {
     "name": "stdout",
     "output_type": "stream",
     "text": [
      "[2458106.21913026 2458106.21925454 2458106.21937881 2458106.21950309\n",
      " 2458106.21962736 2458106.21975164 2458106.21987591 2458106.22000019\n",
      " 2458106.22012446 2458106.22024874 2458106.22037301 2458106.22049729\n",
      " 2458106.22062156 2458106.22074584 2458106.22087012 2458106.22099439\n",
      " 2458106.22111867 2458106.22124294 2458106.22136722 2458106.22149149\n",
      " 2458106.22161577 2458106.22174004 2458106.22186432 2458106.22198859\n",
      " 2458106.22211287 2458106.22223714 2458106.22236142 2458106.22248569\n",
      " 2458106.22260997 2458106.22273424 2458106.22285852 2458106.22298279\n",
      " 2458106.22310707 2458106.22323134 2458106.22335562 2458106.22347989\n",
      " 2458106.22360417 2458106.22372845 2458106.22385272 2458106.223977\n",
      " 2458106.22410127 2458106.22422555 2458106.22434982 2458106.2244741\n",
      " 2458106.22459837 2458106.22472265 2458106.22484692 2458106.2249712\n",
      " 2458106.22509547 2458106.22521975 2458106.22534402 2458106.2254683\n",
      " 2458106.22559257 2458106.22571685 2458106.22584112 2458106.2259654\n",
      " 2458106.22608967 2458106.22621395 2458106.22633822 2458106.2264625 ]\n"
     ]
    }
   ],
   "source": [
    "print(np.unique(uvd_model.time_array))"
   ]
  },
  {
   "cell_type": "code",
   "execution_count": 7,
   "metadata": {},
   "outputs": [],
   "source": [
    "uv_polcal = uvdata_pol_calibrator(model_data=uvd_model, real_data=uvd_data)"
   ]
  },
  {
   "cell_type": "code",
   "execution_count": 8,
   "metadata": {},
   "outputs": [],
   "source": [
    "freqs = list(range(0,uvd_data.Nfreqs,20))"
   ]
  },
  {
   "cell_type": "code",
   "execution_count": null,
   "metadata": {},
   "outputs": [],
   "source": [
    "flag = 0\n",
    "for freq in freqs:\n",
    "    uv_polcal.data_slice(use_all_times=True, md_freq_range=[freq], rd_freq_range=[freq], use_all_ants=True)\n",
    "    uv_polcal.Wirtinger_lm_cal(diagonalize=False)\n",
    "    if flag == 0:\n",
    "        gain_array = np.array([ np.array(list(uv_polcal.gain.values()))])\n",
    "    else:\n",
    "        gain_array = np.append(gain_array, [ np.array(list(uv_polcal.gain.values()))], axis=0)\n",
    "    flag +=1"
   ]
  },
  {
   "cell_type": "code",
   "execution_count": null,
   "metadata": {},
   "outputs": [],
   "source": []
  }
 ],
 "metadata": {
  "kernelspec": {
   "display_name": "Python 3",
   "language": "python",
   "name": "python3"
  },
  "language_info": {
   "codemirror_mode": {
    "name": "ipython",
    "version": 3
   },
   "file_extension": ".py",
   "mimetype": "text/x-python",
   "name": "python",
   "nbconvert_exporter": "python",
   "pygments_lexer": "ipython3",
   "version": "3.6.10"
  }
 },
 "nbformat": 4,
 "nbformat_minor": 2
}
