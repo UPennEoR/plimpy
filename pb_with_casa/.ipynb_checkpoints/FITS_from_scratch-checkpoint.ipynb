{
 "cells": [
  {
   "cell_type": "markdown",
   "metadata": {},
   "source": [
    "7/17"
   ]
  },
  {
   "cell_type": "code",
   "execution_count": 63,
   "metadata": {},
   "outputs": [],
   "source": [
    "#This notebook will make a fits file from scratch\n",
    "from astropy import wcs\n",
    "import numpy as np\n",
    "from astropy.io import fits\n",
    "from astropy import wcs"
   ]
  },
  {
   "cell_type": "markdown",
   "metadata": {},
   "source": [
    "A small tangent:\n",
    "\n",
    "So I found the primary beam image file for ALMA, and I'm going to look at it and see if I can get any clues on how to make a casa image file for our own HERA.\n",
    "\n",
    "Knowing CASA, I'm not expecting much...."
   ]
  },
  {
   "cell_type": "markdown",
   "metadata": {},
   "source": [
    "Ok Well that didn't work out set the image is complex...\n",
    "But I did find some casa tools to help with the coordinate system, let's try using this"
   ]
  },
  {
   "cell_type": "code",
   "execution_count": 69,
   "metadata": {},
   "outputs": [],
   "source": [
    "#this cell is looking into casa cs tool... might not be useful if I can get the fits stuff right, put on hold\n",
    "\n",
    "def casa_csys():\n",
    "    \n",
    "    #open coordinate system from ALMA image\n",
    "    ia.open('ALMA_0_DV__0_0_360_0_45_90_348.5_373_373_GHz_ticra2007_VP.im/')\n",
    "    mycs = ia.coordsys() #opens coordsys 'object' associate\n",
    "    ia.close()\n",
    "    #making HERA casa image\n",
    "    ia.open('real-ejones.im/')\n",
    "    csys = ia.coordsys() #opens coordsys 'object' associate\n",
    "    csys.setnames('Long', 'Lat','Stokes','Frequency') #Set names of Axis\n",
    "    csys = cs.newcoordsys(direction-True) # to create new coordinate system\n",
    "    csys.settelescope('HERA') #set's telescsope to HERA... turns out CASA already knows about HERA\n",
    "    csys.setconversiontype(direction='AZELGEO') \n",
    "    #print(me.observatory(csys.telescope())) #prints where CASA thinks HERA IS\n",
    "    \n",
    "    \n",
    "    return('nothing!')"
   ]
  },
  {
   "cell_type": "code",
   "execution_count": 50,
   "metadata": {
    "collapsed": true
   },
   "outputs": [
    {
     "name": "stdout",
     "output_type": "stream",
     "text": [
      "This is the ALMA summary\n",
      "{'axisnames': array(['Long', 'Lati', 'Stokes', 'Frequency'], \n",
      "       dtype='|S10'), 'axisunits': array(['deg', 'deg', '', 'Hz'], \n",
      "       dtype='|S4'), 'defaultmask': '', 'hasmask': False, 'imagetype': 'Intensity', 'incr': array([ -3.99160604e-04,   3.99160604e-04,   1.00000000e+00,\n",
      "          1.00000000e+03]), 'masks': array([], \n",
      "       dtype='|S1'), 'messages': array([], \n",
      "       dtype='|S1'), 'ndim': 4, 'refpix': array([ 74.49430031,  74.60912501,   0.        ,   0.        ]), 'refval': array([  0.00000000e+00,   0.00000000e+00,   9.00000000e+00,\n",
      "          3.73000000e+11]), 'shape': array([151, 151,   4,   1], dtype=int32), 'tileshape': array([151, 151,   4,   1], dtype=int32), 'unit': ''}\n",
      "\n",
      "This is the HERA summary\n",
      "{'axisnames': array(['linear0', 'linear1', 'linear2', 'linear3'],\n",
      "       dtype='|S8'), 'axisunits': array(['km', 'km', 'km', 'km'],\n",
      "       dtype='|S3'), 'defaultmask': '', 'hasmask': False, 'imagetype': 'Intensity', 'incr': array([ 1.,  1.,  1$\n",
      "       dtype='|S1'), 'messages': array([],\n",
      "$ dtype=int32), 'unit': '\"UNCALIB\"'}\n",
      "\n",
      "\n"
     ]
    }
   ],
   "source": [
    "#so our fits header for ALMA might look like\n",
    "alma_file = open(\"ALMA_summary.txt\", \"r\")\n",
    "alma_contents = alma_file.read()\n",
    "hera_file = open(\"HERA_summary.txt\", \"r\")\n",
    "hera_contents = hera_file.read()\n",
    "\n",
    "print('This is the ALMA summary')\n",
    "print(alma_contents)\n",
    "print('This is the HERA summary')\n",
    "print(hera_contents)"
   ]
  },
  {
   "cell_type": "markdown",
   "metadata": {},
   "source": [
    "So it looks like for starters, the axisnames and axisunits are immensely wrong...\n",
    "CASA why would you change all my axis names to \"Linear\" and then spit in my face and change all my units to km...\n",
    "\n",
    "* Useful casa command... \n",
    " * imregrid — regrid an image onto the coordinate system of another image\n",
    " * makecomplex - Make a complex image from two casa images\n",
    "\n",
    "If I can get the image fits conversion right in the first place"
   ]
  },
  {
   "cell_type": "code",
   "execution_count": 61,
   "metadata": {},
   "outputs": [
    {
     "data": {
      "text/plain": [
       "SIMPLE  =                    T / file does conform to FITS standard             \n",
       "BITPIX  =                   32 / number of bits per data pixel                  \n",
       "NAXIS   =                    2 / number of data axes                            \n",
       "NAXIS1  =                    0 / length of data axis 1                          \n",
       "NAXIS2  =                    0 / length of data axis 2                          \n",
       "EXTEND  =                    T / FITS dataset may contain extensions            \n",
       "COMMENT   FITS (Flexible Image Transport System) format defined in Astronomy and\n",
       "COMMENT   Astrophysics Supplement Series v44/p363, v44/p371, v73/p359, v73/p365.\n",
       "COMMENT   Contact the NASA Science Office of Standards and Technology for the   \n",
       "COMMENT   FITS Definition document #100 and other FITS information.             \n",
       "COMMENT This file conforms to the ALMA-TestInterferometer standard              \n",
       "COMMENT v1.0, 2001-07-03 see Lucas and Glendenning, 2001                        \n",
       "COMMENT http://www.alma.nrao.edu/development/computing/docs/memos/              \n",
       "ORIGIN  = 'ALMA6.0-01 15-NOV-2001' / Organization or Institution                \n",
       "CREATOR = 'CLIC 6.0-01 15-NOV-2001' / Program name and version                  \n",
       "TELESCOP= '(simulated)'        / Telescope name                                 "
      ]
     },
     "execution_count": 61,
     "metadata": {},
     "output_type": "execute_result"
    }
   ],
   "source": [
    "print ' ----     regrid Ex 2    ----'\n",
    "ia.maketestimage('radio.image',overwrite=true)  \n",
    "mycs = ia.coordsys();\n",
    "print mycs.referencecode('dir')\n",
    "#J2000\n",
    "mycs.setreferencecode(value='B1950', type='dir', adjust=True)\n",
    "im3 = ia.regrid(outfile='radio.regridded', csys=mycs.torecord(),\n",
    "                shape=ia.shape(), overwrite=true)\n",
    "mycs.done()\n",
    "im3.done()\n",
    "ia.close()\n",
    "#\n",
    "''"
   ]
  }
 ],
 "metadata": {
  "kernelspec": {
   "display_name": "Python 3",
   "language": "python",
   "name": "python3"
  },
  "language_info": {
   "codemirror_mode": {
    "name": "ipython",
    "version": 3
   },
   "file_extension": ".py",
   "mimetype": "text/x-python",
   "name": "python",
   "nbconvert_exporter": "python",
   "pygments_lexer": "ipython3",
   "version": "3.6.9"
  }
 },
 "nbformat": 4,
 "nbformat_minor": 4
}
