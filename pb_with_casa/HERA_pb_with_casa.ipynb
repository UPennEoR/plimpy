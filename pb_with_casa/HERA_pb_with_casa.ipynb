{
 "cells": [
  {
   "cell_type": "code",
   "execution_count": 9,
   "metadata": {},
   "outputs": [],
   "source": [
    "import numpy as np\n",
    "from astropy.io import fits"
   ]
  },
  {
   "cell_type": "markdown",
   "metadata": {},
   "source": [
    "# Step 1:\n",
    "* save ejones matrix as real and imaginary numpy arrays\n",
    "\n",
    "# Step 2:\n",
    "* make into a complex image\n",
    " - To do this, save both np"
   ]
  },
  {
   "cell_type": "code",
   "execution_count": 17,
   "metadata": {},
   "outputs": [],
   "source": [
    "def arr_2_fits(arr):\n",
    "    \"\"\"This function will take a numpy array, save it as a fits file with header information\n",
    "       and save it as a casa image\"\"\"\n",
    "    \n",
    "    path = '/lustre/aoc/projects/hera/jaguirre/PolarizedMosaics/2458098_sliced/zen.010601_011009.calibrated.HH.dirty.psf.fits'\n",
    "    #open arbituary fitsfile to get header information\n",
    "    data, header = fits.getdata(path, header=True)\n",
    "    \n",
    "    #Creates two fitsfiles with the data and header\n",
    "    real_hdu = fits.PrimaryHDU((arr.real.T),header=header)\n",
    "    imag_hdu = fits.PrimaryHDU((arr.imag.T),header=header)\n",
    "    \n",
    "    #Change header information so it's casa appropiate\n",
    "    \n",
    "    #for real\n",
    "    real_hdu.header['CTYPE4']  = 'FREQ    '                                                            \n",
    "    real_hdu.header['CRVAL4']  =   1.498214001419E+08                                                  \n",
    "    real_hdu.header['CDELT4']  =   8.018472876433E+07                                                  \n",
    "    real_hdu.header['CRPIX4']  =   1.000000000000E+00                                                  \n",
    "    real_hdu.header['CUNIT4']  = 'Hz      '                                                            \n",
    "    real_hdu.header['CTYPE3']  = 'STOKES  '                                                            \n",
    "    real_hdu.header['CRVAL3']  =   1.000000000000E+00                                                  \n",
    "    real_hdu.header['CDELT3']  =   1.000000000000E+00                                                  \n",
    "    real_hdu.header['CRPIX3']  =   1.000000000000E+00                                                  \n",
    "    real_hdu.header['CUNIT3']  = '        '          \n",
    "    real_hdu.header['RADESYS'] = 'ICRS    '                                                            \n",
    "    real_hdu.header['CTYPE1']  = 'GLON-TAN'\n",
    "    real_hdu.header['CTYPE2']  = 'GLAT-TAN'\n",
    "\n",
    "    #for imaginary\n",
    "    imag_hdu.header['CTYPE4']  = 'FREQ    '                                                            \n",
    "    imag_hdu.header['CRVAL4']  =   1.498214001419E+08                                                  \n",
    "    imag_hdu.header['CDELT4']  =   8.018472876433E+07                                                  \n",
    "    imag_hdu.header['CRPIX4']  =   1.000000000000E+00                                                  \n",
    "    imag_hdu.header['CUNIT4']  = 'Hz      '                                                            \n",
    "    imag_hdu.header['CTYPE3']  = 'STOKES  '                                                            \n",
    "    imag_hdu.header['CRVAL3']  =   1.000000000000E+00                                                  \n",
    "    imag_hdu.header['CDELT3']  =   1.000000000000E+00                                                  \n",
    "    imag_hdu.header['CRPIX3']  =   1.000000000000E+00                                                  \n",
    "    imag_hdu.header['CUNIT3']  = '        '  \n",
    "    imag_hdu.header['RADESYS'] = 'GALACTIC    '                                                            \n",
    "    imag_hdu.header['CTYPE2']  = 'GLAT-TAN'\n",
    "    imag_hdu.header['CTYPE1']  = 'GLON-TAN'\n",
    "    \n",
    "    real = 'real_ejones.fits'\n",
    "    imag = 'imag_ejones.fits'\n",
    "    real_hdu.writeto(real,overwrite=True)\n",
    "    imag_hdu.writeto(imag,overwrite=True)\n",
    "\n",
    "    return real, imag"
   ]
  },
  {
   "cell_type": "markdown",
   "metadata": {},
   "source": [
    "# Step 3: Make two fits images into casa images using importfits, and then use ia.makecomplex(after opening the REAL casa image with ia.open()"
   ]
  },
  {
   "cell_type": "code",
   "execution_count": 20,
   "metadata": {},
   "outputs": [],
   "source": [
    "def making_complex(real,imag):\n",
    "    \"\"\"Takes ejones real and imaginary fits files and combines them to make a complex casa image\"\"\"\n",
    "    \n",
    "    #Create two fits files into casa images\n",
    "    importfits(fitsimage=real,imagename=real + 'im')\n",
    "    importfits(fitsimage=imag,imagename=imag + 'im')\n",
    "    \n",
    "    #Open the real casa image with casa image analysis, and call ia.makecomplex\n",
    "    ia.open(real)\n",
    "    ia.makecomplex('complex.im',imag,overwrite=True)\n",
    "    compleximage = 'complex.im'\n",
    "    return  compleximage"
   ]
  },
  {
   "cell_type": "markdown",
   "metadata": {},
   "source": [
    "# Step 4: Change the coordinate system of the complex image to AZELGEO using casa me tool"
   ]
  },
  {
   "cell_type": "code",
   "execution_count": 28,
   "metadata": {
    "collapsed": true
   },
   "outputs": [
    {
     "ename": "NameError",
     "evalue": "name 'me' is not defined",
     "output_type": "error",
     "traceback": [
      "\u001b[0;31m---------------------------------------------------------------------------\u001b[0m",
      "\u001b[0;31mNameError\u001b[0m                                 Traceback (most recent call last)",
      "\u001b[0;32m<ipython-input-28-e1f08db565a0>\u001b[0m in \u001b[0;36m<module>\u001b[0;34m\u001b[0m\n\u001b[1;32m     15\u001b[0m \u001b[0mra0\u001b[0m\u001b[0;34m,\u001b[0m\u001b[0mdec0\u001b[0m \u001b[0;34m=\u001b[0m \u001b[0mdata\u001b[0m\u001b[0;34m[\u001b[0m\u001b[0;36m0\u001b[0m\u001b[0;34m]\u001b[0m\u001b[0;34m,\u001b[0m\u001b[0mdata\u001b[0m\u001b[0;34m[\u001b[0m\u001b[0;36m1\u001b[0m\u001b[0;34m]\u001b[0m\u001b[0;34m\u001b[0m\u001b[0;34m\u001b[0m\u001b[0m\n\u001b[1;32m     16\u001b[0m \u001b[0mms\u001b[0m \u001b[0;34m=\u001b[0m \u001b[0;34m'/lustre/aoc/projects/hera/gtucker/repositories/team_polarization/zen.2458116.24482.xx.HH.uvOCR.ms/'\u001b[0m\u001b[0;34m\u001b[0m\u001b[0;34m\u001b[0m\u001b[0m\n\u001b[0;32m---> 17\u001b[0;31m \u001b[0msetAZELGEO\u001b[0m\u001b[0;34m(\u001b[0m\u001b[0mra0\u001b[0m\u001b[0;34m,\u001b[0m\u001b[0mdec0\u001b[0m\u001b[0;34m,\u001b[0m\u001b[0mms\u001b[0m\u001b[0;34m)\u001b[0m\u001b[0;34m\u001b[0m\u001b[0;34m\u001b[0m\u001b[0m\n\u001b[0m",
      "\u001b[0;32m<ipython-input-28-e1f08db565a0>\u001b[0m in \u001b[0;36msetAZELGEO\u001b[0;34m(lat, long, ms, nx, ny)\u001b[0m\n\u001b[1;32m      2\u001b[0m     \u001b[0;34m\"\"\"Change the coordinate system into AZELGEO for use with vp.setpbimage and save in a .pb casa image\"\"\"\u001b[0m\u001b[0;34m\u001b[0m\u001b[0;34m\u001b[0m\u001b[0m\n\u001b[1;32m      3\u001b[0m     \u001b[0;31m#set the phase center change to AZELGEO\u001b[0m\u001b[0;34m\u001b[0m\u001b[0;34m\u001b[0m\u001b[0;34m\u001b[0m\u001b[0m\n\u001b[0;32m----> 4\u001b[0;31m     \u001b[0mphcen\u001b[0m \u001b[0;34m=\u001b[0m \u001b[0mme\u001b[0m\u001b[0;34m.\u001b[0m\u001b[0mmeasure\u001b[0m\u001b[0;34m(\u001b[0m\u001b[0mme\u001b[0m\u001b[0;34m.\u001b[0m\u001b[0mdirection\u001b[0m\u001b[0;34m(\u001b[0m\u001b[0;34m'AZELGEO'\u001b[0m\u001b[0;34m,\u001b[0m\u001b[0mlat\u001b[0m\u001b[0;34m,\u001b[0m\u001b[0mlong\u001b[0m\u001b[0;34m)\u001b[0m\u001b[0;34m,\u001b[0m\u001b[0;34m'AZELGEO'\u001b[0m\u001b[0;34m)\u001b[0m\u001b[0;34m\u001b[0m\u001b[0;34m\u001b[0m\u001b[0m\n\u001b[0m\u001b[1;32m      5\u001b[0m \u001b[0;34m\u001b[0m\u001b[0m\n\u001b[1;32m      6\u001b[0m \u001b[0;34m\u001b[0m\u001b[0m\n",
      "\u001b[0;31mNameError\u001b[0m: name 'me' is not defined"
     ]
    }
   ],
   "source": [
    "def setAZELGEO(lat,lon,ms,nx=512,ny=512):\n",
    "    \"\"\"Change the coordinate system into AZELGEO for use with vp.setpbimage and save in a .pb casa image\"\"\"\n",
    "    \n",
    "    \n",
    "    a = me.epoch('utc','2017-12-10T18:21:48.369567')\n",
    "    me.doframe(a) #set time in frame\n",
    "    me.measure(a,'galactic')\n",
    "    me.doframe(me.observatory('HERA')) #set position in frame\n",
    "    b = me.direction('j2000',lat,lon)\n",
    "    me.measure(b, 'azelgeo') # convert to AZEL\n",
    "    #open measurement set\n",
    "    im.open(ms)\n",
    "    #set the phase center change to AZELGEO\n",
    "    phcen = me.measure(me.direction('AZELGEO',lat,lon),'AZELGEO')\n",
    "    \n",
    "    \n",
    "    im.defineimage(nx=nx,ny=ny,phasecenter=phcen,stokes='IQUV')            \n",
    "    \n",
    "    im.setvp(dovp=True)\n",
    "    im.makeimage(type='pb', image='herapb.pb')\n",
    "    im2 = ia.regrid(outfile='myimage', csys=cs.torecord(),\n",
    "                       overwrite=true)  # Regrid and make new image\n",
    "\n",
    "    return "
   ]
  },
  {
   "cell_type": "markdown",
   "metadata": {},
   "source": [
    "# Putting it all together"
   ]
  },
  {
   "cell_type": "code",
   "execution_count": 4,
   "metadata": {},
   "outputs": [
    {
     "ename": "NameError",
     "evalue": "name 'np' is not defined",
     "output_type": "error",
     "traceback": [
      "\u001b[0;31m---------------------------------------------------------------------------\u001b[0m",
      "\u001b[0;31mNameError\u001b[0m                                 Traceback (most recent call last)",
      "\u001b[0;32m<ipython-input-4-c9d1c103653d>\u001b[0m in \u001b[0;36m<module>\u001b[0;34m\u001b[0m\n\u001b[0;32m----> 1\u001b[0;31m \u001b[0mejones\u001b[0m \u001b[0;34m=\u001b[0m \u001b[0mnp\u001b[0m\u001b[0;34m.\u001b[0m\u001b[0mload\u001b[0m\u001b[0;34m(\u001b[0m\u001b[0;34m'complexjones.npy'\u001b[0m\u001b[0;34m)\u001b[0m \u001b[0;31m#load data\u001b[0m\u001b[0;34m\u001b[0m\u001b[0;34m\u001b[0m\u001b[0m\n\u001b[0m\u001b[1;32m      2\u001b[0m \u001b[0mreal\u001b[0m\u001b[0;34m,\u001b[0m \u001b[0mimag\u001b[0m \u001b[0;34m=\u001b[0m \u001b[0marr_2_fits\u001b[0m\u001b[0;34m(\u001b[0m\u001b[0mejones\u001b[0m\u001b[0;34m)\u001b[0m \u001b[0;31m#cconvert arrays into fits\u001b[0m\u001b[0;34m\u001b[0m\u001b[0;34m\u001b[0m\u001b[0m\n\u001b[1;32m      3\u001b[0m \u001b[0mcompleximage\u001b[0m \u001b[0;34m=\u001b[0m \u001b[0mmaking_complex\u001b[0m\u001b[0;34m(\u001b[0m\u001b[0mreal\u001b[0m\u001b[0;34m,\u001b[0m\u001b[0mimag\u001b[0m\u001b[0;34m)\u001b[0m \u001b[0;31m#make the complex image\u001b[0m\u001b[0;34m\u001b[0m\u001b[0;34m\u001b[0m\u001b[0m\n\u001b[1;32m      4\u001b[0m \u001b[0;34m\u001b[0m\u001b[0m\n\u001b[1;32m      5\u001b[0m \u001b[0;34m\u001b[0m\u001b[0m\n",
      "\u001b[0;31mNameError\u001b[0m: name 'np' is not defined"
     ]
    }
   ],
   "source": [
    "ejones = np.load('complexjones.npy') #load data\n",
    "real, imag = arr_2_fits(ejones) #cconvert arrays into fits\n",
    "compleximage = making_complex(real,imag) #make the complex image\n",
    "\n",
    "\n",
    "data = np.genfromtxt('/lustre/aoc/projects/hera/gtucker/notebooks/cords.txt') #for phase center\n",
    "ra0,dec0 = data[0],data[1]\n",
    "ms = '/lustre/aoc/projects/hera/gtucker/repositories/team_polarization/zen.2458116.24482.xx.HH.uvOCR.ms/'\n",
    "setAZELGEO(ra0,dec0,ms)"
   ]
  },
  {
   "cell_type": "code",
   "execution_count": 7,
   "metadata": {},
   "outputs": [
    {
     "data": {
      "text/plain": [
       "(26.74927740904, -30.81088900704)"
      ]
     },
     "execution_count": 7,
     "metadata": {},
     "output_type": "execute_result"
    }
   ],
   "source": [
    "import numpy as np\n",
    "data = np.genfromtxt('/lustre/aoc/projects/hera/gtucker/notebooks/cords.txt') #for phase center\n",
    "ra0,dec0 = data[0],data[1]\n",
    "ra0,dec0"
   ]
  },
  {
   "cell_type": "code",
   "execution_count": 2,
   "metadata": {},
   "outputs": [],
   "source": [
    "def AZELGEO_convert(ra,dec):\n",
    "    a = me.epoch('utc','2017-12-10T18:21:48.369567')\n",
    "    me.doframe(a) #set time in frame\n",
    "    me.doframe(me.observatory('HERA')) #set position in frame\n",
    "    b = me.direction('AZELGEO',ra,dec)\n",
    "    me.measure(b, ’azel’) # convert to AZEL\n",
    "    return"
   ]
  },
  {
   "cell_type": "code",
   "execution_count": null,
   "metadata": {},
   "outputs": [],
   "source": [
    "print \"\\t----\\t measure Ex 1 \\t----\"  \n",
    "a = me.epoch(’utc’,’today’)          # a time  \n",
    "print a  \n",
    "#{’m0’: {’value’: 54054.872957673608, ’unit’: ’d’},  \n",
    "# ’refer’: ’UTC’,  \n",
    "# ’type’: ’epoch’}  \n",
    "print me.doframe(me.source(’1934-638’))  \n",
    "print me.measure(a, ’tai’) # convert to IAT  \n",
    "#{’m0’: {’value’: 54054.873339618054, ’unit’: ’d’},  \n",
    "# ’refer’: ’TAI’,  \n",
    "# ’type’: ’epoch’}  \n",
    "print me.doframe(a) # set time in frame  \n",
    "#True  \n",
    "print me.doframe(me.observatory(’ALMA’)) # set position in frame  \n",
    "#True  \n",
    "b=me.direction(’j2000’, qa.toangle(’0h’), ’-30deg’)  # a direction  \n",
    "print b  \n",
    "#{’m0’: {’value’: 0.0, ’unit’: ’rad’},  \n",
    "# ’m1’: {’value’: -0.52359877559829882, ’unit’: ’rad’},  \n",
    "# ’refer’: ’J2000’,  \n",
    "# ’type’: ’direction’}  \n",
    "print me.measure(b, ’azel’) # convert to AZEL  \n",
    "#{’m0’: {’value’: 1.9244096810822324, ’unit’: ’rad’},  \n",
    "# ’m1’: {’value’: 0.76465385681363052, ’unit’: ’rad’},  \n",
    "# ’refer’: ’AZEL’,  \n",
    "# ’type’: ’direction’}  \n",
    "print qa.angle(me.getvalue(me.measure(b,’azel’))[’m0’])     # show as angles  \n",
    "#[’+110.15.38’]  \n",
    "print qa.angle(me.getvalue(me.measure(b,’azel’))[’m1’])  \n",
    "#[’+043.48.41’]  "
   ]
  }
 ],
 "metadata": {
  "kernelspec": {
   "display_name": "hera",
   "language": "python",
   "name": "hera"
  },
  "language_info": {
   "codemirror_mode": {
    "name": "ipython",
    "version": 3
   },
   "file_extension": ".py",
   "mimetype": "text/x-python",
   "name": "python",
   "nbconvert_exporter": "python",
   "pygments_lexer": "ipython3",
   "version": "3.6.9"
  }
 },
 "nbformat": 4,
 "nbformat_minor": 4
}
