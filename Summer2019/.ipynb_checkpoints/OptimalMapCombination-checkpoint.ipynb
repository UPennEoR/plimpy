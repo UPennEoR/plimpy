{
 "cells": [
  {
   "cell_type": "code",
   "execution_count": 1,
   "metadata": {},
   "outputs": [],
   "source": [
    "import numpy as np\n",
    "import matplotlib.pyplot as plt"
   ]
  },
  {
   "cell_type": "code",
   "execution_count": 39,
   "metadata": {},
   "outputs": [],
   "source": [
    "# Let's assumed we have a stack of maps, each of 4 pseudo Stokes parameters, \n",
    "# and a corresponding stack of Mueller matrices\n",
    "# Number of pixels in the map; really 512 x 512\n",
    "nx = 16\n",
    "ny = 16\n",
    "# Number of fitsfiles (the number of individual file maps we have)\n",
    "nmaps = 10\n",
    "# The deconvolved maps from CASA (pseudo-Stokes)\n",
    "pStokes = np.ones([nx,ny,4,nmaps])\n",
    "# Mueller matrices at each pointing\n",
    "Mueller = np.ones([nx,ny,4,4,nmaps])\n",
    "# The final answer\n",
    "Stokes = np.ones([nx,ny,4,nmaps])"
   ]
  },
  {
   "cell_type": "code",
   "execution_count": null,
   "metadata": {},
   "outputs": [],
   "source": [
    "# We want to preserve the ability to do the Mueller inversion on just one map, too ..."
   ]
  },
  {
   "cell_type": "code",
   "execution_count": 11,
   "metadata": {},
   "outputs": [],
   "source": [
    "# There's probably a faster way, but the brute force approach is to construct the linear combination at every pixel\n",
    "inx = 0\n",
    "iny = 0\n",
    "ndata = 4*nmaps"
   ]
  },
  {
   "cell_type": "code",
   "execution_count": 21,
   "metadata": {},
   "outputs": [],
   "source": [
    "# Construct A and the data\n",
    "A = np.zeros([ndata,4])\n",
    "d = np.zeros([ndata])\n",
    "for imap in np.arange(nmaps):\n",
    "    indx = np.arange(imap*4, (imap+1)*4)\n",
    "    A[indx, :] = Mueller[inx, iny, :, :, imap]\n",
    "    d[indx] = pStokes[inx, iny, :, imap]"
   ]
  },
  {
   "cell_type": "code",
   "execution_count": 22,
   "metadata": {},
   "outputs": [],
   "source": [
    "# We will probably always assume W is diagonal; but there might be noise correlation between the pseudo-Stokes ... ? \n",
    "W = np.ones([ndata,ndata])"
   ]
  },
  {
   "cell_type": "code",
   "execution_count": 36,
   "metadata": {},
   "outputs": [],
   "source": [
    "# Check that everything is the right shape\n",
    "ATWd = np.matmul(A.T, np.matmul(W,d))\n",
    "Cov = np.matmul(A.T, np.matmul(W, A))\n",
    "# Need to think about computing the condition number and the inversion method here\n",
    "# Uncomment np.linalg.inv\n",
    "invCov = Cov # np.linalg.inv(Cov)"
   ]
  },
  {
   "cell_type": "code",
   "execution_count": 37,
   "metadata": {},
   "outputs": [],
   "source": [
    "bestfit = np.matmul(invCov, ATWd)"
   ]
  },
  {
   "cell_type": "code",
   "execution_count": 38,
   "metadata": {},
   "outputs": [
    {
     "data": {
      "text/plain": [
       "(4,)"
      ]
     },
     "execution_count": 38,
     "metadata": {},
     "output_type": "execute_result"
    }
   ],
   "source": [
    "Stokes[inx, iny, ]"
   ]
  },
  {
   "cell_type": "code",
   "execution_count": null,
   "metadata": {},
   "outputs": [],
   "source": []
  }
 ],
 "metadata": {
  "kernelspec": {
   "display_name": "Python 3",
   "language": "python",
   "name": "python3"
  },
  "language_info": {
   "codemirror_mode": {
    "name": "ipython",
    "version": 3
   },
   "file_extension": ".py",
   "mimetype": "text/x-python",
   "name": "python",
   "nbconvert_exporter": "python",
   "pygments_lexer": "ipython3",
   "version": "3.7.1"
  }
 },
 "nbformat": 4,
 "nbformat_minor": 2
}
