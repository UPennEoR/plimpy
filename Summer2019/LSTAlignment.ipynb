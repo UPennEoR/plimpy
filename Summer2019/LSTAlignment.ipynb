{
 "cells": [
  {
   "cell_type": "code",
   "execution_count": 10,
   "metadata": {},
   "outputs": [],
   "source": [
    "from astropy import units as u\n",
    "from astropy import constants as c\n",
    "import numpy as np\n",
    "import matplotlib.pyplot as plt"
   ]
  },
  {
   "cell_type": "code",
   "execution_count": 5,
   "metadata": {},
   "outputs": [
    {
     "name": "stdout",
     "output_type": "stream",
     "text": [
      "0.997269566319\n",
      "10.7668172088 s\n",
      "235.90947 s\n"
     ]
    }
   ],
   "source": [
    "dt = 10.737419128417969*u.s # sample rate in SI seconds\n",
    "sec_LST = (1*u.sday/(24.*3600.)).to(u.s).value\n",
    "ds = dt/sec_LST # length of each sample in sidereal seconds\n",
    "dT = (1*u.day - 1*u.sday).to(u.s)\n",
    "print(sec_LST)\n",
    "print(ds)\n",
    "print(dT)"
   ]
  },
  {
   "cell_type": "code",
   "execution_count": 23,
   "metadata": {},
   "outputs": [],
   "source": [
    "def MofN(N):\n",
    "    dchunk_sid = 86400./N\n",
    "    M = dchunk_sid / ds\n",
    "    return M, dchunk_sid"
   ]
  },
  {
   "cell_type": "code",
   "execution_count": 24,
   "metadata": {},
   "outputs": [],
   "source": [
    "Nvec = np.arange(300,750)\n",
    "Mvec, dchunk_sid_vec = MofN(Nvec)"
   ]
  },
  {
   "cell_type": "code",
   "execution_count": 28,
   "metadata": {},
   "outputs": [
    {
     "data": {
      "image/png": "[encoded data removed]",
      "text/plain": [
       "<Figure size 432x288 with 1 Axes>"
      ]
     },
     "metadata": {},
     "output_type": "display_data"
    },
    {
     "data": {
      "image/png": "[encoded data removed]",
      "text/plain": [
       "<Figure size 432x288 with 1 Axes>"
      ]
     },
     "metadata": {},
     "output_type": "display_data"
    }
   ],
   "source": [
    "plt.plot(dchunk_sid_vec,Mvec-np.round(Mvec),'.')\n",
    "plt.axhline(0,color='r',linestyle='--')\n",
    "plt.xlim([230,250])\n",
    "plt.show()\n",
    "plt.plot(Nvec,Mvec-np.round(Mvec),'.')\n",
    "plt.xlim([750,300])\n",
    "plt.show()"
   ]
  },
  {
   "cell_type": "code",
   "execution_count": 31,
   "metadata": {},
   "outputs": [
    {
     "data": {
      "text/plain": [
       "247.5644699140401"
      ]
     },
     "execution_count": 31,
     "metadata": {},
     "output_type": "execute_result"
    }
   ],
   "source": [
    "86400./349."
   ]
  },
  {
   "cell_type": "code",
   "execution_count": 30,
   "metadata": {},
   "outputs": [
    {
     "data": {
      "text/plain": [
       "(<Quantity 22.99328252 1 / s>, 247.5644699140401)"
      ]
     },
     "execution_count": 30,
     "metadata": {},
     "output_type": "execute_result"
    }
   ],
   "source": [
    "MofN(349)"
   ]
  },
  {
   "cell_type": "code",
   "execution_count": 3,
   "metadata": {},
   "outputs": [
    {
     "name": "stdout",
     "output_type": "stream",
     "text": [
      "125.1411355518898\n"
     ]
    }
   ],
   "source": [
    "fac = dT/ds\n",
    "print(fac)"
   ]
  },
  {
   "cell_type": "code",
   "execution_count": 4,
   "metadata": {},
   "outputs": [],
   "source": [
    "# How much, in time, will you be off, if you just pick the nearest LST sample in time?\n",
    "LST_err = (np.round(fac,0)-fac)*ds"
   ]
  },
  {
   "cell_type": "code",
   "execution_count": 5,
   "metadata": {},
   "outputs": [
    {
     "data": {
      "text/latex": [
       "$-0.2660613 \\; \\mathrm{s}$"
      ],
      "text/plain": [
       "<Quantity -0.2660613 s>"
      ]
     },
     "execution_count": 5,
     "metadata": {},
     "output_type": "execute_result"
    }
   ],
   "source": [
    "LST_err"
   ]
  },
  {
   "cell_type": "code",
   "execution_count": 6,
   "metadata": {},
   "outputs": [
    {
     "data": {
      "text/plain": [
       "45957"
      ]
     },
     "execution_count": 6,
     "metadata": {},
     "output_type": "execute_result"
    }
   ],
   "source": [
    "# Claim: it is always possible to find a time sample whose center differs from the given time sample by LST_err\n",
    "# Let's just try this\n",
    "nsamp_per_day_SI = int((1*u.day/dt).to(u.dimensionless_unscaled))\n",
    "nsamp_per_day_SI"
   ]
  },
  {
   "cell_type": "code",
   "execution_count": 7,
   "metadata": {},
   "outputs": [
    {
     "name": "stdout",
     "output_type": "stream",
     "text": [
      "0.0 s 1.0027063416855633 d\n",
      "0.9999902777777776 d\n"
     ]
    }
   ],
   "source": [
    "# OK, so we have a bunch of time samples, and we've relabeled them so they are evently stepped in sidereal time.  \n",
    "# Observing for 24 SI hours gives more than 1 sidereal day.  Great.\n",
    "LST1 = np.arange(nsamp_per_day_SI)*ds\n",
    "print(LST1.min(),LST1.to(u.day).max())\n",
    "print((nsamp_per_day_SI*dt).to(u.day))"
   ]
  },
  {
   "cell_type": "code",
   "execution_count": 8,
   "metadata": {},
   "outputs": [],
   "source": [
    "LST2 = dT+np.arange(nsamp_per_day_SI)*ds"
   ]
  },
  {
   "cell_type": "code",
   "execution_count": 9,
   "metadata": {},
   "outputs": [],
   "source": [
    "n = 1000 # pick an arbitrary sample\n",
    "m = int(n - fac)"
   ]
  },
  {
   "cell_type": "code",
   "execution_count": 10,
   "metadata": {},
   "outputs": [
    {
     "data": {
      "text/latex": [
       "$1885.1473 \\; \\mathrm{s}$"
      ],
      "text/plain": [
       "<Quantity 1885.1472696 s>"
      ]
     },
     "execution_count": 10,
     "metadata": {},
     "output_type": "execute_result"
    }
   ],
   "source": [
    "LST1[n]"
   ]
  },
  {
   "cell_type": "code",
   "execution_count": 11,
   "metadata": {},
   "outputs": [
    {
     "data": {
      "text/latex": [
       "$1883.5282 \\; \\mathrm{s}$"
      ],
      "text/plain": [
       "<Quantity 1883.52818363 s>"
      ]
     },
     "execution_count": 11,
     "metadata": {},
     "output_type": "execute_result"
    }
   ],
   "source": [
    "LST2[m]"
   ]
  },
  {
   "cell_type": "code",
   "execution_count": 12,
   "metadata": {},
   "outputs": [
    {
     "data": {
      "text/latex": [
       "$1.619086 \\; \\mathrm{s}$"
      ],
      "text/plain": [
       "<Quantity 1.61908597 s>"
      ]
     },
     "execution_count": 12,
     "metadata": {},
     "output_type": "execute_result"
    }
   ],
   "source": [
    "LST1[n]-LST2[m]"
   ]
  },
  {
   "cell_type": "code",
   "execution_count": 13,
   "metadata": {},
   "outputs": [
    {
     "data": {
      "text/latex": [
       "$1.619086 \\; \\mathrm{s}$"
      ],
      "text/plain": [
       "<Quantity 1.61908597 s>"
      ]
     },
     "execution_count": 13,
     "metadata": {},
     "output_type": "execute_result"
    }
   ],
   "source": [
    "LST1[n+12]-LST2[m+12]"
   ]
  },
  {
   "cell_type": "code",
   "execution_count": 14,
   "metadata": {},
   "outputs": [
    {
     "data": {
      "text/latex": [
       "$1.88 \\; \\mathrm{s}$"
      ],
      "text/plain": [
       "<Quantity 1.88 s>"
      ]
     },
     "execution_count": 14,
     "metadata": {},
     "output_type": "execute_result"
    }
   ],
   "source": [
    "dt"
   ]
  },
  {
   "cell_type": "code",
   "execution_count": 15,
   "metadata": {},
   "outputs": [
    {
     "data": {
      "text/latex": [
       "$1.8851473 \\; \\mathrm{s}$"
      ],
      "text/plain": [
       "<Quantity 1.88514727 s>"
      ]
     },
     "execution_count": 15,
     "metadata": {},
     "output_type": "execute_result"
    }
   ],
   "source": [
    "ds"
   ]
  },
  {
   "cell_type": "code",
   "execution_count": null,
   "metadata": {},
   "outputs": [],
   "source": []
  }
 ],
 "metadata": {
  "kernelspec": {
   "display_name": "Python 3",
   "language": "python",
   "name": "python3"
  },
  "language_info": {
   "codemirror_mode": {
    "name": "ipython",
    "version": 3
   },
   "file_extension": ".py",
   "mimetype": "text/x-python",
   "name": "python",
   "nbconvert_exporter": "python",
   "pygments_lexer": "ipython3",
   "version": "3.7.1"
  }
 },
 "nbformat": 4,
 "nbformat_minor": 2
}
