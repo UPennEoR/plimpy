{
 "cells": [
  {
   "cell_type": "code",
   "execution_count": 29,
   "metadata": {},
   "outputs": [
    {
     "name": "stdout",
     "output_type": "stream",
     "text": [
      "235\n"
     ]
    },
    {
     "data": {
      "text/plain": [
       "'clean(vis=vis, imagename=imagename, niter=100, weighting=\\'briggs\\', robust=0, imsize = [512,512], \\n    pbcor=False, cell=[\\'500 arcsec\\'], mode=\\'mfs\\', nterms =1, spw=\\'0:150~900\\', stokes=\\'IQUV\\', \\n    mask=\"masks.txt\", interactive=False, npercycle=5, threshold=\\'0.1mJy/beam\\')'"
      ]
     },
     "execution_count": 29,
     "metadata": {},
     "output_type": "execute_result"
    }
   ],
   "source": [
    "import numpy as np\n",
    "from astropy.io import fits\n",
    "\n",
    "def within_bounds(di, dra, dde, ra, de, max_angle, min_brightness):\n",
    "    cosa = np.sin(dde)*np.sin(de) + np.cos(dde)*np.cos(de)*np.cos(dra - ra)\n",
    "    return np.logical_and(cosa > np.cos(max_angle), di > min_brightness)\n",
    "\n",
    "vis #= \"zen.2458098.__.HH.calibrated.ms\"\n",
    "\n",
    "ra0 = np.deg2rad(3.627531751613)\n",
    "dec0 = np.deg2rad(-30.81722484612)\n",
    "\n",
    "#dec0, ra0 = np.deg2rad(np.array((hdul[2].header['CRVAL2'], hdul[2].header['CRVAL1'])))\n",
    "\n",
    "hdul = fits.open('asu.fit')\n",
    "\n",
    "data = hdul[2].data\n",
    "in_bounds = data[within_bounds(data['Fintwide'], np.deg2rad(data['RAJ2000']), np.deg2rad(data['DEJ2000']), ra0, dec0, np.deg2rad(12.), 1)]\n",
    "print(in_bounds.size)\n",
    "\n",
    "mask_file = open(\"masksrad12.txt\", \"w\")\n",
    "mask_file.write(\"#CRTF\\n\")\n",
    "mask_file.writelines([\"circle[[\" + str(x[0]) + \"deg, \" + str(x[1]) + \"deg], 0.5deg]\\n\" for x in in_bounds])\n",
    "mask_file.close()\n",
    "\n",
    "\n",
    "\"\"\"clean(vis=vis, imagename=imagename, niter=100, weighting='briggs', robust=0, imsize = [512,512], \n",
    "    pbcor=False, cell=['500 arcsec'], mode='mfs', nterms =1, spw='0:150~900', stokes='IQUV', \n",
    "    mask=\"masks.txt\", interactive=False, npercycle=5, threshold='0.1mJy/beam')\"\"\"\n",
    "\n"
   ]
  },
  {
   "cell_type": "code",
   "execution_count": 21,
   "metadata": {},
   "outputs": [
    {
     "name": "stdout",
     "output_type": "stream",
     "text": [
      "150\n"
     ]
    }
   ],
   "source": [
    "import numpy as np\n",
    "from astropy.io import fits\n",
    "from glob import glob\n",
    "\n",
    "def within_bounds(di, dra, dde, ra, de, max_angle, min_brightness):\n",
    "    cosa = np.sin(dde)*np.sin(de) + np.cos(dde)*np.cos(de)*np.cos(dra - ra)\n",
    "    return np.logical_and(cosa > np.cos(max_angle), di > min_brightness)\n",
    "\n",
    "path = \"\"\n",
    "\n",
    "#files = glob(path+'zen.*.HH.calibrated.uvh5_image/*image.image.fits')\n",
    "images = [x[:-22] for x in glob(path+'zen.*.HH.calibrated.uvh5.image.image.fits')]\n",
    "\n",
    "for im in images:\n",
    "    hdul = fits.open(im+\".uvh5.image.image.fits\")\n",
    "\n",
    "    data_hdul = fits.open('asu.fit')\n",
    "\n",
    "    dec0, ra0 = np.deg2rad(np.array((hdul[0].header['CRVAL2'], hdul[0].header['CRVAL1'])))\n",
    "\n",
    "    data = data_hdul[2].data\n",
    "    in_bounds = data[within_bounds(data['Fintwide'], np.deg2rad(data['RAJ2000']), np.deg2rad(data['DEJ2000']), ra0, dec0, np.deg2rad(10.), 1)]\n",
    "    print(in_bounds.size)\n",
    "\n",
    "    mask_file = open(\"script_masks.txt\", \"w\")\n",
    "    mask_file.write(\"#CRTF\\n\")\n",
    "    mask_file.writelines([\"circle[[\" + str(x[0]) + \"deg, \" + str(x[1]) + \"deg], 0.5deg]\\n\" for x in in_bounds])\n",
    "    mask_file.close()"
   ]
  },
  {
   "cell_type": "code",
   "execution_count": 11,
   "metadata": {},
   "outputs": [
    {
     "name": "stdout",
     "output_type": "stream",
     "text": [
      "-0.5378620398921968\n",
      "0.06331237278628397\n"
     ]
    }
   ],
   "source": [
    "print(dec0)\n",
    "print(ra0)"
   ]
  },
  {
   "cell_type": "code",
   "execution_count": 12,
   "metadata": {},
   "outputs": [
    {
     "name": "stdout",
     "output_type": "stream",
     "text": [
      "-30.81722484612\n",
      "3.627531751613\n"
     ]
    }
   ],
   "source": [
    "print(np.rad2deg(dec0))\n",
    "print(np.rad2deg(ra0))"
   ]
  },
  {
   "cell_type": "code",
   "execution_count": 24,
   "metadata": {},
   "outputs": [
    {
     "data": {
      "text/plain": [
       "['/dev',\n",
       " '/sbin',\n",
       " '/initrd.img.old',\n",
       " '/lib',\n",
       " '/tmp',\n",
       " '/run',\n",
       " '/opt',\n",
       " '/vmlinuz.old',\n",
       " '/root',\n",
       " '/media',\n",
       " '/etc',\n",
       " '/srv',\n",
       " '/bin',\n",
       " '/proc',\n",
       " '/boot',\n",
       " '/lost+found',\n",
       " '/usr',\n",
       " '/home',\n",
       " '/vmlinuz',\n",
       " '/initrd.img',\n",
       " '/mnt',\n",
       " '/snap',\n",
       " '/swapfile',\n",
       " '/var',\n",
       " '/lib64',\n",
       " '/cdrom',\n",
       " '/sys']"
      ]
     },
     "execution_count": 24,
     "metadata": {},
     "output_type": "execute_result"
    }
   ],
   "source": []
  },
  {
   "cell_type": "code",
   "execution_count": null,
   "metadata": {},
   "outputs": [],
   "source": []
  }
 ],
 "metadata": {
  "kernelspec": {
   "display_name": "Python 3",
   "language": "python",
   "name": "python3"
  },
  "language_info": {
   "codemirror_mode": {
    "name": "ipython",
    "version": 3
   },
   "file_extension": ".py",
   "mimetype": "text/x-python",
   "name": "python",
   "nbconvert_exporter": "python",
   "pygments_lexer": "ipython3",
   "version": "3.7.3"
  }
 },
 "nbformat": 4,
 "nbformat_minor": 2
}
