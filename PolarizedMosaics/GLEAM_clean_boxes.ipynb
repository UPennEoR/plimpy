{
 "cells": [
  {
   "cell_type": "code",
   "execution_count": 37,
   "metadata": {},
   "outputs": [
    {
     "data": {
      "text/plain": [
       "'clean(vis=vis, imagename=imagename, niter=100, weighting=\\'briggs\\', robust=0, imsize = [512,512], \\n    pbcor=False, cell=[\\'500 arcsec\\'], mode=\\'mfs\\', nterms =1, spw=\\'0:150~900\\', stokes=\\'IQUV\\', \\n    mask=\"masks.txt\", interactive=False, npercycle=5, threshold=\\'0.1mJy/beam\\')'"
      ]
     },
     "execution_count": 37,
     "metadata": {},
     "output_type": "execute_result"
    }
   ],
   "source": [
    "import numpy as np\n",
    "from astropy.io import fits\n",
    "\n",
    "def within_bounds(di, dra, dde, ra, de, a):\n",
    "    temp = np.sin(dde)*np.sin(de) + np.cos(dde)*np.cos(de)*np.cos(dra - ra) > np.cos(a)\n",
    "    return np.logical_and(temp, di < np.percentile(di[temp], 0.99))\n",
    "    \n",
    "vis = \"zen.2458098.12552.HH.calibrated.ms\"\n",
    "\n",
    "ra0 = np.deg2rad(325.911193)\n",
    "dec0 = np.deg2rad(-30.802066)\n",
    "\n",
    "#dec0, ra0 = np.deg2rad(np.array((hdul[2].header['CRVAL2'], hdul[2].header['CRVAL1'])))\n",
    "\n",
    "hdul = fits.open('asu.fit')\n",
    "\n",
    "data = hdul[2].data\n",
    "in_bounds = data[within_bounds(data['Fintwide'], np.deg2rad(data['RAJ2000']), np.deg2rad(data['DEJ2000']), ra0, dec0, np.deg2rad(20.))]\n",
    "\n",
    "mask_file = open(\"masks.txt\", \"w\")\n",
    "mask_file.write(\"#CRTF\\n\")\n",
    "mask_file.writelines([\"circle[[\" + str(x[0]) + \"deg, \" + str(x[1]) + \"deg], 1deg]\\n\" for x in in_bounds])\n",
    "mask_file.close()\n",
    "\n",
    "\n",
    "#imagename = ___\n",
    "\n",
    "\"\"\"clean(vis=vis, imagename=imagename, niter=100, weighting='briggs', robust=0, imsize = [512,512], \n",
    "    pbcor=False, cell=['500 arcsec'], mode='mfs', nterms =1, spw='0:150~900', stokes='IQUV', \n",
    "    mask=\"masks.txt\", interactive=False, npercycle=5, threshold='0.1mJy/beam')\"\"\"\n",
    "\n"
   ]
  },
  {
   "cell_type": "code",
   "execution_count": null,
   "metadata": {},
   "outputs": [],
   "source": []
  }
 ],
 "metadata": {
  "kernelspec": {
   "display_name": "Python 3",
   "language": "python",
   "name": "python3"
  },
  "language_info": {
   "codemirror_mode": {
    "name": "ipython",
    "version": 3
   },
   "file_extension": ".py",
   "mimetype": "text/x-python",
   "name": "python",
   "nbconvert_exporter": "python",
   "pygments_lexer": "ipython3",
   "version": "3.7.3"
  }
 },
 "nbformat": 4,
 "nbformat_minor": 2
}
