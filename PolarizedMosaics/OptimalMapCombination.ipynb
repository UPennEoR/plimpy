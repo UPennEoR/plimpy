{
 "cells": [
  {
   "cell_type": "code",
   "execution_count": 1,
   "metadata": {},
   "outputs": [],
   "source": [
    "import numpy as np\n",
    "import matplotlib.pyplot as plt\n",
    "from glob import glob\n",
    "from astropy.io import fits"
   ]
  },
  {
   "cell_type": "code",
   "execution_count": 2,
   "metadata": {},
   "outputs": [],
   "source": [
    "#Needed Data\n",
    "path = '/lustre/aoc/projects/hera/H1C_IDR2/IDR2_2/2458098'\n",
    "nights = sorted(glob('/lustre/aoc/projects/hera/H1C_IDR2/IDR2_2/2*')) \n",
    "fitsfiles = sorted(glob(nights[0] + '/*/*image.image.fits'))\n",
    "muellermodel = '/lustre/aoc/projects/hera/gtucker/notebooks/muellerbeam.fits'\n",
    "#muellermodels = sorted(glob('simfits/*'))"
   ]
  },
  {
   "cell_type": "code",
   "execution_count": 3,
   "metadata": {},
   "outputs": [],
   "source": [
    "# Let's assumed we have a stack of maps, each of 4 pseudo Stokes parameters, \n",
    "# and a corresponding stack of Mueller matrices\n",
    "#nmaps =  number of different times for which we made a map... ie time integrations(LST)\n",
    "nx = 512\n",
    "ny = 512\n",
    "nmaps = len(fitsfiles)\n",
    "pStokes = np.ones([nx,ny,4,nmaps])\n",
    "Mueller = np.ones([nx,ny,4,4,nmaps])\n",
    "Stokes = np.ones([nx,ny,4,nmaps])"
   ]
  },
  {
   "cell_type": "code",
   "execution_count": 4,
   "metadata": {
    "scrolled": true
   },
   "outputs": [],
   "source": [
    "# We will create the Mueller area by using the mueller sim, and using np.broadcast to\n",
    "#'repeat' the array nmap times\n",
    "hdu = fits.open(muellermodel)\n",
    "data = hdu[0].data\n",
    "#This gets rid of the frequency axis since we don't need it for now\n",
    "new_data = np.squeeze(data,axis=2).T\n",
    "#Repeats the (512,512,4,4) nmaps time... ie adds 5th dimension of Mueller array\n",
    "Mueller= np.broadcast_to(new_data[...,None],(nx,ny,4,4,nmaps))"
   ]
  },
  {
   "cell_type": "code",
   "execution_count": 5,
   "metadata": {},
   "outputs": [],
   "source": [
    "#Create pStokes\n",
    "dirty_images = np.ones((nmaps,4,nx,ny)) #array holding all images for one night\n",
    "i = 0 #needed to loop over every image in night\n",
    "for file in fitsfiles:\n",
    "    hdu = fits.open(file)\n",
    "    #Copies over I,Q,U,V stokes to dirty_images \n",
    "    dirty_images[i][0] = hdu[0].data[0]\n",
    "    dirty_images[i][1] = hdu[0].data[1]\n",
    "    dirty_images[i][2] = hdu[0].data[2]\n",
    "    dirty_images[i][3] = hdu[0].data[3]\n",
    "    i += 1\n",
    "pStokes = dirty_images.T"
   ]
  },
  {
   "cell_type": "code",
   "execution_count": 6,
   "metadata": {},
   "outputs": [
    {
     "name": "stdout",
     "output_type": "stream",
     "text": [
      "(512, 512, 4, 4, 56)\n",
      "(512, 512, 4, 56)\n",
      "(512, 512, 4, 56)\n"
     ]
    }
   ],
   "source": [
    "print(Mueller.shape)\n",
    "print(Stokes.shape) #at this point, still full of 1's\n",
    "print(pStokes.shape)"
   ]
  },
  {
   "cell_type": "code",
   "execution_count": 7,
   "metadata": {},
   "outputs": [],
   "source": [
    "# We want to preserve the ability to do the Mueller inversion on just one map, too ..."
   ]
  },
  {
   "cell_type": "code",
   "execution_count": 8,
   "metadata": {},
   "outputs": [],
   "source": [
    "# There's probably a faster way, but the brute force approach is to construct the linear combination at every pixel\n",
    "inx = 0\n",
    "iny = 0\n",
    "ndata = 4*nmaps"
   ]
  },
  {
   "cell_type": "code",
   "execution_count": 9,
   "metadata": {},
   "outputs": [],
   "source": [
    "# Construct A and the data\n",
    "A = np.zeros([ndata,4])\n",
    "d = np.zeros([ndata])\n",
    "for imap in np.arange(nmaps):\n",
    "    indx = np.arange(imap*4, (imap+1)*4)\n",
    "    A[indx, :] = Mueller[inx, iny, :, :, imap]\n",
    "    d[indx] = pStokes[inx, iny, :, imap]"
   ]
  },
  {
   "cell_type": "code",
   "execution_count": 10,
   "metadata": {},
   "outputs": [
    {
     "name": "stdout",
     "output_type": "stream",
     "text": [
      "(224, 4)\n",
      "(224,)\n"
     ]
    }
   ],
   "source": [
    "print(A.shape) #this is the 4x4 mueller beam at each pixel\n",
    "print(d.shape) #this is the data at each pixel"
   ]
  },
  {
   "cell_type": "code",
   "execution_count": 11,
   "metadata": {},
   "outputs": [],
   "source": [
    "# We will probably always assume W is diagonal; but there might be noise correlation between the pseudo-Stokes ... ? \n",
    "W = np.ones([ndata,ndata])"
   ]
  },
  {
   "cell_type": "code",
   "execution_count": 12,
   "metadata": {},
   "outputs": [],
   "source": [
    "# Check that everything is the right shape\n",
    "ATWd = np.matmul(A.T, np.matmul(W,d))\n",
    "Cov = np.matmul(A.T, np.matmul(W, A))\n",
    "# Need to think about computing the condition number and the inversion method here\n",
    "invCov = Cov # np.linalg.inv(Cov)"
   ]
  },
  {
   "cell_type": "code",
   "execution_count": 13,
   "metadata": {},
   "outputs": [
    {
     "name": "stdout",
     "output_type": "stream",
     "text": [
      "[ 3.00932042e-05  2.23423563e-05 -2.11862012e-05  4.00391127e-05]\n"
     ]
    }
   ],
   "source": [
    "bestfit = np.matmul(invCov, ATWd)\n",
    "print(bestfit)"
   ]
  },
  {
   "cell_type": "code",
   "execution_count": 14,
   "metadata": {
    "scrolled": true
   },
   "outputs": [
    {
     "data": {
      "text/plain": [
       "array([[1., 1., 1., 1., 1., 1., 1., 1., 1., 1., 1., 1., 1., 1., 1., 1.,\n",
       "        1., 1., 1., 1., 1., 1., 1., 1., 1., 1., 1., 1., 1., 1., 1., 1.,\n",
       "        1., 1., 1., 1., 1., 1., 1., 1., 1., 1., 1., 1., 1., 1., 1., 1.,\n",
       "        1., 1., 1., 1., 1., 1., 1., 1.],\n",
       "       [1., 1., 1., 1., 1., 1., 1., 1., 1., 1., 1., 1., 1., 1., 1., 1.,\n",
       "        1., 1., 1., 1., 1., 1., 1., 1., 1., 1., 1., 1., 1., 1., 1., 1.,\n",
       "        1., 1., 1., 1., 1., 1., 1., 1., 1., 1., 1., 1., 1., 1., 1., 1.,\n",
       "        1., 1., 1., 1., 1., 1., 1., 1.],\n",
       "       [1., 1., 1., 1., 1., 1., 1., 1., 1., 1., 1., 1., 1., 1., 1., 1.,\n",
       "        1., 1., 1., 1., 1., 1., 1., 1., 1., 1., 1., 1., 1., 1., 1., 1.,\n",
       "        1., 1., 1., 1., 1., 1., 1., 1., 1., 1., 1., 1., 1., 1., 1., 1.,\n",
       "        1., 1., 1., 1., 1., 1., 1., 1.],\n",
       "       [1., 1., 1., 1., 1., 1., 1., 1., 1., 1., 1., 1., 1., 1., 1., 1.,\n",
       "        1., 1., 1., 1., 1., 1., 1., 1., 1., 1., 1., 1., 1., 1., 1., 1.,\n",
       "        1., 1., 1., 1., 1., 1., 1., 1., 1., 1., 1., 1., 1., 1., 1., 1.,\n",
       "        1., 1., 1., 1., 1., 1., 1., 1.]])"
      ]
     },
     "execution_count": 14,
     "metadata": {},
     "output_type": "execute_result"
    }
   ],
   "source": [
    "Stokes[inx, iny, ]"
   ]
  }
 ],
 "metadata": {
  "kernelspec": {
   "display_name": "Python 3",
   "language": "python",
   "name": "python3"
  },
  "language_info": {
   "codemirror_mode": {
    "name": "ipython",
    "version": 3
   },
   "file_extension": ".py",
   "mimetype": "text/x-python",
   "name": "python",
   "nbconvert_exporter": "python",
   "pygments_lexer": "ipython3",
   "version": "3.6.8"
  }
 },
 "nbformat": 4,
 "nbformat_minor": 2
}
