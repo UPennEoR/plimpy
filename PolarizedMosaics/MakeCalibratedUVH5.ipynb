{
 "cells": [
  {
   "cell_type": "code",
   "execution_count": 1,
   "metadata": {},
   "outputs": [],
   "source": [
    "from pyuvdata import UVData, UVCal, utils\n",
    "import matplotlib.pyplot as plt\n",
    "import numpy as np\n",
    "from copy import deepcopy\n",
    "import time\n",
    "from glob import glob\n",
    "import os\n",
    "import ja"
   ]
  },
  {
   "cell_type": "code",
   "execution_count": 2,
   "metadata": {},
   "outputs": [],
   "source": [
    "# Get the files which satisfy the sun cut\n",
    "path = '/lustre/aoc/projects/hera/H1C_IDR2/IDR2_2/2458098/'\n",
    "rawpath = '/lustre/aoc/projects/hera/H1C_IDR2/2458098/'\n",
    "imagefits = glob(path+'zen.*.HH.calibrated.uvh5_image/*.image.image.fits')\n",
    "uvh5stem = []\n",
    "uvh5files = []\n",
    "for i,imf in enumerate(imagefits):\n",
    "    tmp = os.path.split(imf)[-1].split('.')\n",
    "    uvh5stem.append(tmp[0]+'.'+tmp[1]+'.'+tmp[2])\n",
    "    uvh5files.append(rawpath+uvh5stem[i]+'.HH.uvh5')\n",
    "uvh5stem.sort()\n",
    "uvh5files.sort()"
   ]
  },
  {
   "cell_type": "code",
   "execution_count": 3,
   "metadata": {},
   "outputs": [],
   "source": [
    "Nfiles = len(uvh5files)"
   ]
  },
  {
   "cell_type": "code",
   "execution_count": 4,
   "metadata": {},
   "outputs": [],
   "source": [
    "cal_path = '/lustre/aoc/projects/hera/H1C_IDR2/IDR2_2/2458098/'\n",
    "out_path = '/lustre/aoc/projects/hera/jaguirre/PolarizedMosaics/Test/'"
   ]
  },
  {
   "cell_type": "code",
   "execution_count": 5,
   "metadata": {},
   "outputs": [],
   "source": [
    "timer0 = ja.Timer()\n",
    "timer= ja.Timer()\n",
    "timer2 = ja.Timer()"
   ]
  },
  {
   "cell_type": "code",
   "execution_count": 6,
   "metadata": {},
   "outputs": [],
   "source": [
    "#uvh5files = uvh5files[0:1]\n",
    "#uvh5stem = uvh5stem[0:1]\n",
    "#print(uvh5files)\n",
    "#print(uvh5stem)"
   ]
  },
  {
   "cell_type": "code",
   "execution_count": 7,
   "metadata": {},
   "outputs": [
    {
     "name": "stdout",
     "output_type": "stream",
     "text": [
      "Progress: [####################] 98.2%\n",
      "/lustre/aoc/projects/hera/H1C_IDR2/2458098/zen.2458098.64002.HH.uvh5\n",
      "/lustre/aoc/projects/hera/H1C_IDR2/IDR2_2/2458098/zen.2458098.64002.HH.smooth_abs.calfits\n",
      "/lustre/aoc/projects/hera/jaguirre/PolarizedMosaics/Test/zen.2458098.64002.HH.calibrated\n",
      "Reading data took  53.455729722976685 sec\n",
      "Applying calibration data took  22.44330668449402 sec\n",
      "Writing uvh5 27.41802716255188 sec\n",
      "The data are in drift mode and do not have a defined phase center. Phasing to zenith of the first timestamp.\n",
      "Writing uvfits 47.374117612838745 sec\n",
      "One file took 151.62191653251648 sec\n",
      "Total time 8094.753732681274 sec\n"
     ]
    }
   ],
   "source": [
    "timer0.start()\n",
    "for i,rf in enumerate(uvh5files):\n",
    "\n",
    "    timer2.start()\n",
    "    ja.progress_bar(i/Nfiles)\n",
    "    \n",
    "    raw_file = rf\n",
    "    cal_file = cal_path+uvh5stem[i]+'.HH.smooth_abs.calfits'\n",
    "    out_file_stem = out_path+uvh5stem[i]+'.HH.calibrated'\n",
    "    print(raw_file)\n",
    "    print(cal_file)\n",
    "    print(out_file_stem)\n",
    "    \n",
    "    # Read the data\n",
    "    timer.start()\n",
    "    uvd = UVData()\n",
    "    uvd.read(raw_file)\n",
    "    timer.stop('Reading data took ')\n",
    "\n",
    "    uvc = UVCal()\n",
    "    uvc.read_calfits(cal_file)\n",
    "\n",
    "    timer.start()\n",
    "    uv_calibrated = utils.uvcalibrate(uvd, uvc, inplace=False)\n",
    "    timer.stop('Applying calibration data took ')\n",
    "\n",
    "    timer.start()\n",
    "    uv_calibrated.write_uvh5(out_file_stem+'.uvh5', clobber = True)\n",
    "    timer.stop('Writing uvh5')\n",
    "\n",
    "    timer.start()\n",
    "    uv_calibrated.write_uvfits(out_file_stem+'.uvfits',force_phase = True, spoof_nonessential = True)\n",
    "    timer.stop('Writing uvfits')\n",
    "\n",
    "    timer2.stop('One file took')\n",
    "    \n",
    "timer0.stop('Total time')"
   ]
  },
  {
   "cell_type": "code",
   "execution_count": null,
   "metadata": {},
   "outputs": [],
   "source": []
  }
 ],
 "metadata": {
  "kernelspec": {
   "display_name": "Python 3",
   "language": "python",
   "name": "python3"
  },
  "language_info": {
   "codemirror_mode": {
    "name": "ipython",
    "version": 3
   },
   "file_extension": ".py",
   "mimetype": "text/x-python",
   "name": "python",
   "nbconvert_exporter": "python",
   "pygments_lexer": "ipython3",
   "version": "3.7.3"
  }
 },
 "nbformat": 4,
 "nbformat_minor": 2
}
