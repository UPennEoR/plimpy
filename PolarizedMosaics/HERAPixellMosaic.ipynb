{
 "cells": [
  {
   "cell_type": "code",
   "execution_count": 2,
   "metadata": {},
   "outputs": [],
   "source": [
    "from __future__ import print_function\n",
    "%load_ext autoreload\n",
    "%autoreload 2\n",
    "from pixell import enmap, utils\n",
    "from pixell import reproject\n",
    "from pixell import enplot\n",
    "from pyuvdata import UVData\n",
    "import numpy as np\n",
    "import matplotlib.pyplot as plt\n",
    "import PIL\n",
    "from glob import glob\n",
    "from astropy.io import fits"
   ]
  },
  {
   "cell_type": "code",
   "execution_count": 3,
   "metadata": {},
   "outputs": [],
   "source": [
    "# Convenient wrapper for displaying enmaps\n",
    "def eshow(x,**kwargs): enplot.show(enplot.plot(x,**kwargs))"
   ]
  },
  {
   "cell_type": "code",
   "execution_count": 4,
   "metadata": {},
   "outputs": [],
   "source": [
    "path = '/Users/jaguirre/Data/IDR2CASA/'\n",
    "filename = path+'zen.2458098.22991.HH.calibrated.uvh5.image.image.fits'\n",
    "fitsfiles = glob(path+'zen.*.HH.calibrated.uvh5.image.image.fits').sort()\n",
    "muellermodel = '/home/gonzalo/Desktop/workstation/muellermatrixsim.csv'"
   ]
  },
  {
   "cell_type": "code",
   "execution_count": 5,
   "metadata": {},
   "outputs": [
    {
     "ename": "TypeError",
     "evalue": "'NoneType' object is not subscriptable",
     "output_type": "error",
     "traceback": [
      "\u001b[0;31m---------------------------------------------------------------------------\u001b[0m",
      "\u001b[0;31mTypeError\u001b[0m                                 Traceback (most recent call last)",
      "\u001b[0;32m<ipython-input-5-637024f8b2d4>\u001b[0m in \u001b[0;36m<module>\u001b[0;34m\u001b[0m\n\u001b[1;32m      1\u001b[0m \u001b[0;31m# Define some dimensions\u001b[0m\u001b[0;34m\u001b[0m\u001b[0;34m\u001b[0m\u001b[0;34m\u001b[0m\u001b[0m\n\u001b[0;32m----> 2\u001b[0;31m \u001b[0mfitsfile\u001b[0m \u001b[0;34m=\u001b[0m \u001b[0mfitsfiles\u001b[0m\u001b[0;34m[\u001b[0m\u001b[0;36m0\u001b[0m\u001b[0;34m]\u001b[0m\u001b[0;34m\u001b[0m\u001b[0;34m\u001b[0m\u001b[0m\n\u001b[0m\u001b[1;32m      3\u001b[0m \u001b[0;31m# Read the map\u001b[0m\u001b[0;34m\u001b[0m\u001b[0;34m\u001b[0m\u001b[0;34m\u001b[0m\u001b[0m\n\u001b[1;32m      4\u001b[0m \u001b[0mimap\u001b[0m \u001b[0;34m=\u001b[0m \u001b[0menmap\u001b[0m\u001b[0;34m.\u001b[0m\u001b[0mread_map\u001b[0m\u001b[0;34m(\u001b[0m\u001b[0mfitsfile\u001b[0m\u001b[0;34m,\u001b[0m\u001b[0;34m)\u001b[0m\u001b[0;34m\u001b[0m\u001b[0;34m\u001b[0m\u001b[0m\n\u001b[1;32m      5\u001b[0m \u001b[0;31m# For some reason, pixell makes it really hard to get at the actual values in the WCS header\u001b[0m\u001b[0;34m\u001b[0m\u001b[0;34m\u001b[0m\u001b[0;34m\u001b[0m\u001b[0m\n",
      "\u001b[0;31mTypeError\u001b[0m: 'NoneType' object is not subscriptable"
     ]
    }
   ],
   "source": [
    "# Define some dimensions\n",
    "fitsfile = fitsfiles[0]\n",
    "# Read the map\n",
    "imap = enmap.read_map(fitsfile,)\n",
    "# For some reason, pixell makes it really hard to get at the actual values in the WCS header\n",
    "hdu = fits.open(fitsfile)\n",
    "# Define the size of the pixels in the uber-map as a fraction of the size of the original map\n",
    "pix_fac = 2.\n",
    "pixsize_new = np.abs(imap.wcs.pixel_scale_matrix[0][0])*60./pix_fac * utils.arcmin\n",
    "#print(pixsize_new) # radians?"
   ]
  },
  {
   "cell_type": "code",
   "execution_count": null,
   "metadata": {},
   "outputs": [],
   "source": [
    "# Define the master map\n",
    "# Define its shape\n",
    "shape_band, wcs_band = enmap.band_geometry(np.radians([-60,-10]), \n",
    "                                           res=pixsize_new, shape=shape_fullsky, proj='car')\n",
    "#print(shape_band)\n",
    "#print(wcs_band)\n",
    "mastermap = enmap.enmap(np.zeros(shape_band), wcs=wcs_band)"
   ]
  },
  {
   "cell_type": "code",
   "execution_count": null,
   "metadata": {},
   "outputs": [],
   "source": [
    "for fitsfile in fitsfiles:\n",
    "    print(fitsfile)\n",
    "    imap = enmap.read_map(fitsfile,)\n",
    "    # For now, extract Stokes I\n",
    "    stokesI = imap[0,0,:,:]\n",
    "    # Also get the necessary fits information\n",
    "    hdu = fits.open(fitsfile)\n",
    "    # Extract a postage stamp centered on the center of the image\n",
    "    dec0, ra0 = np.deg2rad(np.array((hdu[0].header['CRVAL2'],hdu[0].header['CRVAL1'])))\n",
    "    width = np.deg2rad(20.)\n",
    "    # [[decfrom,rafrom],[[decto,rato]]\n",
    "    box = np.array([[dec0-width/2.,ra0-width/2.],[dec0+width/2.,ra0+width/2.]])\n",
    "    #print(dec,ra,width)\n",
    "    #print(box)\n",
    "    stamp = stokesI.submap(box)\n",
    "    \n",
    "    \n",
    "    # project the stamp into the master grid\n",
    "    stampmap = enmap.project(stamp, shape_band, wcs_band)\n",
    "    print(stampmap.shape())\n",
    "    # Accumulate\n",
    "    #mastermap += stampmap"
   ]
  },
  {
   "cell_type": "code",
   "execution_count": null,
   "metadata": {
    "scrolled": true
   },
   "outputs": [],
   "source": [
    "eshow(mastermap)"
   ]
  },
  {
   "cell_type": "code",
   "execution_count": null,
   "metadata": {},
   "outputs": [],
   "source": [
    "# write the output back to fits\n",
    "enmap.write_fits('masterpmap.fits', mastermap)"
   ]
  }
 ],
 "metadata": {
  "kernelspec": {
   "display_name": "Python 3",
   "language": "python",
   "name": "python3"
  },
  "language_info": {
   "codemirror_mode": {
    "name": "ipython",
    "version": 3
   },
   "file_extension": ".py",
   "mimetype": "text/x-python",
   "name": "python",
   "nbconvert_exporter": "python",
   "pygments_lexer": "ipython3",
   "version": "3.7.3"
  }
 },
 "nbformat": 4,
 "nbformat_minor": 2
}
