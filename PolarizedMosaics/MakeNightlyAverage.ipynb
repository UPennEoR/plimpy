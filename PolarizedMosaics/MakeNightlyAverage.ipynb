{
 "cells": [
  {
   "cell_type": "code",
   "execution_count": 1,
   "metadata": {},
   "outputs": [],
   "source": [
    "from pyuvdata import UVData, UVCal, utils\n",
    "import matplotlib.pyplot as plt\n",
    "import numpy as np\n",
    "from copy import deepcopy\n",
    "import time\n",
    "from glob import glob\n",
    "import os\n",
    "import ja"
   ]
  },
  {
   "cell_type": "code",
   "execution_count": 2,
   "metadata": {},
   "outputs": [],
   "source": [
    "# Get the files which satisfy the sun cut\n",
    "imagepath = '/lustre/aoc/projects/hera/H1C_IDR2/IDR2_2/2458098/'\n",
    "rawpath = '/lustre/aoc/projects/hera/H1C_IDR2/2458098/'\n",
    "calpath = '/lustre/aoc/projects/hera/jaguirre/PolarizedMosaics/Test/'\n",
    "imagefits = glob(imagepath+'zen.*.HH.calibrated.uvh5_image/*.image.image.fits')\n",
    "uvh5stem = []\n",
    "uvh5files = []\n",
    "for i,imf in enumerate(imagefits):\n",
    "    tmp = os.path.split(imf)[-1].split('.')\n",
    "    uvh5stem.append(tmp[0]+'.'+tmp[1]+'.'+tmp[2])\n",
    "    uvh5files.append(calpath+uvh5stem[i]+'.HH.calibrated.uvh5')\n",
    "uvh5stem.sort()\n",
    "uvh5files.sort()\n",
    "Nfiles = len(uvh5files)"
   ]
  },
  {
   "cell_type": "code",
   "execution_count": 3,
   "metadata": {},
   "outputs": [],
   "source": [
    "timer = ja.Timer()\n",
    "timer2 = ja.Timer()"
   ]
  },
  {
   "cell_type": "code",
   "execution_count": 4,
   "metadata": {},
   "outputs": [],
   "source": [
    "# Build a place to hold the running average by baseline\n",
    "uvd = UVData()\n",
    "uvd.read(uvh5files[0])"
   ]
  },
  {
   "cell_type": "code",
   "execution_count": 5,
   "metadata": {},
   "outputs": [],
   "source": [
    "bl_avg = {}\n",
    "bl_hits = {}\n",
    "for key, data in uvd.antpairpol_iter():\n",
    "    bl_avg[key] = np.zeros([Nfiles,1024],dtype='complex128')\n",
    "    bl_hits[key] = np.zeros([Nfiles,1024],dtype='float128')"
   ]
  },
  {
   "cell_type": "code",
   "execution_count": 6,
   "metadata": {},
   "outputs": [
    {
     "name": "stdout",
     "output_type": "stream",
     "text": [
      "5512\n",
      "5512\n",
      "(56, 1024)\n",
      "(56, 1024)\n",
      "5512\n"
     ]
    }
   ],
   "source": [
    "print(len(bl_avg))\n",
    "print(len(bl_hits))\n",
    "print(bl_avg[key].shape)\n",
    "print(bl_hits[key].shape)\n",
    "print(uvd.Nbls*4)"
   ]
  },
  {
   "cell_type": "code",
   "execution_count": null,
   "metadata": {},
   "outputs": [],
   "source": [
    "# Can we dump this somewhere via hdf5?\n"
   ]
  },
  {
   "cell_type": "code",
   "execution_count": null,
   "metadata": {},
   "outputs": [],
   "source": [
    "timer.start()\n",
    "# Extract waterfalls baseline-by-baseline\n",
    "for i,f in enumerate(uvh5files):\n",
    "    print(f)\n",
    "    timer2.start()\n",
    "    uvd = UVData()\n",
    "    uvd.read(f)\n",
    "    timer2.stop('Reading data')\n",
    "\n",
    "    timer2.start()\n",
    "    for key, data in uvd.antpairpol_iter():\n",
    "        # do something with data to make new_data that's the same size\n",
    "        blt1, blt2, pol = uvd._key2inds(key)\n",
    "        assert len(blt2) == 0  # should be true for H1C data\n",
    "        # Grab the data corresponding to that baseline\n",
    "        wf = uvd.data_array[blt1, 0, :, pol[0]]\n",
    "        wfflags = ~uvd.flag_array[blt1, 0, :, pol[0]]\n",
    "        hits = wfflags.sum(axis = 0)\n",
    "        wfavg = (wf * (wfflags)).sum(axis = 0) / hits\n",
    "        bl_avg[key][i,:] = wfavg # Accumulate the sum\n",
    "        bl_hits[key][i,:] = hits\n",
    "    timer2.stop('Building average')\n",
    "        \n",
    "timer.stop('Average calculation')\n",
    "np.savez('2458098_avg.npz',bl_avg=bl_avg, bl_hits=bl_hits)"
   ]
  },
  {
   "cell_type": "code",
   "execution_count": null,
   "metadata": {},
   "outputs": [],
   "source": [
    "np.savez('2458098_avg.npz',bl_avg=bl_avg)"
   ]
  },
  {
   "cell_type": "code",
   "execution_count": null,
   "metadata": {},
   "outputs": [],
   "source": [
    "np.savez('2458098_avg.npz',bl_avg=bl_avg)"
   ]
  },
  {
   "cell_type": "code",
   "execution_count": null,
   "metadata": {},
   "outputs": [],
   "source": [
    "np.savez('2458098_hits.npz',bl_hits=bl_hits)"
   ]
  },
  {
   "cell_type": "code",
   "execution_count": null,
   "metadata": {},
   "outputs": [],
   "source": [
    "bl_hits[(25,26,'xx')].shape"
   ]
  },
  {
   "cell_type": "code",
   "execution_count": null,
   "metadata": {},
   "outputs": [],
   "source": [
    "len(bl_hits)"
   ]
  },
  {
   "cell_type": "code",
   "execution_count": null,
   "metadata": {},
   "outputs": [],
   "source": [
    "plt.plot(bl_avg[(26,27,'xx')].mean(axis=0).real)\n",
    "plt.plot(bl_avg[(26,27,'xx')].mean(axis=0).imag)"
   ]
  },
  {
   "cell_type": "code",
   "execution_count": null,
   "metadata": {},
   "outputs": [],
   "source": [
    "plt.plot(bl_avg[(82,143,'xx')].mean(axis=0).real)\n",
    "plt.plot(bl_avg[(82,143,'xx')].mean(axis=0).imag)"
   ]
  },
  {
   "cell_type": "code",
   "execution_count": null,
   "metadata": {},
   "outputs": [],
   "source": []
  }
 ],
 "metadata": {
  "kernelspec": {
   "display_name": "Python 3",
   "language": "python",
   "name": "python3"
  },
  "language_info": {
   "codemirror_mode": {
    "name": "ipython",
    "version": 3
   },
   "file_extension": ".py",
   "mimetype": "text/x-python",
   "name": "python",
   "nbconvert_exporter": "python",
   "pygments_lexer": "ipython3",
   "version": "3.7.3"
  }
 },
 "nbformat": 4,
 "nbformat_minor": 2
}
