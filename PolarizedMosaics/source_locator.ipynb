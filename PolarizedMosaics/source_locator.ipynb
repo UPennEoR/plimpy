{
 "cells": [
  {
   "cell_type": "code",
   "execution_count": 1,
   "metadata": {},
   "outputs": [
    {
     "name": "stderr",
     "output_type": "stream",
     "text": [
      "WARNING: AstropyDeprecationWarning: astropy.extern.six will be removed in 4.0, use the six module directly if it is still needed [astropy.extern.six]\n"
     ]
    }
   ],
   "source": [
    "from astroquery.vizier import Vizier\n",
    "import numpy as np\n",
    "import pyds9\n",
    "from glob import glob\n",
    "from astropy.io import fits\n",
    "from pyds9 import *\n",
    "from astropy import wcs\n",
    "import matplotlib.pyplot as plt\n",
    "import matplotlib.cbook as cbook\n",
    "from regions import read_ds9, write_ds9\n",
    "from regions import DS9Parser\n",
    "from regions import ds9_objects_to_string\n",
    "from astropy.coordinates import Angle, SkyCoord\n",
    "from regions import CircleSkyRegion"
   ]
  },
  {
   "cell_type": "markdown",
   "metadata": {},
   "source": [
    "# This notebook will detect sources from a vizier catalogue  in a give file(s) using ds9.\n",
    "\n",
    "<b> This notebook must be run off the NRAO server <b>"
   ]
  },
  {
   "cell_type": "code",
   "execution_count": 2,
   "metadata": {},
   "outputs": [],
   "source": [
    "def pipeline(files,catalog='VIII/100/gleamegc'):\n",
    "    Vizier.ROW_LIMIT = -1\n",
    "    table = Vizier.get_catalogs(catalog='VIII/100/gleamegc')[0]\n",
    "    Gleam_ra = table['RAJ2000']\n",
    "    Gleam_dec = table['DEJ2000']\n",
    "    Gleam_flux = table['Fintwide']\n",
    "    \n",
    "    #define a ra/dec mask so only sources in mosaics are chosen\n",
    "    #I should edit this, seems like cuts arent very good...\n",
    "    deccuts , racuts, fluxmin = [-41,-21] , [14,161] , 3 #deg,deg,Jy\n",
    "    #create a mask for ra,dec and flux\n",
    "    w = []\n",
    "    for i in range(len(Gleam_dec)):\n",
    "        w.append((deccuts[0] < Gleam_dec[i] < deccuts[1]) & (racuts[0] < Gleam_ra[i] < racuts[1]) & (Gleam_flux[i] > fluxmin))\n",
    " \n",
    "    # #sources that fit our criteria\n",
    "    data = table[w]\n",
    "    Gleam_ra = data['RAJ2000']\n",
    "    Gleam_dec = data['DEJ2000']\n",
    "    Gleam_flux = data['Fintwide']\n",
    "    \n",
    "    \n",
    "    # #open an instance of ds9\n",
    "    ds9 = pyds9.DS9()\n",
    "    \n",
    "    for i in range(len(files)):\n",
    "        print(files[i] + ' .... done')\n",
    "        #opens wcs solutions in each header\n",
    "        hdu = fits.open(files[i],mode='readonly', ignore_missing_end=True)\n",
    "        imwcs = wcs.WCS(hdu[0].header)\n",
    "        \n",
    "        \n",
    "        #loads each file into ds9 and circles GLEAM SOURCES\n",
    "        ds9.set_pyfits(hdu)\n",
    "        ds9.set('frame {}'.format(i+1))\n",
    "        ds9.set('file {}'.format(files[i]))\n",
    "        ds9.set('scale zscale')\n",
    "        ds9.set('zoom to fit')\n",
    "        \n",
    "        # Applies wcs solutions to translate GLEAM positions to pixel values of fits image\n",
    "        refx,refy = imwcs.wcs_world2pix(Gleam_ra[:], Gleam_dec[:],0)  \n",
    "        for i in range(len(Gleam_dec)):\n",
    "            ds9.set('regions', 'image; circle {},{} {} #color = green'.format(refx[i],refy[i], 15))\n",
    "        \n",
    "    return print('Success! Matched a total of {} sources!'.format(len(refx))) \n",
    "\n",
    "    "
   ]
  },
  {
   "cell_type": "code",
   "execution_count": 3,
   "metadata": {
    "scrolled": true
   },
   "outputs": [
    {
     "name": "stdout",
     "output_type": "stream",
     "text": [
      "masterpmaps/masterpmap_2458098.fits .... done\n",
      "masterpmaps/masterpmap_2458099.fits .... done\n",
      "masterpmaps/masterpmap_2458101.fits .... done\n",
      "masterpmaps/masterpmap_2458102.fits .... done\n",
      "masterpmaps/masterpmap_2458103.fits .... done\n",
      "masterpmaps/masterpmap_2458104.fits .... done\n",
      "masterpmaps/masterpmap_2458105.fits .... done\n",
      "masterpmaps/masterpmap_2458106.fits .... done\n",
      "masterpmaps/masterpmap_2458107.fits .... done\n",
      "masterpmaps/masterpmap_2458108.fits .... done\n",
      "masterpmaps/masterpmap_2458109.fits .... done\n",
      "masterpmaps/masterpmap_2458110.fits .... done\n",
      "masterpmaps/masterpmap_2458111.fits .... done\n",
      "masterpmaps/masterpmap_2458112.fits .... done\n",
      "masterpmaps/masterpmap_2458113.fits .... done\n",
      "masterpmaps/masterpmap_2458114.fits .... done\n",
      "masterpmaps/masterpmap_2458115.fits .... done\n",
      "masterpmaps/masterpmap_2458116.fits .... done\n",
      "Success! Matched a total of 168 sources!\n",
      "CPU times: user 2min 19s, sys: 982 ms, total: 2min 20s\n",
      "Wall time: 2min 34s\n"
     ]
    }
   ],
   "source": [
    "%%time\n",
    "#here I specify the mosaiced fits files i want to use for the \"pipeline\"\n",
    "files = sorted(glob('masterpmaps/*.fits'))\n",
    "\n",
    "pipeline(files)"
   ]
  },
  {
   "cell_type": "code",
   "execution_count": null,
   "metadata": {},
   "outputs": [],
   "source": []
  }
 ],
 "metadata": {
  "kernelspec": {
   "display_name": "Python 3",
   "language": "python",
   "name": "python3"
  },
  "language_info": {
   "codemirror_mode": {
    "name": "ipython",
    "version": 3
   },
   "file_extension": ".py",
   "mimetype": "text/x-python",
   "name": "python",
   "nbconvert_exporter": "python",
   "pygments_lexer": "ipython3",
   "version": "3.6.8"
  }
 },
 "nbformat": 4,
 "nbformat_minor": 2
}
