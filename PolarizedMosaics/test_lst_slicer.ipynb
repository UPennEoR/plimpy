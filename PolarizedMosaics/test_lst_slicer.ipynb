{
 "cells": [
  {
   "cell_type": "code",
   "execution_count": 2,
   "metadata": {},
   "outputs": [],
   "source": [
    "import numpy as np\n",
    "import matplotlib.pyplot as plt\n",
    "import os\n",
    "from pyuvdata import UVData\n",
    "from ja import Timer"
   ]
  },
  {
   "cell_type": "code",
   "execution_count": 3,
   "metadata": {},
   "outputs": [],
   "source": [
    "timer = Timer()"
   ]
  },
  {
   "cell_type": "code",
   "execution_count": 4,
   "metadata": {},
   "outputs": [],
   "source": [
    "# We need this to just get the part of the file name with the JD in it\n",
    "def zenstem(filelist):\n",
    "    stemlist = []\n",
    "    for f in filelist:\n",
    "        tmp = (os.path.basename(f)).split('.')\n",
    "        stemlist.append(tmp[0]+'.'+tmp[1]+'.'+tmp[2])\n",
    "    stemlist.sort()\n",
    "    return stemlist"
   ]
  },
  {
   "cell_type": "markdown",
   "metadata": {},
   "source": [
    "This is basically breaking the `splitDay` function out line-by-line to test it."
   ]
  },
  {
   "cell_type": "code",
   "execution_count": 34,
   "metadata": {},
   "outputs": [],
   "source": [
    "JD = '2458098'\n",
    "radDay = 2*np.pi\n",
    "interval = 2./(24*60.)*2*np.pi # 2 minutes\n",
    "path = '/lustre/aoc/projects/hera/jaguirre/PolarizedMosaics/'+JD+'/'\n",
    "imaged_path = '/lustre/aoc/projects/hera/H1C_IDR2/IDR2_2/'+JD+'/'"
   ]
  },
  {
   "cell_type": "code",
   "execution_count": 7,
   "metadata": {},
   "outputs": [],
   "source": [
    "# Import all of Adam's functions\n",
    "import lst_slicer"
   ]
  },
  {
   "cell_type": "code",
   "execution_count": 8,
   "metadata": {},
   "outputs": [],
   "source": [
    "sliced, master_dict = lst_slicer.slice_day (path, JD, interval)"
   ]
  },
  {
   "cell_type": "code",
   "execution_count": 14,
   "metadata": {},
   "outputs": [],
   "source": [
    "keys = master_dict.keys()"
   ]
  },
  {
   "cell_type": "code",
   "execution_count": 38,
   "metadata": {},
   "outputs": [],
   "source": [
    "lsts = []\n",
    "jds = []\n",
    "filenames = []\n",
    "for key in list(keys):\n",
    "    jds.append(key[0])\n",
    "    lsts.append(key[1])\n",
    "    filenames.append(master_dict[key])\n",
    "lsts = np.array(lsts)\n",
    "jds = np.array(jds)\n",
    "filenames = np.array(filenames)"
   ]
  },
  {
   "cell_type": "code",
   "execution_count": 31,
   "metadata": {},
   "outputs": [
    {
     "data": {
      "text/plain": [
       "[<matplotlib.lines.Line2D at 0x7fb101480198>]"
      ]
     },
     "execution_count": 31,
     "metadata": {},
     "output_type": "execute_result"
    },
    {
     "data": {
      "image/png": "[encoded data removed]",
      "text/plain": [
       "<Figure size 432x288 with 1 Axes>"
      ]
     },
     "metadata": {
      "needs_background": "light"
     },
     "output_type": "display_data"
    }
   ],
   "source": [
    "plt.plot(jds,lsts*24/(2.*np.pi),'.')"
   ]
  },
  {
   "cell_type": "code",
   "execution_count": 60,
   "metadata": {},
   "outputs": [],
   "source": [
    "interval = 2.155/(24*60.)*2*np.pi # A magic number\n",
    "nsamps = []\n",
    "lst_grid = []\n",
    "for i in np.arange(0, radDay, interval):\n",
    "    wh = np.logical_and(lsts >= i, lsts < i+interval)\n",
    "    nsamp = wh.sum()\n",
    "    if nsamp > 0:\n",
    "        if nsamp >= 12: # Another magic number\n",
    "            necessary_files = np.unique(filenames[wh])\n",
    "        #print(i*24/(2.*np.pi), nsamp, necessary_files)\n",
    "            nsamps.append(nsamp)\n",
    "            lst_grid.append(i)\n",
    "            #uvd = UVData()\n",
    "            #uvd.read(necessary_files).select(times=jds[wh]).write_uvh5(fileout)\n",
    "nsamps = np.array(nsamps)"
   ]
  },
  {
   "cell_type": "code",
   "execution_count": 61,
   "metadata": {},
   "outputs": [
    {
     "data": {
      "text/plain": [
       "[<matplotlib.lines.Line2D at 0x7fb1010b1080>]"
      ]
     },
     "execution_count": 61,
     "metadata": {},
     "output_type": "execute_result"
    },
    {
     "data": {
      "image/png": "[encoded data removed]",
      "text/plain": [
       "<Figure size 432x288 with 1 Axes>"
      ]
     },
     "metadata": {
      "needs_background": "light"
     },
     "output_type": "display_data"
    }
   ],
   "source": [
    "plt.plot(lst_grid,nsamps,'.')"
   ]
  },
  {
   "cell_type": "code",
   "execution_count": 59,
   "metadata": {},
   "outputs": [],
   "source": [
    "imagefiles = lst_slicer.imaged_files(imaged_path)\n",
    "# Strip off path and suffix so we're just comparing the JD of the file ...\n",
    "imagefiles = zenstem(imagefiles)"
   ]
  },
  {
   "cell_type": "code",
   "execution_count": 61,
   "metadata": {},
   "outputs": [
    {
     "data": {
      "text/plain": [
       "56"
      ]
     },
     "execution_count": 61,
     "metadata": {},
     "output_type": "execute_result"
    }
   ],
   "source": [
    "len(imagefiles)"
   ]
  },
  {
   "cell_type": "code",
   "execution_count": 62,
   "metadata": {},
   "outputs": [],
   "source": [
    "dict_list = list(master_dict)"
   ]
  },
  {
   "cell_type": "code",
   "execution_count": 63,
   "metadata": {},
   "outputs": [],
   "source": [
    "radDay = 2*np.pi"
   ]
  },
  {
   "cell_type": "code",
   "execution_count": 70,
   "metadata": {},
   "outputs": [
    {
     "name": "stdout",
     "output_type": "stream",
     "text": [
      "0.23333333333333334 ['zen.2458098.22991']\n",
      "Reading data 17.0986590385437 sec\n",
      "0.26666666666666666 ['zen.2458098.22991']\n",
      "Reading data 15.054505825042725 sec\n",
      "0.3 ['zen.2458098.22991']\n",
      "Reading data 17.46056866645813 sec\n",
      "0.3333333333333333 ['zen.2458098.22991']\n",
      "Reading data 16.686492443084717 sec\n",
      "0.36666666666666664 ['zen.2458098.22991']\n",
      "Reading data 15.254286289215088 sec\n",
      "0.4 ['zen.2458098.22991']\n",
      "Reading data 17.879183292388916 sec\n",
      "0.4 ['zen.2458098.22991'] 0.10479622025848749 0.11340905232346647 2458098.235938383\n",
      "0.4333333333333334 ['zen.2458098.23737']\n",
      "Reading data 14.847736597061157 sec\n",
      "0.4666666666666667 ['zen.2458098.23737']\n",
      "Reading data 16.742488145828247 sec\n",
      "0.5 ['zen.2458098.23737']\n",
      "Reading data 17.001638650894165 sec\n",
      "0.5333333333333333 ['zen.2458098.23737']\n",
      "Reading data 16.164175748825073 sec\n",
      "0.5666666666666668 ['zen.2458098.23737']\n",
      "Reading data 16.286028623580933 sec\n",
      "0.6 ['zen.2458098.23737', 'zen.2458098.24482']\n",
      "Reading data 80.79785370826721 sec\n",
      "0.6333333333333334 ['zen.2458098.24482']\n",
      "Reading data 18.46874737739563 sec\n",
      "0.6333333333333334 ['zen.2458098.24482'] 0.16586904437995398 0.17448187937795226 2458098.2456318852\n",
      "0.6666666666666666 ['zen.2458098.24482']\n",
      "Reading data 16.1876323223114 sec\n",
      "0.7 ['zen.2458098.24482']\n",
      "Reading data 15.362655639648438 sec\n",
      "0.7333333333333333 ['zen.2458098.24482']\n",
      "Reading data 17.120991230010986 sec\n",
      "0.7666666666666667 ['zen.2458098.24482', 'zen.2458098.25228']\n"
     ]
    },
    {
     "ename": "KeyboardInterrupt",
     "evalue": "",
     "output_type": "error",
     "traceback": [
      "\u001b[0;31m---------------------------------------------------------------------------\u001b[0m",
      "\u001b[0;31mKeyboardInterrupt\u001b[0m                         Traceback (most recent call last)",
      "\u001b[0;32m<ipython-input-70-b96ade9b37a6>\u001b[0m in \u001b[0;36m<module>\u001b[0;34m\u001b[0m\n\u001b[1;32m     14\u001b[0m         \u001b[0mtimer\u001b[0m\u001b[0;34m.\u001b[0m\u001b[0mstart\u001b[0m\u001b[0;34m(\u001b[0m\u001b[0;34m)\u001b[0m\u001b[0;34m\u001b[0m\u001b[0;34m\u001b[0m\u001b[0m\n\u001b[1;32m     15\u001b[0m         \u001b[0muvd\u001b[0m \u001b[0;34m=\u001b[0m \u001b[0mUVData\u001b[0m\u001b[0;34m(\u001b[0m\u001b[0;34m)\u001b[0m\u001b[0;34m\u001b[0m\u001b[0;34m\u001b[0m\u001b[0m\n\u001b[0;32m---> 16\u001b[0;31m         \u001b[0muvd\u001b[0m\u001b[0;34m.\u001b[0m\u001b[0mread\u001b[0m\u001b[0;34m(\u001b[0m\u001b[0mfiles\u001b[0m\u001b[0;34m,\u001b[0m\u001b[0mread_data\u001b[0m\u001b[0;34m=\u001b[0m\u001b[0;32mTrue\u001b[0m\u001b[0;34m,\u001b[0m \u001b[0mread_metadata\u001b[0m\u001b[0;34m=\u001b[0m\u001b[0;32mTrue\u001b[0m\u001b[0;34m)\u001b[0m\u001b[0;34m\u001b[0m\u001b[0;34m\u001b[0m\u001b[0m\n\u001b[0m\u001b[1;32m     17\u001b[0m         \u001b[0mtimer\u001b[0m\u001b[0;34m.\u001b[0m\u001b[0mstop\u001b[0m\u001b[0;34m(\u001b[0m\u001b[0;34m'Reading data'\u001b[0m\u001b[0;34m)\u001b[0m\u001b[0;34m\u001b[0m\u001b[0;34m\u001b[0m\u001b[0m\n\u001b[1;32m     18\u001b[0m \u001b[0;34m\u001b[0m\u001b[0m\n",
      "\u001b[0;32m/lustre/aoc/projects/hera/jaguirre/anaconda3/envs/hera/lib/python3.7/site-packages/pyuvdata-1.4.0-py3.7-linux-x86_64.egg/pyuvdata/uvdata.py\u001b[0m in \u001b[0;36mread\u001b[0;34m(self, filename, axis, file_type, antenna_nums, antenna_names, ant_str, bls, frequencies, freq_chans, times, polarizations, blt_inds, time_range, keep_all_metadata, read_metadata, read_data, phase_type, correct_lat_lon, use_model, data_column, pol_order, data_array_dtype, run_check, check_extra, run_check_acceptability)\u001b[0m\n\u001b[1;32m   3487\u001b[0m                            \u001b[0mrun_check_acceptability\u001b[0m\u001b[0;34m=\u001b[0m\u001b[0mrun_check_acceptability\u001b[0m\u001b[0;34m,\u001b[0m\u001b[0;34m\u001b[0m\u001b[0;34m\u001b[0m\u001b[0m\n\u001b[1;32m   3488\u001b[0m                            \u001b[0mdata_array_dtype\u001b[0m\u001b[0;34m=\u001b[0m\u001b[0mdata_array_dtype\u001b[0m\u001b[0;34m,\u001b[0m\u001b[0;34m\u001b[0m\u001b[0;34m\u001b[0m\u001b[0m\n\u001b[0;32m-> 3489\u001b[0;31m                            keep_all_metadata=keep_all_metadata, axis=axis)\n\u001b[0m\u001b[1;32m   3490\u001b[0m \u001b[0;34m\u001b[0m\u001b[0m\n\u001b[1;32m   3491\u001b[0m             \u001b[0;32mif\u001b[0m \u001b[0mselect\u001b[0m\u001b[0;34m:\u001b[0m\u001b[0;34m\u001b[0m\u001b[0;34m\u001b[0m\u001b[0m\n",
      "\u001b[0;32m/lustre/aoc/projects/hera/jaguirre/anaconda3/envs/hera/lib/python3.7/site-packages/pyuvdata-1.4.0-py3.7-linux-x86_64.egg/pyuvdata/uvdata.py\u001b[0m in \u001b[0;36mread_uvh5\u001b[0;34m(self, filename, axis, antenna_nums, antenna_names, ant_str, bls, frequencies, freq_chans, times, polarizations, blt_inds, keep_all_metadata, read_data, data_array_dtype, run_check, check_extra, run_check_acceptability)\u001b[0m\n\u001b[1;32m   2973\u001b[0m                                   \u001b[0mrun_check_acceptability\u001b[0m\u001b[0;34m=\u001b[0m\u001b[0mrun_check_acceptability\u001b[0m\u001b[0;34m,\u001b[0m\u001b[0;34m\u001b[0m\u001b[0;34m\u001b[0m\u001b[0m\n\u001b[1;32m   2974\u001b[0m                                   \u001b[0mdata_array_dtype\u001b[0m\u001b[0;34m=\u001b[0m\u001b[0mdata_array_dtype\u001b[0m\u001b[0;34m,\u001b[0m\u001b[0;34m\u001b[0m\u001b[0;34m\u001b[0m\u001b[0m\n\u001b[0;32m-> 2975\u001b[0;31m                                   keep_all_metadata=keep_all_metadata)\n\u001b[0m\u001b[1;32m   2976\u001b[0m                     \u001b[0;32mif\u001b[0m \u001b[0maxis\u001b[0m \u001b[0;32mis\u001b[0m \u001b[0;32mnot\u001b[0m \u001b[0;32mNone\u001b[0m\u001b[0;34m:\u001b[0m\u001b[0;34m\u001b[0m\u001b[0;34m\u001b[0m\u001b[0m\n\u001b[1;32m   2977\u001b[0m                         self.fast_concat(uv2, axis, run_check=run_check,\n",
      "\u001b[0;32m/lustre/aoc/projects/hera/jaguirre/anaconda3/envs/hera/lib/python3.7/site-packages/pyuvdata-1.4.0-py3.7-linux-x86_64.egg/pyuvdata/uvdata.py\u001b[0m in \u001b[0;36mread_uvh5\u001b[0;34m(self, filename, axis, antenna_nums, antenna_names, ant_str, bls, frequencies, freq_chans, times, polarizations, blt_inds, keep_all_metadata, read_data, data_array_dtype, run_check, check_extra, run_check_acceptability)\u001b[0m\n\u001b[1;32m   2991\u001b[0m                                \u001b[0mrun_check_acceptability\u001b[0m\u001b[0;34m=\u001b[0m\u001b[0mrun_check_acceptability\u001b[0m\u001b[0;34m,\u001b[0m\u001b[0;34m\u001b[0m\u001b[0;34m\u001b[0m\u001b[0m\n\u001b[1;32m   2992\u001b[0m                                \u001b[0mdata_array_dtype\u001b[0m\u001b[0;34m=\u001b[0m\u001b[0mdata_array_dtype\u001b[0m\u001b[0;34m,\u001b[0m\u001b[0;34m\u001b[0m\u001b[0;34m\u001b[0m\u001b[0m\n\u001b[0;32m-> 2993\u001b[0;31m                                keep_all_metadata=keep_all_metadata)\n\u001b[0m\u001b[1;32m   2994\u001b[0m             \u001b[0mself\u001b[0m\u001b[0;34m.\u001b[0m\u001b[0m_convert_from_filetype\u001b[0m\u001b[0;34m(\u001b[0m\u001b[0muvh5_obj\u001b[0m\u001b[0;34m)\u001b[0m\u001b[0;34m\u001b[0m\u001b[0;34m\u001b[0m\u001b[0m\n\u001b[1;32m   2995\u001b[0m             \u001b[0;32mdel\u001b[0m\u001b[0;34m(\u001b[0m\u001b[0muvh5_obj\u001b[0m\u001b[0;34m)\u001b[0m\u001b[0;34m\u001b[0m\u001b[0;34m\u001b[0m\u001b[0m\n",
      "\u001b[0;32m/lustre/aoc/projects/hera/jaguirre/anaconda3/envs/hera/lib/python3.7/site-packages/pyuvdata-1.4.0-py3.7-linux-x86_64.egg/pyuvdata/uvh5.py\u001b[0m in \u001b[0;36mread_uvh5\u001b[0;34m(self, filename, antenna_nums, antenna_names, ant_str, bls, frequencies, freq_chans, times, polarizations, blt_inds, read_data, run_check, check_extra, run_check_acceptability, data_array_dtype, keep_all_metadata)\u001b[0m\n\u001b[1;32m    511\u001b[0m                            \u001b[0mbls\u001b[0m\u001b[0;34m,\u001b[0m \u001b[0mfrequencies\u001b[0m\u001b[0;34m,\u001b[0m \u001b[0mfreq_chans\u001b[0m\u001b[0;34m,\u001b[0m \u001b[0mtimes\u001b[0m\u001b[0;34m,\u001b[0m \u001b[0mpolarizations\u001b[0m\u001b[0;34m,\u001b[0m\u001b[0;34m\u001b[0m\u001b[0;34m\u001b[0m\u001b[0m\n\u001b[1;32m    512\u001b[0m                            \u001b[0mblt_inds\u001b[0m\u001b[0;34m,\u001b[0m \u001b[0mrun_check\u001b[0m\u001b[0;34m,\u001b[0m \u001b[0mcheck_extra\u001b[0m\u001b[0;34m,\u001b[0m \u001b[0mrun_check_acceptability\u001b[0m\u001b[0;34m,\u001b[0m\u001b[0;34m\u001b[0m\u001b[0;34m\u001b[0m\u001b[0m\n\u001b[0;32m--> 513\u001b[0;31m                            data_array_dtype, keep_all_metadata)\n\u001b[0m\u001b[1;32m    514\u001b[0m \u001b[0;34m\u001b[0m\u001b[0m\n\u001b[1;32m    515\u001b[0m         \u001b[0;32mreturn\u001b[0m\u001b[0;34m\u001b[0m\u001b[0;34m\u001b[0m\u001b[0m\n",
      "\u001b[0;32m/lustre/aoc/projects/hera/jaguirre/anaconda3/envs/hera/lib/python3.7/site-packages/pyuvdata-1.4.0-py3.7-linux-x86_64.egg/pyuvdata/uvh5.py\u001b[0m in \u001b[0;36m_get_data\u001b[0;34m(self, dgrp, antenna_nums, antenna_names, ant_str, bls, frequencies, freq_chans, times, polarizations, blt_inds, run_check, check_extra, run_check_acceptability, data_array_dtype, keep_all_metadata)\u001b[0m\n\u001b[1;32m    346\u001b[0m                 \u001b[0mself\u001b[0m\u001b[0;34m.\u001b[0m\u001b[0mdata_array\u001b[0m \u001b[0;34m=\u001b[0m \u001b[0mdgrp\u001b[0m\u001b[0;34m[\u001b[0m\u001b[0;34m'visdata'\u001b[0m\u001b[0;34m]\u001b[0m\u001b[0;34m[\u001b[0m\u001b[0;34m:\u001b[0m\u001b[0;34m,\u001b[0m \u001b[0;34m:\u001b[0m\u001b[0;34m,\u001b[0m \u001b[0;34m:\u001b[0m\u001b[0;34m,\u001b[0m \u001b[0;34m:\u001b[0m\u001b[0;34m]\u001b[0m\u001b[0;34m\u001b[0m\u001b[0;34m\u001b[0m\u001b[0m\n\u001b[1;32m    347\u001b[0m             \u001b[0mself\u001b[0m\u001b[0;34m.\u001b[0m\u001b[0mflag_array\u001b[0m \u001b[0;34m=\u001b[0m \u001b[0mdgrp\u001b[0m\u001b[0;34m[\u001b[0m\u001b[0;34m'flags'\u001b[0m\u001b[0;34m]\u001b[0m\u001b[0;34m[\u001b[0m\u001b[0;34m:\u001b[0m\u001b[0;34m,\u001b[0m \u001b[0;34m:\u001b[0m\u001b[0;34m,\u001b[0m \u001b[0;34m:\u001b[0m\u001b[0;34m,\u001b[0m \u001b[0;34m:\u001b[0m\u001b[0;34m]\u001b[0m\u001b[0;34m\u001b[0m\u001b[0;34m\u001b[0m\u001b[0m\n\u001b[0;32m--> 348\u001b[0;31m             \u001b[0mself\u001b[0m\u001b[0;34m.\u001b[0m\u001b[0mnsample_array\u001b[0m \u001b[0;34m=\u001b[0m \u001b[0mdgrp\u001b[0m\u001b[0;34m[\u001b[0m\u001b[0;34m'nsamples'\u001b[0m\u001b[0;34m]\u001b[0m\u001b[0;34m[\u001b[0m\u001b[0;34m:\u001b[0m\u001b[0;34m,\u001b[0m \u001b[0;34m:\u001b[0m\u001b[0;34m,\u001b[0m \u001b[0;34m:\u001b[0m\u001b[0;34m,\u001b[0m \u001b[0;34m:\u001b[0m\u001b[0;34m]\u001b[0m\u001b[0;34m\u001b[0m\u001b[0;34m\u001b[0m\u001b[0m\n\u001b[0m\u001b[1;32m    349\u001b[0m         \u001b[0;32melse\u001b[0m\u001b[0;34m:\u001b[0m\u001b[0;34m\u001b[0m\u001b[0;34m\u001b[0m\u001b[0m\n\u001b[1;32m    350\u001b[0m             \u001b[0;31m# do select operations on everything except data_array, flag_array and nsample_array\u001b[0m\u001b[0;34m\u001b[0m\u001b[0;34m\u001b[0m\u001b[0;34m\u001b[0m\u001b[0m\n",
      "\u001b[0;32mh5py/_objects.pyx\u001b[0m in \u001b[0;36mh5py._objects.with_phil.wrapper\u001b[0;34m()\u001b[0m\n",
      "\u001b[0;32mh5py/_objects.pyx\u001b[0m in \u001b[0;36mh5py._objects.with_phil.wrapper\u001b[0;34m()\u001b[0m\n",
      "\u001b[0;32m/lustre/aoc/projects/hera/jaguirre/anaconda3/envs/hera/lib/python3.7/site-packages/h5py/_hl/dataset.py\u001b[0m in \u001b[0;36m__getitem__\u001b[0;34m(self, args)\u001b[0m\n\u001b[1;32m    571\u001b[0m         \u001b[0mmspace\u001b[0m \u001b[0;34m=\u001b[0m \u001b[0mh5s\u001b[0m\u001b[0;34m.\u001b[0m\u001b[0mcreate_simple\u001b[0m\u001b[0;34m(\u001b[0m\u001b[0mmshape\u001b[0m\u001b[0;34m)\u001b[0m\u001b[0;34m\u001b[0m\u001b[0;34m\u001b[0m\u001b[0m\n\u001b[1;32m    572\u001b[0m         \u001b[0mfspace\u001b[0m \u001b[0;34m=\u001b[0m \u001b[0mselection\u001b[0m\u001b[0;34m.\u001b[0m\u001b[0mid\u001b[0m\u001b[0;34m\u001b[0m\u001b[0;34m\u001b[0m\u001b[0m\n\u001b[0;32m--> 573\u001b[0;31m         \u001b[0mself\u001b[0m\u001b[0;34m.\u001b[0m\u001b[0mid\u001b[0m\u001b[0;34m.\u001b[0m\u001b[0mread\u001b[0m\u001b[0;34m(\u001b[0m\u001b[0mmspace\u001b[0m\u001b[0;34m,\u001b[0m \u001b[0mfspace\u001b[0m\u001b[0;34m,\u001b[0m \u001b[0marr\u001b[0m\u001b[0;34m,\u001b[0m \u001b[0mmtype\u001b[0m\u001b[0;34m,\u001b[0m \u001b[0mdxpl\u001b[0m\u001b[0;34m=\u001b[0m\u001b[0mself\u001b[0m\u001b[0;34m.\u001b[0m\u001b[0m_dxpl\u001b[0m\u001b[0;34m)\u001b[0m\u001b[0;34m\u001b[0m\u001b[0;34m\u001b[0m\u001b[0m\n\u001b[0m\u001b[1;32m    574\u001b[0m \u001b[0;34m\u001b[0m\u001b[0m\n\u001b[1;32m    575\u001b[0m         \u001b[0;31m# Patch up the output for NumPy\u001b[0m\u001b[0;34m\u001b[0m\u001b[0;34m\u001b[0m\u001b[0;34m\u001b[0m\u001b[0m\n",
      "\u001b[0;31mKeyboardInterrupt\u001b[0m: "
     ]
    }
   ],
   "source": [
    "for i in np.arange(0, radDay, interval):\n",
    "    files = list(lst_slicer.find_files(JD, i, i+interval, master_dict))\n",
    "    fi_li = zenstem(files)\n",
    "    \n",
    "    #check if files have imaged files\n",
    "    check = lst_slicer.checkImageFiles(fi_li, imagefiles)\n",
    "        \n",
    "    if len(fi_li) == 0 or (not check):\n",
    "        continue\n",
    "    else:\n",
    "        \n",
    "        print(i*24./(2.*np.pi), fi_li) \n",
    "         \n",
    "        timer.start()    \n",
    "        uvd = UVData()\n",
    "        uvd.read(files,read_data=True, read_metadata=True)\n",
    "        timer.stop('Reading data')\n",
    "        \n",
    "        LST = np.unique(uvd.lst_array)\n",
    "        times = np.unique(uvd.time_array)\n",
    "\n",
    "        indexs = np.logical_and(LST >= i, LST <=i+interval)\n",
    "\n",
    "        oneNfiftyScs = (110./60.)/(24*60.)*2*np.pi\n",
    "\n",
    "        if (LST[indexs].max() - LST[indexs].min() >= oneNfiftyScs):\n",
    "            print('GOOD', LST[indexs].min()*24./(2.*np.pi), LST[indexs].max()*24./(2.*np.pi), times[indexs][0])\n"
   ]
  },
  {
   "cell_type": "code",
   "execution_count": 68,
   "metadata": {},
   "outputs": [
    {
     "data": {
      "text/plain": [
       "['/lustre/aoc/projects/hera/jaguirre/PolarizedMosaics/Test/zen.2458098.23737.HH.calibrated.uvh5',\n",
       " '/lustre/aoc/projects/hera/jaguirre/PolarizedMosaics/Test/zen.2458098.24482.HH.calibrated.uvh5']"
      ]
     },
     "execution_count": 68,
     "metadata": {},
     "output_type": "execute_result"
    }
   ],
   "source": [
    "files"
   ]
  },
  {
   "cell_type": "code",
   "execution_count": 66,
   "metadata": {},
   "outputs": [
    {
     "name": "stdout",
     "output_type": "stream",
     "text": [
      " 0.21958017349243164 sec\n"
     ]
    }
   ],
   "source": []
  },
  {
   "cell_type": "code",
   "execution_count": 53,
   "metadata": {},
   "outputs": [
    {
     "data": {
      "text/plain": [
       "array([0.06721294, 0.06721294, 0.06721294, ..., 0.11340905, 0.11340905,\n",
       "       0.11340905])"
      ]
     },
     "execution_count": 53,
     "metadata": {},
     "output_type": "execute_result"
    }
   ],
   "source": [
    "uvd.lst_array"
   ]
  },
  {
   "cell_type": "code",
   "execution_count": null,
   "metadata": {},
   "outputs": [],
   "source": []
  }
 ],
 "metadata": {
  "kernelspec": {
   "display_name": "Python 3",
   "language": "python",
   "name": "python3"
  },
  "language_info": {
   "codemirror_mode": {
    "name": "ipython",
    "version": 3
   },
   "file_extension": ".py",
   "mimetype": "text/x-python",
   "name": "python",
   "nbconvert_exporter": "python",
   "pygments_lexer": "ipython3",
   "version": "3.7.3"
  }
 },
 "nbformat": 4,
 "nbformat_minor": 2
}
