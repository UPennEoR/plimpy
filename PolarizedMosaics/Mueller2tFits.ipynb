{
 "cells": [
  {
   "cell_type": "markdown",
   "metadata": {},
   "source": [
    "# Goal\n",
    "Take the mueller beam simulation from MuellerBeamSimplified and turn it from a 5 dimensional fits file (ra, dec, freq,i, j) where i and j represent the 4 x 4 mueller matrix into a modified fits file into a 3 dimensional fits file (ra, dec, freq, i, j) where the 4 x 4 (i x j) matrix is spilt into 16 different fits files"
   ]
  },
  {
   "cell_type": "code",
   "execution_count": 1,
   "metadata": {},
   "outputs": [],
   "source": [
    "import numpy as np, healpy as hp, matplotlib.pyplot as plt\n",
    "import pygsm,time,copy\n",
    "import pyuvdata.utils as uvutils\n",
    "import operator,subprocess,argparse\n",
    "import os,sys,glob,yaml\n",
    "import json,itertools,shutil\n",
    "\n",
    "import colorcet as cc\n",
    "ccc = cc.m_cyclic_grey_15_85_c0_s25\n",
    "import matplotlib\n",
    "import cmocean\n",
    "\n",
    "from astropy.coordinates import EarthLocation\n",
    "from mpl_toolkits.axes_grid1 import AxesGrid\n",
    "from astropy.io import fits\n",
    "from matplotlib import gridspec\n",
    "from astropy import wcs\n",
    "from pyuvdata import UVData\n",
    "from datetime import datetime\n",
    "from collections import OrderedDict as odict\n",
    "from astropy.time import Time\n",
    "from astropy_healpix import HEALPix\n",
    "from astropy.coordinates import SkyCoord, Galactic\n",
    "from astropy import units as u\n",
    "from astropy import constants as c\n",
    "from copy import deepcopy\n",
    "from sympy import *\n",
    "init_printing(use_unicode=True)\n",
    "from sympy.physics.quantum import TensorProduct\n",
    "\n",
    "\n",
    "# Works only in python 2 env\n",
    "sys.path.insert(0,'/home/gonzalo/Desktop/workstation/cst2ijones/')\n",
    "from cst2ijones.jones_matrix_field  import InstrumentalJonesMatrixField\n",
    "from cst2ijones.plotting import PlotMueller\n",
    "from cst2ijones import spherical_coordinates_basis_transformation as scbt\n",
    "%matplotlib notebook"
   ]
  },
  {
   "cell_type": "code",
   "execution_count": 2,
   "metadata": {},
   "outputs": [],
   "source": [
    "def StokesMatrix(n):\n",
    "    if n not in [0,1,2,3]: raise Exception('Input must be an integer in [0,1,2,3]')\n",
    "    \n",
    "    if n == 0:\n",
    "        p = np.array([[1.,0],[0.,1.]])\n",
    "    elif n == 1:\n",
    "        p = np.array([[1.,0],[0,-1.]])\n",
    "    elif n == 2:\n",
    "        p = np.array([[0,1.],[1.,0]])\n",
    "    elif n == 3:\n",
    "        p = np.array([[0., -1j],[1j,0]])\n",
    "    \n",
    "    return p\n",
    "\n",
    "# given some frequency n, this function returns the proper file name.\n",
    "def txtname(n):\n",
    "    if n not in range(50,251):\n",
    "        raise ValueError('no data at that frequency.')\n",
    "    fname = '/home/gonzalo/Desktop/workstation/NF_Simulations/Radiation patterns/E-field pattern - Rigging height 4.9 m/HERA_4.9m_E-pattern_ {}MHz.txt'.format(str(n))\n",
    "    \n",
    "    return fname\n",
    "\n",
    "# Build Mueller Matrix elements from the pauli spin matrix given some jones matrix, J, at a certain frequency.\n",
    "def MuellerMatrixElement(J,i,j):\n",
    "    \n",
    "    Pi = StokesMatrix(i)\n",
    "    Pj = StokesMatrix(j)\n",
    "    \n",
    "    M_ij = np.einsum('...ab,...bc,...cd,...ad',Pi,J,Pj,J.conj()) / 2. #fancy way of taking the transpose\n",
    "    \n",
    "    M_ij = np.real(M_ij)\n",
    "    \n",
    "    return M_ij"
   ]
  },
  {
   "cell_type": "markdown",
   "metadata": {},
   "source": [
    "<b> Lets start by loading in a fits object from a Hera image we are working with <b>"
   ]
  },
  {
   "cell_type": "code",
   "execution_count": 3,
   "metadata": {},
   "outputs": [],
   "source": [
    "#Note, this image is a 4D array with (stokes, freq, ra,dec)\n",
    "path = '/home/gonzalo/Desktop/workstation/casa_work/'\n",
    "fitsobject = path+'zen.2458098.52817.HH.calibrated.uvh5_image/zen.2458098.52817.HH.calibrated.uvh5.image.image.fits'\n",
    "\n",
    "data, header = fits.getdata(fitsobject, header=True) "
   ]
  },
  {
   "cell_type": "markdown",
   "metadata": {},
   "source": [
    "# Lets create the mueller matrix and turn it into a fits file with 5 dimensions"
   ]
  },
  {
   "cell_type": "code",
   "execution_count": 4,
   "metadata": {},
   "outputs": [
    {
     "name": "stderr",
     "output_type": "stream",
     "text": [
      "WARNING: FITSFixedWarning: 'obsfix' made the change 'Set OBSGEO-L to    21.428055 from OBSGEO-[XYZ].\n",
      "Set OBSGEO-B to   -30.721389 from OBSGEO-[XYZ].\n",
      "Set OBSGEO-H to     1496.994 from OBSGEO-[XYZ]'. [astropy.wcs.wcs]\n"
     ]
    },
    {
     "name": "stdout",
     "output_type": "stream",
     "text": [
      "Setting interpolant.\n"
     ]
    }
   ],
   "source": [
    "nu0 = 150\n",
    "nu_nodes = range(nu0-5,nu0+6)\n",
    "input_files = [txtname(n) for n in nu_nodes]\n",
    "J = InstrumentalJonesMatrixField(input_files, nu_nodes)\n",
    "\n",
    "\n",
    "#Now we will load in the simulation of the mueller beam\n",
    "nu0 = 150\n",
    "nu_axis = np.array([nu0])\n",
    "npix_sq = header['NAXIS1']\n",
    "\n",
    "\n",
    "\n",
    "# Parse the WCS keywords in the primary HDU\n",
    "w = wcs.WCS(header)\n",
    "\n",
    "# This won't work for rectangular images\n",
    "npix_sq = header['NAXIS1']\n",
    "\n",
    "# Convert Equitorial Coordinates to Spherical Coordinates grid\n",
    "xpix, ypix = np.meshgrid(np.arange(npix_sq),np.arange(npix_sq), indexing='xy')\n",
    "#np.meshgrid(np.arange(1,npix+1),np.arange(1,npix+1), indexing='xy')\n",
    "# Should we start from 0 or 1?  aagh\n",
    "#Right ascension and declination as seen on the inside of the celestial sphere\n",
    "ra, dec, dummy_freq, dummy_stokes = w.all_pix2world(xpix, ypix,1,1,1) \n",
    "c_icrs = SkyCoord(ra=ra*u.degree, dec=dec*u.degree, frame='icrs') # Coordinates Object\n",
    "\n",
    "# Convert ra/dec to phi/theta\n",
    "# don't use ravel because altering the values could change the original data.\n",
    "theta_grid = np.pi/2. - c_icrs.dec.radian \n",
    "theta_flat = np.reshape(theta_grid,-1)\n",
    "\n",
    "#phi_grid = np.radians(header['CRVAL1']) - c_icrs.ra.radian # azimuthal angle limits [0,2*np.pi]\n",
    "phi_grid = c_icrs.ra.radian.mean() - c_icrs.ra.radian\n",
    "phi_flat = np.reshape(phi_grid,-1)\n",
    "\n",
    "# Calculate rotation around -y (?) to get the beam to point at declination = latitude\n",
    "z0_cza = np.radians(120.7215)\n",
    "RotAxis = np.array([0,-1,0])\n",
    "RotAngle = z0_cza\n",
    "R_z0 = scbt.rotation_matrix(RotAxis, RotAngle)\n",
    "\n",
    "theta_hor, phi_hor = scbt.spherical_coordinates_map(R_z0, theta_flat, phi_flat)\n",
    "phi_hor = 2.*np.pi - phi_hor\n",
    "ijones_sq = np.reshape(J(nu_axis, theta_hor, phi_hor, R_z0.T),(len(nu_axis),npix_sq, npix_sq, 2, 2))"
   ]
  },
  {
   "cell_type": "code",
   "execution_count": 5,
   "metadata": {},
   "outputs": [],
   "source": [
    "# Generate Simulation of the Mueller Matrix\n",
    "i_index,j_index = 4,4\n",
    "nchan = len(nu_axis)\n",
    "new_mueller = np.zeros((npix_sq,npix_sq,nchan,4,4),dtype=np.float64) # [ra pixel,dec pixel, freq,i,j]\n",
    "\n",
    "for f in range(ijones_sq.shape[0]):\n",
    "    for i in range(i_index):\n",
    "        for j in range(j_index):\n",
    "            new_mueller[:,:,f,i,j] = MuellerMatrixElement(ijones_sq[f],i,j)\n",
    "hdu_mueller = fits.PrimaryHDU(data=new_mueller.T)"
   ]
  },
  {
   "cell_type": "markdown",
   "metadata": {},
   "source": [
    "# We just created the 5D mueller fits file, but we have to add the wcs header from our hera image to it"
   ]
  },
  {
   "cell_type": "code",
   "execution_count": 7,
   "metadata": {},
   "outputs": [],
   "source": [
    "#We will want to transfer wcs information into this new header\n",
    "wcs_header = w.to_header()\n",
    "for k in wcs_header.keys():\n",
    "    hdu_mueller.header[k] = wcs_header[k]"
   ]
  },
  {
   "cell_type": "code",
   "execution_count": 8,
   "metadata": {},
   "outputs": [],
   "source": [
    "#Lets save the following 16 fits files\n",
    "iarr = [0,0,0,0,1,1,1,1,2,2,2,2,3,3,3,3]\n",
    "jarr = [0,1,2,3,0,1,2,3,0,1,2,3,0,1,2,3]\n",
    "mueller_matrixes = []\n",
    "\n",
    "filenames = []\n",
    "for i,j in zip(iarr,jarr):\n",
    "    mueller_matrixes.append(fits.PrimaryHDU(data=hdu_mueller.data[i][j][0][:][:],header=hdu_mueller.header))\n",
    "    filenames.append('/home/gonzalo/Desktop/workstation/MuellerMatrixBeam{}{}_{}MHz.fits'.format(i,j,nu0))\n",
    "\n",
    "for m,files in zip(range(len(mueller_matrixes)),filenames):        \n",
    "    mueller_matrixes[m].writeto(files,overwrite=True)"
   ]
  }
 ],
 "metadata": {
  "kernelspec": {
   "display_name": "Python 3",
   "language": "python",
   "name": "python3"
  },
  "language_info": {
   "codemirror_mode": {
    "name": "ipython",
    "version": 3
   },
   "file_extension": ".py",
   "mimetype": "text/x-python",
   "name": "python",
   "nbconvert_exporter": "python",
   "pygments_lexer": "ipython3",
   "version": "3.7.3"
  }
 },
 "nbformat": 4,
 "nbformat_minor": 2
}
