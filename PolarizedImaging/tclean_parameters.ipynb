{
 "cells": [
  {
   "cell_type": "code",
   "execution_count": 1,
   "metadata": {},
   "outputs": [],
   "source": [
    "from pyuvdata import UVData\n",
    "import numpy as np\n",
    "import os"
   ]
  },
  {
   "cell_type": "code",
   "execution_count": null,
   "metadata": {},
   "outputs": [
    {
     "name": "stdout",
     "output_type": "stream",
     "text": [
      "The data are in drift mode and do not have a defined phase center. Phasing to zenith of the first timestamp.\n",
      "jd : 74025\n"
     ]
    }
   ],
   "source": [
    "path = '/lustre/aoc/projects/hera/aseidel/tclean_paramaters/'\n",
    "simpath = '/lustre/aoc/projects/hera/jaguirre/HERA19Summer2020/Simulation/zen.2457755..uvCP.uvh5'\n",
    "jds = ['74025', '32476', '98955'] \n",
    "\n",
    "os.system(\"rm -rf {}*\".format(path))\n",
    "\n",
    "for jd in jds:\n",
    "    index = simpath[:simpath.rfind('.')].rfind('.')\n",
    "    uvh5path = simpath[:index] + jd + simpath[index:]\n",
    "    \n",
    "    impath = path + jd + '/'\n",
    "    os.system(\"mkdir {}\".format(impath))\n",
    "    \n",
    "    uvd = UVData()\n",
    "    uvd.read_uvh5(uvh5path)\n",
    "\n",
    "    #grabs between last slash and last period\n",
    "    name = '.'.join(uvh5path.split('/')[-1].split('.')[:-1]) \n",
    "    uvfitspath = impath + name + '.uvfits'\n",
    "    uvd.write_uvfits(uvfitspath, spoof_nonessential=True, force_phase=True)\n",
    "\n",
    "    ra0 = np.rad2deg(np.median(np.unique(uvd.lst_array)))\n",
    "    dec0 = np.rad2deg(uvd.phase_center_dec)\n",
    "    \n",
    "    summary = open(impath + \"summary.txt\", \"w\")\n",
    "    summary.write(str(ra0) + \"\\n\")\n",
    "    summary.write(str(dec0) + \"\\n\")\n",
    "    summary.close()\n",
    "\n",
    "    print(\"jd : \" + jd)\n",
    "    os.system(\"casa -c tclean_parameter_test.py \\\"{}\\\" \\\"{}\\\"\".format(uvfitspath, impath))"
   ]
  },
  {
   "cell_type": "code",
   "execution_count": null,
   "metadata": {},
   "outputs": [],
   "source": []
  }
 ],
 "metadata": {
  "kernelspec": {
   "display_name": "hera",
   "language": "python",
   "name": "hera"
  },
  "language_info": {
   "codemirror_mode": {
    "name": "ipython",
    "version": 3
   },
   "file_extension": ".py",
   "mimetype": "text/x-python",
   "name": "python",
   "nbconvert_exporter": "python",
   "pygments_lexer": "ipython3",
   "version": "3.7.7"
  }
 },
 "nbformat": 4,
 "nbformat_minor": 4
}
