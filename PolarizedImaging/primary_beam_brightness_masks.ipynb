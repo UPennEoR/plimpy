{
 "cells": [
  {
   "cell_type": "code",
   "execution_count": 1,
   "metadata": {},
   "outputs": [],
   "source": [
    "from astropy.io import fits\n",
    "import matplotlib.pyplot as plt\n",
    "import numpy as np\n",
    "from astropy import wcs"
   ]
  },
  {
   "cell_type": "code",
   "execution_count": 2,
   "metadata": {},
   "outputs": [
    {
     "data": {
      "text/plain": [
       "(array([250290.,   3181.,   2011.,   1501.,   1206.,    997.,    874.,\n",
       "           776.,    683.,    625.]),\n",
       " array([3.87579522e-04, 1.00334648e-01, 2.00281717e-01, 3.00228785e-01,\n",
       "        4.00175854e-01, 5.00122922e-01, 6.00069991e-01, 7.00017059e-01,\n",
       "        7.99964128e-01, 8.99911196e-01, 9.99858265e-01]),\n",
       " <a list of 10 Patch objects>)"
      ]
     },
     "execution_count": 2,
     "metadata": {},
     "output_type": "execute_result"
    },
    {
     "data": {
      "image/png": "[encoded data removed]",
      "text/plain": [
       "<Figure size 432x288 with 1 Axes>"
      ]
     },
     "metadata": {
      "needs_background": "light"
     },
     "output_type": "display_data"
    }
   ],
   "source": [
    "#open the primary beam fits file\n",
    "primary_beam = fits.open(\"muellerbeam.fits\")[0].data[0,0,0,:,:]\n",
    "plt.hist(primary_beam.flatten())"
   ]
  },
  {
   "cell_type": "code",
   "execution_count": 3,
   "metadata": {},
   "outputs": [],
   "source": [
    "#open the GLEAM catalog fits file\n",
    "gleam_hdu = fits.open('asu.fit')\n",
    "gleam_data = gleam_hdu[2].data"
   ]
  },
  {
   "cell_type": "code",
   "execution_count": 4,
   "metadata": {},
   "outputs": [
    {
     "name": "stderr",
     "output_type": "stream",
     "text": [
      "WARNING: FITSFixedWarning: 'obsfix' made the change 'Set OBSGEO-L to    21.428055 from OBSGEO-[XYZ].\n",
      "Set OBSGEO-B to   -30.721389 from OBSGEO-[XYZ].\n",
      "Set OBSGEO-H to     1496.994 from OBSGEO-[XYZ]'. [astropy.wcs.wcs]\n"
     ]
    }
   ],
   "source": [
    "#let's trim the files we'll need\n",
    "hera_resid_hdu = fits.open('deconvolved_3000_True_0.fits')\n",
    "hera_resid = hera_resid_hdu[0].data\n",
    "\n",
    "#use wcs solution to determine cutoff\n",
    "w = wcs.WCS(hera_resid_hdu[0].header,naxis=2)"
   ]
  },
  {
   "cell_type": "code",
   "execution_count": 5,
   "metadata": {},
   "outputs": [],
   "source": [
    "def effective_intensity(ra, dec, intensity):\n",
    "    \n",
    "    # get primary beam at each source\n",
    "    pbx, pby = np.array(w.all_world2pix(ra, dec, 0)).astype(int)\n",
    "    pb_inb = np.logical_and.reduce(\n",
    "        (pbx >= 0, pby >= 0, pbx < 512, pby < 512))\n",
    "    pb = primary_beam[pbx * pb_inb, pby * pb_inb] * pb_inb\n",
    "    return intensity * pb \n",
    "\n",
    "\n",
    "def within_bounds(ra, dec, intensity, min_brightness):\n",
    "    return effective_intensity(ra, dec, intensity) > min_brightness"
   ]
  },
  {
   "cell_type": "code",
   "execution_count": 6,
   "metadata": {},
   "outputs": [],
   "source": [
    "minb = 0.5 #min effective brightness (Jy)\n",
    "\n",
    "in_bounds = gleam_data[within_bounds(gleam_data['RAJ2000'], gleam_data['DEJ2000'], gleam_data['Fintwide'], minb)]\n",
    "\n",
    "# additional sources not in GLEAM [intensity, ra, dec]\n",
    "fornax = np.array([[(3 + 24         /60)/24 * 360, -(37 + 16/60), 260],\n",
    "                   [(3 +(21 + 40/60)/60)/24 * 360, -(37 + 10/60), 490],\n",
    "                   [(3 +(22 + 43/60)/60)/24 * 360, -(37 +(12+2/60)/60), 2]])\n",
    "f_inb = fornax[within_bounds(*fornax.T, minb)]"
   ]
  },
  {
   "cell_type": "code",
   "execution_count": 7,
   "metadata": {},
   "outputs": [],
   "source": [
    "make_circles = lambda d : [\"circle[[{}deg, {}deg], 0.5deg]\\n\".format(\n",
    "                                    str(x[0]), str(x[1])) for x in d]\n",
    "!rm -f \"masks.txt\"\n",
    "mask_file = open(\"masks.txt\", \"w\")\n",
    "mask_file.write(\"#CRTFv0\\n\")\n",
    "mask_file.writelines(make_circles(in_bounds) + make_circles(f_inb))\n",
    "mask_file.close()"
   ]
  },
  {
   "cell_type": "code",
   "execution_count": null,
   "metadata": {},
   "outputs": [],
   "source": []
  }
 ],
 "metadata": {
  "kernelspec": {
   "display_name": "HERA",
   "language": "python",
   "name": "hera"
  },
  "language_info": {
   "codemirror_mode": {
    "name": "ipython",
    "version": 3
   },
   "file_extension": ".py",
   "mimetype": "text/x-python",
   "name": "python",
   "nbconvert_exporter": "python",
   "pygments_lexer": "ipython3",
   "version": "3.7.7"
  }
 },
 "nbformat": 4,
 "nbformat_minor": 4
}
