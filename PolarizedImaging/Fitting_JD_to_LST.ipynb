{
 "cells": [
  {
   "cell_type": "code",
   "execution_count": 7,
   "metadata": {},
   "outputs": [],
   "source": [
    "import numpy as np\n",
    "from pyuvdata import UVData\n",
    "import matplotlib.pyplot as plt"
   ]
  },
  {
   "cell_type": "code",
   "execution_count": 9,
   "metadata": {},
   "outputs": [],
   "source": [
    "def LinearFit(x,y,W = None):\n",
    "    \n",
    "    if W is None:\n",
    "        W = np.eye(len(x))\n",
    "    \n",
    "    # Make the matrix X\n",
    "    # A constant vector, and a vector proportional to the independent variable x\n",
    "    X = np.array([ [x], [np.ones_like(x)]]).squeeze().T\n",
    "    Cinv = np.matmul(X.T,np.matmul(W,X))\n",
    "    C = np.linalg.inv(Cinv)\n",
    "    params = np.matmul(C, np.matmul(X.T,np.matmul(W,y)))\n",
    "    return params, C"
   ]
  },
  {
   "cell_type": "markdown",
   "metadata": {},
   "source": [
    "Text file created from Adam's LST_sclicer notebook in Plimpy/Summer2019. I think the notebook *ONLY* works when run from that directory"
   ]
  },
  {
   "cell_type": "code",
   "execution_count": 136,
   "metadata": {},
   "outputs": [],
   "source": [
    "lsts,jds = np.genfromtxt('lst_jd.txt')"
   ]
  },
  {
   "cell_type": "markdown",
   "metadata": {},
   "source": [
    "Use James Linear Fit function to fit our data, so we can later use to interpolate(smart guess) JDS from a given LST"
   ]
  },
  {
   "cell_type": "code",
   "execution_count": 47,
   "metadata": {},
   "outputs": [],
   "source": [
    "m,b = LinearFit(lsts,jds)[0][:]"
   ]
  },
  {
   "cell_type": "code",
   "execution_count": 48,
   "metadata": {},
   "outputs": [],
   "source": [
    "#y = mx + b\n",
    "modeled_jd = m * lsts + b"
   ]
  },
  {
   "cell_type": "code",
   "execution_count": 64,
   "metadata": {
    "collapsed": true
   },
   "outputs": [
    {
     "data": {
      "text/plain": [
       "<matplotlib.legend.Legend at 0x7fed8cde96d8>"
      ]
     },
     "execution_count": 64,
     "metadata": {},
     "output_type": "execute_result"
    },
    {
     "data": {
      "image/png": "[encoded data removed]",
      "text/plain": [
       "<Figure size 432x360 with 1 Axes>"
      ]
     },
     "metadata": {
      "needs_background": "light"
     },
     "output_type": "display_data"
    }
   ],
   "source": [
    "plt.figure(figsize=(6,5))\n",
    "\n",
    "#modeled and data overlayed\n",
    "plt.plot(lsts,modeled_jd,'r',label='data')\n",
    "plt.plot(lsts,jds,'--',label='model')\n",
    "\n",
    "#Plotting Parameters\n",
    "plt.title('LST - JD')\n",
    "plt.legend()\n",
    "plt.xlabel('LST')\n",
    "plt.ylabel('JD')\n",
    "plt.legend()"
   ]
  },
  {
   "cell_type": "markdown",
   "metadata": {},
   "source": [
    "It seems that it can not interpolate any jds from lsts supplied from outside the shown lst range (x-axis)"
   ]
  },
  {
   "cell_type": "code",
   "execution_count": 121,
   "metadata": {},
   "outputs": [],
   "source": [
    "def interpolate(LST_array,jd_array,LST=None):\n",
    "    \"\"\"This function will take a given LST_array and \n",
    "    jd_array and fit it...\n",
    "    \n",
    "    Arguments: \n",
    "    LST_array: LST_array in numpy array\n",
    "    jd_array: JD array in numpy array\n",
    "    LST = LST to interpolate jd for, Default is None\n",
    "    \n",
    "    Returns:\n",
    "    JD array:Blah\n",
    "    \n",
    "    \n",
    "    \n",
    "    \"\"\"\n",
    "    m,b = LinearFit(LST_array,jds)[0][:]\n",
    "    \n",
    "    modeled_jd = m * LST_array + b\n",
    "    \n",
    "    if LST == None:\n",
    "        return modeled_jd\n",
    "    else:\n",
    "        #interpolate the value\n",
    "        jd_at_lst = np.interp(LST, lsts, modeled_jd)\n",
    "    \n",
    "    return jd_at_lst"
   ]
  },
  {
   "cell_type": "markdown",
   "metadata": {},
   "source": [
    "# Tl:dr"
   ]
  },
  {
   "cell_type": "markdown",
   "metadata": {},
   "source": [
    "* Use James's LinearFit function(either by importing it from somewhere else or explicitly copying the cell below to use for interpolate function\n",
    "* Now Just input a LST,jd array (obtained from Adams lst slicer script) to get a modeled jd, or additionaly, input a LST to interpolate a JD"
   ]
  },
  {
   "cell_type": "code",
   "execution_count": 125,
   "metadata": {},
   "outputs": [],
   "source": [
    "def LinearFit(x,y,W = None):\n",
    "    \n",
    "    if W is None:\n",
    "        W = np.eye(len(x))\n",
    "    \n",
    "    # Make the matrix X\n",
    "    # A constant vector, and a vector proportional to the independent variable x\n",
    "    X = np.array([ [x], [np.ones_like(x)]]).squeeze().T\n",
    "    Cinv = np.matmul(X.T,np.matmul(W,X))\n",
    "    C = np.linalg.inv(Cinv)\n",
    "    params = np.matmul(C, np.matmul(X.T,np.matmul(W,y)))\n",
    "    return params, C"
   ]
  },
  {
   "cell_type": "code",
   "execution_count": 135,
   "metadata": {},
   "outputs": [],
   "source": [
    "def interpolate(LST_array,jd_array,LST=None):\n",
    "    \"\"\"This function will take a given LST_array and \n",
    "    jd_array and fit it...\n",
    "    \n",
    "    Arguments: \n",
    "    LST_array: LST_array in numpy array\n",
    "    jd_array: JD array in numpy array\n",
    "    LST = LST to interpolate jd for, Default is None\n",
    "    \n",
    "    Returns:\n",
    "    JD array:Blah\n",
    "      \n",
    "    \"\"\"\n",
    "    #model the data\n",
    "    m,b = LinearFit(LST_array,jds)[0][:]\n",
    "    modeled_jd = m * LST_array + b\n",
    "    \n",
    "    if LST == None:\n",
    "        #plot data\n",
    "        plt.figure(figsize=(6,5))\n",
    "\n",
    "        #modeled and data overlayed\n",
    "        plt.plot(lsts,modeled_jd,'r',label='data')\n",
    "        plt.plot(lsts,jds,'--',label='model')\n",
    "\n",
    "        #Plotting Parameters\n",
    "        plt.title('$LST vs JD$')\n",
    "        plt.legend()\n",
    "        plt.xlabel('$LST$')\n",
    "        plt.ylabel('$JD$')\n",
    "        plt.legend()\n",
    "        return modeled_jd\n",
    "        \n",
    "    else:\n",
    "        #interpolate the value\n",
    "        jd_at_lst = np.interp(LST, lsts, modeled_jd)\n",
    "    \n",
    "    return jd_at_lst"
   ]
  },
  {
   "cell_type": "code",
   "execution_count": 137,
   "metadata": {
    "collapsed": true
   },
   "outputs": [
    {
     "data": {
      "text/plain": [
       "array([2458099.25979724, 2458099.25992152, 2458099.26004579, ...,\n",
       "       2458099.6471645 , 2458099.64728878, 2458099.64741305])"
      ]
     },
     "execution_count": 137,
     "metadata": {},
     "output_type": "execute_result"
    },
    {
     "data": {
      "image/png": "[encoded data removed]",
      "text/plain": [
       "<Figure size 432x360 with 1 Axes>"
      ]
     },
     "metadata": {
      "needs_background": "light"
     },
     "output_type": "display_data"
    }
   ],
   "source": [
    "interpolate(lsts,jds)"
   ]
  },
  {
   "cell_type": "code",
   "execution_count": null,
   "metadata": {},
   "outputs": [],
   "source": []
  }
 ],
 "metadata": {
  "kernelspec": {
   "display_name": "hera",
   "language": "python",
   "name": "hera"
  },
  "language_info": {
   "codemirror_mode": {
    "name": "ipython",
    "version": 3
   },
   "file_extension": ".py",
   "mimetype": "text/x-python",
   "name": "python",
   "nbconvert_exporter": "python",
   "pygments_lexer": "ipython3",
   "version": "3.6.9"
  }
 },
 "nbformat": 4,
 "nbformat_minor": 4
}
