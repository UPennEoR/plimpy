{
 "cells": [
  {
   "cell_type": "code",
   "execution_count": 1,
   "metadata": {},
   "outputs": [],
   "source": [
    "import numpy as np\n",
    "import matplotlib.pyplot as plt\n",
    "from pyuvdata import UVData\n",
    "import time\n",
    "import copy"
   ]
  },
  {
   "cell_type": "code",
   "execution_count": 2,
   "metadata": {},
   "outputs": [],
   "source": [
    "import polcal"
   ]
  },
  {
   "cell_type": "code",
   "execution_count": 3,
   "metadata": {},
   "outputs": [],
   "source": [
    "path_sim = '/lustre/aoc/projects/hera/jaguirre/HERA19Summer2020/Simulation/'"
   ]
  },
  {
   "cell_type": "code",
   "execution_count": 4,
   "metadata": {},
   "outputs": [],
   "source": [
    "uvd_raw = UVData()\n",
    "uvd_raw.read(path_sim+'zen.2457755.25677.uvCP.uvh5')\n",
    "uvd_sim = UVData()\n",
    "uvd_sim.read(path_sim+'zen.2457755.25677.uvCP.uvh5')"
   ]
  },
  {
   "cell_type": "code",
   "execution_count": 5,
   "metadata": {},
   "outputs": [],
   "source": [
    "uv_polcal_single = polcal.uvdata_pol_calibrator(model_data=uvd_sim, real_data=uvd_raw, mode=\"model_based\")"
   ]
  },
  {
   "cell_type": "code",
   "execution_count": 6,
   "metadata": {},
   "outputs": [],
   "source": [
    "uv_polcal_single.data_slice(use_all_times=True, use_all_ants=True, base_freq_range=[300], prod_freq_range=[300])"
   ]
  },
  {
   "cell_type": "code",
   "execution_count": 7,
   "metadata": {},
   "outputs": [
    {
     "data": {
      "text/plain": [
       "(19, 19, 61, 2, 2)"
      ]
     },
     "execution_count": 7,
     "metadata": {},
     "output_type": "execute_result"
    }
   ],
   "source": [
    "uv_polcal_single.base_data_array.shape"
   ]
  },
  {
   "cell_type": "code",
   "execution_count": 8,
   "metadata": {},
   "outputs": [
    {
     "name": "stdout",
     "output_type": "stream",
     "text": [
      "base (19, 19, 61, 2, 2)\n",
      "prod (19, 19, 61, 2, 2)\n",
      "freqs2cal [300]\n",
      "gain_array shape [19, 1024, 2, 2]\n",
      "wtf [19, 1024, 2, 2, 10]\n",
      "gain_array_iter shape (19, 1024, 2, 2, 10)\n",
      "gain_prev shape (19, 2, 2)\n",
      "gain_prev shape (19, 2, 2)\n",
      "gain_prev shape (19, 2, 2)\n",
      "gain_prev shape (19, 2, 2)\n",
      "gain_prev shape (19, 2, 2)\n",
      "gain_prev shape (19, 2, 2)\n",
      "gain_prev shape (19, 2, 2)\n",
      "gain_prev shape (19, 2, 2)\n",
      "gain_prev shape (19, 2, 2)\n",
      "gain_prev shape (19, 2, 2)\n",
      "--- 1.7239243984222412 seconds ---\n",
      "[[ 1.00000000e+00+0.00000000e+00j -7.27792022e-17+4.33680869e-19j]\n",
      " [-4.72257416e-19+4.33680869e-19j  1.00000000e+00-5.00088252e-18j]]\n"
     ]
    }
   ],
   "source": [
    "gain_array_iterations = []\n",
    "for iteration in [10]:#,20,30,40,50,100,200,500,1000,2000,3000,4000]:\n",
    "    start_time = time.time()\n",
    "    ### Run the calibration ###\n",
    "    test = uv_polcal_single.Wirtinger_lm_cal(diagonalize=False, Niteration=iteration)\n",
    "    print(\"--- %s seconds ---\" % (time.time() - start_time))\n",
    "    print(uv_polcal_single.gain_array[0,300])\n",
    "    gain_array_iterations.append(copy.deepcopy(uv_polcal_single.gain_array[:,300]))"
   ]
  },
  {
   "cell_type": "code",
   "execution_count": 10,
   "metadata": {},
   "outputs": [
    {
     "data": {
      "text/plain": [
       "array([[ 1.00000000e+00+0.00000000e+00j, -3.37738720e-18+4.33680869e-19j],\n",
       "       [-4.84847241e-19+2.79263480e-36j,  1.00000000e+00-5.10930274e-18j]])"
      ]
     },
     "execution_count": 10,
     "metadata": {},
     "output_type": "execute_result"
    }
   ],
   "source": [
    "test[0,300,:,:,1]"
   ]
  },
  {
   "cell_type": "code",
   "execution_count": 14,
   "metadata": {},
   "outputs": [
    {
     "data": {
      "text/plain": [
       "[<matplotlib.lines.Line2D at 0x7f7235396310>]"
      ]
     },
     "execution_count": 14,
     "metadata": {},
     "output_type": "execute_result"
    },
    {
     "data": {
      "image/png": "[encoded data removed]",
      "text/plain": [
       "<Figure size 432x288 with 1 Axes>"
      ]
     },
     "metadata": {
      "needs_background": "light"
     },
     "output_type": "display_data"
    }
   ],
   "source": [
    "plt.plot(np.abs(test[0,300,1,1,:]))"
   ]
  },
  {
   "cell_type": "code",
   "execution_count": null,
   "metadata": {},
   "outputs": [],
   "source": []
  }
 ],
 "metadata": {
  "kernelspec": {
   "display_name": "hera",
   "language": "python",
   "name": "hera"
  },
  "language_info": {
   "codemirror_mode": {
    "name": "ipython",
    "version": 3
   },
   "file_extension": ".py",
   "mimetype": "text/x-python",
   "name": "python",
   "nbconvert_exporter": "python",
   "pygments_lexer": "ipython3",
   "version": "3.7.7"
  }
 },
 "nbformat": 4,
 "nbformat_minor": 4
}
