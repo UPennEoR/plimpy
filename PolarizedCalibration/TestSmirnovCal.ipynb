{
 "cells": [
  {
   "cell_type": "code",
   "execution_count": 1,
   "metadata": {},
   "outputs": [],
   "source": [
    "import numpy as np\n",
    "import matplotlib.pyplot as plt\n",
    "from pyuvdata import UVData\n",
    "import time\n",
    "import copy"
   ]
  },
  {
   "cell_type": "code",
   "execution_count": 2,
   "metadata": {},
   "outputs": [],
   "source": [
    "import polcal"
   ]
  },
  {
   "cell_type": "code",
   "execution_count": 3,
   "metadata": {},
   "outputs": [],
   "source": [
    "path_sim = '/lustre/aoc/projects/hera/jaguirre/HERA19Summer2020/Simulation/'"
   ]
  },
  {
   "cell_type": "code",
   "execution_count": 4,
   "metadata": {},
   "outputs": [],
   "source": [
    "uvd_raw = UVData()\n",
    "uvd_raw.read(path_sim+'zen.2457755.25677.uvCP.uvh5')\n",
    "uvd_sim = UVData()\n",
    "uvd_sim.read(path_sim+'zen.2457755.25677.uvCP.uvh5')"
   ]
  },
  {
   "cell_type": "code",
   "execution_count": 5,
   "metadata": {},
   "outputs": [],
   "source": [
    "uv_polcal_single = polcal.uvdata_pol_calibrator(model_data=uvd_sim, real_data=uvd_raw, mode=\"model_based\")"
   ]
  },
  {
   "cell_type": "code",
   "execution_count": 6,
   "metadata": {},
   "outputs": [],
   "source": [
    "uv_polcal_single.data_slice(use_all_times=True, use_all_ants=True, base_freq_range=[300], prod_freq_range=[300])"
   ]
  },
  {
   "cell_type": "code",
   "execution_count": 7,
   "metadata": {},
   "outputs": [
    {
     "data": {
      "text/plain": [
       "(19, 19, 61, 2, 2)"
      ]
     },
     "execution_count": 7,
     "metadata": {},
     "output_type": "execute_result"
    }
   ],
   "source": [
    "uv_polcal_single.base_data_array.shape"
   ]
  },
  {
   "cell_type": "code",
   "execution_count": 8,
   "metadata": {},
   "outputs": [
    {
     "name": "stdout",
     "output_type": "stream",
     "text": [
      "--- 0.7400662899017334 seconds ---\n",
      "[[ 1.00000000e+00+0.00000000e+00j -7.72729993e-17+4.33680869e-19j]\n",
      " [-4.76500098e-19+8.67361738e-19j  1.00000000e+00-4.86535725e-18j]]\n"
     ]
    }
   ],
   "source": [
    "gain_array_iterations = []\n",
    "for iteration in [10]:#,20,30,40,50,100,200,500,1000,2000,3000,4000]:\n",
    "    start_time = time.time()\n",
    "    ### Run the calibration ###\n",
    "    test = uv_polcal_single.Wirtinger_lm_cal(diagonalize=False, Niteration=iteration)\n",
    "    print(\"--- %s seconds ---\" % (time.time() - start_time))\n",
    "    print(uv_polcal_single.gain_array[0,300])\n",
    "    gain_array_iterations.append(copy.deepcopy(uv_polcal_single.gain_array[:,300]))"
   ]
  },
  {
   "cell_type": "code",
   "execution_count": 22,
   "metadata": {},
   "outputs": [
    {
     "data": {
      "text/plain": [
       "(19, 1024, 2, 2, 10)"
      ]
     },
     "execution_count": 22,
     "metadata": {},
     "output_type": "execute_result"
    }
   ],
   "source": [
    "test[0,300,:,:,1]\n",
    "test.shape"
   ]
  },
  {
   "cell_type": "code",
   "execution_count": 10,
   "metadata": {},
   "outputs": [
    {
     "data": {
      "text/plain": [
       "[<matplotlib.lines.Line2D at 0x7f2d2e958150>]"
      ]
     },
     "execution_count": 10,
     "metadata": {},
     "output_type": "execute_result"
    },
    {
     "data": {
      "image/png": "[encoded data removed]",
      "text/plain": [
       "<Figure size 432x288 with 1 Axes>"
      ]
     },
     "metadata": {
      "needs_background": "light"
     },
     "output_type": "display_data"
    }
   ],
   "source": [
    "plt.plot(np.abs(test[0,300,1,1,:]))"
   ]
  },
  {
   "cell_type": "code",
   "execution_count": 59,
   "metadata": {},
   "outputs": [],
   "source": [
    "uv_pcal_124 = polcal.uvdata_pol_calibrator(model_data=uvd_sim, \n",
    "                                                real_data=uvd_raw, mode=\"model_based\")\n",
    "uv_pcal_224 = polcal.uvdata_pol_calibrator(model_data=uvd_sim, \n",
    "                                                real_data=uvd_raw, mode=\"model_based\")\n",
    "uv_pcal_324 = polcal.uvdata_pol_calibrator(model_data=uvd_sim, \n",
    "                                                real_data=uvd_raw, mode=\"model_based\")\n",
    "uv_pcal_424 = polcal.uvdata_pol_calibrator(model_data=uvd_sim, \n",
    "                                                real_data=uvd_raw, mode=\"model_based\")\n",
    "uv_pcal_524 = polcal.uvdata_pol_calibrator(model_data=uvd_sim, \n",
    "                                                real_data=uvd_raw, mode=\"model_based\")\n",
    "uv_pcal_624 = polcal.uvdata_pol_calibrator(model_data=uvd_sim, \n",
    "                                                real_data=uvd_raw, mode=\"model_based\")\n",
    "uv_pcal_724 = polcal.uvdata_pol_calibrator(model_data=uvd_sim, \n",
    "                                                real_data=uvd_raw, mode=\"model_based\")\n",
    "uv_pcal_824 = polcal.uvdata_pol_calibrator(model_data=uvd_sim, \n",
    "                                                real_data=uvd_raw, mode=\"model_based\")\n",
    "uv_pcal_924 = polcal.uvdata_pol_calibrator(model_data=uvd_sim, \n",
    "                                                real_data=uvd_raw, mode=\"model_based\")\n",
    "uv_pcal_1024 = polcal.uvdata_pol_calibrator(model_data=uvd_sim, \n",
    "                                                real_data=uvd_raw, mode=\"model_based\")"
   ]
  },
  {
   "cell_type": "code",
   "execution_count": 62,
   "metadata": {},
   "outputs": [],
   "source": [
    "uv_pcal_124.data_slice(use_all_times=True, use_all_ants=True, \n",
    "                            base_freq_range=[0,124], prod_freq_range=[0,124])\n",
    "uv_pcal_224.data_slice(use_all_times=True, use_all_ants=True, \n",
    "                            base_freq_range=[125,224], prod_freq_range=[125,224])\n",
    "uv_pcal_324.data_slice(use_all_times=True, use_all_ants=True, \n",
    "                            base_freq_range=[225,324], prod_freq_range=[225,324])\n",
    "uv_pcal_424.data_slice(use_all_times=True, use_all_ants=True, \n",
    "                            base_freq_range=[325,424], prod_freq_range=[325,424])\n",
    "uv_pcal_524.data_slice(use_all_times=True, use_all_ants=True, \n",
    "                            base_freq_range=[425,524], prod_freq_range=[425,524])\n",
    "uv_pcal_624.data_slice(use_all_times=True, use_all_ants=True, \n",
    "                            base_freq_range=[525,624], prod_freq_range=[525,624])\n",
    "uv_pcal_724.data_slice(use_all_times=True, use_all_ants=True, \n",
    "                            base_freq_range=[625,724], prod_freq_range=[625,724])\n",
    "uv_pcal_824.data_slice(use_all_times=True, use_all_ants=True, \n",
    "                            base_freq_range=[725,824], prod_freq_range=[725,824])\n",
    "uv_pcal_924.data_slice(use_all_times=True, use_all_ants=True, \n",
    "                            base_freq_range=[825,924], prod_freq_range=[825,924])\n",
    "uv_pcal_1024.data_slice(use_all_times=True, use_all_ants=True, \n",
    "                            base_freq_range=[925,1023], prod_freq_range=[925,1023])"
   ]
  },
  {
   "cell_type": "code",
   "execution_count": 68,
   "metadata": {},
   "outputs": [
    {
     "name": "stdout",
     "output_type": "stream",
     "text": [
      "CPU times: user 5.72 s, sys: 3.03 ms, total: 5.72 s\n",
      "Wall time: 5.73 s\n"
     ]
    }
   ],
   "source": [
    "%%time\n",
    "result_124 = uv_pcal_124.Wirtinger_lm_cal(diagonalize=False, Niteration=1)\n",
    "# result_224 = uv_pcal_224.Wirtinger_lm_cal(diagonalize=False, Niteration=1)\n",
    "# result_324 = uv_pcal_324.Wirtinger_lm_cal(diagonalize=False, Niteration=1)\n",
    "# result_424 = uv_pcal_424.Wirtinger_lm_cal(diagonalize=False, Niteration=1)\n",
    "# result_524 = uv_pcal_524.Wirtinger_lm_cal(diagonalize=False, Niteration=1)\n",
    "# result_624 = uv_pcal_624.Wirtinger_lm_cal(diagonalize=False, Niteration=1)\n",
    "# result_724 = uv_pcal_724.Wirtinger_lm_cal(diagonalize=False, Niteration=1)\n",
    "# result_824 = uv_pcal_824.Wirtinger_lm_cal(diagonalize=False, Niteration=1)\n",
    "# result_924 = uv_pcal_924.Wirtinger_lm_cal(diagonalize=False, Niteration=1)\n",
    "# result_1024 = uv_pcal_1024.Wirtinger_lm_cal(diagonalize=False, Niteration=1)"
   ]
  },
  {
   "cell_type": "code",
   "execution_count": 66,
   "metadata": {},
   "outputs": [
    {
     "data": {
      "text/plain": [
       "(19, 1024, 2, 2, 1)"
      ]
     },
     "execution_count": 66,
     "metadata": {},
     "output_type": "execute_result"
    }
   ],
   "source": [
    "result_124.shape"
   ]
  },
  {
   "cell_type": "code",
   "execution_count": 67,
   "metadata": {},
   "outputs": [
    {
     "data": {
      "image/png": "[encoded data removed]",
      "text/plain": [
       "<Figure size 432x288 with 1 Axes>"
      ]
     },
     "metadata": {
      "needs_background": "light"
     },
     "output_type": "display_data"
    }
   ],
   "source": [
    "plt.plot(np.abs(result_124[1,:124,1,1,:]))\n",
    "\n",
    "plt.xlabel='Jones matrix value'\n",
    "plt.ylabel='Frequency'"
   ]
  },
  {
   "cell_type": "code",
   "execution_count": null,
   "metadata": {},
   "outputs": [],
   "source": []
  }
 ],
 "metadata": {
  "kernelspec": {
   "display_name": "HERA",
   "language": "python",
   "name": "hera"
  },
  "language_info": {
   "codemirror_mode": {
    "name": "ipython",
    "version": 3
   },
   "file_extension": ".py",
   "mimetype": "text/x-python",
   "name": "python",
   "nbconvert_exporter": "python",
   "pygments_lexer": "ipython3",
   "version": "3.7.7"
  }
 },
 "nbformat": 4,
 "nbformat_minor": 4
}
