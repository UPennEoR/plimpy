{
 "cells": [
  {
   "cell_type": "code",
   "execution_count": 1,
   "metadata": {},
   "outputs": [],
   "source": [
    "import numpy as np\n",
    "import matplotlib.pyplot as plt\n",
    "from pyuvdata import UVData, UVCal, UVFlag, utils\n",
    "from glob import glob\n",
    "from astropy import units as u\n",
    "from astropy import constants as c\n",
    "from astropy.time import Time\n",
    "from astropy.coordinates import get_body, SkyCoord, AltAz, EarthLocation, Angle\n",
    "from copy import deepcopy"
   ]
  },
  {
   "cell_type": "code",
   "execution_count": 2,
   "metadata": {},
   "outputs": [],
   "source": [
    "rawpath = '/lustre/aoc/projects/hera/jaguirre/HERA19Summer2020/RawData/'\n",
    "calpath = '/lustre/aoc/projects/hera/agavidia/TimeVariability/CalFitsFix/'\n",
    "outpath = '/lustre/aoc/projects/hera/agavidia/TimeVariability/CalFitsFlag/'"
   ]
  },
  {
   "cell_type": "code",
   "execution_count": 3,
   "metadata": {},
   "outputs": [],
   "source": [
    "JD = '2457548'\n",
    "files = glob(calpath+JD+'/'+ 'zen.'+JD+'**'+'fixed.uvcRP.calfits')\n",
    "rawfiles = glob(rawpath+JD+'/'+'zen'+JD+'**'+'uvcRP.calfits')"
   ]
  },
  {
   "cell_type": "code",
   "execution_count": 4,
   "metadata": {},
   "outputs": [],
   "source": [
    "uvc = UVCal()\n",
    "uvd = UVData()"
   ]
  },
  {
   "cell_type": "code",
   "execution_count": 5,
   "metadata": {},
   "outputs": [
    {
     "name": "stdout",
     "output_type": "stream",
     "text": [
      "CPU times: user 4.29 s, sys: 11 s, total: 15.3 s\n",
      "Wall time: 24.4 s\n"
     ]
    }
   ],
   "source": [
    "%%time \n",
    "\n",
    "for file in files:\n",
    "    uvc.read_calfits(file)\n",
    "    for rawfile in rawfiles:\n",
    "        uvd.read(rawfiles)\n",
    "        uvd_calibrated = uvd\n",
    "        uvd_calibrated.flag_array = np.zeros_like(uvd.flag_array, dtype='bool')\n",
    "        utils.uvcalibrate(uvd_calibrated, uvc, inplace=True, prop_flags=True)\n",
    "        uvf_or = UVFlag(uvc, mode='flag', copy_flags=True)\n",
    "        uvd_cal_flag = utils.apply_uvflag(uvd_calibrated, uvf_or, inplace=False, unflag_first=False)\n",
    "        filename = file.split('/')[-1]\n",
    "        tmp = filename.split('.')\n",
    "        juldate = tmp[1]+'.'+tmp[2]\n",
    "        uvc.write_calfits(outpath+JD+'/zen.'+juldate+'_flag.or.uvcRP.calfits')"
   ]
  },
  {
   "cell_type": "code",
   "execution_count": null,
   "metadata": {},
   "outputs": [],
   "source": [
    "#ls /lustre/aoc/projects/hera/agavidia/TimeVariability/CalFitsFix/2457548"
   ]
  },
  {
   "cell_type": "code",
   "execution_count": null,
   "metadata": {},
   "outputs": [],
   "source": [
    "ls /lustre/aoc/projects/hera/jaguirre/HERA19Summer2020/RawData/"
   ]
  }
 ],
 "metadata": {
  "kernelspec": {
   "display_name": "hera",
   "language": "python",
   "name": "hera"
  },
  "language_info": {
   "codemirror_mode": {
    "name": "ipython",
    "version": 3
   },
   "file_extension": ".py",
   "mimetype": "text/x-python",
   "name": "python",
   "nbconvert_exporter": "python",
   "pygments_lexer": "ipython3",
   "version": "3.7.7"
  }
 },
 "nbformat": 4,
 "nbformat_minor": 4
}
