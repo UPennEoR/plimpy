{
 "cells": [
  {
   "cell_type": "code",
   "execution_count": 1,
   "metadata": {},
   "outputs": [],
   "source": [
    "import numpy as np\n",
    "import matplotlib.pyplot as plt\n",
    "from pyuvdata import UVData, UVCal, UVFlag, utils\n",
    "from glob import glob\n",
    "from astropy import units as u\n",
    "from astropy import constants as c\n",
    "from astropy.time import Time\n",
    "from astropy.coordinates import get_body, SkyCoord, AltAz, EarthLocation, Angle\n",
    "from copy import deepcopy"
   ]
  },
  {
   "cell_type": "code",
   "execution_count": 2,
   "metadata": {},
   "outputs": [],
   "source": [
    "JD = '2457548'\n",
    "datadir = '/lustre/aoc/projects/hera/jaguirre/HERA19Summer2020/RawData/2457548/'"
   ]
  },
  {
   "cell_type": "code",
   "execution_count": 3,
   "metadata": {},
   "outputs": [],
   "source": [
    "files = glob(datadir+'zen.'+JD+'**'+'uvcRP.uvh5')"
   ]
  },
  {
   "cell_type": "code",
   "execution_count": 4,
   "metadata": {},
   "outputs": [
    {
     "name": "stdout",
     "output_type": "stream",
     "text": [
      "CPU times: user 3min 57s, sys: 1min 36s, total: 5min 34s\n",
      "Wall time: 7min 56s\n"
     ]
    }
   ],
   "source": [
    "%%time\n",
    "\n",
    "#this script writes out uvflag objects \n",
    "\n",
    "for file in files: \n",
    "    #prep data before making different types of flags \n",
    "    uvd = UVData()\n",
    "    uvd.read(file)\n",
    "    uvf = UVFlag(uvd, mode='flag', copy_flags=True, run_check=True)\n",
    "    uvf_or = deepcopy(uvf)\n",
    "    uvf_thresh = deepcopy(uvf)\n",
    "    uvf_greedy = deepcopy(uvf)\n",
    "    \n",
    "    #uvf_or\n",
    "    uvf_or.to_waterfall(method='or', keep_pol=False)\n",
    "    #uvf_thresh\n",
    "    uvf_thresh.to_waterfall(method='mean', keep_pol=False)\n",
    "    #uvf_greedy \n",
    "    uvf_greedy.to_waterfall(method='or', keep_pol=False)\n",
    "    time_frac = uvf_greedy.flag_array.mean(axis=1).squeeze()\n",
    "    freq_frac = uvf_greedy.flag_array.mean(axis=0).squeeze()\n",
    "    uvf_greedy.flag_array[time_frac>0.33,:,0] = True\n",
    "    uvf_greedy.flag_array[:,freq_frac>0.10,0] = True\n",
    "    \n",
    "    #prep for writing out, getting JD snd unique lst for each\n",
    "    filename = file.split('/')[-1]\n",
    "    tmp = filename.split('.')\n",
    "    juldate = tmp[1]+'.'+tmp[2]\n",
    "    outpath_or = '/lustre/aoc/projects/hera/agavidia/TimeVariability/HERA19Data/flags_or/'\n",
    "    outpath_thresh = '/lustre/aoc/projects/hera/agavidia/TimeVariability/HERA19Data/flags_thresh//'\n",
    "    outpath_greedy = '/lustre/aoc/projects/hera/agavidia/TimeVariability/HERA19Data/flags_greedy/'\n",
    "    \n",
    "    #read out uvf object\n",
    "    uvf_or.write(outpath_or+'flag.'+juldate+'_or.uvh5', clobber=True)\n",
    "    uvf_thresh.write(outpath_thresh+'flag.'+juldate+'_thresh.uvh5', clobber=True)\n",
    "    uvf_greedy.write(outpath_greedy+'flag.'+juldate+'_greedy.uvh5', clobber=True)\n",
    "    \n",
    "    \n",
    "    #applying the flags to the data...i think i need to make copies of the uvd..?\n",
    "    #uvd_or = deepcopy(uvd)\n",
    "    #uvd_thresh = deepcopy(uvd)\n",
    "    #uvd_greedy = deepcopy(uvd)\n",
    "    #utils.apply_uvflag(uvd_or, uvf_or)\n",
    "    #utils.apply_uvflag(uvd_thresh, uvf_thresh)  #can only apply when it is in flag mode, not metric?\n",
    "    #utils.apply_uvflag(uvd_greedy, uvf_greedy)\n",
    "    \n",
    "    #write out the uvd\n",
    "    #uvd_or.write_uvh5(outpath_or+'flag.'+juldate+'_or.uvh5')\n",
    "    #uvd_thresh.write_uvh5(outpath_thresh+'flag.'+juldate+'_thresh.uvh5')\n",
    "    #uvd_greedy.write_uvh5(outpath_greedy+'flag.'+juldate+'_greedy.uvh5')"
   ]
  },
  {
   "cell_type": "code",
   "execution_count": null,
   "metadata": {},
   "outputs": [],
   "source": []
  },
  {
   "cell_type": "code",
   "execution_count": null,
   "metadata": {},
   "outputs": [],
   "source": []
  }
 ],
 "metadata": {
  "kernelspec": {
   "display_name": "hera",
   "language": "python",
   "name": "hera"
  },
  "language_info": {
   "codemirror_mode": {
    "name": "ipython",
    "version": 3
   },
   "file_extension": ".py",
   "mimetype": "text/x-python",
   "name": "python",
   "nbconvert_exporter": "python",
   "pygments_lexer": "ipython3",
   "version": "3.7.7"
  }
 },
 "nbformat": 4,
 "nbformat_minor": 4
}
