{
 "cells": [
  {
   "cell_type": "code",
   "execution_count": 2,
   "metadata": {},
   "outputs": [],
   "source": [
    "import numpy as np\n",
    "import matplotlib.pyplot as plt\n",
    "from pyuvdata import UVData\n",
    "import uvtools\n",
    "from copy import deepcopy"
   ]
  },
  {
   "cell_type": "code",
   "execution_count": 3,
   "metadata": {},
   "outputs": [],
   "source": [
    "datadir1 = '/lustre/aoc/projects/hera/jaguirre/HERA19Summer2020/RawData/2457548/'\n",
    "datadir2 = '/lustre/aoc/projects/hera/jaguirre/HERA19Summer2020/RawData/2457549/'"
   ]
  },
  {
   "cell_type": "code",
   "execution_count": 4,
   "metadata": {},
   "outputs": [],
   "source": [
    "uvd1 = UVData()\n",
    "uvd2 = UVData()"
   ]
  },
  {
   "cell_type": "code",
   "execution_count": 5,
   "metadata": {},
   "outputs": [],
   "source": [
    "uvd1.read(datadir1 + 'lst.2457548.17h42m00s.17h48m00s.uvcRP.drift.uvh5')\n",
    "uvd2.read(datadir2 + 'lst.2457549.17h42m00s.17h48m00s.uvcRP.drift.uvh5')"
   ]
  },
  {
   "cell_type": "code",
   "execution_count": 6,
   "metadata": {},
   "outputs": [],
   "source": [
    "final_flags = np.logical_or(uvd1.flag_array, uvd2.flag_array)"
   ]
  },
  {
   "cell_type": "code",
   "execution_count": 7,
   "metadata": {},
   "outputs": [],
   "source": [
    "uvd1.flag_array = final_flags\n",
    "uvd2.flag_array = final_flags"
   ]
  },
  {
   "cell_type": "code",
   "execution_count": 8,
   "metadata": {},
   "outputs": [
    {
     "name": "stdout",
     "output_type": "stream",
     "text": [
      "drift\n",
      "drift\n"
     ]
    }
   ],
   "source": [
    "print(uvd1.phase_type)\n",
    "print(uvd2.phase_type)"
   ]
  },
  {
   "cell_type": "code",
   "execution_count": 9,
   "metadata": {},
   "outputs": [],
   "source": [
    "newdatadir = '/lustre/aoc/projects/hera/agavidia/TimeVariability/HERA19Data/'"
   ]
  },
  {
   "cell_type": "code",
   "execution_count": 10,
   "metadata": {},
   "outputs": [],
   "source": [
    "#uvd1.write_uvh5(newdatadir+'lst.2457548.17h42m00s.17h48m00s.uvcRP.drift.flags.uvh5')\n",
    "#uvd2.write_uvh5(newdatadir+'lst.2457549.17h42m00s.17h48m00s.uvcRP.drift.flags.uvh5') "
   ]
  },
  {
   "cell_type": "code",
   "execution_count": 11,
   "metadata": {},
   "outputs": [],
   "source": [
    "uvdflag1 = UVData()\n",
    "uvdflag2 = UVData()\n",
    "uvdflag1.read(newdatadir+'lst.2457548.17h42m00s.17h48m00s.uvcRP.drift.flags.uvh5')\n",
    "uvdflag2.read(newdatadir+'lst.2457549.17h42m00s.17h48m00s.uvcRP.drift.flags.uvh5')"
   ]
  },
  {
   "cell_type": "code",
   "execution_count": 12,
   "metadata": {},
   "outputs": [],
   "source": [
    "#phasing\n",
    "uvdphased1 = deepcopy(uvdflag1)\n",
    "uvdphased2 = deepcopy(uvdflag2)"
   ]
  },
  {
   "cell_type": "code",
   "execution_count": 13,
   "metadata": {},
   "outputs": [
    {
     "name": "stdout",
     "output_type": "stream",
     "text": [
      "-0.5361918109651258\n",
      "4.647018633382273\n"
     ]
    }
   ],
   "source": [
    "dec = uvdphased1.telescope_location_lat_lon_alt[0]\n",
    "ra = np.median(uvdphased1.lst_array)\n",
    "print(dec)\n",
    "print(ra)"
   ]
  },
  {
   "cell_type": "code",
   "execution_count": 14,
   "metadata": {},
   "outputs": [
    {
     "name": "stdout",
     "output_type": "stream",
     "text": [
      "-0.5361918109651258\n",
      "4.647018633382273\n"
     ]
    }
   ],
   "source": [
    "dec2 = uvdphased2.telescope_location_lat_lon_alt[0]\n",
    "ra2 = np.median(uvdphased2.lst_array)\n",
    "print(dec)\n",
    "print(ra)"
   ]
  },
  {
   "cell_type": "code",
   "execution_count": 15,
   "metadata": {},
   "outputs": [],
   "source": [
    "uvdphased1.phase(ra,dec,phase_frame='icrs')\n",
    "uvdphased2.phase(ra,dec,phase_frame='icrs')"
   ]
  },
  {
   "cell_type": "code",
   "execution_count": 16,
   "metadata": {},
   "outputs": [],
   "source": [
    "uvdphased_gcrs1 = deepcopy(uvdflag1)\n",
    "uvdphased_gcrs2 = deepcopy(uvdflag2)"
   ]
  },
  {
   "cell_type": "code",
   "execution_count": 17,
   "metadata": {},
   "outputs": [],
   "source": [
    "uvdphased_gcrs1.phase(ra,dec,phase_frame='gcrs')\n",
    "uvdphased_gcrs2.phase(ra,dec,phase_frame='gcrs')"
   ]
  },
  {
   "cell_type": "code",
   "execution_count": 18,
   "metadata": {},
   "outputs": [
    {
     "ename": "OSError",
     "evalue": "File exists; skipping",
     "output_type": "error",
     "traceback": [
      "\u001b[0;31m---------------------------------------------------------------------------\u001b[0m",
      "\u001b[0;31mOSError\u001b[0m                                   Traceback (most recent call last)",
      "\u001b[0;32m<ipython-input-18-7be04df9281b>\u001b[0m in \u001b[0;36m<module>\u001b[0;34m\u001b[0m\n\u001b[0;32m----> 1\u001b[0;31m \u001b[0muvdphased1\u001b[0m\u001b[0;34m.\u001b[0m\u001b[0mwrite_uvh5\u001b[0m\u001b[0;34m(\u001b[0m\u001b[0mnewdatadir\u001b[0m \u001b[0;34m+\u001b[0m \u001b[0;34m'lst.2457548.17h42m00s.17h48m00s.uvcRP.phased_icrs.uvh5'\u001b[0m \u001b[0;34m)\u001b[0m\u001b[0;34m\u001b[0m\u001b[0;34m\u001b[0m\u001b[0m\n\u001b[0m",
      "\u001b[0;32m/lustre/aoc/projects/hera/agavidia/anaconda3/envs/hera/lib/python3.7/site-packages/pyuvdata/uvdata/uvdata.py\u001b[0m in \u001b[0;36mwrite_uvh5\u001b[0;34m(self, filename, run_check, check_extra, run_check_acceptability, clobber, chunks, data_compression, flags_compression, nsample_compression, data_write_dtype)\u001b[0m\n\u001b[1;32m   7520\u001b[0m             \u001b[0mflags_compression\u001b[0m\u001b[0;34m=\u001b[0m\u001b[0mflags_compression\u001b[0m\u001b[0;34m,\u001b[0m\u001b[0;34m\u001b[0m\u001b[0;34m\u001b[0m\u001b[0m\n\u001b[1;32m   7521\u001b[0m             \u001b[0mnsample_compression\u001b[0m\u001b[0;34m=\u001b[0m\u001b[0mnsample_compression\u001b[0m\u001b[0;34m,\u001b[0m\u001b[0;34m\u001b[0m\u001b[0;34m\u001b[0m\u001b[0m\n\u001b[0;32m-> 7522\u001b[0;31m             \u001b[0mdata_write_dtype\u001b[0m\u001b[0;34m=\u001b[0m\u001b[0mdata_write_dtype\u001b[0m\u001b[0;34m,\u001b[0m\u001b[0;34m\u001b[0m\u001b[0;34m\u001b[0m\u001b[0m\n\u001b[0m\u001b[1;32m   7523\u001b[0m         )\n\u001b[1;32m   7524\u001b[0m         \u001b[0;32mdel\u001b[0m \u001b[0muvh5_obj\u001b[0m\u001b[0;34m\u001b[0m\u001b[0;34m\u001b[0m\u001b[0m\n",
      "\u001b[0;32m/lustre/aoc/projects/hera/agavidia/anaconda3/envs/hera/lib/python3.7/site-packages/pyuvdata/uvdata/uvh5.py\u001b[0m in \u001b[0;36mwrite_uvh5\u001b[0;34m(self, filename, run_check, check_extra, run_check_acceptability, clobber, chunks, data_compression, flags_compression, nsample_compression, data_write_dtype, add_to_history)\u001b[0m\n\u001b[1;32m   1184\u001b[0m                 \u001b[0mprint\u001b[0m\u001b[0;34m(\u001b[0m\u001b[0;34m\"File exists; clobbering\"\u001b[0m\u001b[0;34m)\u001b[0m\u001b[0;34m\u001b[0m\u001b[0;34m\u001b[0m\u001b[0m\n\u001b[1;32m   1185\u001b[0m             \u001b[0;32melse\u001b[0m\u001b[0;34m:\u001b[0m\u001b[0;34m\u001b[0m\u001b[0;34m\u001b[0m\u001b[0m\n\u001b[0;32m-> 1186\u001b[0;31m                 \u001b[0;32mraise\u001b[0m \u001b[0mIOError\u001b[0m\u001b[0;34m(\u001b[0m\u001b[0;34m\"File exists; skipping\"\u001b[0m\u001b[0;34m)\u001b[0m\u001b[0;34m\u001b[0m\u001b[0;34m\u001b[0m\u001b[0m\n\u001b[0m\u001b[1;32m   1187\u001b[0m \u001b[0;34m\u001b[0m\u001b[0m\n\u001b[1;32m   1188\u001b[0m         \u001b[0;31m# open file for writing\u001b[0m\u001b[0;34m\u001b[0m\u001b[0;34m\u001b[0m\u001b[0;34m\u001b[0m\u001b[0m\n",
      "\u001b[0;31mOSError\u001b[0m: File exists; skipping"
     ]
    }
   ],
   "source": [
    "uvdphased1.write_uvh5(newdatadir + 'lst.2457548.17h42m00s.17h48m00s.uvcRP.phased_icrs.uvh5' )"
   ]
  },
  {
   "cell_type": "code",
   "execution_count": 19,
   "metadata": {},
   "outputs": [],
   "source": [
    "uvdphased2.write_uvh5(newdatadir + 'lst.2457549.17h42m00s.17h48m00s.uvcRP.phased_icrs.uvh5' )"
   ]
  },
  {
   "cell_type": "code",
   "execution_count": 20,
   "metadata": {
    "scrolled": true
   },
   "outputs": [],
   "source": [
    "uvdphased1.write_uvfits(newdatadir + 'lst.2457548.17h42m00s.17h48m00s.uvcRP.phased_icrs.uvfits', spoof_nonessential=True)"
   ]
  },
  {
   "cell_type": "code",
   "execution_count": 21,
   "metadata": {},
   "outputs": [],
   "source": [
    "uvdphased2.write_uvfits(newdatadir + 'lst.2457549.17h42m00s.17h48m00s.uvcRP.phased_icrs.uvfits', spoof_nonessential=True)"
   ]
  },
  {
   "cell_type": "code",
   "execution_count": null,
   "metadata": {},
   "outputs": [],
   "source": [
    "uvdphased_gcrs1.write_uvh5(newdatadir + 'lst.2457548.17h42m00s.17h48m00s.uvcRP.phased_gcrs.uvh5')\n",
    "uvdphased_gcrs2.write_uvh5(newdatadir + 'lst.2457549.17h42m00s.17h48m00s.uvcRP.phased_gcrs.uvh5')"
   ]
  },
  {
   "cell_type": "code",
   "execution_count": null,
   "metadata": {},
   "outputs": [],
   "source": [
    "uvdphased_gcrs1.write_uvfits(newdatadir + 'lst.2457548.17h42m00s.17h48m00s.uvcRP.phased_gcrs.uvfits', spoof_nonessential=True)\n",
    "uvdphased_gcrs2.write_uvfits(newdatadir + 'lst.2457549.17h42m00s.17h48m00s.uvcRP.phased_gcrs.uvfits', spoof_nonessential=True)"
   ]
  },
  {
   "cell_type": "code",
   "execution_count": null,
   "metadata": {},
   "outputs": [],
   "source": []
  },
  {
   "cell_type": "code",
   "execution_count": null,
   "metadata": {},
   "outputs": [],
   "source": []
  },
  {
   "cell_type": "code",
   "execution_count": null,
   "metadata": {},
   "outputs": [],
   "source": [
    "print(np.unique(uvdflag1.ant_1_array))\n",
    "print(np.unique(uvdflag2.ant_1_array))"
   ]
  },
  {
   "cell_type": "code",
   "execution_count": null,
   "metadata": {},
   "outputs": [],
   "source": [
    "vis = uvdflag1.select(bls=(88,89,'xx'), inplace=False)\n",
    "vis2 = uvdflag2.select(bls=(88,89,'xx'), inplace=False)"
   ]
  },
  {
   "cell_type": "code",
   "execution_count": null,
   "metadata": {},
   "outputs": [],
   "source": [
    "vis_data = vis.data_array.squeeze()\n",
    "flag_data = np.array(~vis.flag_array.squeeze(), dtype='float64')\n",
    "vis2_data = vis2.data_array.squeeze()\n",
    "flag2_data = np.array(~vis2.flag_array.squeeze(), dtype='float64')"
   ]
  },
  {
   "cell_type": "code",
   "execution_count": null,
   "metadata": {},
   "outputs": [],
   "source": [
    "plt.figure()\n",
    "plt.imshow(np.log10(np.abs(vis_data)/flag_data),aspect='auto', vmin=-1, vmax=2, cmap='inferno')\n",
    "plt.xlabel('Amplitude')\n",
    "plt.ylabel('Time')\n",
    "plt.colorbar()\n",
    "plt.figure()\n",
    "plt.imshow(np.log10(np.abs(vis2_data)/flag2_data),aspect='auto', vmin=-1, vmax=2, cmap='inferno')\n",
    "plt.xlabel('Amplitude')\n",
    "plt.ylabel('Time')\n",
    "plt.colorbar()"
   ]
  },
  {
   "cell_type": "code",
   "execution_count": 27,
   "metadata": {},
   "outputs": [
    {
     "name": "stdout",
     "output_type": "stream",
     "text": [
      "266.25455501145586\n",
      "266.25111729593675\n"
     ]
    }
   ],
   "source": [
    "ra0 = np.rad2deg(np.median(np.unique(uvd1.lst_array)))\n",
    "ra02 = np.rad2deg(np.median(np.unique(uvd2.lst_array)))\n",
    "print(ra0)\n",
    "print(ra02)"
   ]
  },
  {
   "cell_type": "code",
   "execution_count": 28,
   "metadata": {},
   "outputs": [
    {
     "data": {
      "text/plain": [
       "-0.00935831252357248"
      ]
     },
     "execution_count": 28,
     "metadata": {},
     "output_type": "execute_result"
    }
   ],
   "source": [
    "np.deg2rad(dec)"
   ]
  },
  {
   "cell_type": "code",
   "execution_count": null,
   "metadata": {},
   "outputs": [],
   "source": []
  }
 ],
 "metadata": {
  "kernelspec": {
   "display_name": "hera",
   "language": "python",
   "name": "hera"
  },
  "language_info": {
   "codemirror_mode": {
    "name": "ipython",
    "version": 3
   },
   "file_extension": ".py",
   "mimetype": "text/x-python",
   "name": "python",
   "nbconvert_exporter": "python",
   "pygments_lexer": "ipython3",
   "version": "3.7.7"
  }
 },
 "nbformat": 4,
 "nbformat_minor": 4
}
