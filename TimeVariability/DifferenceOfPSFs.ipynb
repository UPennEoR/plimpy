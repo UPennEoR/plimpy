{
 "cells": [
  {
   "cell_type": "code",
   "execution_count": null,
   "metadata": {},
   "outputs": [],
   "source": [
    "from astropy.io import fits\n",
    "import numpy as np\n",
    "import matplotlib.pyplot as plt"
   ]
  },
  {
   "cell_type": "code",
   "execution_count": null,
   "metadata": {},
   "outputs": [],
   "source": [
    "psf1 = fits.open('2458098_010601_flags_dirty.psf.fits')\n",
    "psf2 = fits.open('2458099_010601_flags_dirty.psf.fits')"
   ]
  },
  {
   "cell_type": "code",
   "execution_count": null,
   "metadata": {},
   "outputs": [],
   "source": [
    "phased1 = fits.open('2458098_010601_phased_dirty.psf.uvfits')\n",
    "phased2 = fits.open('2458099_010601_phased_dirty.psf.uvfits')"
   ]
  },
  {
   "cell_type": "code",
   "execution_count": null,
   "metadata": {},
   "outputs": [],
   "source": [
    "psf1[0].data.shape"
   ]
  },
  {
   "cell_type": "code",
   "execution_count": null,
   "metadata": {},
   "outputs": [],
   "source": [
    "plt.figure()\n",
    "plt.imshow(psf1[0].data[0,0,:,:])\n",
    "plt.colorbar()\n",
    "plt.title('Unphased')\n",
    "\n",
    "plt.figure()\n",
    "plt.imshow(phased1[0].data[0,0,:,:])\n",
    "plt.colorbar()\n",
    "plt.title('Phased')"
   ]
  },
  {
   "cell_type": "code",
   "execution_count": null,
   "metadata": {},
   "outputs": [],
   "source": [
    "plt.figure()\n",
    "plt.imshow(psf2[0].data[0,0,:,:])\n",
    "plt.colorbar()\n",
    "plt.title('Unphased')\n",
    "\n",
    "plt.figure()\n",
    "plt.imshow(phased2[0].data[0,0,:,:])\n",
    "plt.colorbar()\n",
    "plt.title('Phased')"
   ]
  },
  {
   "cell_type": "code",
   "execution_count": null,
   "metadata": {},
   "outputs": [],
   "source": [
    "%matplotlib inline\n",
    "\n",
    "plt.figure(figsize=(8,8))\n",
    "plt.imshow(psf1[0].data[0,0,:,:]-psf2[0].data[0,0,:,:])\n",
    "plt.colorbar()\n",
    "plt.title('Unphased')\n",
    "\n",
    "plt.figure(figsize=(8,8))\n",
    "plt.imshow(phased1[0].data[0,0,:,:]-phased2[0].data[0,0,:,:])\n",
    "plt.colorbar()\n",
    "plt.title('Phased')\n"
   ]
  }
 ],
 "metadata": {
  "kernelspec": {
   "display_name": "hera",
   "language": "python",
   "name": "hera"
  },
  "language_info": {
   "codemirror_mode": {
    "name": "ipython",
    "version": 3
   },
   "file_extension": ".py",
   "mimetype": "text/x-python",
   "name": "python",
   "nbconvert_exporter": "python",
   "pygments_lexer": "ipython3",
   "version": "3.7.7"
  }
 },
 "nbformat": 4,
 "nbformat_minor": 4
}
