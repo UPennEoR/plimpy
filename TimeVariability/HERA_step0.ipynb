{
 "cells": [
  {
   "cell_type": "code",
   "execution_count": 21,
   "metadata": {},
   "outputs": [
    {
     "name": "stdout",
     "output_type": "stream",
     "text": [
      "CPU times: user 11.4 s, sys: 87.4 ms, total: 11.5 s\n",
      "Wall time: 11.5 s\n"
     ]
    }
   ],
   "source": [
    "%%time\n",
    "import numpy as np\n",
    "import glob\n",
    "import os\n",
    "from pyuvdata import UVData, UVCal\n",
    "from pyuvdata import utils as uvutils\n",
    "from astropy import units as u\n",
    "from astropy import constants as c\n",
    "import pandas as pd\n",
    "from astropy.time import Time\n",
    "from astropy.coordinates import get_body, SkyCoord, AltAz, EarthLocation, Angle\n",
    "\n",
    "\n",
    "# Calculate sun position\n",
    "def SunAlt(times, location):\n",
    "    sun = get_body('sun', times)\n",
    "    sun_altaz = sun.transform_to(AltAz(location = location))\n",
    "    return sun_altaz.alt.deg\n",
    "\n",
    "\n",
    "JD = '2457552'\n",
    "rawpath = '/lustre/aoc/projects/hera/plaplant/HERA19Golden/RawData/'+JD+'/'\n",
    "outpath = '/lustre/aoc/projects/hera/jaguirre/HERA19Summer2020/RawData/'+JD+'/'\n",
    "\n",
    "#load in all files for that day\n",
    "filenames = sorted(glob.glob(os.path.join(rawpath, 'zen.' + JD +'*xx.HH.uvcRP')))\n",
    "\n",
    "# There's no point in doing this multiple times\n",
    "uvd = UVData()\n",
    "uvd.read(filenames[0])\n",
    "# HERA Lat / Lon\n",
    "lat, lon, alt = uvd.telescope_location_lat_lon_alt_degrees\n",
    "latitude = Angle(lat*u.deg)\n",
    "longitude = Angle(lon*u.deg)\n",
    "# This is GEODETIC\n",
    "karoo = EarthLocation(longitude, latitude, height=alt*u.m)\n",
    "\n",
    "data = {'Filename': [], \n",
    "        'Julian Date': [], \n",
    "        'LST (rad)': [], \n",
    "        'UTC': [],\n",
    "        'LST (hr)': [],\n",
    "        'Sun alt (deg)': []\n",
    "       }\n",
    "\n",
    "for filename in filenames:\n",
    "    \n",
    "    # creating output filename\n",
    "    filename_only = filename.split('/')[-1]\n",
    "    tmp = filename_only.split('.')\n",
    "       \n",
    "    #uvd = UVData()\n",
    "    #uvd.read(filename)  # don't need to do this twice\n",
    "    \n",
    "    ntimes = uvd.Ntimes\n",
    "    lst_tmp = np.unique(uvd.lst_array)\n",
    "    time_tmp = np.unique(np.unique(uvd.time_array))\n",
    "    times = Time(time_tmp, format='jd')\n",
    "    \n",
    "    \"\"\" This approach makes a list out of however many time samples are in a file (a variable\n",
    "    number, otherwise we would just declare the size of the array at the outset)\n",
    "    \"\"\"\n",
    "    data['Filename'] += [outfile for i in np.arange(ntimes)]\n",
    "    data['Julian Date'] += list(time_tmp)  \n",
    "    data['LST (rad)'] += list(lst_tmp)\n",
    "    data['UTC'] += list(Time(time_tmp, format='jd').iso)\n",
    "    data['LST (hr)'] += list(Angle(lst_tmp, u.rad).to_string(unit=u.hour))\n",
    "    data['Sun alt (deg)'] += list(SunAlt(times, karoo))\n",
    "\n",
    "\n",
    "\n",
    "dataframe = pd.DataFrame(data)\n",
    "dataframe.to_csv(outpath+JD+'_summary.csv')\n",
    "#dataframe.to_csv(JD+'_summary.csv')"
   ]
  },
  {
   "cell_type": "code",
   "execution_count": null,
   "metadata": {},
   "outputs": [],
   "source": []
  }
 ],
 "metadata": {
  "kernelspec": {
   "display_name": "hera",
   "language": "python",
   "name": "hera"
  },
  "language_info": {
   "codemirror_mode": {
    "name": "ipython",
    "version": 3
   },
   "file_extension": ".py",
   "mimetype": "text/x-python",
   "name": "python",
   "nbconvert_exporter": "python",
   "pygments_lexer": "ipython3",
   "version": "3.7.7"
  }
 },
 "nbformat": 4,
 "nbformat_minor": 4
}
