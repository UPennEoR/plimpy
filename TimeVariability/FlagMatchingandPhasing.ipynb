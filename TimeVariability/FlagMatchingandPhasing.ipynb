{
 "cells": [
  {
   "cell_type": "code",
   "execution_count": null,
   "metadata": {},
   "outputs": [],
   "source": [
    "#this is to make the flags the same between two sets of data "
   ]
  },
  {
   "cell_type": "code",
   "execution_count": null,
   "metadata": {},
   "outputs": [],
   "source": [
    "import numpy as np\n",
    "import matplotlib.pyplot as plt\n",
    "from pyuvdata import UVData\n",
    "import uvtools"
   ]
  },
  {
   "cell_type": "code",
   "execution_count": null,
   "metadata": {},
   "outputs": [],
   "source": [
    "datadir1 = '/lustre/aoc/projects/hera/jaguirre/PolarizedMosaics/2458098_sliced/'\n",
    "datadir2 = '/lustre/aoc/projects/hera/jaguirre/PolarizedMosaics/2458099_sliced/'"
   ]
  },
  {
   "cell_type": "code",
   "execution_count": null,
   "metadata": {},
   "outputs": [],
   "source": [
    "uvd1 = UVData()\n",
    "uvd2 = UVData()"
   ]
  },
  {
   "cell_type": "code",
   "execution_count": null,
   "metadata": {},
   "outputs": [],
   "source": [
    "uvd1.read(datadir1 + 'zen.010601_011009.calibrated.HH.uvfits')\n",
    "uvd2.read(datadir2 + 'zen.010601_011009.calibrated.HH.uvfits')"
   ]
  },
  {
   "cell_type": "code",
   "execution_count": null,
   "metadata": {},
   "outputs": [],
   "source": [
    "final_flags = np.logical_or(uvd1.flag_array, uvd2.flag_array)"
   ]
  },
  {
   "cell_type": "code",
   "execution_count": null,
   "metadata": {},
   "outputs": [],
   "source": [
    "print(np.sum(final_flags))\n",
    "np.shape(final_flags)"
   ]
  },
  {
   "cell_type": "code",
   "execution_count": null,
   "metadata": {},
   "outputs": [],
   "source": [
    "#set original flag data equal to the new flag data made with the logical or \n",
    "uvd1.flag_array = final_flags\n",
    "uvd2.flag_array = final_flags"
   ]
  },
  {
   "cell_type": "code",
   "execution_count": null,
   "metadata": {},
   "outputs": [],
   "source": [
    "#writing out the data saves the change made by setting the old data equal to the new data\n",
    "uvd1.write_uvfits(datadir1+'zen.010601_011009.calibrated.flags.HH.uvfits')\n",
    "uvd2.write_uvfits(datadir2+'zen.010601_011009.calibrated.flags.HH.uvfits')"
   ]
  },
  {
   "cell_type": "code",
   "execution_count": null,
   "metadata": {},
   "outputs": [],
   "source": [
    "#reading back in the new data to see if it was done correctly\n",
    "uvdtest1 = UVData()\n",
    "uvdtest2 = UVData()\n",
    "uvdtest1.read(datadir1+'zen.010601_011009.calibrated.flags.HH.uvfits')\n",
    "uvdtest2.read(datadir2+'zen.010601_011009.calibrated.flags.HH.uvfits')"
   ]
  },
  {
   "cell_type": "code",
   "execution_count": null,
   "metadata": {},
   "outputs": [],
   "source": [
    "#testing to see if flags turned out to be the same by plotting "
   ]
  },
  {
   "cell_type": "code",
   "execution_count": null,
   "metadata": {},
   "outputs": [],
   "source": [
    "vis = uvdtest1.select(bls=(70,71,'xx'), inplace=False)\n",
    "vis2 = uvdtest2.select(bls=(70,71,'xx'), inplace=False)"
   ]
  },
  {
   "cell_type": "code",
   "execution_count": null,
   "metadata": {},
   "outputs": [],
   "source": [
    "vis_data = vis.data_array.squeeze()\n",
    "flag_data = np.array(~vis.flag_array.squeeze(), dtype='float64')\n",
    "vis2_data = vis2.data_array.squeeze()\n",
    "flag2_data = np.array(~vis2.flag_array.squeeze(), dtype='float64')"
   ]
  },
  {
   "cell_type": "code",
   "execution_count": null,
   "metadata": {},
   "outputs": [],
   "source": [
    "plt.figure()\n",
    "plt.imshow(np.log10(np.abs(vis_data)/flag_data),aspect='auto', vmin=-1, vmax=2, cmap='inferno')\n",
    "plt.xlabel('Amplitude')\n",
    "plt.ylabel('Time')\n",
    "plt.colorbar()\n",
    "plt.figure()\n",
    "plt.imshow(np.log10(np.abs(vis2_data)/flag2_data),aspect='auto', vmin=-1, vmax=2, cmap='inferno')\n",
    "plt.xlabel('Amplitude')\n",
    "plt.ylabel('Time')\n",
    "plt.colorbar()\n",
    "#looks good. no logical or needed for the flags anymore, flags are the same "
   ]
  },
  {
   "cell_type": "code",
   "execution_count": null,
   "metadata": {},
   "outputs": [],
   "source": [
    "#this is to fix the phasing"
   ]
  },
  {
   "cell_type": "code",
   "execution_count": null,
   "metadata": {},
   "outputs": [],
   "source": [
    "dec = uvdtest1.telescope_location_lat_lon_alt[0]\n",
    "ra = np.median(uvdtest1.lst_array)\n",
    "print(dec)\n",
    "print(ra)"
   ]
  },
  {
   "cell_type": "code",
   "execution_count": null,
   "metadata": {},
   "outputs": [],
   "source": [
    "dec2 = uvdtest2.telescope_location_lat_lon_alt[0]\n",
    "ra2 = np.median(uvdtest2.lst_array)\n",
    "print(dec2)\n",
    "print(ra2)"
   ]
  },
  {
   "cell_type": "code",
   "execution_count": null,
   "metadata": {},
   "outputs": [],
   "source": [
    "print(uvdtest1.phase_type)\n",
    "print(uvdtest2.phase_type)"
   ]
  },
  {
   "cell_type": "code",
   "execution_count": null,
   "metadata": {},
   "outputs": [],
   "source": [
    "#change from phased to drift so specific ra0 and dec0 can be set\n",
    "uvdtest1.unphase_to_drift()\n",
    "uvdtest2.unphase_to_drift()"
   ]
  },
  {
   "cell_type": "code",
   "execution_count": null,
   "metadata": {},
   "outputs": [],
   "source": [
    "print(uvdtest1.phase_type)\n",
    "print(uvdtest2.phase_type)"
   ]
  },
  {
   "cell_type": "code",
   "execution_count": null,
   "metadata": {},
   "outputs": [],
   "source": [
    "#set defined ra0 and dec0, need to copy because this alters the original data set \n",
    "from copy import deepcopy"
   ]
  },
  {
   "cell_type": "code",
   "execution_count": null,
   "metadata": {},
   "outputs": [],
   "source": [
    "uvdphased1 = deepcopy(uvdtest1)\n",
    "uvdphased2 = deepcopy(uvdtest2)"
   ]
  },
  {
   "cell_type": "code",
   "execution_count": null,
   "metadata": {},
   "outputs": [],
   "source": [
    "uvdphased1.phase(ra,dec)\n",
    "uvdphased2.phase(ra,dec)"
   ]
  },
  {
   "cell_type": "code",
   "execution_count": null,
   "metadata": {},
   "outputs": [],
   "source": [
    "#writing out the new altered data that contains matching flags and matching phases (I hope)\n",
    "uvdphased1.write_uvfits(datadir1 + 'zen.010601_011009.calibrated.phased.HH.uvfits')\n",
    "uvdphased2.write_uvfits(datadir2 + 'zen.010601_011009.calibrated.phased.HH.uvfits')"
   ]
  }
 ],
 "metadata": {
  "kernelspec": {
   "display_name": "hera",
   "language": "python",
   "name": "hera"
  },
  "language_info": {
   "codemirror_mode": {
    "name": "ipython",
    "version": 3
   },
   "file_extension": ".py",
   "mimetype": "text/x-python",
   "name": "python",
   "nbconvert_exporter": "python",
   "pygments_lexer": "ipython3",
   "version": "3.7.7"
  }
 },
 "nbformat": 4,
 "nbformat_minor": 4
}
