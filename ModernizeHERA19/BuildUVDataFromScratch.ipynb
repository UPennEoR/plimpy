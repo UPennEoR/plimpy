{
 "cells": [
  {
   "cell_type": "code",
   "execution_count": 1,
   "metadata": {},
   "outputs": [],
   "source": [
    "import numpy as np\n",
    "import matplotlib.pyplot as plt"
   ]
  },
  {
   "cell_type": "code",
   "execution_count": 2,
   "metadata": {},
   "outputs": [],
   "source": [
    "from pyuvdata import UVData"
   ]
  },
  {
   "cell_type": "markdown",
   "metadata": {},
   "source": [
    "The idea is that we are working from an existing data file, but we want a new one with controlled LST range."
   ]
  },
  {
   "cell_type": "code",
   "execution_count": 3,
   "metadata": {},
   "outputs": [],
   "source": [
    "uvd_raw = UVData()"
   ]
  },
  {
   "cell_type": "code",
   "execution_count": 4,
   "metadata": {},
   "outputs": [],
   "source": [
    "uvd_raw.read('/lustre/aoc/projects/hera/jaguirre/HERA19Summer2020/Simulation/zen.2457755.69492.uvCP.uvh5')"
   ]
  },
  {
   "cell_type": "code",
   "execution_count": 5,
   "metadata": {},
   "outputs": [],
   "source": [
    "# We'll do this differently, but for now just want to pick LSTs that lie within the range of the data file"
   ]
  },
  {
   "cell_type": "code",
   "execution_count": 6,
   "metadata": {},
   "outputs": [
    {
     "data": {
      "text/plain": [
       "61"
      ]
     },
     "execution_count": 6,
     "metadata": {},
     "output_type": "execute_result"
    }
   ],
   "source": [
    "uvd_raw.Ntimes"
   ]
  },
  {
   "cell_type": "code",
   "execution_count": 7,
   "metadata": {},
   "outputs": [],
   "source": [
    "def jd_at_lst(uvdata, lst0):\n",
    "    \"\"\" Given a UVData object, find the JD corresponding to the requested LST \"\"\"\n",
    "    jd = np.unique(uvdata.time_array)\n",
    "    lst = np.unique(uvdata.lst_array)\n",
    "    \n",
    "    return np.interp(lst0, lst, jd)"
   ]
  },
  {
   "cell_type": "code",
   "execution_count": 8,
   "metadata": {},
   "outputs": [],
   "source": [
    "lsts = np.unique(uvd_raw.lst_array)\n",
    "jds = np.unique(uvd_raw.time_array)"
   ]
  },
  {
   "cell_type": "code",
   "execution_count": 9,
   "metadata": {},
   "outputs": [],
   "source": [
    "pad = 30/3600.*2.*np.pi/24."
   ]
  },
  {
   "cell_type": "code",
   "execution_count": 10,
   "metadata": {},
   "outputs": [],
   "source": [
    "lst_min = lsts.min()+pad\n",
    "lst_max = lsts.max()-pad"
   ]
  },
  {
   "cell_type": "code",
   "execution_count": 11,
   "metadata": {},
   "outputs": [],
   "source": [
    "lst_where = np.logical_and(lsts < lst_max, lsts > lst_min)"
   ]
  },
  {
   "cell_type": "code",
   "execution_count": 12,
   "metadata": {},
   "outputs": [
    {
     "data": {
      "text/plain": [
       "<matplotlib.lines.Line2D at 0x7fe8bd17c750>"
      ]
     },
     "execution_count": 12,
     "metadata": {},
     "output_type": "execute_result"
    },
    {
     "data": {
      "image/png": "[encoded data removed]",
      "text/plain": [
       "<Figure size 432x288 with 1 Axes>"
      ]
     },
     "metadata": {
      "needs_background": "light"
     },
     "output_type": "display_data"
    }
   ],
   "source": [
    "plt.plot(lsts,'.')\n",
    "plt.axhline(lst_min,linestyle='--',color='orange')\n",
    "plt.axhline(lst_max,linestyle='--',color='orange')"
   ]
  },
  {
   "cell_type": "code",
   "execution_count": 13,
   "metadata": {},
   "outputs": [],
   "source": [
    "Ntimes = 60 # Picked by fiat; need a plan"
   ]
  },
  {
   "cell_type": "code",
   "execution_count": 14,
   "metadata": {},
   "outputs": [],
   "source": [
    "\"\"\" You can set the LSTs from the time set_lsts_from_time_array, but here the whole point is to fix the LST, and then\n",
    "get the corresponding JD.  I hope linear interpolation is sufficiently accurate. \"\"\"\n",
    "lsts_new = np.linspace(lst_min, lst_max, Ntimes)\n",
    "jds_new = jd_at_lst(uvd_raw, lsts_new) "
   ]
  },
  {
   "cell_type": "code",
   "execution_count": 15,
   "metadata": {},
   "outputs": [
    {
     "name": "stderr",
     "output_type": "stream",
     "text": [
      "HealVis failed to import.\n",
      "PRISim failed to import.\n",
      "VisGPU failed to import.\n",
      "\n",
      "In the next major release, all HERA-specific variables will be removed from the codebase. The following variables will need to be accessed through new class-like structures to be introduced in the next major release: \n",
      "\n",
      "noise.HERA_Tsky_mdl\n",
      "noise.HERA_BEAM_POLY\n",
      "sigchain.HERA_NRAO_BANDPASS\n",
      "rfi.HERA_RFI_STATIONS\n",
      "\n",
      "Additionally, the next major release will involve modifications to the package's API, which move toward a regularization of the way in which hera_sim methods are interfaced with; in particular, changes will be made such that the Simulator class is the most intuitive way of interfacing with the hera_sim package features.\n"
     ]
    }
   ],
   "source": [
    "from hera_sim import io"
   ]
  },
  {
   "cell_type": "code",
   "execution_count": 16,
   "metadata": {},
   "outputs": [],
   "source": [
    "ants = uvd_raw.get_ENU_antpos()\n",
    "ants_dict = {}\n",
    "for i,a in enumerate(ants[1]):\n",
    "    ants_dict[a] = ants[0][i]"
   ]
  },
  {
   "cell_type": "code",
   "execution_count": 17,
   "metadata": {},
   "outputs": [
    {
     "data": {
      "text/plain": [
       "{9: array([-1.46000000e+01,  7.16130586e-09, -3.44503370e-09]),\n",
       " 10: array([ 2.19000000e+01,  1.26439709e+01, -3.03342418e-09]),\n",
       " 20: array([-1.23509992e-10,  7.29162745e-09, -3.22573585e-09]),\n",
       " 22: array([-7.30000000e+00,  1.26439709e+01, -2.94611446e-09]),\n",
       " 31: array([ 7.30000000e+00, -1.26439709e+01, -2.68695466e-09]),\n",
       " 43: array([ 2.92000000e+01,  7.72609052e-09, -2.49464194e-09]),\n",
       " 53: array([-7.30000000e+00, -1.26439709e+01, -3.05250136e-09]),\n",
       " 64: array([-2.19000000e+01, -1.26439709e+01, -2.67276867e-09]),\n",
       " 65: array([ 2.19000000e+01, -1.26439709e+01, -3.06668557e-09]),\n",
       " 72: array([-1.46000000e+01,  2.52879418e+01, -3.53277052e-09]),\n",
       " 80: array([-1.46000000e+01, -2.52879418e+01, -3.01467651e-09]),\n",
       " 81: array([ 7.30000000e+00,  1.26439709e+01, -2.58056776e-09]),\n",
       " 88: array([-2.92000000e+01,  7.82985996e-09, -2.32002428e-09]),\n",
       " 89: array([ 1.46000000e+01,  7.50885896e-09, -2.86018953e-09]),\n",
       " 96: array([ 1.46000000e+01, -2.52879418e+01, -1.53830371e-09]),\n",
       " 97: array([ 1.46000000e+01,  2.52879418e+01, -4.51160709e-09]),\n",
       " 104: array([-2.60357957e-10, -2.52879418e+01, -2.72225442e-09]),\n",
       " 105: array([-2.19000000e+01,  1.26439709e+01, -2.42013432e-09]),\n",
       " 112: array([ 1.06564535e-10,  2.52879418e+01, -3.31347394e-09])}"
      ]
     },
     "execution_count": 17,
     "metadata": {},
     "output_type": "execute_result"
    }
   ],
   "source": [
    "ants_dict"
   ]
  },
  {
   "cell_type": "code",
   "execution_count": 18,
   "metadata": {},
   "outputs": [],
   "source": [
    "uvd_hera_sim = io.empty_uvdata(nfreq=uvd_raw.Nfreqs, ntimes=Ntimes, ants=ants_dict)"
   ]
  },
  {
   "cell_type": "code",
   "execution_count": 19,
   "metadata": {},
   "outputs": [
    {
     "name": "stdout",
     "output_type": "stream",
     "text": [
      "(1, 1024)\n",
      "(1, 1024)\n"
     ]
    }
   ],
   "source": [
    "print(uvd_raw.freq_array.shape)\n",
    "print(uvd_hera_sim.freq_array.shape)"
   ]
  },
  {
   "cell_type": "code",
   "execution_count": 20,
   "metadata": {},
   "outputs": [
    {
     "name": "stdout",
     "output_type": "stream",
     "text": [
      "97656.25 97751.71065492928\n"
     ]
    }
   ],
   "source": [
    "print(uvd_hera_sim.channel_width, uvd_raw.channel_width)"
   ]
  },
  {
   "cell_type": "code",
   "execution_count": 22,
   "metadata": {},
   "outputs": [
    {
     "data": {
      "text/plain": [
       "[<matplotlib.lines.Line2D at 0x7fe8be830cd0>]"
      ]
     },
     "execution_count": 22,
     "metadata": {},
     "output_type": "execute_result"
    },
    {
     "data": {
      "image/png": "[encoded data removed]",
      "text/plain": [
       "<Figure size 432x288 with 1 Axes>"
      ]
     },
     "metadata": {
      "needs_background": "light"
     },
     "output_type": "display_data"
    }
   ],
   "source": [
    "# It's going to be hard to set everything properly this way ...\n",
    "plt.plot(uvd_raw.freq_array.squeeze() - uvd_hera_sim.freq_array.squeeze())"
   ]
  },
  {
   "cell_type": "code",
   "execution_count": 23,
   "metadata": {},
   "outputs": [],
   "source": [
    "# OK, this is going to be painful"
   ]
  },
  {
   "cell_type": "code",
   "execution_count": 49,
   "metadata": {},
   "outputs": [],
   "source": [
    "uvd_new = UVData()"
   ]
  },
  {
   "cell_type": "code",
   "execution_count": 88,
   "metadata": {},
   "outputs": [],
   "source": [
    "# Let's hope the documentation is good"
   ]
  },
  {
   "cell_type": "code",
   "execution_count": 48,
   "metadata": {},
   "outputs": [
    {
     "name": "stdout",
     "output_type": "stream",
     "text": [
      "['_Ntimes', '_Nbls', '_Nblts', '_Nfreqs', '_Npols', '_data_array', '_vis_units', '_nsample_array', '_flag_array', '_Nspws', '_spw_array', '_uvw_array', '_time_array', '_lst_array', '_ant_1_array', '_ant_2_array', '_baseline_array', '_freq_array', '_polarization_array', '_integration_time', '_channel_width', '_object_name', '_telescope_name', '_instrument', '_telescope_location', '_history', '_phase_type', '_phase_center_epoch', '_phase_center_ra', '_phase_center_dec', '_phase_center_frame', '_Nants_data', '_Nants_telescope', '_antenna_names', '_antenna_numbers', '_antenna_positions', '_x_orientation', '_blt_order', '_extra_keywords', '_antenna_diameters', '_gst0', '_rdate', '_earth_omega', '_dut1', '_timesys', '_uvplane_reference_time', '_eq_coeffs', '_eq_coeffs_convention', 'pyuvdata_version_str']\n",
      "\n",
      "['Ntimes', 'Nbls', 'Nblts', 'Nfreqs', 'Npols', 'data_array', 'vis_units', 'nsample_array', 'flag_array', 'Nspws', 'spw_array', 'uvw_array', 'time_array', 'lst_array', 'ant_1_array', 'ant_2_array', 'baseline_array', 'freq_array', 'polarization_array', 'integration_time', 'channel_width', 'object_name', 'telescope_name', 'instrument', 'telescope_location', 'history', 'phase_type', 'phase_center_epoch', 'phase_center_ra', 'phase_center_dec', 'phase_center_frame', 'Nants_data', 'Nants_telescope', 'antenna_names', 'antenna_numbers', 'antenna_positions', 'x_orientation', 'blt_order', 'extra_keywords', 'antenna_diameters', 'gst0', 'rdate', 'earth_omega', 'dut1', 'timesys', 'uvplane_reference_time', 'eq_coeffs', 'eq_coeffs_convention', 'pyuvdata_version_str']\n"
     ]
    }
   ],
   "source": [
    "# for some dumb reason, the attributes are returned with leading underscore\n",
    "attributes = list(uvd_new.__dict__.keys())\n",
    "print(attributes)\n",
    "for i,attribute in enumerate(attributes):\n",
    "    if attribute[0] == '_':\n",
    "        attributes[i] = attribute[1:]\n",
    "print()\n",
    "print(attributes)"
   ]
  },
  {
   "cell_type": "code",
   "execution_count": 50,
   "metadata": {},
   "outputs": [],
   "source": [
    "# Just assign all the original attributes to the new thing\n",
    "for attribute in attributes:\n",
    "    setattr(uvd_new, attribute, getattr(uvd_raw, attribute))"
   ]
  },
  {
   "cell_type": "code",
   "execution_count": 52,
   "metadata": {},
   "outputs": [
    {
     "data": {
      "text/plain": [
       "True"
      ]
     },
     "execution_count": 52,
     "metadata": {},
     "output_type": "execute_result"
    }
   ],
   "source": [
    "uvd_raw == uvd_new"
   ]
  },
  {
   "cell_type": "code",
   "execution_count": 63,
   "metadata": {},
   "outputs": [
    {
     "data": {
      "text/plain": [
       "(11590, 1, 1024, 4)"
      ]
     },
     "execution_count": 63,
     "metadata": {},
     "output_type": "execute_result"
    }
   ],
   "source": [
    "uvd_raw.flag_array.shape"
   ]
  },
  {
   "cell_type": "code",
   "execution_count": 76,
   "metadata": {},
   "outputs": [
    {
     "data": {
      "text/plain": [
       "(11590, 1, 1024, 4)"
      ]
     },
     "execution_count": 76,
     "metadata": {},
     "output_type": "execute_result"
    }
   ],
   "source": [
    "uvd_raw.data_array.shape"
   ]
  },
  {
   "cell_type": "code",
   "execution_count": 72,
   "metadata": {},
   "outputs": [],
   "source": [
    "Nblts = Ntimes * uvd_raw.Nbls\n",
    "Nspws = uvd_raw.Nspws\n",
    "Nfreqs = uvd_raw.Nfreqs\n",
    "Npols = uvd_raw.Npols"
   ]
  },
  {
   "cell_type": "code",
   "execution_count": 78,
   "metadata": {},
   "outputs": [],
   "source": [
    "data_array_new = np.zeros([Nblts, Nspws, Nfreqs, Npols])\n",
    "flag_array_new = np.zeros([Nblts, Nspws, Nfreqs, Npols])\n",
    "uvw_array_new = np.zeros([Nblts, 3])\n",
    "time_array_new = np.zeros([Nblts])\n",
    "lst_array_new = np.zeros([Nblts])\n",
    "integration_time_new = np.zeros([Nblts])"
   ]
  },
  {
   "cell_type": "code",
   "execution_count": 79,
   "metadata": {},
   "outputs": [],
   "source": [
    "# What do we need to change?\n",
    "to_change = {'Ntimes' : Ntimes,\n",
    "             'Nblts' : Nblts,\n",
    "             'data_array' : data_array_new,\n",
    "             'flag_array' : flag_array_new, # ... hoo boy\n",
    "             'uvw_array' : uvw_array_new, #... need to check if we're drift scanning\n",
    "             'time_array' : time_array_new, \n",
    "             'lst_array' : lst_array_new, \n",
    "             'integration_time' : integration_time_new}"
   ]
  },
  {
   "cell_type": "code",
   "execution_count": 81,
   "metadata": {},
   "outputs": [
    {
     "name": "stdout",
     "output_type": "stream",
     "text": [
      "Changing Ntimes\n",
      "Changing Nblts\n",
      "Changing data_array\n",
      "Changing flag_array\n",
      "Changing uvw_array\n",
      "Changing time_array\n",
      "Changing lst_array\n",
      "Changing integration_time\n"
     ]
    }
   ],
   "source": [
    "uvd_new = UVData()\n",
    "for attribute in attributes:\n",
    "    if attribute in to_change.keys():\n",
    "        print('Changing '+attribute)\n",
    "        setattr(uvd_new, attribute, to_change[attribute])\n",
    "    else:\n",
    "        setattr(uvd_new, attribute, getattr(uvd_raw, attribute))"
   ]
  },
  {
   "cell_type": "code",
   "execution_count": 82,
   "metadata": {},
   "outputs": [
    {
     "data": {
      "text/plain": [
       "(11400,)"
      ]
     },
     "execution_count": 82,
     "metadata": {},
     "output_type": "execute_result"
    }
   ],
   "source": [
    "uvd_new.lst_array.shape"
   ]
  },
  {
   "cell_type": "code",
   "execution_count": 83,
   "metadata": {},
   "outputs": [
    {
     "data": {
      "text/plain": [
       "True"
      ]
     },
     "execution_count": 83,
     "metadata": {},
     "output_type": "execute_result"
    }
   ],
   "source": [
    "uvd_new.Nants_data == uvd_raw.Nants_data"
   ]
  },
  {
   "cell_type": "code",
   "execution_count": null,
   "metadata": {},
   "outputs": [],
   "source": []
  }
 ],
 "metadata": {
  "kernelspec": {
   "display_name": "hera",
   "language": "python",
   "name": "hera"
  },
  "language_info": {
   "codemirror_mode": {
    "name": "ipython",
    "version": 3
   },
   "file_extension": ".py",
   "mimetype": "text/x-python",
   "name": "python",
   "nbconvert_exporter": "python",
   "pygments_lexer": "ipython3",
   "version": "3.7.7"
  }
 },
 "nbformat": 4,
 "nbformat_minor": 4
}
