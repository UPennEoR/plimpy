{
 "cells": [
  {
   "cell_type": "code",
   "execution_count": 67,
   "metadata": {},
   "outputs": [],
   "source": [
    "import numpy as np\n",
    "import matplotlib.pyplot as plt\n",
    "from pyuvdata import UVData, UVCal, UVFlag, utils\n",
    "from glob import glob\n",
    "from astropy import units as u\n",
    "from astropy import constants as c\n",
    "from astropy.time import Time\n",
    "from astropy.coordinates import get_body, SkyCoord, AltAz, EarthLocation, Angle\n",
    "from copy import deepcopy"
   ]
  },
  {
   "cell_type": "code",
   "execution_count": 5,
   "metadata": {},
   "outputs": [],
   "source": [
    "calpath = '/lustre/aoc/projects/hera/plaplant/HERA19Golden/RawData/'\n",
    "rawpath = '/lustre/aoc/projects/hera/jaguirre/HERA19Summer2020/RawData/'"
   ]
  },
  {
   "cell_type": "code",
   "execution_count": 6,
   "metadata": {},
   "outputs": [],
   "source": [
    "uvd = UVData()\n",
    "uvc = UVCal()"
   ]
  },
  {
   "cell_type": "code",
   "execution_count": 16,
   "metadata": {},
   "outputs": [],
   "source": [
    "JD = '2457548'\n",
    "juldate = JD+'.46619'\n",
    "preamble = JD+'/zen.'+juldate\n",
    "\n",
    "# The order in which the polarizations are read ... seems to matter.  This can probably be\n",
    "# fixed, but this order avoids generating an error\n",
    "datafile = rawpath+preamble+'.uvcRP.uvh5'\n",
    "calfits = calpath+preamble + '.HH.uvcRP.calfits'"
   ]
  },
  {
   "cell_type": "code",
   "execution_count": 19,
   "metadata": {},
   "outputs": [
    {
     "data": {
      "text/plain": [
       "'/lustre/aoc/projects/hera/plaplant/HERA19Golden/RawData/2457548/zen.2457548.46619.HH.uvcRP.calfits'"
      ]
     },
     "execution_count": 19,
     "metadata": {},
     "output_type": "execute_result"
    }
   ],
   "source": [
    "calfits"
   ]
  },
  {
   "cell_type": "code",
   "execution_count": 20,
   "metadata": {},
   "outputs": [
    {
     "name": "stdout",
     "output_type": "stream",
     "text": [
      "/lustre/aoc/projects/hera/plaplant/HERA19Golden/RawData/2457548/zen.2457548.46619.HH.uvcRP.calfits\r\n"
     ]
    }
   ],
   "source": [
    "ls /lustre/aoc/projects/hera/plaplant/HERA19Golden/RawData/2457548/zen.2457548.46619.HH.uvcRP.calfits"
   ]
  },
  {
   "cell_type": "code",
   "execution_count": 24,
   "metadata": {},
   "outputs": [],
   "source": [
    "uvd.read(datafile)\n",
    "uvc.read_calfits(calfits)\n",
    "# For reasons known but to Adam Beardsley, copy_flags is not by default True\n",
    "uvf = UVFlag(uvd, mode='flag', copy_flags=True, run_check=True)"
   ]
  },
  {
   "cell_type": "code",
   "execution_count": 25,
   "metadata": {},
   "outputs": [
    {
     "data": {
      "text/plain": [
       "True"
      ]
     },
     "execution_count": 25,
     "metadata": {},
     "output_type": "execute_result"
    }
   ],
   "source": [
    "# Check that we have, indeed, the same flags\n",
    "np.array_equal(uvd.flag_array, uvf.flag_array)"
   ]
  },
  {
   "cell_type": "code",
   "execution_count": 26,
   "metadata": {},
   "outputs": [],
   "source": [
    "# I'm making 3 copies because the waterfall methods don't seem to have an\n",
    "# inplace=False option ...\n",
    "uvf_thresh = deepcopy(uvf)\n",
    "uvf_or = deepcopy(uvf)\n",
    "uvf_greedy = deepcopy(uvf)"
   ]
  },
  {
   "cell_type": "code",
   "execution_count": 27,
   "metadata": {},
   "outputs": [
    {
     "name": "stdout",
     "output_type": "stream",
     "text": [
      "009 0.28516 0.28516\n",
      "010 0.28516 0.28516\n",
      "020 0.28516 0.28516\n",
      "022 1.00000 1.00000\n",
      "031 0.28516 0.28516\n",
      "043 1.00000 1.00000\n",
      "053 0.28516 0.28516\n",
      "064 0.28516 0.28516\n",
      "065 0.28516 0.28516\n",
      "072 0.28516 0.28516\n",
      "080 1.00000 1.00000\n",
      "081 1.00000 1.00000\n",
      "088 0.28516 0.28516\n",
      "089 0.28516 0.28516\n",
      "096 0.28516 0.28516\n",
      "097 0.28516 0.28516\n",
      "104 0.28516 0.28516\n",
      "105 0.28516 0.28516\n",
      "112 0.28516 0.28516\n"
     ]
    }
   ],
   "source": [
    "# per-antenna flagging is yet another thing ...\n",
    "# It looks like the calfits files already got the memo on antenna flagging ... \n",
    "# and the band edges ...\n",
    "uvf_ant = UVFlag(uvc, mode='flag', copy_flags=True)\n",
    "for i, ant in enumerate(uvf_ant.ant_array):\n",
    "    print('{:03} {:.5f} {:.5f}'.format(ant, uvf_ant.flag_array[i,0,:,:,0].mean(), \n",
    "                                    uvf_ant.flag_array[i,0,:,:,1].mean()))"
   ]
  },
  {
   "cell_type": "code",
   "execution_count": 28,
   "metadata": {},
   "outputs": [
    {
     "data": {
      "text/plain": [
       "<matplotlib.image.AxesImage at 0x7fd4b41b2bd0>"
      ]
     },
     "execution_count": 28,
     "metadata": {},
     "output_type": "execute_result"
    },
    {
     "data": {
      "image/png": "[encoded data removed]",
      "text/plain": [
       "<Figure size 432x288 with 1 Axes>"
      ]
     },
     "metadata": {
      "needs_background": "light"
     },
     "output_type": "display_data"
    }
   ],
   "source": [
    "plt.imshow(np.array(uvf_ant.flag_array[0,0,:,:,0].T,dtype='float64'), aspect='auto')"
   ]
  },
  {
   "cell_type": "code",
   "execution_count": 29,
   "metadata": {},
   "outputs": [
    {
     "data": {
      "text/plain": [
       "(19, 1, 1024, 56, 2)"
      ]
     },
     "execution_count": 29,
     "metadata": {},
     "output_type": "execute_result"
    }
   ],
   "source": [
    "uvf_ant.flag_array.shape"
   ]
  },
  {
   "cell_type": "code",
   "execution_count": 30,
   "metadata": {},
   "outputs": [
    {
     "name": "stdout",
     "output_type": "stream",
     "text": [
      "114.6484375\n",
      "187.890625\n"
     ]
    }
   ],
   "source": [
    "ant_flags = uvf_ant.flag_array[0,0,:,0,0]\n",
    "print(uvf_ant.freq_array.squeeze()[np.where(ant_flags == False)[0][0]]/1e6)\n",
    "print(np.flip(uvf_ant.freq_array.squeeze())[np.where(np.flip(ant_flags) == False)[0][0]]/1e6)"
   ]
  },
  {
   "cell_type": "code",
   "execution_count": 31,
   "metadata": {},
   "outputs": [
    {
     "data": {
      "image/png": "[encoded data removed]",
      "text/plain": [
       "<Figure size 1080x360 with 1 Axes>"
      ]
     },
     "metadata": {
      "needs_background": "light"
     },
     "output_type": "display_data"
    }
   ],
   "source": [
    "plt.figure(figsize=(15,5))\n",
    "plt.plot(uvf_ant.freq_array.squeeze()/1e6,np.array(uvf_ant.flag_array[0,0,:,0,0],dtype='float64'))\n",
    "#plt.plot(np.array(uvf_ant.flag_array[0,0,:,:,0].max(axis=1),dtype='float64'))\n",
    "plt.show()"
   ]
  },
  {
   "cell_type": "code",
   "execution_count": 30,
   "metadata": {},
   "outputs": [],
   "source": [
    "# Check for whether all the data are flagged and whether the sun is up"
   ]
  },
  {
   "cell_type": "code",
   "execution_count": 32,
   "metadata": {},
   "outputs": [],
   "source": [
    "def flag_fraction(uvf):\n",
    "    numflags = uvf.flag_array.sum()\n",
    "    numdata = np.array(uvf.flag_array.shape).prod()\n",
    "    if (numflags == numdata):\n",
    "        print('All are flagged')\n",
    "    else:\n",
    "        print('{:.2f}% are flagged'.format(numflags/numdata*100.))"
   ]
  },
  {
   "cell_type": "code",
   "execution_count": 33,
   "metadata": {},
   "outputs": [
    {
     "name": "stdout",
     "output_type": "stream",
     "text": [
      "3.86% are flagged\n"
     ]
    }
   ],
   "source": [
    "flag_fraction(uvf_or)"
   ]
  },
  {
   "cell_type": "code",
   "execution_count": 34,
   "metadata": {},
   "outputs": [],
   "source": [
    "# Unless you collapse along polarizations, the waterfalls are not all equal\n",
    "uvf_or.to_waterfall(method='or', keep_pol=False)"
   ]
  },
  {
   "cell_type": "code",
   "execution_count": 35,
   "metadata": {},
   "outputs": [
    {
     "data": {
      "text/plain": [
       "(56, 1024, 1)"
      ]
     },
     "execution_count": 35,
     "metadata": {},
     "output_type": "execute_result"
    }
   ],
   "source": [
    "uvf_or.flag_array.shape"
   ]
  },
  {
   "cell_type": "code",
   "execution_count": 36,
   "metadata": {},
   "outputs": [
    {
     "name": "stdout",
     "output_type": "stream",
     "text": [
      "20.91% are flagged\n"
     ]
    }
   ],
   "source": [
    "flag_fraction(uvf_or)"
   ]
  },
  {
   "cell_type": "code",
   "execution_count": 39,
   "metadata": {},
   "outputs": [
    {
     "data": {
      "image/png": "[encoded data removed]",
      "text/plain": [
       "<Figure size 864x360 with 2 Axes>"
      ]
     },
     "metadata": {
      "needs_background": "light"
     },
     "output_type": "display_data"
    }
   ],
   "source": [
    "# What does this look like?\n",
    "plt.figure(figsize=(12,5))\n",
    "plt.imshow(np.array(uvf_or.flag_array.squeeze(),dtype='float64'), aspect='auto')\n",
    "plt.colorbar()\n",
    "plt.show()"
   ]
  },
  {
   "cell_type": "code",
   "execution_count": 45,
   "metadata": {},
   "outputs": [],
   "source": [
    "uvf_or.to_baseline(uvd, force_pol=True)"
   ]
  },
  {
   "cell_type": "code",
   "execution_count": 46,
   "metadata": {},
   "outputs": [
    {
     "data": {
      "text/plain": [
       "(10640, 1, 1024, 4)"
      ]
     },
     "execution_count": 46,
     "metadata": {},
     "output_type": "execute_result"
    }
   ],
   "source": [
    "uvf_or.flag_array.shape"
   ]
  },
  {
   "cell_type": "code",
   "execution_count": 47,
   "metadata": {},
   "outputs": [
    {
     "name": "stdout",
     "output_type": "stream",
     "text": [
      "File flag.2457548.46619.or.uvh5 exists; clobbering\n"
     ]
    }
   ],
   "source": [
    "# Write it out\n",
    "uvf_or.write('flag.'+juldate+'.or.uvh5', clobber=True)"
   ]
  },
  {
   "cell_type": "code",
   "execution_count": 51,
   "metadata": {},
   "outputs": [
    {
     "name": "stderr",
     "output_type": "stream",
     "text": [
      "This object is already a waterfall. Nothing to change.\n"
     ]
    }
   ],
   "source": [
    "# This converts the flag array to a metric array using the mean\n",
    "uvf_thresh.to_waterfall(method='mean', keep_pol=False)"
   ]
  },
  {
   "cell_type": "code",
   "execution_count": 54,
   "metadata": {},
   "outputs": [
    {
     "data": {
      "text/plain": [
       "(56, 1024, 1)"
      ]
     },
     "execution_count": 54,
     "metadata": {},
     "output_type": "execute_result"
    }
   ],
   "source": [
    "uvf_thresh.metric_array.shape"
   ]
  },
  {
   "cell_type": "code",
   "execution_count": 55,
   "metadata": {},
   "outputs": [
    {
     "data": {
      "image/png": "[encoded data removed]",
      "text/plain": [
       "<Figure size 864x360 with 2 Axes>"
      ]
     },
     "metadata": {
      "needs_background": "light"
     },
     "output_type": "display_data"
    }
   ],
   "source": [
    "plt.figure(figsize=(12,5))\n",
    "plt.imshow(np.array(uvf_thresh.metric_array.squeeze(),dtype='float64'), aspect='auto')\n",
    "plt.colorbar()\n",
    "plt.show()"
   ]
  },
  {
   "cell_type": "code",
   "execution_count": 57,
   "metadata": {},
   "outputs": [],
   "source": [
    "# to convert this back to a flag array\n",
    "uvf_thresh.to_flag(threshold=0.2)"
   ]
  },
  {
   "cell_type": "code",
   "execution_count": 58,
   "metadata": {},
   "outputs": [
    {
     "data": {
      "image/png": "[encoded data removed]",
      "text/plain": [
       "<Figure size 864x360 with 2 Axes>"
      ]
     },
     "metadata": {
      "needs_background": "light"
     },
     "output_type": "display_data"
    }
   ],
   "source": [
    "plt.figure(figsize=(12,5))\n",
    "plt.imshow(np.array(uvf_thresh.flag_array.squeeze(),dtype='float64'), aspect='auto')\n",
    "plt.colorbar()\n",
    "plt.show()"
   ]
  },
  {
   "cell_type": "code",
   "execution_count": 59,
   "metadata": {},
   "outputs": [
    {
     "name": "stdout",
     "output_type": "stream",
     "text": [
      "(56, 1024, 1)\n",
      "(10640, 1, 1024, 4)\n"
     ]
    }
   ],
   "source": [
    "print(uvf_thresh.flag_array.shape)\n",
    "uvf_thresh.to_baseline(uvd, force_pol=True)\n",
    "print(uvf_thresh.flag_array.shape)\n",
    "uvf_thresh.write('flag.'+juldate+'.thresh.uvh5', clobber=True)"
   ]
  },
  {
   "cell_type": "code",
   "execution_count": 64,
   "metadata": {},
   "outputs": [],
   "source": [
    "# The other kind of flagging I was thinking is if > N% of frequencies are flagged at some time,\n",
    "# then all frequencies are flagged, and similarly for times flagged at some frequency\n",
    "# We have to implement this manually"
   ]
  },
  {
   "cell_type": "code",
   "execution_count": 76,
   "metadata": {},
   "outputs": [
    {
     "name": "stdout",
     "output_type": "stream",
     "text": [
      "(56, 1024, 1)\n",
      "bool\n"
     ]
    },
    {
     "name": "stderr",
     "output_type": "stream",
     "text": [
      "This object is already a waterfall. Nothing to change.\n"
     ]
    }
   ],
   "source": [
    "uvf_greedy.to_waterfall(method='or', keep_pol=False)\n",
    "print(uvf_greedy.flag_array.shape)\n",
    "print(uvf_greedy.flag_array.dtype)"
   ]
  },
  {
   "cell_type": "code",
   "execution_count": 86,
   "metadata": {},
   "outputs": [],
   "source": [
    "time_frac = uvf_greedy.flag_array.mean(axis=1).squeeze()\n",
    "freq_frac = uvf_greedy.flag_array.mean(axis=0).squeeze()"
   ]
  },
  {
   "cell_type": "code",
   "execution_count": 87,
   "metadata": {},
   "outputs": [
    {
     "data": {
      "text/plain": [
       "[<matplotlib.lines.Line2D at 0x7fd484707dd0>]"
      ]
     },
     "execution_count": 87,
     "metadata": {},
     "output_type": "execute_result"
    },
    {
     "data": {
      "image/png": "[encoded data removed]",
      "text/plain": [
       "<Figure size 432x288 with 1 Axes>"
      ]
     },
     "metadata": {
      "needs_background": "light"
     },
     "output_type": "display_data"
    }
   ],
   "source": [
    "plt.plot(freq_frac)"
   ]
  },
  {
   "cell_type": "code",
   "execution_count": 88,
   "metadata": {},
   "outputs": [
    {
     "data": {
      "text/plain": [
       "[<matplotlib.lines.Line2D at 0x7fd484b046d0>]"
      ]
     },
     "execution_count": 88,
     "metadata": {},
     "output_type": "execute_result"
    },
    {
     "data": {
      "image/png": "[encoded data removed]",
      "text/plain": [
       "<Figure size 432x288 with 1 Axes>"
      ]
     },
     "metadata": {
      "needs_background": "light"
     },
     "output_type": "display_data"
    }
   ],
   "source": [
    "plt.plot(time_frac)"
   ]
  },
  {
   "cell_type": "code",
   "execution_count": 89,
   "metadata": {},
   "outputs": [
    {
     "data": {
      "text/plain": [
       "(56, 1024, 1)"
      ]
     },
     "execution_count": 89,
     "metadata": {},
     "output_type": "execute_result"
    }
   ],
   "source": [
    "uvf_greedy.flag_array.shape"
   ]
  },
  {
   "cell_type": "code",
   "execution_count": 90,
   "metadata": {},
   "outputs": [
    {
     "data": {
      "text/plain": [
       "(56,)"
      ]
     },
     "execution_count": 90,
     "metadata": {},
     "output_type": "execute_result"
    }
   ],
   "source": [
    "time_frac.shape"
   ]
  },
  {
   "cell_type": "code",
   "execution_count": 94,
   "metadata": {},
   "outputs": [],
   "source": [
    "uvf_greedy.flag_array[time_frac>0.33,:,0] = True\n",
    "uvf_greedy.flag_array[:,freq_frac>0.10,0] = True"
   ]
  },
  {
   "cell_type": "code",
   "execution_count": 95,
   "metadata": {},
   "outputs": [
    {
     "data": {
      "image/png": "[encoded data removed]",
      "text/plain": [
       "<Figure size 864x360 with 2 Axes>"
      ]
     },
     "metadata": {
      "needs_background": "light"
     },
     "output_type": "display_data"
    }
   ],
   "source": [
    "plt.figure(figsize=(12,5))\n",
    "plt.imshow(np.array(uvf_greedy.flag_array.squeeze(),dtype='float64'), aspect='auto')\n",
    "plt.colorbar()\n",
    "plt.show()"
   ]
  },
  {
   "cell_type": "code",
   "execution_count": 70,
   "metadata": {},
   "outputs": [],
   "source": [
    "# We can apply the flags to data using\n",
    "utils.apply_uvflag(uvd, uvf_or)\n",
    "# by default, this \"OR\"s with existing flags"
   ]
  },
  {
   "cell_type": "code",
   "execution_count": 72,
   "metadata": {},
   "outputs": [],
   "source": [
    "# and the resulting uvd can be written out"
   ]
  },
  {
   "cell_type": "code",
   "execution_count": null,
   "metadata": {},
   "outputs": [],
   "source": []
  }
 ],
 "metadata": {
  "kernelspec": {
   "display_name": "hera",
   "language": "python",
   "name": "hera"
  },
  "language_info": {
   "codemirror_mode": {
    "name": "ipython",
    "version": 3
   },
   "file_extension": ".py",
   "mimetype": "text/x-python",
   "name": "python",
   "nbconvert_exporter": "python",
   "pygments_lexer": "ipython3",
   "version": "3.7.7"
  }
 },
 "nbformat": 4,
 "nbformat_minor": 4
}
