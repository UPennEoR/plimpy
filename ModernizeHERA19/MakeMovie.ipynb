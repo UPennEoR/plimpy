{
 "cells": [
  {
   "cell_type": "code",
   "execution_count": null,
   "metadata": {},
   "outputs": [],
   "source": [
    "# Makes a movie from an ordered list of "
   ]
  },
  {
   "cell_type": "code",
   "execution_count": null,
   "metadata": {},
   "outputs": [],
   "source": []
  },
  {
   "cell_type": "code",
   "execution_count": 4,
   "metadata": {},
   "outputs": [],
   "source": [
    "from astropy import units as u\n",
    "import numpy as np\n",
    "from glob import glob\n",
    "import os\n",
    "from pyuvdata import UVData\n",
    "#from astropy.coordinates import Angle\n",
    "#from astropy.io import fits\n",
    "from tqdm.notebook import tqdm\n",
    "#from casatasks import importuvfits, exportfits, tclean, importfits\n",
    "import matplotlib.pyplot as plt\n",
    "#from matplotlib.colors import SymLogNorm\n",
    "#%matplotlib notebook\n",
    "#from astropy.wcs import WCS\n",
    "import warnings\n",
    "warnings.filterwarnings(\"ignore\")\n",
    "import matplotlib.image as mpimg\n",
    "import cv2"
   ]
  },
  {
   "cell_type": "code",
   "execution_count": 5,
   "metadata": {},
   "outputs": [],
   "source": [
    "imagepath = '/lustre/aoc/projects/hera/jaguirre/HERA19Summer2020/LSTSlice/Simulation/'\n",
    "pngfiles=np.sort(glob(os.path.join(imagepath, 'lst.*.uvcRP.phased.image/lst.*.image.png')))\n",
    "nfiles = len(pngfiles)"
   ]
  },
  {
   "cell_type": "code",
   "execution_count": 7,
   "metadata": {},
   "outputs": [],
   "source": [
    "def MovieFromFileList(files, movie_filename, fps=20):\n",
    "    \n",
    "    #files = glob(filedir+'/orrery????.png')\n",
    "    #files.sort()\n",
    "    \n",
    "    # Read the initial frame to get the size\n",
    "    img = cv2.imread(files[0])\n",
    "    height, width, layers = img.shape\n",
    "    size = (width,height)\n",
    "    \n",
    "    out = cv2.VideoWriter(movie_filename, cv2.VideoWriter_fourcc(*'DIVX'), fps, size)\n",
    "    for fn in tqdm(files):\n",
    "\n",
    "        img = cv2.imread(fn)\n",
    "        out.write(img)\n",
    "\n",
    "    out.release()\n",
    "    \n",
    "    return"
   ]
  },
  {
   "cell_type": "code",
   "execution_count": 8,
   "metadata": {},
   "outputs": [
    {
     "data": {
      "application/vnd.jupyter.widget-view+json": {
       "model_id": "478e06c1748044f1aa4bf9e7d4234cc0",
       "version_major": 2,
       "version_minor": 0
      },
      "text/plain": [
       "HBox(children=(FloatProgress(value=0.0, max=116.0), HTML(value='')))"
      ]
     },
     "metadata": {},
     "output_type": "display_data"
    },
    {
     "name": "stdout",
     "output_type": "stream",
     "text": [
      "\n"
     ]
    }
   ],
   "source": [
    "MovieFromFileList(pngfiles, 'hera19sim_fullstokes.mp4')"
   ]
  },
  {
   "cell_type": "code",
   "execution_count": 9,
   "metadata": {},
   "outputs": [
    {
     "name": "stdout",
     "output_type": "stream",
     "text": [
      "hera19sim_fullstokes.mp4\r\n"
     ]
    }
   ],
   "source": [
    "ls *.mp4"
   ]
  },
  {
   "cell_type": "code",
   "execution_count": 10,
   "metadata": {},
   "outputs": [
    {
     "data": {
      "text/plain": [
       "'/lustre/aoc/projects/hera/jaguirre/gitrepos/plimpy/ModernizeHERA19'"
      ]
     },
     "execution_count": 10,
     "metadata": {},
     "output_type": "execute_result"
    }
   ],
   "source": [
    "pwd"
   ]
  },
  {
   "cell_type": "code",
   "execution_count": null,
   "metadata": {},
   "outputs": [],
   "source": []
  }
 ],
 "metadata": {
  "kernelspec": {
   "display_name": "hera",
   "language": "python",
   "name": "hera"
  },
  "language_info": {
   "codemirror_mode": {
    "name": "ipython",
    "version": 3
   },
   "file_extension": ".py",
   "mimetype": "text/x-python",
   "name": "python",
   "nbconvert_exporter": "python",
   "pygments_lexer": "ipython3",
   "version": "3.7.7"
  }
 },
 "nbformat": 4,
 "nbformat_minor": 4
}
