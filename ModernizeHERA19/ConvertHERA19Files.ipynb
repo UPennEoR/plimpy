{
 "cells": [
  {
   "cell_type": "code",
   "execution_count": 109,
   "metadata": {},
   "outputs": [],
   "source": [
    "import numpy as np\n",
    "import matplotlib.pyplot as plt\n",
    "from pyuvdata import UVData, UVCal\n",
    "from glob import glob\n",
    "from astropy import units as u\n",
    "from astropy import constants as c\n",
    "from astropy.time import Time\n",
    "from astropy.coordinates import get_body, SkyCoord, AltAz, EarthLocation, Angle\n",
    "from copy import deepcopy"
   ]
  },
  {
   "cell_type": "code",
   "execution_count": 25,
   "metadata": {},
   "outputs": [],
   "source": [
    "oldpath = '/lustre/aoc/projects/hera/plaplant/HERA19Golden/'\n",
    "newpath = '/lustre/aoc/projects/hera/jaguirre/HERA19Summer2020/'"
   ]
  },
  {
   "cell_type": "code",
   "execution_count": 26,
   "metadata": {},
   "outputs": [],
   "source": [
    "uvdraw = UVData()"
   ]
  },
  {
   "cell_type": "code",
   "execution_count": 27,
   "metadata": {},
   "outputs": [],
   "source": [
    "uvdraw.read(glob(oldpath+'RawData/2457549/zen.2457549.64017.*.HH.uvcRP'))"
   ]
  },
  {
   "cell_type": "code",
   "execution_count": 28,
   "metadata": {},
   "outputs": [],
   "source": [
    "# Check for whether all the data are flagged and whether the sun is up"
   ]
  },
  {
   "cell_type": "code",
   "execution_count": 29,
   "metadata": {},
   "outputs": [
    {
     "name": "stdout",
     "output_type": "stream",
     "text": [
      "7.34% are flagged\n"
     ]
    }
   ],
   "source": [
    "numflags = uvdraw.flag_array.sum()\n",
    "numdata = np.array(uvdraw.flag_array.shape).prod()\n",
    "if (numflags == numdata):\n",
    "    print('All are flagged')\n",
    "else:\n",
    "    print('{:.2f}% are flagged'.format(numflags/numdata*100.))"
   ]
  },
  {
   "cell_type": "code",
   "execution_count": 30,
   "metadata": {},
   "outputs": [],
   "source": [
    "times = Time(np.unique(uvdraw.time_array), format='jd')"
   ]
  },
  {
   "cell_type": "code",
   "execution_count": 31,
   "metadata": {},
   "outputs": [],
   "source": [
    "# HERA Lat / Lon\n",
    "lat, lon, alt = uvdraw.telescope_location_lat_lon_alt_degrees\n",
    "latitude = Angle(lat*u.deg)\n",
    "longitude = Angle(lon*u.deg)\n",
    "# This is GEODETIC\n",
    "karoo = EarthLocation(longitude, latitude, height=alt*u.m)"
   ]
  },
  {
   "cell_type": "code",
   "execution_count": 32,
   "metadata": {},
   "outputs": [],
   "source": [
    "sun = get_body('sun', times)"
   ]
  },
  {
   "cell_type": "code",
   "execution_count": 33,
   "metadata": {},
   "outputs": [],
   "source": [
    "sun_altaz = sun.transform_to(AltAz(location = karoo))#, obstime=times))"
   ]
  },
  {
   "cell_type": "code",
   "execution_count": 34,
   "metadata": {},
   "outputs": [
    {
     "data": {
      "text/plain": [
       "array([-26.34521328, -26.30765173, -26.27009289, -26.23253675,\n",
       "       -26.19498331, -26.15743259, -26.11988459, -26.0823393 ,\n",
       "       -26.04479674, -26.0072569 , -25.9697198 , -25.93218544,\n",
       "       -25.89465381, -25.85712493, -25.8195988 , -25.78207543,\n",
       "       -25.74455481, -25.70703695, -25.66952185, -25.63200953,\n",
       "       -25.59449998, -25.55699321, -25.51948922, -25.48198802,\n",
       "       -25.44448961, -25.40699399, -25.36950118, -25.33201116,\n",
       "       -25.29452396, -25.25703956, -25.21955798, -25.18207922,\n",
       "       -25.14460329, -25.10713018, -25.06965991, -25.03219247,\n",
       "       -24.99472788, -24.95726613, -24.91980722, -24.88235118,\n",
       "       -24.84489799, -24.80744766, -24.77000034, -24.73255575,\n",
       "       -24.69511404, -24.6576752 , -24.62023925, -24.58280619,\n",
       "       -24.54537602, -24.50794874, -24.47052436, -24.43310289,\n",
       "       -24.39568433, -24.35826868, -24.32085595, -24.28344614])"
      ]
     },
     "execution_count": 34,
     "metadata": {},
     "output_type": "execute_result"
    }
   ],
   "source": [
    "sun_altaz.alt.deg"
   ]
  },
  {
   "cell_type": "code",
   "execution_count": 115,
   "metadata": {},
   "outputs": [],
   "source": [
    "# Can we also check if all the baselines have the same flags?  \n",
    "# I think this will simplify things a lot\n",
    "# Also, identify bad antennas?  I think two of them just had their x/y reversed (?)\n",
    "# How do I easily get all waterfalls?"
   ]
  },
  {
   "cell_type": "code",
   "execution_count": 35,
   "metadata": {},
   "outputs": [],
   "source": [
    "from pyuvdata import utils"
   ]
  },
  {
   "cell_type": "code",
   "execution_count": null,
   "metadata": {},
   "outputs": [],
   "source": [
    "# Check whether all waterfalls have the same flags"
   ]
  },
  {
   "cell_type": "code",
   "execution_count": 41,
   "metadata": {},
   "outputs": [],
   "source": [
    "bls = uvdraw.get_antpairpols()"
   ]
  },
  {
   "cell_type": "code",
   "execution_count": 42,
   "metadata": {},
   "outputs": [
    {
     "data": {
      "text/plain": [
       "(10640, 1, 1024, 4)"
      ]
     },
     "execution_count": 42,
     "metadata": {},
     "output_type": "execute_result"
    }
   ],
   "source": [
    "uvdraw.flag_array.shape"
   ]
  },
  {
   "cell_type": "code",
   "execution_count": 43,
   "metadata": {},
   "outputs": [],
   "source": [
    "flags = np.reshape(uvdraw.flag_array.copy(), \n",
    "                   [uvdraw.Ntimes, uvdraw.Nbls, 1, uvdraw.Nfreqs, uvdraw.Npols])"
   ]
  },
  {
   "cell_type": "code",
   "execution_count": 47,
   "metadata": {},
   "outputs": [
    {
     "name": "stdout",
     "output_type": "stream",
     "text": [
      "True\n",
      "True\n",
      "False\n"
     ]
    }
   ],
   "source": [
    "print(True or True)\n",
    "print(True or False)\n",
    "print(False or False)"
   ]
  },
  {
   "cell_type": "code",
   "execution_count": 51,
   "metadata": {},
   "outputs": [],
   "source": [
    "test = np.zeros(10, dtype='bool')"
   ]
  },
  {
   "cell_type": "code",
   "execution_count": 79,
   "metadata": {},
   "outputs": [],
   "source": [
    "bad_ants = [22, 43, 80, 81]"
   ]
  },
  {
   "cell_type": "code",
   "execution_count": 95,
   "metadata": {},
   "outputs": [
    {
     "name": "stdout",
     "output_type": "stream",
     "text": [
      "Excluding (9, 22, 'xx')\n",
      "Excluding (9, 22, 'yy')\n",
      "Excluding (9, 22, 'xy')\n",
      "Excluding (9, 22, 'yx')\n",
      "Excluding (9, 43, 'xx')\n",
      "Excluding (9, 43, 'yy')\n",
      "Excluding (9, 43, 'xy')\n",
      "Excluding (9, 43, 'yx')\n",
      "Excluding (9, 80, 'xx')\n",
      "Excluding (9, 80, 'yy')\n",
      "Excluding (9, 80, 'xy')\n",
      "Excluding (9, 80, 'yx')\n",
      "Excluding (9, 81, 'xx')\n",
      "Excluding (9, 81, 'yy')\n",
      "Excluding (9, 81, 'xy')\n",
      "Excluding (9, 81, 'yx')\n",
      "Excluding (10, 22, 'xx')\n",
      "Excluding (10, 22, 'yy')\n",
      "Excluding (10, 22, 'xy')\n",
      "Excluding (10, 22, 'yx')\n",
      "Excluding (10, 43, 'xx')\n",
      "Excluding (10, 43, 'yy')\n",
      "Excluding (10, 43, 'xy')\n",
      "Excluding (10, 43, 'yx')\n",
      "Excluding (10, 80, 'xx')\n",
      "Excluding (10, 80, 'yy')\n",
      "Excluding (10, 80, 'xy')\n",
      "Excluding (10, 80, 'yx')\n",
      "Excluding (10, 81, 'xx')\n",
      "Excluding (10, 81, 'yy')\n",
      "Excluding (10, 81, 'xy')\n",
      "Excluding (10, 81, 'yx')\n",
      "Excluding (20, 22, 'xx')\n",
      "Excluding (20, 22, 'yy')\n",
      "Excluding (20, 22, 'xy')\n",
      "Excluding (20, 22, 'yx')\n",
      "Excluding (20, 43, 'xx')\n",
      "Excluding (20, 43, 'yy')\n",
      "Excluding (20, 43, 'xy')\n",
      "Excluding (20, 43, 'yx')\n",
      "Excluding (20, 80, 'xx')\n",
      "Excluding (20, 80, 'yy')\n",
      "Excluding (20, 80, 'xy')\n",
      "Excluding (20, 80, 'yx')\n",
      "Excluding (20, 81, 'xx')\n",
      "Excluding (20, 81, 'yy')\n",
      "Excluding (20, 81, 'xy')\n",
      "Excluding (20, 81, 'yx')\n",
      "Excluding (22, 22, 'xx')\n",
      "Excluding (22, 22, 'yy')\n",
      "Excluding (22, 22, 'xy')\n",
      "Excluding (22, 22, 'yx')\n",
      "Excluding (22, 31, 'xx')\n",
      "Excluding (22, 31, 'yy')\n",
      "Excluding (22, 31, 'xy')\n",
      "Excluding (22, 31, 'yx')\n",
      "Excluding (22, 43, 'xx')\n",
      "Excluding (22, 43, 'yy')\n",
      "Excluding (22, 43, 'xy')\n",
      "Excluding (22, 43, 'yx')\n",
      "Excluding (22, 53, 'xx')\n",
      "Excluding (22, 53, 'yy')\n",
      "Excluding (22, 53, 'xy')\n",
      "Excluding (22, 53, 'yx')\n",
      "Excluding (22, 64, 'xx')\n",
      "Excluding (22, 64, 'yy')\n",
      "Excluding (22, 64, 'xy')\n",
      "Excluding (22, 64, 'yx')\n",
      "Excluding (22, 65, 'xx')\n",
      "Excluding (22, 65, 'yy')\n",
      "Excluding (22, 65, 'xy')\n",
      "Excluding (22, 65, 'yx')\n",
      "Excluding (22, 72, 'xx')\n",
      "Excluding (22, 72, 'yy')\n",
      "Excluding (22, 72, 'xy')\n",
      "Excluding (22, 72, 'yx')\n",
      "Excluding (22, 80, 'xx')\n",
      "Excluding (22, 80, 'yy')\n",
      "Excluding (22, 80, 'xy')\n",
      "Excluding (22, 80, 'yx')\n",
      "Excluding (22, 81, 'xx')\n",
      "Excluding (22, 81, 'yy')\n",
      "Excluding (22, 81, 'xy')\n",
      "Excluding (22, 81, 'yx')\n",
      "Excluding (22, 88, 'xx')\n",
      "Excluding (22, 88, 'yy')\n",
      "Excluding (22, 88, 'xy')\n",
      "Excluding (22, 88, 'yx')\n",
      "Excluding (22, 89, 'xx')\n",
      "Excluding (22, 89, 'yy')\n",
      "Excluding (22, 89, 'xy')\n",
      "Excluding (22, 89, 'yx')\n",
      "Excluding (22, 96, 'xx')\n",
      "Excluding (22, 96, 'yy')\n",
      "Excluding (22, 96, 'xy')\n",
      "Excluding (22, 96, 'yx')\n",
      "Excluding (22, 97, 'xx')\n",
      "Excluding (22, 97, 'yy')\n",
      "Excluding (22, 97, 'xy')\n",
      "Excluding (22, 97, 'yx')\n",
      "Excluding (22, 104, 'xx')\n",
      "Excluding (22, 104, 'yy')\n",
      "Excluding (22, 104, 'xy')\n",
      "Excluding (22, 104, 'yx')\n",
      "Excluding (22, 105, 'xx')\n",
      "Excluding (22, 105, 'yy')\n",
      "Excluding (22, 105, 'xy')\n",
      "Excluding (22, 105, 'yx')\n",
      "Excluding (22, 112, 'xx')\n",
      "Excluding (22, 112, 'yy')\n",
      "Excluding (22, 112, 'xy')\n",
      "Excluding (22, 112, 'yx')\n",
      "Excluding (31, 43, 'xx')\n",
      "Excluding (31, 43, 'yy')\n",
      "Excluding (31, 43, 'xy')\n",
      "Excluding (31, 43, 'yx')\n",
      "Excluding (31, 80, 'xx')\n",
      "Excluding (31, 80, 'yy')\n",
      "Excluding (31, 80, 'xy')\n",
      "Excluding (31, 80, 'yx')\n",
      "Excluding (31, 81, 'xx')\n",
      "Excluding (31, 81, 'yy')\n",
      "Excluding (31, 81, 'xy')\n",
      "Excluding (31, 81, 'yx')\n",
      "Excluding (43, 43, 'xx')\n",
      "Excluding (43, 43, 'yy')\n",
      "Excluding (43, 43, 'xy')\n",
      "Excluding (43, 43, 'yx')\n",
      "Excluding (43, 53, 'xx')\n",
      "Excluding (43, 53, 'yy')\n",
      "Excluding (43, 53, 'xy')\n",
      "Excluding (43, 53, 'yx')\n",
      "Excluding (43, 64, 'xx')\n",
      "Excluding (43, 64, 'yy')\n",
      "Excluding (43, 64, 'xy')\n",
      "Excluding (43, 64, 'yx')\n",
      "Excluding (43, 65, 'xx')\n",
      "Excluding (43, 65, 'yy')\n",
      "Excluding (43, 65, 'xy')\n",
      "Excluding (43, 65, 'yx')\n",
      "Excluding (43, 72, 'xx')\n",
      "Excluding (43, 72, 'yy')\n",
      "Excluding (43, 72, 'xy')\n",
      "Excluding (43, 72, 'yx')\n",
      "Excluding (43, 80, 'xx')\n",
      "Excluding (43, 80, 'yy')\n",
      "Excluding (43, 80, 'xy')\n",
      "Excluding (43, 80, 'yx')\n",
      "Excluding (43, 81, 'xx')\n",
      "Excluding (43, 81, 'yy')\n",
      "Excluding (43, 81, 'xy')\n",
      "Excluding (43, 81, 'yx')\n",
      "Excluding (43, 88, 'xx')\n",
      "Excluding (43, 88, 'yy')\n",
      "Excluding (43, 88, 'xy')\n",
      "Excluding (43, 88, 'yx')\n",
      "Excluding (43, 89, 'xx')\n",
      "Excluding (43, 89, 'yy')\n",
      "Excluding (43, 89, 'xy')\n",
      "Excluding (43, 89, 'yx')\n",
      "Excluding (43, 96, 'xx')\n",
      "Excluding (43, 96, 'yy')\n",
      "Excluding (43, 96, 'xy')\n",
      "Excluding (43, 96, 'yx')\n",
      "Excluding (43, 97, 'xx')\n",
      "Excluding (43, 97, 'yy')\n",
      "Excluding (43, 97, 'xy')\n",
      "Excluding (43, 97, 'yx')\n",
      "Excluding (43, 104, 'xx')\n",
      "Excluding (43, 104, 'yy')\n",
      "Excluding (43, 104, 'xy')\n",
      "Excluding (43, 104, 'yx')\n",
      "Excluding (43, 105, 'xx')\n",
      "Excluding (43, 105, 'yy')\n",
      "Excluding (43, 105, 'xy')\n",
      "Excluding (43, 105, 'yx')\n",
      "Excluding (43, 112, 'xx')\n",
      "Excluding (43, 112, 'yy')\n",
      "Excluding (43, 112, 'xy')\n",
      "Excluding (43, 112, 'yx')\n",
      "Excluding (53, 80, 'xx')\n",
      "Excluding (53, 80, 'yy')\n",
      "Excluding (53, 80, 'xy')\n",
      "Excluding (53, 80, 'yx')\n",
      "Excluding (53, 81, 'xx')\n",
      "Excluding (53, 81, 'yy')\n",
      "Excluding (53, 81, 'xy')\n",
      "Excluding (53, 81, 'yx')\n",
      "Excluding (64, 80, 'xx')\n",
      "Excluding (64, 80, 'yy')\n",
      "Excluding (64, 80, 'xy')\n",
      "Excluding (64, 80, 'yx')\n",
      "Excluding (64, 81, 'xx')\n",
      "Excluding (64, 81, 'yy')\n",
      "Excluding (64, 81, 'xy')\n",
      "Excluding (64, 81, 'yx')\n",
      "Excluding (65, 80, 'xx')\n",
      "Excluding (65, 80, 'yy')\n",
      "Excluding (65, 80, 'xy')\n",
      "Excluding (65, 80, 'yx')\n",
      "Excluding (65, 81, 'xx')\n",
      "Excluding (65, 81, 'yy')\n",
      "Excluding (65, 81, 'xy')\n",
      "Excluding (65, 81, 'yx')\n",
      "Excluding (72, 80, 'xx')\n",
      "Excluding (72, 80, 'yy')\n",
      "Excluding (72, 80, 'xy')\n",
      "Excluding (72, 80, 'yx')\n",
      "Excluding (72, 81, 'xx')\n",
      "Excluding (72, 81, 'yy')\n",
      "Excluding (72, 81, 'xy')\n",
      "Excluding (72, 81, 'yx')\n",
      "Excluding (80, 80, 'xx')\n",
      "Excluding (80, 80, 'yy')\n",
      "Excluding (80, 80, 'xy')\n",
      "Excluding (80, 80, 'yx')\n",
      "Excluding (80, 81, 'xx')\n",
      "Excluding (80, 81, 'yy')\n",
      "Excluding (80, 81, 'xy')\n",
      "Excluding (80, 81, 'yx')\n",
      "Excluding (80, 88, 'xx')\n",
      "Excluding (80, 88, 'yy')\n",
      "Excluding (80, 88, 'xy')\n",
      "Excluding (80, 88, 'yx')\n",
      "Excluding (80, 89, 'xx')\n",
      "Excluding (80, 89, 'yy')\n",
      "Excluding (80, 89, 'xy')\n",
      "Excluding (80, 89, 'yx')\n",
      "Excluding (80, 96, 'xx')\n",
      "Excluding (80, 96, 'yy')\n",
      "Excluding (80, 96, 'xy')\n",
      "Excluding (80, 96, 'yx')\n",
      "Excluding (80, 97, 'xx')\n",
      "Excluding (80, 97, 'yy')\n",
      "Excluding (80, 97, 'xy')\n",
      "Excluding (80, 97, 'yx')\n",
      "Excluding (80, 104, 'xx')\n",
      "Excluding (80, 104, 'yy')\n",
      "Excluding (80, 104, 'xy')\n",
      "Excluding (80, 104, 'yx')\n",
      "Excluding (80, 105, 'xx')\n",
      "Excluding (80, 105, 'yy')\n",
      "Excluding (80, 105, 'xy')\n",
      "Excluding (80, 105, 'yx')\n",
      "Excluding (80, 112, 'xx')\n",
      "Excluding (80, 112, 'yy')\n",
      "Excluding (80, 112, 'xy')\n",
      "Excluding (80, 112, 'yx')\n",
      "Excluding (81, 81, 'xx')\n",
      "Excluding (81, 81, 'yy')\n",
      "Excluding (81, 81, 'xy')\n",
      "Excluding (81, 81, 'yx')\n",
      "Excluding (81, 88, 'xx')\n",
      "Excluding (81, 88, 'yy')\n",
      "Excluding (81, 88, 'xy')\n",
      "Excluding (81, 88, 'yx')\n",
      "Excluding (81, 89, 'xx')\n",
      "Excluding (81, 89, 'yy')\n",
      "Excluding (81, 89, 'xy')\n",
      "Excluding (81, 89, 'yx')\n",
      "Excluding (81, 96, 'xx')\n",
      "Excluding (81, 96, 'yy')\n",
      "Excluding (81, 96, 'xy')\n",
      "Excluding (81, 96, 'yx')\n",
      "Excluding (81, 97, 'xx')\n",
      "Excluding (81, 97, 'yy')\n",
      "Excluding (81, 97, 'xy')\n",
      "Excluding (81, 97, 'yx')\n",
      "Excluding (81, 104, 'xx')\n",
      "Excluding (81, 104, 'yy')\n",
      "Excluding (81, 104, 'xy')\n",
      "Excluding (81, 104, 'yx')\n",
      "Excluding (81, 105, 'xx')\n",
      "Excluding (81, 105, 'yy')\n",
      "Excluding (81, 105, 'xy')\n",
      "Excluding (81, 105, 'yx')\n",
      "Excluding (81, 112, 'xx')\n",
      "Excluding (81, 112, 'yy')\n",
      "Excluding (81, 112, 'xy')\n",
      "Excluding (81, 112, 'yx')\n"
     ]
    }
   ],
   "source": [
    "nwaterfall = uvdraw.Ntimes * uvdraw.Nfreqs\n",
    "waterfall_flags = np.zeros([uvdraw.Ntimes, uvdraw.Nfreqs], dtype='bool')\n",
    "waterfall_hits = np.zeros([uvdraw.Ntimes, uvdraw.Nfreqs])\n",
    "waterfall_no_flags_bad_ants = np.zeros([uvdraw.Ntimes, uvdraw.Nfreqs], dtype='bool')\n",
    "waterfall_hits_no_bad_ants = np.zeros([uvdraw.Ntimes, uvdraw.Nfreqs])\n",
    "flag_dict = {}\n",
    "for bl in bls:\n",
    "    fl = uvdraw.get_flags(bl)\n",
    "    flag_dict[bl] = fl\n",
    "    waterfall_flags = np.logical_or(fl, waterfall_flags)\n",
    "    if (bl[0] in bad_ants) or (bl[1] in bad_ants):\n",
    "        print('Excluding', bl)\n",
    "    else:\n",
    "        waterfall_flags_no_bad_ants = np.logical_or(fl, waterfall_flags_no_bad_ants)\n",
    "        waterfall_hits_no_bad_ants += fl\n",
    "    waterfall_hits += fl\n",
    "    #print(bl, '{:.2f}% flagged'.format(fl.sum()/nwaterfall*100.))"
   ]
  },
  {
   "cell_type": "code",
   "execution_count": 84,
   "metadata": {},
   "outputs": [],
   "source": [
    "# OK, I'm glad I checked.  Flags are not homogenized across waterfalls, nor are \n",
    "# bad antennas flagged\n",
    "\n",
    "# For this case, it seems that leaving out the flagged antennas doesn't change the \n",
    "# final logical OR of the flags, but this need not always be the case ..."
   ]
  },
  {
   "cell_type": "code",
   "execution_count": 85,
   "metadata": {},
   "outputs": [
    {
     "name": "stdout",
     "output_type": "stream",
     "text": [
      "24.74% flagged\n"
     ]
    }
   ],
   "source": [
    "print('{:.2f}% flagged'.format(waterfall_flags.sum()/nwaterfall*100.))"
   ]
  },
  {
   "cell_type": "code",
   "execution_count": 96,
   "metadata": {},
   "outputs": [
    {
     "name": "stderr",
     "output_type": "stream",
     "text": [
      "divide by zero encountered in log10\n"
     ]
    },
    {
     "data": {
      "image/png": "[encoded data removed]",
      "text/plain": [
       "<Figure size 864x360 with 2 Axes>"
      ]
     },
     "metadata": {
      "needs_background": "light"
     },
     "output_type": "display_data"
    }
   ],
   "source": [
    "plt.figure(figsize=(12,5))\n",
    "plt.imshow(np.log10(waterfall_hits), aspect='auto')\n",
    "plt.colorbar()\n",
    "plt.show()"
   ]
  },
  {
   "cell_type": "code",
   "execution_count": 97,
   "metadata": {},
   "outputs": [
    {
     "data": {
      "image/png": "[encoded data removed]",
      "text/plain": [
       "<Figure size 864x360 with 2 Axes>"
      ]
     },
     "metadata": {
      "needs_background": "light"
     },
     "output_type": "display_data"
    }
   ],
   "source": [
    "plt.figure(figsize=(12,5))\n",
    "plt.imshow(waterfall_hits-waterfall_hits_no_bad_ants, aspect='auto')\n",
    "plt.colorbar()\n",
    "plt.show()"
   ]
  },
  {
   "cell_type": "code",
   "execution_count": 90,
   "metadata": {},
   "outputs": [
    {
     "data": {
      "image/png": "[encoded data removed]",
      "text/plain": [
       "<Figure size 864x360 with 2 Axes>"
      ]
     },
     "metadata": {
      "needs_background": "light"
     },
     "output_type": "display_data"
    }
   ],
   "source": [
    "plt.figure(figsize=(12,5))\n",
    "plt.imshow(np.array(waterfall_flags_no_bad_ants,dtype='float64'), aspect='auto')\n",
    "plt.colorbar()\n",
    "plt.show()"
   ]
  },
  {
   "cell_type": "code",
   "execution_count": 92,
   "metadata": {},
   "outputs": [],
   "source": [
    "thefuck = np.array(waterfall_flags,dtype='float64') - np.array(waterfall_flags_no_bad_ants,dtype='float64')"
   ]
  },
  {
   "cell_type": "code",
   "execution_count": 94,
   "metadata": {},
   "outputs": [
    {
     "data": {
      "text/plain": [
       "array([[ True,  True,  True, ...,  True,  True,  True],\n",
       "       [ True,  True,  True, ...,  True,  True,  True],\n",
       "       [ True,  True,  True, ...,  True,  True,  True],\n",
       "       ...,\n",
       "       [ True,  True,  True, ...,  True,  True,  True],\n",
       "       [ True,  True,  True, ...,  True,  True,  True],\n",
       "       [ True,  True,  True, ...,  True,  True,  True]])"
      ]
     },
     "execution_count": 94,
     "metadata": {},
     "output_type": "execute_result"
    }
   ],
   "source": [
    "waterfall_flags == waterfall_flags_no_bad_ants"
   ]
  },
  {
   "cell_type": "code",
   "execution_count": 91,
   "metadata": {},
   "outputs": [
    {
     "data": {
      "image/png": "[encoded data removed]",
      "text/plain": [
       "<Figure size 864x360 with 2 Axes>"
      ]
     },
     "metadata": {
      "needs_background": "light"
     },
     "output_type": "display_data"
    }
   ],
   "source": [
    "plt.figure(figsize=(12,5))\n",
    "plt.imshow(np.array(waterfall_flags,dtype='float64') - \n",
    "           np.array(waterfall_flags_no_bad_ants,dtype='float64'), aspect='auto')\n",
    "plt.colorbar()\n",
    "plt.show()"
   ]
  },
  {
   "cell_type": "code",
   "execution_count": 70,
   "metadata": {},
   "outputs": [
    {
     "data": {
      "image/png": "[encoded data removed]",
      "text/plain": [
       "<Figure size 864x360 with 2 Axes>"
      ]
     },
     "metadata": {
      "needs_background": "light"
     },
     "output_type": "display_data"
    }
   ],
   "source": [
    "plt.figure(figsize=(12,5))\n",
    "plt.imshow(np.array(waterfall_flags,dtype='float64'), aspect='auto')\n",
    "plt.colorbar()\n",
    "plt.show()"
   ]
  },
  {
   "cell_type": "code",
   "execution_count": 60,
   "metadata": {},
   "outputs": [
    {
     "data": {
      "text/plain": [
       "<matplotlib.image.AxesImage at 0x7f131acff110>"
      ]
     },
     "execution_count": 60,
     "metadata": {},
     "output_type": "execute_result"
    },
    {
     "data": {
      "image/png": "[encoded data removed]",
      "text/plain": [
       "<Figure size 432x288 with 1 Axes>"
      ]
     },
     "metadata": {
      "needs_background": "light"
     },
     "output_type": "display_data"
    }
   ],
   "source": [
    "plt.imshow(flag_dict[(96, 105, 'xy')], aspect='auto')"
   ]
  },
  {
   "cell_type": "code",
   "execution_count": 107,
   "metadata": {},
   "outputs": [],
   "source": [
    "# Let's add flagging for band edges and greedy thresholds in frequency and time\n",
    "band_edges = np.logical_or(uvdraw.freq_array.squeeze() < 110e6, uvdraw.freq_array.squeeze() > 190e6)"
   ]
  },
  {
   "cell_type": "code",
   "execution_count": 108,
   "metadata": {},
   "outputs": [
    {
     "data": {
      "text/plain": [
       "[<matplotlib.lines.Line2D at 0x7f1317553a90>]"
      ]
     },
     "execution_count": 108,
     "metadata": {},
     "output_type": "execute_result"
    },
    {
     "data": {
      "image/png": "[encoded data removed]",
      "text/plain": [
       "<Figure size 432x288 with 1 Axes>"
      ]
     },
     "metadata": {
      "needs_background": "light"
     },
     "output_type": "display_data"
    }
   ],
   "source": [
    "plt.plot(uvdraw.freq_array.squeeze(), band_edges)"
   ]
  },
  {
   "cell_type": "code",
   "execution_count": 110,
   "metadata": {},
   "outputs": [],
   "source": [
    "waterfall_conservative = deepcopy(waterfall_flags)"
   ]
  },
  {
   "cell_type": "code",
   "execution_count": 112,
   "metadata": {},
   "outputs": [],
   "source": [
    "waterfall_conservative[:,band_edges] = True"
   ]
  },
  {
   "cell_type": "code",
   "execution_count": 113,
   "metadata": {},
   "outputs": [
    {
     "data": {
      "image/png": "[encoded data removed]",
      "text/plain": [
       "<Figure size 864x360 with 2 Axes>"
      ]
     },
     "metadata": {
      "needs_background": "light"
     },
     "output_type": "display_data"
    }
   ],
   "source": [
    "plt.figure(figsize=(12,5))\n",
    "plt.imshow(np.array(waterfall_conservative,dtype='float64'), aspect='auto')\n",
    "plt.colorbar()\n",
    "plt.show()"
   ]
  },
  {
   "cell_type": "code",
   "execution_count": 126,
   "metadata": {},
   "outputs": [],
   "source": [
    "# Now let's be ultraconservative\n",
    "waterfall_ultraconservative = deepcopy(waterfall_conservative)\n",
    "time_frac = waterfall_conservative.sum(axis=1)/uvdraw.Nfreqs\n",
    "freq_frac = waterfall_conservative.sum(axis=0)/uvdraw.Ntimes"
   ]
  },
  {
   "cell_type": "code",
   "execution_count": 125,
   "metadata": {},
   "outputs": [
    {
     "data": {
      "text/plain": [
       "<matplotlib.lines.Line2D at 0x7f1317730450>"
      ]
     },
     "execution_count": 125,
     "metadata": {},
     "output_type": "execute_result"
    },
    {
     "data": {
      "image/png": "[encoded data removed]",
      "text/plain": [
       "<Figure size 432x288 with 1 Axes>"
      ]
     },
     "metadata": {
      "needs_background": "light"
     },
     "output_type": "display_data"
    }
   ],
   "source": [
    "plt.plot(time_frac)\n",
    "plt.axhline(0.33,color='orange')"
   ]
  },
  {
   "cell_type": "code",
   "execution_count": 129,
   "metadata": {},
   "outputs": [
    {
     "data": {
      "text/plain": [
       "<matplotlib.lines.Line2D at 0x7f131780b210>"
      ]
     },
     "execution_count": 129,
     "metadata": {},
     "output_type": "execute_result"
    },
    {
     "data": {
      "image/png": "[encoded data removed]",
      "text/plain": [
       "<Figure size 432x288 with 1 Axes>"
      ]
     },
     "metadata": {
      "needs_background": "light"
     },
     "output_type": "display_data"
    }
   ],
   "source": [
    "plt.plot(freq_frac)\n",
    "plt.axhline(0.20,color='orange')"
   ]
  },
  {
   "cell_type": "code",
   "execution_count": 131,
   "metadata": {},
   "outputs": [],
   "source": [
    "waterfall_ultraconservative[time_frac>0.33,:] = True\n",
    "waterfall_ultraconservative[:,freq_frac>0.20] = True"
   ]
  },
  {
   "cell_type": "code",
   "execution_count": 132,
   "metadata": {},
   "outputs": [
    {
     "data": {
      "image/png": "[encoded data removed]",
      "text/plain": [
       "<Figure size 864x360 with 2 Axes>"
      ]
     },
     "metadata": {
      "needs_background": "light"
     },
     "output_type": "display_data"
    }
   ],
   "source": [
    "plt.figure(figsize=(12,5))\n",
    "plt.imshow(np.array(waterfall_ultraconservative,dtype='float64'), aspect='auto')\n",
    "plt.colorbar()\n",
    "plt.show()"
   ]
  },
  {
   "cell_type": "code",
   "execution_count": 164,
   "metadata": {},
   "outputs": [],
   "source": [
    "uvdraw2 = deepcopy(uvdraw)"
   ]
  },
  {
   "cell_type": "code",
   "execution_count": 165,
   "metadata": {},
   "outputs": [
    {
     "data": {
      "text/plain": [
       "True"
      ]
     },
     "execution_count": 165,
     "metadata": {},
     "output_type": "execute_result"
    }
   ],
   "source": [
    "uvdraw2 == uvdraw"
   ]
  },
  {
   "cell_type": "code",
   "execution_count": 166,
   "metadata": {},
   "outputs": [],
   "source": [
    "def uvd_alter_bl(_uvd, bl, new_data, attr='data'):\n",
    "    \"\"\" Modify the data in a UVData object by specified baseline, i.e., \n",
    "    all freq / time data for a particular waterfall \"\"\"\n",
    "    \n",
    "    uvd = deepcopy(_uvd)\n",
    "    \n",
    "    inds = uvd._key2inds(bl)[0]\n",
    "    \n",
    "    \"\"\" Check that the new data is Ntimes x Nfreq \"\"\"\n",
    "    assert new_data.shape == (uvd.Ntimes, uvd.Nfreqs)\n",
    "    \n",
    "    \"\"\" Ugh ... how do I convert 'yy' to an index in the data array? \"\"\"\n",
    "    \n",
    "    if attr == 'data':\n",
    "        uvd.data_array[inds, 0, :, pol] = new_data\n",
    "        \n",
    "    if attr == 'flag':\n",
    "        uvd.flag_array[inds, 0, :, pol] = new_data\n",
    "        \n",
    "    return uvd"
   ]
  },
  {
   "cell_type": "code",
   "execution_count": 147,
   "metadata": {},
   "outputs": [
    {
     "data": {
      "text/plain": [
       "56"
      ]
     },
     "execution_count": 147,
     "metadata": {},
     "output_type": "execute_result"
    }
   ],
   "source": [
    "len(uvdraw._key2inds(bls[5])[0])"
   ]
  },
  {
   "cell_type": "code",
   "execution_count": 153,
   "metadata": {},
   "outputs": [
    {
     "data": {
      "text/plain": [
       "True"
      ]
     },
     "execution_count": 153,
     "metadata": {},
     "output_type": "execute_result"
    }
   ],
   "source": [
    "test = uvdraw.get_data(bls[5])\n",
    "test.shape == (uvdraw.Ntimes, uvdraw.Nfreqs)"
   ]
  },
  {
   "cell_type": "code",
   "execution_count": 157,
   "metadata": {},
   "outputs": [],
   "source": [
    "utils.polstr2num?"
   ]
  },
  {
   "cell_type": "code",
   "execution_count": 160,
   "metadata": {},
   "outputs": [
    {
     "data": {
      "text/plain": [
       "array([-5, -6, -7, -8])"
      ]
     },
     "execution_count": 160,
     "metadata": {},
     "output_type": "execute_result"
    }
   ],
   "source": [
    "uvdraw.polarization_array"
   ]
  },
  {
   "cell_type": "code",
   "execution_count": 156,
   "metadata": {},
   "outputs": [
    {
     "data": {
      "text/plain": [
       "'yy'"
      ]
     },
     "execution_count": 156,
     "metadata": {},
     "output_type": "execute_result"
    }
   ],
   "source": [
    "bls[5][2]"
   ]
  },
  {
   "cell_type": "code",
   "execution_count": 15,
   "metadata": {},
   "outputs": [],
   "source": [
    "uvdraw.write_uvh5(newpath+'RawData/2457549/zen.2457549.64017.uvcRP.uvh5')"
   ]
  },
  {
   "cell_type": "code",
   "execution_count": 21,
   "metadata": {},
   "outputs": [],
   "source": [
    "uvdraw.phase_type"
   ]
  },
  {
   "cell_type": "code",
   "execution_count": 23,
   "metadata": {},
   "outputs": [],
   "source": [
    "uvdraw.write_uvfits(newpath+'RawData/2457549/zen.2457549.64017.uvcRP.uvfits', \n",
    "                    force_phase=True, spoof_nonessential=True)"
   ]
  },
  {
   "cell_type": "code",
   "execution_count": 19,
   "metadata": {},
   "outputs": [],
   "source": [
    "uvdraw.write_uvfits?"
   ]
  },
  {
   "cell_type": "code",
   "execution_count": 162,
   "metadata": {},
   "outputs": [
    {
     "data": {
      "text/plain": [
       "['xx', 'yy', 'xy', 'yx']"
      ]
     },
     "execution_count": 162,
     "metadata": {},
     "output_type": "execute_result"
    }
   ],
   "source": [
    "uvdraw.get_pols()"
   ]
  },
  {
   "cell_type": "code",
   "execution_count": null,
   "metadata": {},
   "outputs": [],
   "source": [
    "uvdraw.flag_array"
   ]
  }
 ],
 "metadata": {
  "kernelspec": {
   "display_name": "hera",
   "language": "python",
   "name": "hera"
  },
  "language_info": {
   "codemirror_mode": {
    "name": "ipython",
    "version": 3
   },
   "file_extension": ".py",
   "mimetype": "text/x-python",
   "name": "python",
   "nbconvert_exporter": "python",
   "pygments_lexer": "ipython3",
   "version": "3.7.7"
  }
 },
 "nbformat": 4,
 "nbformat_minor": 4
}
