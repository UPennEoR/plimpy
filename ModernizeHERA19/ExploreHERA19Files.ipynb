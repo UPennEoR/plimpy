{
 "cells": [
  {
   "cell_type": "markdown",
   "metadata": {},
   "source": [
    "Try to figure out the state of this old data ..."
   ]
  },
  {
   "cell_type": "code",
   "execution_count": 1,
   "metadata": {},
   "outputs": [],
   "source": [
    "import numpy as np\n",
    "import matplotlib.pyplot as plt\n",
    "from pyuvdata import UVData, UVCal"
   ]
  },
  {
   "cell_type": "code",
   "execution_count": 2,
   "metadata": {},
   "outputs": [],
   "source": [
    "oldpath = '/lustre/aoc/projects/hera/plaplant/HERA19Golden/'\n",
    "newpath = '/lustre/aoc/projects/hera/jaguirre/HERA19Summer2020/'"
   ]
  },
  {
   "cell_type": "code",
   "execution_count": 11,
   "metadata": {},
   "outputs": [
    {
     "name": "stderr",
     "output_type": "stream",
     "text": [
      "LST values stored in /lustre/aoc/projects/hera/plaplant/HERA19Golden/CalibratedData/2457548/zen.2457548.64018.xx.HH.uvcRPCS.uvh5 are not self-consistent with time_array and telescope location. Consider recomputing with utils.get_lst_for_time.\n"
     ]
    },
    {
     "name": "stdout",
     "output_type": "stream",
     "text": [
      "CPU times: user 174 ms, sys: 161 ms, total: 335 ms\n",
      "Wall time: 565 ms\n"
     ]
    }
   ],
   "source": [
    "%%time\n",
    "uvdcal = UVData()\n",
    "uvdcal.read(oldpath+'CalibratedData/2457548/zen.2457548.64018.xx.HH.uvcRPCS.uvh5')"
   ]
  },
  {
   "cell_type": "code",
   "execution_count": 16,
   "metadata": {},
   "outputs": [
    {
     "data": {
      "text/plain": [
       "(-0.5361918109651229, 0.37399448506783717, 1073.0000000158325)"
      ]
     },
     "execution_count": 16,
     "metadata": {},
     "output_type": "execute_result"
    }
   ],
   "source": [
    "uvdcal.telescope_location_lat_lon_alt_degrees"
   ]
  },
  {
   "cell_type": "code",
   "execution_count": 20,
   "metadata": {},
   "outputs": [],
   "source": [
    "antpos_cal, ants_cal = uvdcal.get_ENU_antpos(center=True, pick_data_ants=True)"
   ]
  },
  {
   "cell_type": "code",
   "execution_count": 29,
   "metadata": {},
   "outputs": [
    {
     "data": {
      "image/png": "[encoded data removed]",
      "text/plain": [
       "<Figure size 432x288 with 1 Axes>"
      ]
     },
     "metadata": {
      "needs_background": "light"
     },
     "output_type": "display_data"
    }
   ],
   "source": [
    "plt.plot(antpos_cal[:,0], antpos_cal[:,1], 'o')\n",
    "plt.axis('equal')\n",
    "plt.show()"
   ]
  },
  {
   "cell_type": "code",
   "execution_count": 15,
   "metadata": {},
   "outputs": [],
   "source": [
    "# Note that reading zen.2457548.64018.xx.HH.uvcRP.uvh5 is not compatible with current pyuvdata\n",
    "uvdraw = UVData()\n",
    "uvdraw.read(oldpath+'RawData/2457548/zen.2457548.64018.xx.HH.uvcRP')"
   ]
  },
  {
   "cell_type": "code",
   "execution_count": 17,
   "metadata": {},
   "outputs": [
    {
     "data": {
      "text/plain": [
       "(-30.72152777777797, 21.428305555555557, 1073.0000000121072)"
      ]
     },
     "execution_count": 17,
     "metadata": {},
     "output_type": "execute_result"
    }
   ],
   "source": [
    "uvdraw.telescope_location_lat_lon_alt_degrees"
   ]
  },
  {
   "cell_type": "code",
   "execution_count": 30,
   "metadata": {},
   "outputs": [],
   "source": [
    "antpos_raw, ants_raw = uvdraw.get_ENU_antpos(center=True, pick_data_ants=True)"
   ]
  },
  {
   "cell_type": "code",
   "execution_count": 31,
   "metadata": {},
   "outputs": [
    {
     "data": {
      "image/png": "[encoded data removed]",
      "text/plain": [
       "<Figure size 432x288 with 1 Axes>"
      ]
     },
     "metadata": {
      "needs_background": "light"
     },
     "output_type": "display_data"
    }
   ],
   "source": [
    "plt.plot(antpos_raw[:,0], antpos_raw[:,1], 'o')\n",
    "plt.axis('equal')\n",
    "plt.show()"
   ]
  },
  {
   "cell_type": "code",
   "execution_count": 8,
   "metadata": {},
   "outputs": [],
   "source": [
    "uvd2 = UVData()"
   ]
  },
  {
   "cell_type": "code",
   "execution_count": 9,
   "metadata": {},
   "outputs": [],
   "source": [
    "%%time\n",
    "uvd2.read('/lustre/aoc/projects/hera/H1C_IDR2/IDR2_2/2458098/zen.2458098.64748.HH.uvh5')"
   ]
  },
  {
   "cell_type": "code",
   "execution_count": 10,
   "metadata": {},
   "outputs": [
    {
     "data": {
      "text/plain": [
       "(-30.721526120689443, 21.428303826863015, 1051.6900000134483)"
      ]
     },
     "execution_count": 10,
     "metadata": {},
     "output_type": "execute_result"
    }
   ],
   "source": [
    "uvd2.telescope_location_lat_lon_alt_degrees"
   ]
  },
  {
   "cell_type": "code",
   "execution_count": 33,
   "metadata": {},
   "outputs": [],
   "source": [
    "antpos_h1c, ants_h1c = uvd2.get_ENU_antpos(center=True, pick_data_ants=True)"
   ]
  },
  {
   "cell_type": "code",
   "execution_count": 34,
   "metadata": {},
   "outputs": [
    {
     "data": {
      "image/png": "[encoded data removed]",
      "text/plain": [
       "<Figure size 432x288 with 1 Axes>"
      ]
     },
     "metadata": {
      "needs_background": "light"
     },
     "output_type": "display_data"
    }
   ],
   "source": [
    "plt.plot(antpos_h1c[:,0], antpos_h1c[:,1], 'o')\n",
    "plt.axis('equal')\n",
    "plt.show()"
   ]
  },
  {
   "cell_type": "code",
   "execution_count": 35,
   "metadata": {},
   "outputs": [
    {
     "data": {
      "text/plain": [
       "array([[-6.58319322e+01,  5.04677396e+01, -4.15771382e-01],\n",
       "       [-7.40056882e+00,  5.06908862e+01, -5.34605728e-01],\n",
       "       [-4.83151084e-02,  3.80619764e+01, -4.04503178e-01],\n",
       "       [ 4.38718348e+01,  1.29257353e+01, -6.41167003e-02],\n",
       "       [ 3.67128449e+01, -2.50525613e+01,  2.55506366e-01],\n",
       "       [ 1.46561555e+01,  1.28141614e+01, -1.54398733e-01],\n",
       "       [-3.63263619e+01, -2.53315001e+01,  2.44467064e-01],\n",
       "       [-2.90707749e+01, -1.26468001e+01,  1.04740166e-01],\n",
       "       [-4.36786163e+01, -1.27025876e+01,  9.44487487e-02],\n",
       "       [-6.57353061e+01,  2.51641360e+01, -1.15807676e-01],\n",
       "       [ 2.91673638e+01,  3.81735501e+01, -3.64154306e-01],\n",
       "       [ 4.37752033e+01,  3.82293369e+01, -3.64030003e-01],\n",
       "       [-5.10308333e+01, -8.36812718e-02,  4.39679509e-03],\n",
       "       [-5.12240886e+01,  5.05235262e+01, -5.45429833e-01],\n",
       "       [-4.37752081e+01,  1.25910122e+01, -1.15363855e-01],\n",
       "       [-1.46561551e+01,  3.80061896e+01, -4.04727747e-01],\n",
       "       [ 3.64229492e+01,  5.08582462e+01, -5.24082420e-01],\n",
       "       [-3.64229917e+01, -2.78937814e-02, -5.29508027e-03],\n",
       "       [-2.91673664e+01,  1.26467996e+01, -1.45072441e-01],\n",
       "       [ 1.45595244e+01,  3.81177633e+01, -3.84312031e-01],\n",
       "       [-2.18151501e+01,  2.78937814e-02, -2.50203761e-02],\n",
       "       [-7.20730865e+00,  8.36814191e-02, -5.47790931e-02],\n",
       "       [ 7.40053176e+00,  1.39468683e-01, -3.45712326e-02],\n",
       "       [ 2.20083720e+01,  1.95255873e-01, -4.39679509e-03],\n",
       "       [ 3.66162114e+01,  2.51042466e-01,  1.05744220e-01],\n",
       "       [ 4.83151084e-02,  1.27583741e+01, -1.54589877e-01],\n",
       "       [-1.42696726e+01, -6.31982296e+01,  7.04320923e-01],\n",
       "       [ 3.38170064e-01, -6.31424410e+01,  6.94545498e-01],\n",
       "       [-2.16218901e+01, -5.05793212e+01,  5.54403129e-01],\n",
       "       [-7.01404678e+00, -5.05235319e+01,  4.84644413e-01],\n",
       "       [ 7.59379591e+00, -5.04677428e+01,  4.24852275e-01],\n",
       "       [ 2.22016360e+01, -5.04119568e+01,  5.65026715e-01],\n",
       "       [ 1.49460125e+01, -6.30866525e+01,  6.84736648e-01],\n",
       "       [-2.89741456e+01, -3.79504079e+01,  4.14451939e-01],\n",
       "       [-1.43663039e+01, -3.78946202e+01,  4.34709934e-01],\n",
       "       [ 2.41538164e-01, -3.78388321e+01,  4.24934503e-01],\n",
       "       [ 1.48493799e+01, -3.77830440e+01,  4.15125657e-01],\n",
       "       [ 2.94572204e+01, -3.77272574e+01,  5.15283383e-01],\n",
       "       [-2.17185217e+01, -2.52757133e+01,  3.34741768e-01],\n",
       "       [-7.11067973e+00, -2.52199254e+01,  3.24983051e-01],\n",
       "       [ 7.49716221e+00, -2.51641373e+01,  2.95190911e-01],\n",
       "       [ 2.21050033e+01, -2.51083497e+01,  3.15365350e-01],\n",
       "       [-1.44629347e+01, -1.25910131e+01,  1.74998162e-01],\n",
       "       [ 1.44907061e-01, -1.25352252e+01,  1.45222731e-01],\n",
       "       [ 1.47527480e+01, -1.24794377e+01,  1.55413882e-01],\n",
       "       [ 2.93605891e+01, -1.24236498e+01,  1.25571607e-01],\n",
       "       [-1.45595256e+01,  1.27025869e+01, -1.44814449e-01],\n",
       "       [ 2.92639954e+01,  1.28699485e+01, -1.34241005e-01],\n",
       "       [ 7.20727076e+00,  5.07466729e+01, -5.34397872e-01],\n",
       "       [-3.66162484e+01,  5.05793129e+01, -5.45121708e-01],\n",
       "       [ 2.18151100e+01,  5.08024595e+01, -5.24223435e-01],\n",
       "       [-2.20084083e+01,  5.06350995e+01, -5.54847010e-01]])"
      ]
     },
     "execution_count": 35,
     "metadata": {},
     "output_type": "execute_result"
    }
   ],
   "source": [
    "antpos_h1c"
   ]
  },
  {
   "cell_type": "code",
   "execution_count": 36,
   "metadata": {},
   "outputs": [],
   "source": [
    "from glob import glob"
   ]
  },
  {
   "cell_type": "code",
   "execution_count": 37,
   "metadata": {},
   "outputs": [
    {
     "data": {
      "text/plain": [
       "['/lustre/aoc/projects/hera/plaplant/HERA19Golden/RawData/2457548/zen.2457548.64018.yy.HH.uvcRP',\n",
       " '/lustre/aoc/projects/hera/plaplant/HERA19Golden/RawData/2457548/zen.2457548.64018.xy.HH.uvcRP',\n",
       " '/lustre/aoc/projects/hera/plaplant/HERA19Golden/RawData/2457548/zen.2457548.64018.xx.HH.uvcRP',\n",
       " '/lustre/aoc/projects/hera/plaplant/HERA19Golden/RawData/2457548/zen.2457548.64018.yx.HH.uvcRP']"
      ]
     },
     "execution_count": 37,
     "metadata": {},
     "output_type": "execute_result"
    }
   ],
   "source": [
    "glob(oldpath+'RawData/2457548/zen.2457548.64018.*.HH.uvcRP')"
   ]
  },
  {
   "cell_type": "code",
   "execution_count": 38,
   "metadata": {},
   "outputs": [],
   "source": [
    "uvdraw.read(glob(oldpath+'RawData/2457548/zen.2457548.64018.*.HH.uvcRP'))"
   ]
  },
  {
   "cell_type": "code",
   "execution_count": 45,
   "metadata": {},
   "outputs": [],
   "source": [
    "uvdraw.write_uvh5(newpath+'2457548/zen.2457548.64018.uvcRP.uvh5')"
   ]
  },
  {
   "cell_type": "code",
   "execution_count": 40,
   "metadata": {},
   "outputs": [],
   "source": [
    "uvdtest = UVData()\n",
    "uvdtest.read(glob(oldpath+'RawData/2457548/zen.2457548.64018.xx.HH.uvcRP'))"
   ]
  },
  {
   "cell_type": "code",
   "execution_count": 41,
   "metadata": {},
   "outputs": [
    {
     "data": {
      "text/plain": [
       "(10640, 1, 1024, 1)"
      ]
     },
     "execution_count": 41,
     "metadata": {},
     "output_type": "execute_result"
    }
   ],
   "source": [
    "uvdtest.data_array.shape"
   ]
  },
  {
   "cell_type": "code",
   "execution_count": 42,
   "metadata": {},
   "outputs": [
    {
     "data": {
      "text/plain": [
       "array([-5])"
      ]
     },
     "execution_count": 42,
     "metadata": {},
     "output_type": "execute_result"
    }
   ],
   "source": [
    "uvdtest.polarization_array"
   ]
  },
  {
   "cell_type": "code",
   "execution_count": null,
   "metadata": {},
   "outputs": [],
   "source": [
    "# Check for whether all the data are flagged and whether the sun is up"
   ]
  }
 ],
 "metadata": {
  "kernelspec": {
   "display_name": "hera",
   "language": "python",
   "name": "hera"
  },
  "language_info": {
   "codemirror_mode": {
    "name": "ipython",
    "version": 3
   },
   "file_extension": ".py",
   "mimetype": "text/x-python",
   "name": "python",
   "nbconvert_exporter": "python",
   "pygments_lexer": "ipython3",
   "version": "3.7.7"
  }
 },
 "nbformat": 4,
 "nbformat_minor": 4
}
