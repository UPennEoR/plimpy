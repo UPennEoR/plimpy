{
 "cells": [
  {
   "cell_type": "markdown",
   "metadata": {},
   "source": [
    "An example for finding raw data which can be interpolated onto a specific LST range."
   ]
  },
  {
   "cell_type": "code",
   "execution_count": 35,
   "metadata": {},
   "outputs": [],
   "source": [
    "import numpy as np\n",
    "import matplotlib.pyplot as plt\n",
    "from pyuvdata import UVData\n",
    "from scipy.interpolate import CubicSpline\n",
    "from astropy import units as u, constants as c\n",
    "import pandas as pd\n",
    "import os\n",
    "from astropy.coordinates import Angle"
   ]
  },
  {
   "cell_type": "markdown",
   "metadata": {},
   "source": [
    "Define the LST grid."
   ]
  },
  {
   "cell_type": "code",
   "execution_count": 36,
   "metadata": {},
   "outputs": [],
   "source": [
    "# Set up LST grid; in radians\n",
    "# A trifle worried about numerical precision, but let's plunge ahead\n",
    "\n",
    "# Files will be this long\n",
    "lst_bin_size = 6.*u.min\n",
    "n_lst_bins = int((24.*u.hr/lst_bin_size).to(u.dimensionless_unscaled).value)\n",
    "lst_edges = np.linspace(0, 2.*np.pi, n_lst_bins+1, endpoint=True)\n",
    "lst_start = lst_edges[0:-1]\n",
    "lst_end = lst_edges[1:]\n",
    "lst_mid = (lst_start + lst_end)/2.\n",
    "\n",
    "assert len(lst_start) == n_lst_bins\n",
    "assert len(lst_end) == n_lst_bins\n",
    "assert np.isclose((lst_end-lst_start)*24.*60./(2.*np.pi), lst_bin_size.value).sum() == n_lst_bins\n",
    "\n",
    "# Need to specify the time sampling within a \"bin\"\n",
    "lst_time_sample = 10*u.s # This is actually every 10 sidereal seconds\n",
    "n_samples = int((lst_bin_size/lst_time_sample).to(u.dimensionless_unscaled).value)\n",
    "lst_sampling = ((np.arange(n_samples)*lst_time_sample)/(24*u.hr)).to(u.dimensionless_unscaled).value*2.*np.pi"
   ]
  },
  {
   "cell_type": "code",
   "execution_count": 63,
   "metadata": {},
   "outputs": [],
   "source": [
    "JD = '2457548'\n",
    "rawpath = '/lustre/aoc/projects/hera/jaguirre/HERA19Summer2020/RawData/'+JD+'/'"
   ]
  },
  {
   "cell_type": "code",
   "execution_count": 64,
   "metadata": {},
   "outputs": [],
   "source": [
    "# Grab the summary file for the day in question\n",
    "summary = pd.read_csv(os.path.join(rawpath,JD+'_summary.csv'))\n",
    "filenames_all = np.array(summary['Filename'])\n",
    "lsts_all = np.array(summary['LST (rad)'])\n",
    "jds_all = np.array(summary['Julian Date'])"
   ]
  },
  {
   "cell_type": "code",
   "execution_count": 65,
   "metadata": {},
   "outputs": [
    {
     "data": {
      "text/html": [
       "<div>\n",
       "<style scoped>\n",
       "    .dataframe tbody tr th:only-of-type {\n",
       "        vertical-align: middle;\n",
       "    }\n",
       "\n",
       "    .dataframe tbody tr th {\n",
       "        vertical-align: top;\n",
       "    }\n",
       "\n",
       "    .dataframe thead th {\n",
       "        text-align: right;\n",
       "    }\n",
       "</style>\n",
       "<table border=\"1\" class=\"dataframe\">\n",
       "  <thead>\n",
       "    <tr style=\"text-align: right;\">\n",
       "      <th></th>\n",
       "      <th>Unnamed: 0</th>\n",
       "      <th>Filename</th>\n",
       "      <th>Julian Date</th>\n",
       "      <th>LST (rad)</th>\n",
       "      <th>UTC</th>\n",
       "      <th>LST (hr)</th>\n",
       "      <th>Sun alt (deg)</th>\n",
       "    </tr>\n",
       "  </thead>\n",
       "  <tbody>\n",
       "    <tr>\n",
       "      <th>0</th>\n",
       "      <td>0</td>\n",
       "      <td>zen.2457548.16694.uvcRP.uvh5</td>\n",
       "      <td>2.457548e+06</td>\n",
       "      <td>2.775293</td>\n",
       "      <td>2016-06-08 16:00:28.748</td>\n",
       "      <td>10h36m03.0181s</td>\n",
       "      <td>-4.900503</td>\n",
       "    </tr>\n",
       "    <tr>\n",
       "      <th>1</th>\n",
       "      <td>1</td>\n",
       "      <td>zen.2457548.16694.uvcRP.uvh5</td>\n",
       "      <td>2.457548e+06</td>\n",
       "      <td>2.776076</td>\n",
       "      <td>2016-06-08 16:00:39.486</td>\n",
       "      <td>10h36m13.7849s</td>\n",
       "      <td>-4.935693</td>\n",
       "    </tr>\n",
       "    <tr>\n",
       "      <th>2</th>\n",
       "      <td>2</td>\n",
       "      <td>zen.2457548.16694.uvcRP.uvh5</td>\n",
       "      <td>2.457548e+06</td>\n",
       "      <td>2.776859</td>\n",
       "      <td>2016-06-08 16:00:50.223</td>\n",
       "      <td>10h36m24.5518s</td>\n",
       "      <td>-4.970890</td>\n",
       "    </tr>\n",
       "    <tr>\n",
       "      <th>3</th>\n",
       "      <td>3</td>\n",
       "      <td>zen.2457548.16694.uvcRP.uvh5</td>\n",
       "      <td>2.457548e+06</td>\n",
       "      <td>2.777642</td>\n",
       "      <td>2016-06-08 16:01:00.961</td>\n",
       "      <td>10h36m35.3186s</td>\n",
       "      <td>-5.006092</td>\n",
       "    </tr>\n",
       "    <tr>\n",
       "      <th>4</th>\n",
       "      <td>4</td>\n",
       "      <td>zen.2457548.16694.uvcRP.uvh5</td>\n",
       "      <td>2.457548e+06</td>\n",
       "      <td>2.778425</td>\n",
       "      <td>2016-06-08 16:01:11.698</td>\n",
       "      <td>10h36m46.0854s</td>\n",
       "      <td>-5.041300</td>\n",
       "    </tr>\n",
       "    <tr>\n",
       "      <th>...</th>\n",
       "      <td>...</td>\n",
       "      <td>...</td>\n",
       "      <td>...</td>\n",
       "      <td>...</td>\n",
       "      <td>...</td>\n",
       "      <td>...</td>\n",
       "      <td>...</td>\n",
       "    </tr>\n",
       "    <tr>\n",
       "      <th>4016</th>\n",
       "      <td>4016</td>\n",
       "      <td>zen.2457548.66106.uvcRP.uvh5</td>\n",
       "      <td>2.457549e+06</td>\n",
       "      <td>5.919761</td>\n",
       "      <td>2016-06-09 03:59:10.220</td>\n",
       "      <td>22h36m42.5535s</td>\n",
       "      <td>-18.519717</td>\n",
       "    </tr>\n",
       "    <tr>\n",
       "      <th>4017</th>\n",
       "      <td>4017</td>\n",
       "      <td>zen.2457548.66106.uvcRP.uvh5</td>\n",
       "      <td>2.457549e+06</td>\n",
       "      <td>5.920544</td>\n",
       "      <td>2016-06-09 03:59:20.958</td>\n",
       "      <td>22h36m53.3203s</td>\n",
       "      <td>-18.482800</td>\n",
       "    </tr>\n",
       "    <tr>\n",
       "      <th>4018</th>\n",
       "      <td>4018</td>\n",
       "      <td>zen.2457548.66106.uvcRP.uvh5</td>\n",
       "      <td>2.457549e+06</td>\n",
       "      <td>5.921327</td>\n",
       "      <td>2016-06-09 03:59:31.695</td>\n",
       "      <td>22h37m04.0871s</td>\n",
       "      <td>-18.445888</td>\n",
       "    </tr>\n",
       "    <tr>\n",
       "      <th>4019</th>\n",
       "      <td>4019</td>\n",
       "      <td>zen.2457548.66106.uvcRP.uvh5</td>\n",
       "      <td>2.457549e+06</td>\n",
       "      <td>5.922110</td>\n",
       "      <td>2016-06-09 03:59:42.432</td>\n",
       "      <td>22h37m14.8539s</td>\n",
       "      <td>-18.408979</td>\n",
       "    </tr>\n",
       "    <tr>\n",
       "      <th>4020</th>\n",
       "      <td>4020</td>\n",
       "      <td>zen.2457548.66106.uvcRP.uvh5</td>\n",
       "      <td>2.457549e+06</td>\n",
       "      <td>5.922893</td>\n",
       "      <td>2016-06-09 03:59:53.170</td>\n",
       "      <td>22h37m25.6207s</td>\n",
       "      <td>-18.372074</td>\n",
       "    </tr>\n",
       "  </tbody>\n",
       "</table>\n",
       "<p>4021 rows × 7 columns</p>\n",
       "</div>"
      ],
      "text/plain": [
       "      Unnamed: 0                      Filename   Julian Date  LST (rad)  \\\n",
       "0              0  zen.2457548.16694.uvcRP.uvh5  2.457548e+06   2.775293   \n",
       "1              1  zen.2457548.16694.uvcRP.uvh5  2.457548e+06   2.776076   \n",
       "2              2  zen.2457548.16694.uvcRP.uvh5  2.457548e+06   2.776859   \n",
       "3              3  zen.2457548.16694.uvcRP.uvh5  2.457548e+06   2.777642   \n",
       "4              4  zen.2457548.16694.uvcRP.uvh5  2.457548e+06   2.778425   \n",
       "...          ...                           ...           ...        ...   \n",
       "4016        4016  zen.2457548.66106.uvcRP.uvh5  2.457549e+06   5.919761   \n",
       "4017        4017  zen.2457548.66106.uvcRP.uvh5  2.457549e+06   5.920544   \n",
       "4018        4018  zen.2457548.66106.uvcRP.uvh5  2.457549e+06   5.921327   \n",
       "4019        4019  zen.2457548.66106.uvcRP.uvh5  2.457549e+06   5.922110   \n",
       "4020        4020  zen.2457548.66106.uvcRP.uvh5  2.457549e+06   5.922893   \n",
       "\n",
       "                          UTC        LST (hr)  Sun alt (deg)  \n",
       "0     2016-06-08 16:00:28.748  10h36m03.0181s      -4.900503  \n",
       "1     2016-06-08 16:00:39.486  10h36m13.7849s      -4.935693  \n",
       "2     2016-06-08 16:00:50.223  10h36m24.5518s      -4.970890  \n",
       "3     2016-06-08 16:01:00.961  10h36m35.3186s      -5.006092  \n",
       "4     2016-06-08 16:01:11.698  10h36m46.0854s      -5.041300  \n",
       "...                       ...             ...            ...  \n",
       "4016  2016-06-09 03:59:10.220  22h36m42.5535s     -18.519717  \n",
       "4017  2016-06-09 03:59:20.958  22h36m53.3203s     -18.482800  \n",
       "4018  2016-06-09 03:59:31.695  22h37m04.0871s     -18.445888  \n",
       "4019  2016-06-09 03:59:42.432  22h37m14.8539s     -18.408979  \n",
       "4020  2016-06-09 03:59:53.170  22h37m25.6207s     -18.372074  \n",
       "\n",
       "[4021 rows x 7 columns]"
      ]
     },
     "execution_count": 65,
     "metadata": {},
     "output_type": "execute_result"
    }
   ],
   "source": [
    "summary"
   ]
  },
  {
   "cell_type": "code",
   "execution_count": 66,
   "metadata": {},
   "outputs": [
    {
     "data": {
      "text/plain": [
       "(2.7752929952610765, 5.922892677437498)"
      ]
     },
     "execution_count": 66,
     "metadata": {},
     "output_type": "execute_result"
    }
   ],
   "source": [
    "summary['LST (rad)'].min(), summary['LST (rad)'].max()"
   ]
  },
  {
   "cell_type": "code",
   "execution_count": null,
   "metadata": {},
   "outputs": [],
   "source": [
    "# Final version will loop over all the LST bins and find appropriate data (if available)\n",
    "# Might be something like the following ...\n",
    "\n",
    "# Probably want to calculate how many time samples *should* appear ...\n",
    "min_time_samp = 1\n",
    "for i in np.arange(n_lst_bins):\n",
    "    lst_min = lst_start[i]\n",
    "    lst_max = lst_end[i]\n",
    "    lst_range = np.logical_and(lsts >= lst_min, lsts < lst_max)\n",
    "    #print(lst_min*24./(2.*np.pi), lst_range.sum())\n",
    "    \n",
    "    if lst_range.sum() > min_time_samp:\n",
    "        lst_min_str = Angle(lst_min, u.rad).to_string(unit=u.hr)\n",
    "        lst_max_str = Angle(lst_max, u.rad).to_string(unit=u.hr)\n",
    "        lst_filename = 'lst.'+JD+'.'+lst_min_str+'.'+lst_max_str+'.uvcRP.drift.uvh5'\n",
    "        print(lst_filename)\n",
    "        jd_to_select = jds[lst_range]\n",
    "        files_to_read = path + np.unique(filenames[lst_range])\n",
    "        uvd = UVData()\n",
    "        uvd.read(files_to_read)\n",
    "        lsts_in_file = np.unique(uvd.lst_array)\n",
    "        uvd.select(time_range=[jd_to_select.min()-one_second, jd_to_select.max()+one_second])\n",
    "        uvd.write_uvh5(os.path.join(path, lst_filename), clobber=True)"
   ]
  },
  {
   "cell_type": "code",
   "execution_count": 67,
   "metadata": {},
   "outputs": [
    {
     "data": {
      "text/plain": [
       "(3.141592653589793, 3.1677725923697078, 39)"
      ]
     },
     "execution_count": 67,
     "metadata": {},
     "output_type": "execute_result"
    }
   ],
   "source": [
    "# We're going to pick this LST bin\n",
    "lst_min = lst_start[120]\n",
    "lst_max = lst_end[120]\n",
    "\n",
    "pad = 30/3600.*2.*np.pi/24.\n",
    "lst_range = np.logical_and(lsts_all >= lst_min-pad, lsts_all < lst_max+pad)\n",
    "lst_min, lst_max, lst_range.sum()"
   ]
  },
  {
   "cell_type": "code",
   "execution_count": 68,
   "metadata": {},
   "outputs": [
    {
     "data": {
      "text/plain": [
       "'lst.2457548.12h00m00s.12h05m50s.uvcRP.drift.uvh5'"
      ]
     },
     "execution_count": 68,
     "metadata": {},
     "output_type": "execute_result"
    }
   ],
   "source": [
    "lst_min_str = Angle(lst_min, u.rad).to_string(unit=u.hr)\n",
    "lst_max_str = Angle(lst_max-lst_sampling[1], u.rad).to_string(unit=u.hr)\n",
    "lst_filename = 'lst.'+JD+'.'+lst_min_str+'.'+lst_max_str+'.uvcRP.drift.uvh5'\n",
    "lst_filename"
   ]
  },
  {
   "cell_type": "code",
   "execution_count": 69,
   "metadata": {},
   "outputs": [],
   "source": [
    "files_to_read = rawpath+np.unique(filenames[lst_range])"
   ]
  },
  {
   "cell_type": "code",
   "execution_count": 70,
   "metadata": {},
   "outputs": [
    {
     "data": {
      "text/plain": [
       "array(['/lustre/aoc/projects/hera/jaguirre/HERA19Summer2020/RawData/2457548/zen.2457548.22261.uvcRP.uvh5',\n",
       "       '/lustre/aoc/projects/hera/jaguirre/HERA19Summer2020/RawData/2457548/zen.2457548.22957.uvcRP.uvh5'],\n",
       "      dtype=object)"
      ]
     },
     "execution_count": 70,
     "metadata": {},
     "output_type": "execute_result"
    }
   ],
   "source": [
    "files_to_read"
   ]
  },
  {
   "cell_type": "code",
   "execution_count": 71,
   "metadata": {},
   "outputs": [],
   "source": [
    "uvd_raw = UVData()"
   ]
  },
  {
   "cell_type": "code",
   "execution_count": 72,
   "metadata": {},
   "outputs": [],
   "source": [
    "uvd_raw.read(files_to_read)"
   ]
  },
  {
   "cell_type": "code",
   "execution_count": 73,
   "metadata": {},
   "outputs": [
    {
     "data": {
      "text/plain": [
       "112"
      ]
     },
     "execution_count": 73,
     "metadata": {},
     "output_type": "execute_result"
    }
   ],
   "source": [
    "uvd_raw.Ntimes"
   ]
  },
  {
   "cell_type": "code",
   "execution_count": 74,
   "metadata": {},
   "outputs": [],
   "source": [
    "def jd_at_lst(uvdata, lst0):\n",
    "    \"\"\" Given a UVData object, find the JD corresponding to the requested LST.  \n",
    "    Uses simple linear interpolation. \"\"\"\n",
    "    jd = np.unique(uvdata.time_array)\n",
    "    lst = np.unique(uvdata.lst_array)\n",
    "    \n",
    "    return np.interp(lst0, lst, jd)"
   ]
  },
  {
   "cell_type": "code",
   "execution_count": 76,
   "metadata": {},
   "outputs": [],
   "source": [
    "lsts = np.unique(uvd_raw.lst_array) # For some God-forsaken reason, LSTs are in radians\n",
    "jds = np.unique(uvd_raw.time_array)"
   ]
  },
  {
   "cell_type": "code",
   "execution_count": 80,
   "metadata": {},
   "outputs": [
    {
     "data": {
      "text/plain": [
       "<matplotlib.lines.Line2D at 0x7fbfa6daf7d0>"
      ]
     },
     "execution_count": 80,
     "metadata": {},
     "output_type": "execute_result"
    },
    {
     "data": {
      "image/png": "[encoded data removed]",
      "text/plain": [
       "<Figure size 432x288 with 1 Axes>"
      ]
     },
     "metadata": {
      "needs_background": "light"
     },
     "output_type": "display_data"
    }
   ],
   "source": [
    "plt.plot(lsts,'.')\n",
    "plt.axhline(lst_min,linestyle='--',color='orange')\n",
    "plt.axhline(lst_max,linestyle='--',color='orange')"
   ]
  },
  {
   "cell_type": "code",
   "execution_count": 82,
   "metadata": {},
   "outputs": [
    {
     "data": {
      "text/plain": [
       "36"
      ]
     },
     "execution_count": 82,
     "metadata": {},
     "output_type": "execute_result"
    }
   ],
   "source": [
    "Ntimes = len(lst_sampling)\n",
    "Ntimes"
   ]
  },
  {
   "cell_type": "code",
   "execution_count": 83,
   "metadata": {},
   "outputs": [],
   "source": [
    "\"\"\" You can set the LSTs from the time set_lsts_from_time_array, but here the whole point is to fix the LST, and then\n",
    "get the corresponding JD.  I hope linear interpolation is sufficiently accurate. \"\"\"\n",
    "lsts_new = lst_min + lst_sampling\n",
    "jds_new = jd_at_lst(uvd_raw, lsts_new) "
   ]
  },
  {
   "cell_type": "code",
   "execution_count": 88,
   "metadata": {},
   "outputs": [],
   "source": [
    "# OK, this is going to be painful.  Build a new UVData object.\n",
    "# The required attributes are a method"
   ]
  },
  {
   "cell_type": "code",
   "execution_count": 89,
   "metadata": {},
   "outputs": [],
   "source": [
    "# for some dumb reason, the attributes are returned with leading underscore\n",
    "# Build up the list of required attributes\n",
    "attributes = list(uvd_raw.__dict__.keys())\n",
    "#print(attributes)\n",
    "for i,attribute in enumerate(attributes):\n",
    "    if attribute[0] == '_':\n",
    "        attributes[i] = attribute[1:]\n",
    "#print()\n",
    "#print(attributes)"
   ]
  },
  {
   "cell_type": "code",
   "execution_count": 90,
   "metadata": {},
   "outputs": [],
   "source": [
    "# Define new array dimenions or copy over ...\n",
    "Nbls = uvd_raw.Nbls\n",
    "Nblts = Ntimes * Nbls\n",
    "Nspws = uvd_raw.Nspws\n",
    "Nfreqs = uvd_raw.Nfreqs\n",
    "Npols = uvd_raw.Npols"
   ]
  },
  {
   "cell_type": "code",
   "execution_count": 92,
   "metadata": {},
   "outputs": [],
   "source": [
    "# The surprising variable here is the antenna array, which for some reason \n",
    "# needs to know about the number of time samples\n",
    "data_array_new = np.zeros_like(uvd_raw.data_array, shape = [Nblts, Nspws, Nfreqs, Npols])\n",
    "flag_array_new = np.zeros_like(uvd_raw.flag_array, shape = [Nblts, Nspws, Nfreqs, Npols])\n",
    "nsample_array_new = np.ones_like(uvd_raw.nsample_array, shape = [Nblts, Nspws, Nfreqs, Npols])\n",
    "uvw_array_new = np.zeros_like(uvd_raw.uvw_array, shape=[Nblts, 3])\n",
    "time_array_new = np.zeros_like(uvd_raw.time_array, shape=[Nblts])\n",
    "lst_array_new = np.zeros_like(uvd_raw.lst_array, shape=[Nblts])\n",
    "ant_1_array_new = np.zeros_like(uvd_raw.ant_1_array, shape=[Nblts])\n",
    "ant_2_array_new = np.zeros_like(uvd_raw.ant_2_array, shape=[Nblts])\n",
    "baseline_array_new = np.zeros_like(uvd_raw.baseline_array, shape=[Nblts])\n",
    "integration_time_new = np.zeros_like(uvd_raw.integration_time, shape=[Nblts])"
   ]
  },
  {
   "cell_type": "code",
   "execution_count": 93,
   "metadata": {},
   "outputs": [],
   "source": [
    "# The below variables just have their data copied over, albeit to a new number of time samples\n",
    "\n",
    "# None of this is going to be BDA-proof, and it also assumes that we're in drift mode: uvw and ant_N_array \n",
    "# do not change with time.  \n",
    "\n",
    "# I just cannot figure out a way to do this that is BDA-proof ... maybe uvd_raw.resample_in_time?\n",
    "# So we'll do it the stupid way\n",
    "# There's probably a reshape that is smarter ...\n",
    "for itime in np.arange(Ntimes):\n",
    "    for ibl in np.arange(Nbls):\n",
    "        indx = itime * Nbls + ibl\n",
    "        # If in drift mode, they're all the same\n",
    "        uvw_array_new[indx, :] = uvd_raw.uvw_array[0, :]\n",
    "        time_array_new[indx] = jds_new[itime]\n",
    "        lst_array_new[indx] = lsts_new[itime]\n",
    "        # we're really assuming the pattern repeats every time sample ...\n",
    "        ant_1_array_new[indx] = uvd_raw.ant_1_array[ibl]\n",
    "        ant_2_array_new[indx] = uvd_raw.ant_2_array[ibl]          "
   ]
  },
  {
   "cell_type": "code",
   "execution_count": 94,
   "metadata": {},
   "outputs": [],
   "source": [
    "# What do we need to change?\n",
    "to_change = {'Ntimes' : Ntimes,\n",
    "             'Nblts' : Nblts,\n",
    "             'data_array' : data_array_new,\n",
    "             'flag_array' : flag_array_new, # ... hoo boy\n",
    "             'nsample_array' : nsample_array_new, # what?\n",
    "             'uvw_array' : uvw_array_new, #... need to confirm we're drift scanning\n",
    "             'time_array' : time_array_new, \n",
    "             'lst_array' : lst_array_new, \n",
    "             'integration_time' : integration_time_new,\n",
    "             'ant_1_array' : ant_1_array_new, # why God, why?\n",
    "             'ant_2_array' : ant_2_array_new,\n",
    "             'baseline_array' : baseline_array_new # Oh, fuck my life\n",
    "            }"
   ]
  },
  {
   "cell_type": "code",
   "execution_count": 95,
   "metadata": {},
   "outputs": [
    {
     "name": "stdout",
     "output_type": "stream",
     "text": [
      "Changing Ntimes\n",
      "Cannot get key2ind\n",
      "Keeping Nbls\n",
      "Cannot get key2ind\n",
      "Changing Nblts\n",
      "Cannot get key2ind\n",
      "Keeping Nfreqs\n",
      "Cannot get key2ind\n",
      "Keeping Npols\n",
      "Cannot get key2ind\n",
      "Changing data_array\n",
      "Cannot get key2ind\n",
      "Keeping vis_units\n",
      "Cannot get key2ind\n",
      "Changing nsample_array\n",
      "Cannot get key2ind\n",
      "Changing flag_array\n",
      "Cannot get key2ind\n",
      "Keeping Nspws\n",
      "Cannot get key2ind\n",
      "Keeping spw_array\n",
      "Cannot get key2ind\n",
      "Changing uvw_array\n",
      "Cannot get key2ind\n",
      "Changing time_array\n",
      "Cannot get key2ind\n",
      "Changing lst_array\n",
      "Cannot get key2ind\n",
      "Changing ant_1_array\n",
      "Cannot get key2ind\n",
      "Changing ant_2_array\n",
      "Cannot get key2ind\n",
      "Changing baseline_array\n",
      "Cannot get key2ind\n",
      "Keeping freq_array\n",
      "Cannot get key2ind\n",
      "Keeping polarization_array\n",
      "Cannot get key2ind\n",
      "Changing integration_time\n",
      "Cannot get key2ind\n",
      "Keeping channel_width\n",
      "Cannot get key2ind\n",
      "Keeping object_name\n",
      "Cannot get key2ind\n",
      "Keeping telescope_name\n",
      "Cannot get key2ind\n",
      "Keeping instrument\n",
      "Cannot get key2ind\n",
      "Keeping telescope_location\n",
      "Cannot get key2ind\n",
      "Keeping history\n",
      "Cannot get key2ind\n",
      "Keeping phase_type\n",
      "Cannot get key2ind\n",
      "Keeping phase_center_epoch\n",
      "Cannot get key2ind\n",
      "Keeping phase_center_ra\n",
      "Cannot get key2ind\n",
      "Keeping phase_center_dec\n",
      "Cannot get key2ind\n",
      "Keeping phase_center_frame\n",
      "Cannot get key2ind\n",
      "Keeping Nants_data\n",
      "Cannot get key2ind\n",
      "Keeping Nants_telescope\n",
      "Cannot get key2ind\n",
      "Keeping antenna_names\n",
      "Cannot get key2ind\n",
      "Keeping antenna_numbers\n",
      "Cannot get key2ind\n",
      "Keeping antenna_positions\n",
      "Cannot get key2ind\n",
      "Keeping x_orientation\n",
      "Cannot get key2ind\n",
      "Keeping blt_order\n",
      "Cannot get key2ind\n",
      "Keeping extra_keywords\n",
      "Cannot get key2ind\n",
      "Keeping antenna_diameters\n",
      "Cannot get key2ind\n",
      "Keeping gst0\n",
      "Cannot get key2ind\n",
      "Keeping rdate\n",
      "Cannot get key2ind\n",
      "Keeping earth_omega\n",
      "Cannot get key2ind\n",
      "Keeping dut1\n",
      "Cannot get key2ind\n",
      "Keeping timesys\n",
      "Cannot get key2ind\n",
      "Keeping uvplane_reference_time\n",
      "Cannot get key2ind\n",
      "Keeping eq_coeffs\n",
      "Cannot get key2ind\n",
      "Keeping eq_coeffs_convention\n",
      "Cannot get key2ind\n",
      "Keeping pyuvdata_version_str\n",
      "Cannot get key2ind\n"
     ]
    }
   ],
   "source": [
    "uvd_new = UVData()\n",
    "bl = (9, 10, 'ne')\n",
    "for attribute in attributes:\n",
    "    if attribute in to_change.keys():\n",
    "        print('Changing '+attribute)\n",
    "        setattr(uvd_new, attribute, to_change[attribute])\n",
    "    else:\n",
    "        print('Keeping '+attribute)\n",
    "        setattr(uvd_new, attribute, getattr(uvd_raw, attribute))\n",
    "    try:\n",
    "        blt_ind1, blt_ind2, pol_ind = uvd_new._key2inds(bl)\n",
    "        print('blt_ind1', blt_ind1.shape)\n",
    "    except:\n",
    "        print('Cannot get key2ind')\n",
    "    #print(uvd_new.Ntimes)"
   ]
  },
  {
   "cell_type": "code",
   "execution_count": 96,
   "metadata": {},
   "outputs": [
    {
     "data": {
      "text/plain": [
       "112"
      ]
     },
     "execution_count": 96,
     "metadata": {},
     "output_type": "execute_result"
    }
   ],
   "source": [
    "uvd_raw.Ntimes"
   ]
  },
  {
   "cell_type": "code",
   "execution_count": 97,
   "metadata": {},
   "outputs": [
    {
     "data": {
      "text/plain": [
       "36"
      ]
     },
     "execution_count": 97,
     "metadata": {},
     "output_type": "execute_result"
    }
   ],
   "source": [
    "uvd_new.Ntimes"
   ]
  },
  {
   "cell_type": "code",
   "execution_count": 98,
   "metadata": {},
   "outputs": [
    {
     "data": {
      "text/plain": [
       "array([10.73741817, 10.73741817, 10.73741817, ..., 10.73741817,\n",
       "       10.73741817, 10.73741817])"
      ]
     },
     "execution_count": 98,
     "metadata": {},
     "output_type": "execute_result"
    }
   ],
   "source": [
    "uvd_raw.integration_time"
   ]
  },
  {
   "cell_type": "code",
   "execution_count": 99,
   "metadata": {},
   "outputs": [],
   "source": [
    "uvd_new.integration_time[:] = uvd_new._calc_single_integration_time()"
   ]
  },
  {
   "cell_type": "code",
   "execution_count": 100,
   "metadata": {},
   "outputs": [
    {
     "data": {
      "text/plain": [
       "array([9.97270793, 9.97270793, 9.97270793, ..., 9.97270793, 9.97270793,\n",
       "       9.97270793])"
      ]
     },
     "execution_count": 100,
     "metadata": {},
     "output_type": "execute_result"
    }
   ],
   "source": [
    "uvd_new.integration_time"
   ]
  },
  {
   "cell_type": "code",
   "execution_count": 101,
   "metadata": {},
   "outputs": [],
   "source": [
    "# I think this is a robust way to do this\n",
    "uvd_new.baseline_array = uvd_new.antnums_to_baseline(uvd_new.ant_1_array, uvd_new.ant_2_array)"
   ]
  },
  {
   "cell_type": "code",
   "execution_count": 102,
   "metadata": {},
   "outputs": [],
   "source": [
    "# Some checking\n",
    "assert uvd_new.Nants_data == uvd_raw.Nants_data"
   ]
  },
  {
   "cell_type": "code",
   "execution_count": 130,
   "metadata": {},
   "outputs": [],
   "source": [
    "def plot_raw_interp(data_raw, flags_raw, data_interp):\n",
    "    \n",
    "    fuck = np.isfinite(data_raw/~flags_raw)\n",
    "    \n",
    "    vmin_r = np.nanmin(data_raw.real[fuck])\n",
    "    vmax_r = np.nanmax(data_raw.real[fuck])\n",
    "    vmin_i = np.nanmin(data_raw.imag[fuck])\n",
    "    vmax_i = np.nanmax(data_raw.imag[fuck])\n",
    "    \n",
    "    print(vmin_r, vmax_r, vmin_i, vmax_i)\n",
    "    \n",
    "    plt.figure(figsize=(12,8))\n",
    "    plt.subplot(2,2,1)\n",
    "    plt.imshow(data_raw.real/~flags_raw, aspect='auto', vmin=vmin_r, vmax=vmax_r)\n",
    "    plt.colorbar()\n",
    "    plt.subplot(2,2,2)\n",
    "    plt.imshow(data_raw.imag/~flags_raw, aspect='auto', vmin=vmin_i, vmax=vmax_i)\n",
    "    plt.colorbar()\n",
    "    plt.subplot(2,2,3)\n",
    "    plt.imshow(data_interp.real, aspect='auto', vmin=vmin_r, vmax=vmax_r)\n",
    "    plt.colorbar()\n",
    "    plt.subplot(2,2,4)\n",
    "    plt.imshow(data_interp.imag, aspect='auto', vmin=vmin_i, vmax=vmax_i)\n",
    "    plt.colorbar()\n",
    "    plt.show()"
   ]
  },
  {
   "cell_type": "code",
   "execution_count": 132,
   "metadata": {},
   "outputs": [
    {
     "name": "stdout",
     "output_type": "stream",
     "text": [
      "(9, 9, 'xx')\n",
      "(9, 9, 'yy')\n",
      "(9, 9, 'xy')\n",
      "(9, 9, 'yx')\n",
      "(9, 10, 'xx')\n",
      "(9, 10, 'yy')\n",
      "(9, 10, 'xy')\n",
      "(9, 10, 'yx')\n",
      "(9, 20, 'xx')\n",
      "CPU times: user 2.88 s, sys: 2.93 ms, total: 2.89 s\n",
      "Wall time: 2.91 s\n"
     ]
    }
   ],
   "source": [
    "%%time\n",
    "# OK, now go through baseline by baseline to fix up the changed data ..\n",
    "for bl in uvd_new.get_antpairpols()[0:9]:\n",
    "    print(bl)\n",
    "    data = uvd_raw.get_data(bl)\n",
    "    # There might not be a good way to handle flagging that differs in time between frequencies ...\n",
    "    # i.e., I think when the size of the unflagged data differs, you might just have to loop.  Ugh.\n",
    "    # And then, if there is no good data ... double Ugh.\n",
    "    flags = uvd_raw.get_flags(bl)\n",
    "    data_interp = np.zeros_like(data, shape=[Ntimes, Nfreqs])\n",
    "    flags_interp = np.zeros_like(flags, shape=[Ntimes, Nfreqs])\n",
    "    \n",
    "    for ifreq in np.arange(Nfreqs):\n",
    "        fflags = ~flags[:,ifreq].squeeze()\n",
    "        # If there is not enough data to spline interpolate, skip\n",
    "        if fflags.sum() >= 2:\n",
    "            cs = CubicSpline(lsts[fflags], data[fflags, ifreq])\n",
    "            data_interp[:, ifreq] = cs(lsts_new)\n",
    "    \n",
    "    # This was super clever for vectorizing the cubic spline across frequencies, but I don't think\n",
    "    # it generalizes\n",
    "    #cs = CubicSpline(lsts, data, axis=0)\n",
    "    #interp = cs(lsts_new)\n",
    "    \n",
    "    # Need that magic incantation for shoving a visibility's data back into the UVData object\n",
    "    inds = uvd_new._key2inds(bl)\n",
    "    blt_inds = inds[0]\n",
    "    pol_ind = inds[2][0]\n",
    "    uvd_new.data_array[blt_inds,0,:,pol_ind] = data_interp\n",
    "    uvd_new.flag_array[blt_inds,0,:,pol_ind] = flags_interp"
   ]
  },
  {
   "cell_type": "code",
   "execution_count": 144,
   "metadata": {},
   "outputs": [],
   "source": [
    "uvd_raw.select?"
   ]
  },
  {
   "cell_type": "code",
   "execution_count": 149,
   "metadata": {},
   "outputs": [],
   "source": [
    "bl = (9,10,'yx')\n",
    "uvd_raw_t = uvd_raw.select(bls=bl, time_range=[jds_new.min(), jds_new.max()], inplace=False)\n",
    "data = uvd_raw_t.get_data(bl)\n",
    "flags = uvd_raw_t.get_flags(bl)\n",
    "data_interp = uvd_new.get_data(bl)"
   ]
  },
  {
   "cell_type": "code",
   "execution_count": 150,
   "metadata": {},
   "outputs": [
    {
     "name": "stderr",
     "output_type": "stream",
     "text": [
      "divide by zero encountered in true_divide\n",
      "invalid value encountered in true_divide\n",
      "divide by zero encountered in true_divide\n",
      "invalid value encountered in true_divide\n",
      "divide by zero encountered in true_divide\n",
      "invalid value encountered in true_divide\n"
     ]
    },
    {
     "name": "stdout",
     "output_type": "stream",
     "text": [
      "-0.1940317153930664 0.242525115609169 -0.35303401947021484 0.13428878784179688\n"
     ]
    },
    {
     "data": {
      "image/png": "[encoded data removed]",
      "text/plain": [
       "<Figure size 864x576 with 8 Axes>"
      ]
     },
     "metadata": {
      "needs_background": "light"
     },
     "output_type": "display_data"
    }
   ],
   "source": [
    "plot_raw_interp(data, flags, data_interp)"
   ]
  },
  {
   "cell_type": "code",
   "execution_count": 126,
   "metadata": {},
   "outputs": [
    {
     "data": {
      "text/plain": [
       "(21280, 1, 1024, 4)"
      ]
     },
     "execution_count": 126,
     "metadata": {},
     "output_type": "execute_result"
    }
   ],
   "source": [
    "uvd_raw.flag_array.shape"
   ]
  },
  {
   "cell_type": "code",
   "execution_count": 119,
   "metadata": {},
   "outputs": [
    {
     "data": {
      "text/plain": [
       "(array([    1,   191,   381,   571,   761,   951,  1141,  1331,  1521,\n",
       "         1711,  1901,  2091,  2281,  2471,  2661,  2851,  3041,  3231,\n",
       "         3421,  3611,  3801,  3991,  4181,  4371,  4561,  4751,  4941,\n",
       "         5131,  5321,  5511,  5701,  5891,  6081,  6271,  6461,  6651,\n",
       "         6841,  7031,  7221,  7411,  7601,  7791,  7981,  8171,  8361,\n",
       "         8551,  8741,  8931,  9121,  9311,  9501,  9691,  9881, 10071,\n",
       "        10261, 10451, 10641, 10831, 11021, 11211, 11401, 11591, 11781,\n",
       "        11971, 12161, 12351, 12541, 12731, 12921, 13111, 13301, 13491,\n",
       "        13681, 13871, 14061, 14251, 14441, 14631, 14821, 15011, 15201,\n",
       "        15391, 15581, 15771, 15961, 16151, 16341, 16531, 16721, 16911,\n",
       "        17101, 17291, 17481, 17671, 17861, 18051, 18241, 18431, 18621,\n",
       "        18811, 19001, 19191, 19381, 19571, 19761, 19951, 20141, 20331,\n",
       "        20521, 20711, 20901, 21091]),\n",
       " array([], dtype=int64),\n",
       " (array([0]), array([], dtype=int64)))"
      ]
     },
     "execution_count": 119,
     "metadata": {},
     "output_type": "execute_result"
    }
   ],
   "source": [
    "uvd_raw._key2inds((9,10,'xx'))"
   ]
  },
  {
   "cell_type": "code",
   "execution_count": 125,
   "metadata": {},
   "outputs": [
    {
     "data": {
      "text/plain": [
       "(112, 1024)"
      ]
     },
     "execution_count": 125,
     "metadata": {},
     "output_type": "execute_result"
    }
   ],
   "source": [
    "uvd_raw.data_array[uvd_raw._key2inds(bl)[0],0,:,uvd_raw._key2inds(bl)[2][0]].shape"
   ]
  },
  {
   "cell_type": "code",
   "execution_count": 124,
   "metadata": {},
   "outputs": [
    {
     "data": {
      "text/plain": [
       "array([0])"
      ]
     },
     "execution_count": 124,
     "metadata": {},
     "output_type": "execute_result"
    }
   ],
   "source": [
    "uvd_raw._key2inds((9,10,'xx'))[2][0]"
   ]
  },
  {
   "cell_type": "code",
   "execution_count": null,
   "metadata": {},
   "outputs": [],
   "source": []
  }
 ],
 "metadata": {
  "kernelspec": {
   "display_name": "hera",
   "language": "python",
   "name": "hera"
  },
  "language_info": {
   "codemirror_mode": {
    "name": "ipython",
    "version": 3
   },
   "file_extension": ".py",
   "mimetype": "text/x-python",
   "name": "python",
   "nbconvert_exporter": "python",
   "pygments_lexer": "ipython3",
   "version": "3.7.7"
  }
 },
 "nbformat": 4,
 "nbformat_minor": 4
}
