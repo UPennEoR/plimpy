{
 "cells": [
  {
   "cell_type": "code",
   "execution_count": 1,
   "metadata": {},
   "outputs": [],
   "source": [
    "import numpy as np\n",
    "import matplotlib.pyplot as plt\n",
    "from pyuvdata import UVData, UVCal\n",
    "from glob import glob\n",
    "from astropy import units as u\n",
    "from astropy import constants as c\n",
    "from astropy.time import Time\n",
    "from astropy.coordinates import get_body, SkyCoord, AltAz, EarthLocation, Angle\n",
    "from copy import deepcopy\n",
    "from pyuvdata import utils"
   ]
  },
  {
   "cell_type": "code",
   "execution_count": 2,
   "metadata": {},
   "outputs": [],
   "source": [
    "oldpath = '/lustre/aoc/projects/hera/plaplant/HERA19Golden/'\n",
    "newpath = '/lustre/aoc/projects/hera/jaguirre/HERA19Summer2020/'"
   ]
  },
  {
   "cell_type": "code",
   "execution_count": 5,
   "metadata": {},
   "outputs": [],
   "source": [
    "days = glob(oldpath+'RawData/2457*')\n",
    "# glob(oldpath+'RawData/2457549/zen.2457549.64017.*.HH.uvcRP')"
   ]
  },
  {
   "cell_type": "code",
   "execution_count": 6,
   "metadata": {},
   "outputs": [
    {
     "name": "stdout",
     "output_type": "stream",
     "text": [
      "['/lustre/aoc/projects/hera/plaplant/HERA19Golden/RawData/2457555', '/lustre/aoc/projects/hera/plaplant/HERA19Golden/RawData/2457553', '/lustre/aoc/projects/hera/plaplant/HERA19Golden/RawData/2457548', '/lustre/aoc/projects/hera/plaplant/HERA19Golden/RawData/2457552', '/lustre/aoc/projects/hera/plaplant/HERA19Golden/RawData/2457549', '/lustre/aoc/projects/hera/plaplant/HERA19Golden/RawData/2457551', '/lustre/aoc/projects/hera/plaplant/HERA19Golden/RawData/2457554', '/lustre/aoc/projects/hera/plaplant/HERA19Golden/RawData/2457550']\n"
     ]
    }
   ],
   "source": [
    "print(days)"
   ]
  },
  {
   "cell_type": "code",
   "execution_count": 7,
   "metadata": {},
   "outputs": [],
   "source": [
    "for i, day in enumerate(days):\n",
    "    days[i] = day.split('/')[-1]"
   ]
  },
  {
   "cell_type": "code",
   "execution_count": 8,
   "metadata": {},
   "outputs": [
    {
     "name": "stdout",
     "output_type": "stream",
     "text": [
      "['2457555', '2457553', '2457548', '2457552', '2457549', '2457551', '2457554', '2457550']\n"
     ]
    }
   ],
   "source": [
    "print(days)"
   ]
  },
  {
   "cell_type": "code",
   "execution_count": null,
   "metadata": {},
   "outputs": [],
   "source": [
    "for day in days:\n",
    "    filenames = glob(oldpath+'RawData/2457549/zen.'+day+'*.HH.uvcRP')"
   ]
  }
 ],
 "metadata": {
  "kernelspec": {
   "display_name": "HERA",
   "language": "python",
   "name": "hera"
  },
  "language_info": {
   "codemirror_mode": {
    "name": "ipython",
    "version": 3
   },
   "file_extension": ".py",
   "mimetype": "text/x-python",
   "name": "python",
   "nbconvert_exporter": "python",
   "pygments_lexer": "ipython3",
   "version": "3.7.7"
  }
 },
 "nbformat": 4,
 "nbformat_minor": 4
}
