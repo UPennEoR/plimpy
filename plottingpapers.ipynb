{
 "cells": [
  {
   "cell_type": "code",
   "execution_count": 22,
   "metadata": {},
   "outputs": [],
   "source": [
    "import numpy as np\n",
    "from astropy import units as u\n",
    "from astropy.visualization import quantity_support\n",
    "quantity_support()\n",
    "import matplotlib.pyplot as plt"
   ]
  },
  {
   "cell_type": "code",
   "execution_count": null,
   "metadata": {},
   "outputs": [],
   "source": [
    "lynch1 = [10, 65]*u.mJy\n",
    "lynch2 =[6*60, 6*60]*u.s\n",
    "anderson1 = [10.5, 10.5]*u.Jy\n",
    "anderson2 = [13, 4*60]*u.s\n",
    "davis1 = [5.91, 5.91, 5.13, 5.13]*u.Jy\n",
    "davis2 = [30, 4.5*60, 4.5*60, 30]*u.s"
   ]
  },
  {
   "cell_type": "code",
   "execution_count": 18,
   "metadata": {},
   "outputs": [
    {
     "data": {
      "image/png": "[encoded data removed]",
      "text/plain": [
       "<Figure size 432x288 with 1 Axes>"
      ]
     },
     "metadata": {
      "needs_background": "light"
     },
     "output_type": "display_data"
    }
   ],
   "source": [
    "# Tricks with plotting astropy quantities\n",
    "# https://docs.astropy.org/en/stable/visualization/matplotlib_integration.html#plotting-quantities\n",
    "plt.loglog(lynch2, lynch1, label='lynch')\n",
    "plt.plot(anderson2, anderson1, 'k', label='anderson')\n",
    "plt.plot(davis2, davis1, 'r', label='davis')\n",
    "#plt.ylabel('Jy')\n",
    "#plt.xlabel('time (seconds)')\n",
    "plt.legend()\n",
    "plt.show()"
   ]
  },
  {
   "cell_type": "code",
   "execution_count": 12,
   "metadata": {},
   "outputs": [],
   "source": [
    "import pandas as pd"
   ]
  },
  {
   "cell_type": "code",
   "execution_count": 49,
   "metadata": {},
   "outputs": [],
   "source": [
    "def plot_limit(data):\n",
    "    if data['Detection'] == 'Y':\n",
    "        linestyle = '-'\n",
    "    else:\n",
    "        linestyle = '--'\n",
    "    plt.loglog([data['T min'], data['T max']], [data['Flux limit'], data['Flux limit']],\n",
    "            label=data['Reference'], linestyle=linestyle)"
   ]
  },
  {
   "cell_type": "code",
   "execution_count": 50,
   "metadata": {},
   "outputs": [],
   "source": [
    "limits = pd.read_excel('RadioVariableData.xlsx')"
   ]
  },
  {
   "cell_type": "code",
   "execution_count": 51,
   "metadata": {},
   "outputs": [
    {
     "data": {
      "text/plain": [
       "<matplotlib.legend.Legend at 0x120a85e50>"
      ]
     },
     "execution_count": 51,
     "metadata": {},
     "output_type": "execute_result"
    },
    {
     "data": {
      "image/png": "[encoded data removed]",
      "text/plain": [
       "<Figure size 432x288 with 1 Axes>"
      ]
     },
     "metadata": {
      "needs_background": "light"
     },
     "output_type": "display_data"
    }
   ],
   "source": [
    "for i in np.arange(len(limits)):\n",
    "    data = limits.iloc[i]\n",
    "    plot_limit(data)\n",
    "plt.xlabel('Seconds')\n",
    "plt.ylabel('Jy')\n",
    "plt.legend()  "
   ]
  },
  {
   "cell_type": "code",
   "execution_count": null,
   "metadata": {},
   "outputs": [],
   "source": []
  }
 ],
 "metadata": {
  "kernelspec": {
   "display_name": "Python 3",
   "language": "python",
   "name": "python3"
  },
  "language_info": {
   "codemirror_mode": {
    "name": "ipython",
    "version": 3
   },
   "file_extension": ".py",
   "mimetype": "text/x-python",
   "name": "python",
   "nbconvert_exporter": "python",
   "pygments_lexer": "ipython3",
   "version": "3.7.6"
  }
 },
 "nbformat": 4,
 "nbformat_minor": 4
}
